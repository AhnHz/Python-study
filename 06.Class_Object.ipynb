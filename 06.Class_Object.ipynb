{
 "cells": [
  {
   "cell_type": "markdown",
   "id": "beaa2e9a-e19b-4711-ba62-93f33a1b6d38",
   "metadata": {},
   "source": [
    "# 클래스 ( Class )\n",
    "<br>: 함수의 모임\n",
    "\n",
    "- 역할: 다수의 함수와 공유 자료를 묶어서 객체 생성\n",
    "- 구성: 멤버(member) + 생성자\n",
    "- 유형: 사용자 정의 클래스, 내장 클래스"
   ]
  },
  {
   "cell_type": "code",
   "execution_count": null,
   "id": "225b206f-6f73-4797-bc7c-822a630512b7",
   "metadata": {},
   "outputs": [],
   "source": [
    "class 클래스명:\n",
    "    멤버: 변수, 함수\n",
    "    생성자: 객체 생성"
   ]
  },
  {
   "cell_type": "markdown",
   "id": "2b7a17b3-7bc4-4f35-afbc-f91a5e5b90de",
   "metadata": {},
   "source": [
    "### 클래스 생성"
   ]
  },
  {
   "cell_type": "code",
   "execution_count": 2,
   "id": "e098fdfc-d2ce-4ca6-89c5-997fa58d6b5d",
   "metadata": {},
   "outputs": [],
   "source": [
    "class Bicycle():\n",
    "    pass"
   ]
  },
  {
   "cell_type": "markdown",
   "id": "16e7c65c-dd22-4478-a432-c91373829106",
   "metadata": {},
   "source": [
    "### 객체 생성 및 호출"
   ]
  },
  {
   "cell_type": "code",
   "execution_count": 3,
   "id": "05b29b3c-bf98-4d9a-8c8b-a4c9a99008a0",
   "metadata": {},
   "outputs": [
    {
     "name": "stdout",
     "output_type": "stream",
     "text": [
      "바퀴 크기: 26\n",
      "색상: black\n"
     ]
    }
   ],
   "source": [
    "my_bic = Bicycle()  # 객체 생성\n",
    "\n",
    "my_bic.wheel_size = 26  # 객체 속성값 입력\n",
    "my_bic.color = 'black'\n",
    "\n",
    "print('바퀴 크기:', my_bic.wheel_size)  # 객체의 속성 출력\n",
    "print('색상:', my_bic.color)"
   ]
  },
  {
   "cell_type": "markdown",
   "id": "3462c6b0-c4c2-4095-bee0-d467139aac20",
   "metadata": {},
   "source": [
    "## 1. Method \n",
    "\n",
    "<br>: class에서 정의한 함수\n"
   ]
  },
  {
   "cell_type": "markdown",
   "id": "7a7c1e6c-ef6e-4259-a566-c5b20e5d8856",
   "metadata": {},
   "source": [
    "### <메소드 유형>\n",
    "\n",
    "- 객체 메소드 (instance method)  : object.method() 호출, (self) 기본 인수\n",
    "- 클래스 메소드 (class method) : class.method() 호출, (cls) 기본 인수"
   ]
  },
  {
   "cell_type": "markdown",
   "id": "534d2c20-738e-4294-aadc-62605e3713af",
   "metadata": {},
   "source": [
    "### 객체 메소드 (instance method)"
   ]
  },
  {
   "cell_type": "code",
   "execution_count": 4,
   "id": "af6d1c09-0bc3-4a87-969c-deaf184aab15",
   "metadata": {},
   "outputs": [
    {
     "name": "stdout",
     "output_type": "stream",
     "text": [
      "자동차(small & white)가 움직입니다.\n",
      "자동차(big & black)가 움직입니다.\n"
     ]
    }
   ],
   "source": [
    "class Car():\n",
    "   \n",
    "    def __init__(self, size, color):  # 생성자. 객체 초기화\n",
    "        self.size = size    # 인스턴스 변수 생성 및 초기화\n",
    "        self.color = color  # 인스턴스 변수 생성 및 초기화\n",
    "        \n",
    "    def move(self):  # 인스턴스 메소드\n",
    "        print(\"자동차({} & {})가 움직입니다.\".format(self.size, self.color))\n",
    "        \n",
    "        \n",
    "car1 = Car('small', 'white')  # 객체 생성\n",
    "car2 = Car('big', 'black')\n",
    "\n",
    "car1.move()  # 객체로 함수 호출\n",
    "car2.move()"
   ]
  },
  {
   "cell_type": "code",
   "execution_count": 5,
   "id": "dd79d0b6-0bfa-4058-8ea5-a92961171405",
   "metadata": {},
   "outputs": [
    {
     "name": "stdout",
     "output_type": "stream",
     "text": [
      "1)\n",
      "plus =  30\n",
      "minus = -10\n",
      "\n",
      "2)\n",
      "plus =  150\n",
      "minus = 50\n"
     ]
    }
   ],
   "source": [
    "class cal_class:\n",
    "    x = y = 0\n",
    "\n",
    "    def __init__(self, a, b):\n",
    "        self.x = a  \n",
    "        self.y = b\n",
    "\n",
    "    def plus(self):  # 멤버 함수(기능)\n",
    "        p = self.x + self.y\n",
    "        return p\n",
    "\n",
    "    def minus(self):  # 멤버 함수(기능)\n",
    "        m = self.x - self.y\n",
    "        return m\n",
    "\n",
    "obj1 = cal_class(10,20)  # 객체 생성\n",
    "print('1)')\n",
    "print('plus = ', obj1.plus())  # plus =  30\n",
    "print('minus =', obj1.minus())  # minus = -10\n",
    "\n",
    "\n",
    "obj2 = cal_class(100,50)\n",
    "print('\\n2)')\n",
    "print('plus = ', obj2.plus())  # plus =  150\n",
    "print('minus =', obj2.minus())  # minus = 50"
   ]
  },
  {
   "cell_type": "markdown",
   "id": "122fbc7d-d4b2-493d-918d-b2f7ddac03e1",
   "metadata": {},
   "source": [
    "### 클래스 메소드 (class method)"
   ]
  },
  {
   "cell_type": "code",
   "execution_count": 6,
   "id": "d3f72e73-12f6-41f2-9bec-a39e093f2db2",
   "metadata": {},
   "outputs": [
    {
     "name": "stdout",
     "output_type": "stream",
     "text": [
      "날짜 처리 클래스\n",
      "1945\n",
      "1945-8-15\n",
      "\n",
      "날짜 처리 클래스\n",
      "1919년 03월 01일\n"
     ]
    }
   ],
   "source": [
    "class DatePro:\n",
    "    # 멤버 변수\n",
    "    content = '날짜 처리 클래스'\n",
    "\n",
    "    # 생성자\n",
    "    def __init__(self, year, month, day):\n",
    "        self.year = year\n",
    "        self.month = month\n",
    "        self.day = day\n",
    "\n",
    "        \n",
    "    # 객체 메소드\n",
    "    def display(self):\n",
    "        print('%d-%d-%d' %(self.year, self.month, self.day))\n",
    "\n",
    "        \n",
    "    # 클래스 메소드\n",
    "    @classmethod # 함수 데코레이터. 클래스 메소드를 지정한다 (안하면 걍 객체 메소드처럼 실행)\n",
    "    def date_string(cls, dateStr):  # 기본인수 cls. yyyymmdd\n",
    "        year = dateStr[:4]\n",
    "        month = dateStr[4:6]\n",
    "        day = dateStr[6:]\n",
    "\n",
    "        print(f'{year}년 {month}월 {day}일')\n",
    "        \n",
    "\n",
    "# 객체 멤버\n",
    "date = DatePro(1945, 8, 15) \n",
    "\n",
    "print(date.content)\n",
    "print(date.year) # 1945\n",
    "date.display() # 1945-08-15\n",
    "\n",
    "print()\n",
    "\n",
    "#클래스 멤버\n",
    "print(DatePro.content)\n",
    "DatePro.date_string('19190301')"
   ]
  },
  {
   "cell_type": "markdown",
   "id": "ada7801f-3197-43d6-83f0-862dc433a0fe",
   "metadata": {},
   "source": [
    "## 2. 클래스 상속 (Inheritance)\n",
    "\n",
    "- 기존 클래스를 이용하여 새로운 클래스 생성\n",
    "- 상속 대상: 멤버(변수+함수)\n",
    "- 생성자는 상속 대상이 아님"
   ]
  },
  {
   "cell_type": "code",
   "execution_count": null,
   "id": "781228d1-af3a-43d7-8fb5-0bdd16754fdc",
   "metadata": {},
   "outputs": [],
   "source": [
    "class 새로운 클래스(기존 클래스):\n",
    "    멤버 변수\n",
    "    생성자\n",
    "    멤버 함수"
   ]
  },
  {
   "cell_type": "code",
   "execution_count": 7,
   "id": "a5e9c375-02db-49cf-9a50-b45c97d3f261",
   "metadata": {},
   "outputs": [
    {
     "name": "stdout",
     "output_type": "stream",
     "text": [
      "name: 부모, age: 55\n",
      "name: 자식, age: 25, gender: 여자\n"
     ]
    }
   ],
   "source": [
    "# 부모 클래스\n",
    "class Super:\n",
    "\n",
    "    def __init__(self, name, age):\n",
    "        self.name = name\n",
    "        self.age = age\n",
    "\n",
    "    def display(self):\n",
    "        print('name: %s, age: %d'%(self.name, self.age))\n",
    "\n",
    "\n",
    "sup = Super('부모', 55)\n",
    "sup.display()\n",
    "# 자식 클래스\n",
    "class Sub(super):\n",
    "    gender = None\n",
    "\n",
    "    def __init__(self, name, age, gender):\n",
    "        self.name = name\n",
    "        self.age = age\n",
    "        self.gender = gender\n",
    "\n",
    "    def display(self):\n",
    "        print('name: %s, age: %d, gender: %s'%(self.name, self.age, self.gender))\n",
    "\n",
    "\n",
    "sub = Sub('자식', 25, '여자')\n",
    "sub.display()"
   ]
  },
  {
   "cell_type": "markdown",
   "id": "4bffff9d-762c-406b-a673-18758e906cf6",
   "metadata": {},
   "source": [
    "### 자식 클래스에서 부모 클래스의 생성자를 호출하기 위해 super() 클래스 사용"
   ]
  },
  {
   "cell_type": "code",
   "execution_count": 8,
   "id": "5a599981-99ad-4574-95a4-8d79490a4cca",
   "metadata": {},
   "outputs": [
    {
     "name": "stdout",
     "output_type": "stream",
     "text": [
      "name: 홍길동, job: 회사원\n",
      "name : 이순신, job : 장군, gender : 남자\n"
     ]
    }
   ],
   "source": [
    "class Parent:\n",
    "\n",
    "    def __init__(self, name, job):\n",
    "        self.name = name\n",
    "        self.job = job\n",
    "\n",
    "    def display(self):\n",
    "        print('name: {}, job: {}'.format(self.name, self.job))\n",
    "\n",
    "\n",
    "class Child(Parent):\n",
    "    gender = None\n",
    "\n",
    "    def __init__(self,name,job,gender):\n",
    "        super().__init__(name, job)\n",
    "        self.gender = gender\n",
    "\n",
    "    def display(self): # 함수 재정의. 메소드 오버라이딩. 다형성(Polymorphism)의 예\n",
    "        print('name : {}, job : {}, gender : {}'\n",
    "              .format(self.name, self.job, self.gender))\n",
    "        \n",
    "\n",
    "p = Parent('홍길동', '회사원')\n",
    "p.display()        \n",
    "\n",
    "c = Child('이순신', '장군', '남자')\n",
    "c.display()"
   ]
  }
 ],
 "metadata": {
  "kernelspec": {
   "display_name": "Python 3 (ipykernel)",
   "language": "python",
   "name": "python3"
  },
  "language_info": {
   "codemirror_mode": {
    "name": "ipython",
    "version": 3
   },
   "file_extension": ".py",
   "mimetype": "text/x-python",
   "name": "python",
   "nbconvert_exporter": "python",
   "pygments_lexer": "ipython3",
   "version": "3.10.11"
  }
 },
 "nbformat": 4,
 "nbformat_minor": 5
}
