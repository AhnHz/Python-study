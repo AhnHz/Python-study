{
 "cells": [
  {
   "cell_type": "markdown",
   "id": "b481d8d2",
   "metadata": {
    "id": "b481d8d2"
   },
   "source": [
    "\n",
    "### 파이썬 모듈은 파이썬 파일을 의미합니다. 파이썬은 다양한 분야별로 모듈을 제공합니다. 프로그램 구현에 필요한 모듈의 기초 사용법을 알아봅시다."
   ]
  },
  {
   "cell_type": "markdown",
   "id": "cc799c25",
   "metadata": {
    "id": "cc799c25"
   },
   "source": [
    "#### 241. 현재시간\n",
    "- datetime 모듈을 사용해서 현재 시간을 화면에 출력해보세요."
   ]
  },
  {
   "cell_type": "code",
   "execution_count": 1,
   "id": "5fafc030",
   "metadata": {
    "colab": {
     "base_uri": "https://localhost:8080/"
    },
    "executionInfo": {
     "elapsed": 5,
     "status": "ok",
     "timestamp": 1682665344869,
     "user": {
      "displayName": "주주",
      "userId": "14652178887215818703"
     },
     "user_tz": -540
    },
    "id": "5fafc030",
    "outputId": "c27e5a35-249c-4be3-a89f-a913191f925a"
   },
   "outputs": [
    {
     "name": "stdout",
     "output_type": "stream",
     "text": [
      "2023-05-22 11:48:53.693064\n"
     ]
    }
   ],
   "source": [
    "import datetime\n",
    "\n",
    "print(datetime.datetime.now())"
   ]
  },
  {
   "cell_type": "markdown",
   "id": "00d410e8",
   "metadata": {
    "id": "00d410e8"
   },
   "source": [
    "#### 242. 현재시간의 타입\n",
    "- datetime 모듈의 now 함수의 리턴 값의 타입을 화면에 출력해보세요."
   ]
  },
  {
   "cell_type": "code",
   "execution_count": 2,
   "id": "45a15894",
   "metadata": {
    "colab": {
     "base_uri": "https://localhost:8080/"
    },
    "executionInfo": {
     "elapsed": 3,
     "status": "ok",
     "timestamp": 1682665419386,
     "user": {
      "displayName": "주주",
      "userId": "14652178887215818703"
     },
     "user_tz": -540
    },
    "id": "45a15894",
    "outputId": "4d31da64-fe24-4f36-d8db-4594f93a98cb"
   },
   "outputs": [
    {
     "name": "stdout",
     "output_type": "stream",
     "text": [
      "2023-05-22 11:48:55.337184\n"
     ]
    }
   ],
   "source": [
    "n = datetime.datetime.now()\n",
    "print(n)"
   ]
  },
  {
   "cell_type": "markdown",
   "id": "35d02fdc",
   "metadata": {
    "id": "35d02fdc"
   },
   "source": [
    "#### 243. timedelta\n",
    "- datetime 모듈의 timedelta를 사용해서 오늘로부터 5일, 4일, 3일, 2일, 1일 전의 날짜를 화면에 출력해보세요."
   ]
  },
  {
   "cell_type": "code",
   "execution_count": 3,
   "id": "f154ebb6",
   "metadata": {
    "colab": {
     "base_uri": "https://localhost:8080/"
    },
    "executionInfo": {
     "elapsed": 541,
     "status": "ok",
     "timestamp": 1682665464855,
     "user": {
      "displayName": "주주",
      "userId": "14652178887215818703"
     },
     "user_tz": -540
    },
    "id": "f154ebb6",
    "outputId": "652d8b2e-1c94-4367-aca4-c05574cf5acf"
   },
   "outputs": [
    {
     "name": "stdout",
     "output_type": "stream",
     "text": [
      "2023-05-17 12:31:55.367724\n",
      "2023-05-18 12:31:55.367724\n",
      "2023-05-19 12:31:55.367724\n",
      "2023-05-20 12:31:55.367724\n",
      "2023-05-21 12:31:55.367724\n"
     ]
    }
   ],
   "source": [
    "n = datetime.datetime.now()\n",
    "\n",
    "for i in range(5,0,-1):\n",
    "    delta = datetime.timedelta(days=i)\n",
    "    day = n - delta\n",
    "    print(day)"
   ]
  },
  {
   "cell_type": "markdown",
   "id": "72327e11",
   "metadata": {
    "id": "72327e11"
   },
   "source": [
    "#### 244. strftime\n",
    "- 현재시간을 얻어온 후 다음과 같은 포맷으로 시간을 출력해보세요. strftime 메서드를 사용하세요."
   ]
  },
  {
   "cell_type": "code",
   "execution_count": 7,
   "id": "d4dd8fb8",
   "metadata": {
    "id": "d4dd8fb8"
   },
   "outputs": [
    {
     "name": "stdout",
     "output_type": "stream",
     "text": [
      "12:33:23\n"
     ]
    }
   ],
   "source": [
    "n = datetime.datetime.now()\n",
    "\n",
    "print(n.strftime('%H:%M:%S'))"
   ]
  },
  {
   "cell_type": "markdown",
   "id": "18a38676",
   "metadata": {
    "id": "18a38676"
   },
   "source": [
    "#### 245. strptime\n",
    "- datetime.datetime.strptime 메서드를 사용하면 문자열 형식의 시간을 datetime.datetime 타입의 시간 값으로 만들어줍니다. \"2020-05-04\"의 문자열을 시간 타입으로 변환해보세요."
   ]
  },
  {
   "cell_type": "code",
   "execution_count": 11,
   "id": "bdca6b37",
   "metadata": {
    "id": "bdca6b37"
   },
   "outputs": [
    {
     "name": "stdout",
     "output_type": "stream",
     "text": [
      "2020-05-04 00:00:00\n"
     ]
    }
   ],
   "source": [
    "day = \"2020-05-04\"\n",
    "\n",
    "strp = datetime.datetime.strptime(day, '%Y-%m-%d')\n",
    "print(strp)"
   ]
  },
  {
   "cell_type": "markdown",
   "id": "4ad56e16",
   "metadata": {
    "id": "4ad56e16"
   },
   "source": [
    "#### 246. sleep 함수\n",
    "- time 모듈, datetime 모듈을 사용해서 1초에 한 번 현재 시간을 출력하는 코드를 작성하세요.\n",
    "\n",
    "\n",
    "\n",
    " \n",
    "\n"
   ]
  },
  {
   "cell_type": "code",
   "execution_count": 13,
   "id": "d768bd61",
   "metadata": {
    "id": "d768bd61"
   },
   "outputs": [
    {
     "name": "stdout",
     "output_type": "stream",
     "text": [
      "2023-05-22 12:36:27.773745\n",
      "2023-05-22 12:36:28.779806\n",
      "2023-05-22 12:36:29.784476\n",
      "2023-05-22 12:36:30.787906\n",
      "2023-05-22 12:36:31.793550\n",
      "2023-05-22 12:36:32.796923\n",
      "2023-05-22 12:36:33.802641\n",
      "2023-05-22 12:36:34.804220\n",
      "2023-05-22 12:36:35.807682\n",
      "2023-05-22 12:36:36.813226\n"
     ]
    }
   ],
   "source": [
    "import time\n",
    "import datetime\n",
    "\n",
    "#while\n",
    "for i in range(10):\n",
    "    n = datetime.datetime.now()\n",
    "    print(n)\n",
    "    time.sleep(1)"
   ]
  },
  {
   "cell_type": "markdown",
   "id": "7d265a61",
   "metadata": {
    "id": "7d265a61"
   },
   "source": [
    "#### 247. 모듈 임포트\n",
    "- 모듈을 임포트하는 4가지 방식에 대해 설명해보세요."
   ]
  },
  {
   "cell_type": "code",
   "execution_count": null,
   "id": "d546942a",
   "metadata": {
    "id": "d546942a"
   },
   "outputs": [],
   "source": []
  },
  {
   "cell_type": "markdown",
   "id": "c9e94387",
   "metadata": {
    "id": "c9e94387"
   },
   "source": [
    "#### 248. os 모듈\n",
    "os 모듈의 getcwd 함수를 호출하여 현재 디렉터리의 경로를 화면에 출력해보세요."
   ]
  },
  {
   "cell_type": "code",
   "execution_count": 15,
   "id": "efa091f8",
   "metadata": {
    "id": "efa091f8"
   },
   "outputs": [
    {
     "data": {
      "text/plain": [
       "'/Users/Ahn/2023/Git/practice300'"
      ]
     },
     "execution_count": 15,
     "metadata": {},
     "output_type": "execute_result"
    }
   ],
   "source": [
    "import os\n",
    "\n",
    "os.getcwd()"
   ]
  },
  {
   "cell_type": "markdown",
   "id": "8cabe197",
   "metadata": {
    "id": "8cabe197"
   },
   "source": [
    "#### 249 rename 함수\n",
    "- 바탕화면에 텍스트 파일을 하나 생성한 후 os 모듈의 rename 함수를 호출하여 해당 파일의 이름을 변경해보세요."
   ]
  },
  {
   "cell_type": "code",
   "execution_count": 21,
   "id": "487afb8e-d525-4796-9c17-31da5a09dd7f",
   "metadata": {},
   "outputs": [],
   "source": [
    "f = open('/Users/Ahn/Desktop/default.txt', 'w')  # 파일 생성        \n",
    "f.write('text text')    \n",
    "f.close()   "
   ]
  },
  {
   "cell_type": "code",
   "execution_count": 22,
   "id": "cd65cf20",
   "metadata": {
    "id": "cd65cf20"
   },
   "outputs": [],
   "source": [
    "os.rename('/Users/Ahn/Desktop/default.txt', '/Users/Ahn/Desktop/change.txt')  # 파일 이름 변경"
   ]
  },
  {
   "cell_type": "code",
   "execution_count": 23,
   "id": "f27097a6-8d66-48fa-86d9-209701cec137",
   "metadata": {},
   "outputs": [
    {
     "data": {
      "text/plain": [
       "True"
      ]
     },
     "execution_count": 23,
     "metadata": {},
     "output_type": "execute_result"
    }
   ],
   "source": [
    "os.path.exists('/Users/Ahn/Desktop/change.txt')  # 변경된 이름의 파일의 존재 여부 확인"
   ]
  },
  {
   "cell_type": "markdown",
   "id": "5fd7c3bb",
   "metadata": {
    "id": "5fd7c3bb"
   },
   "source": [
    "#### 250. numpy\n",
    "numpy 모듈의 arange 함수를 사용해서 0.0 부터 5.0까지 0.1씩 증가하는 값을 화면에 출력해보세요."
   ]
  },
  {
   "cell_type": "code",
   "execution_count": 30,
   "id": "5e5b2a69",
   "metadata": {
    "id": "5e5b2a69"
   },
   "outputs": [
    {
     "name": "stdout",
     "output_type": "stream",
     "text": [
      "0.0\n",
      "0.1\n",
      "0.2\n",
      "0.30000000000000004\n",
      "0.4\n",
      "0.5\n",
      "0.6000000000000001\n",
      "0.7000000000000001\n",
      "0.8\n",
      "0.9\n",
      "1.0\n",
      "1.1\n",
      "1.2000000000000002\n",
      "1.3\n",
      "1.4000000000000001\n",
      "1.5\n",
      "1.6\n",
      "1.7000000000000002\n",
      "1.8\n",
      "1.9000000000000001\n",
      "2.0\n",
      "2.1\n",
      "2.2\n",
      "2.3000000000000003\n",
      "2.4000000000000004\n",
      "2.5\n",
      "2.6\n",
      "2.7\n",
      "2.8000000000000003\n",
      "2.9000000000000004\n",
      "3.0\n",
      "3.1\n",
      "3.2\n",
      "3.3000000000000003\n",
      "3.4000000000000004\n",
      "3.5\n",
      "3.6\n",
      "3.7\n",
      "3.8000000000000003\n",
      "3.9000000000000004\n",
      "4.0\n",
      "4.1000000000000005\n",
      "4.2\n",
      "4.3\n",
      "4.4\n",
      "4.5\n",
      "4.6000000000000005\n",
      "4.7\n",
      "4.800000000000001\n",
      "4.9\n"
     ]
    }
   ],
   "source": [
    "import numpy as np\n",
    "\n",
    "for i in np.arange(0, 5, 0.1):\n",
    "    print(i)"
   ]
  }
 ],
 "metadata": {
  "colab": {
   "provenance": []
  },
  "kernelspec": {
   "display_name": "Python 3 (ipykernel)",
   "language": "python",
   "name": "python3"
  },
  "language_info": {
   "codemirror_mode": {
    "name": "ipython",
    "version": 3
   },
   "file_extension": ".py",
   "mimetype": "text/x-python",
   "name": "python",
   "nbconvert_exporter": "python",
   "pygments_lexer": "ipython3",
   "version": "3.10.11"
  }
 },
 "nbformat": 4,
 "nbformat_minor": 5
}
