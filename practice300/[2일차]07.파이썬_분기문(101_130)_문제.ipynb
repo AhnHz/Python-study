{
 "cells": [
  {
   "cell_type": "markdown",
   "id": "b481d8d2",
   "metadata": {
    "id": "b481d8d2"
   },
   "source": [
    "\n",
    "### 파이썬은 if라는 키워드를 통해 분기문을 만들 수 있습니다."
   ]
  },
  {
   "cell_type": "markdown",
   "id": "cc799c25",
   "metadata": {
    "id": "cc799c25"
   },
   "source": [
    "#### 101. 파이썬에서 True 혹은 False를 갖는 데이터 타입은 무엇인가?"
   ]
  },
  {
   "cell_type": "code",
   "execution_count": null,
   "id": "5fafc030",
   "metadata": {
    "id": "5fafc030"
   },
   "outputs": [],
   "source": [
    "boolean"
   ]
  },
  {
   "cell_type": "markdown",
   "id": "00d410e8",
   "metadata": {
    "id": "00d410e8"
   },
   "source": [
    "#### 102. 아래 코드의 출력 결과를 예상하라\n",
    "\n",
    "print(3 == 5)"
   ]
  },
  {
   "cell_type": "code",
   "execution_count": null,
   "id": "45a15894",
   "metadata": {
    "id": "45a15894"
   },
   "outputs": [],
   "source": [
    "False"
   ]
  },
  {
   "cell_type": "markdown",
   "id": "35d02fdc",
   "metadata": {
    "id": "35d02fdc"
   },
   "source": [
    "#### 103. 아래 코드의 출력 결과를 예상하라\n",
    "print(3 < 5)"
   ]
  },
  {
   "cell_type": "code",
   "execution_count": null,
   "id": "f154ebb6",
   "metadata": {
    "id": "f154ebb6"
   },
   "outputs": [],
   "source": [
    "True"
   ]
  },
  {
   "cell_type": "markdown",
   "id": "72327e11",
   "metadata": {
    "id": "72327e11"
   },
   "source": [
    "#### 104. 아래 코드의 결과를 예상하라.\n",
    "\n",
    "- x = 4\n",
    "- print(1 < x < 5)"
   ]
  },
  {
   "cell_type": "code",
   "execution_count": null,
   "id": "d4dd8fb8",
   "metadata": {
    "id": "d4dd8fb8"
   },
   "outputs": [],
   "source": [
    "True"
   ]
  },
  {
   "cell_type": "markdown",
   "id": "18a38676",
   "metadata": {
    "id": "18a38676"
   },
   "source": [
    "#### 105. 아래 코드의 결과를 예상하라.\n",
    "\n",
    "print ((3 == 3) and (4 != 3))"
   ]
  },
  {
   "cell_type": "code",
   "execution_count": 1,
   "id": "bdca6b37",
   "metadata": {
    "colab": {
     "base_uri": "https://localhost:8080/"
    },
    "executionInfo": {
     "elapsed": 415,
     "status": "ok",
     "timestamp": 1682410865746,
     "user": {
      "displayName": "주주",
      "userId": "14652178887215818703"
     },
     "user_tz": -540
    },
    "id": "bdca6b37",
    "outputId": "a8dce146-26c5-4b92-b366-227393bc8c41"
   },
   "outputs": [
    {
     "name": "stdout",
     "output_type": "stream",
     "text": [
      "True\n"
     ]
    }
   ],
   "source": [
    "print ((3 == 3) and (4 != 3))"
   ]
  },
  {
   "cell_type": "markdown",
   "id": "4ad56e16",
   "metadata": {
    "id": "4ad56e16"
   },
   "source": [
    "#### 106. 아래 코드에서 에러가 발생하는 원인에 대해 설명하라.\n",
    "\n",
    "print(3 => 4)\n",
    "\n",
    "\n",
    "\n",
    " \n",
    "\n"
   ]
  },
  {
   "cell_type": "code",
   "execution_count": 2,
   "id": "d768bd61",
   "metadata": {
    "colab": {
     "base_uri": "https://localhost:8080/",
     "height": 134
    },
    "executionInfo": {
     "elapsed": 9,
     "status": "error",
     "timestamp": 1682410876279,
     "user": {
      "displayName": "주주",
      "userId": "14652178887215818703"
     },
     "user_tz": -540
    },
    "id": "d768bd61",
    "outputId": "fb8ef92f-d897-4c7c-997a-556515212a97"
   },
   "outputs": [
    {
     "ename": "SyntaxError",
     "evalue": "expression cannot contain assignment, perhaps you meant \"==\"? (3612698823.py, line 1)",
     "output_type": "error",
     "traceback": [
      "\u001b[0;36m  Cell \u001b[0;32mIn[2], line 1\u001b[0;36m\u001b[0m\n\u001b[0;31m    print(3 => 4)\u001b[0m\n\u001b[0m          ^\u001b[0m\n\u001b[0;31mSyntaxError\u001b[0m\u001b[0;31m:\u001b[0m expression cannot contain assignment, perhaps you meant \"==\"?\n"
     ]
    }
   ],
   "source": [
    "print(3 => 4)"
   ]
  },
  {
   "cell_type": "markdown",
   "id": "1686eefa-9728-4f3f-a4c5-7f0e84fe4f00",
   "metadata": {},
   "source": [
    "연산자 오류"
   ]
  },
  {
   "cell_type": "code",
   "execution_count": 7,
   "id": "jYB96lERgLy6",
   "metadata": {
    "colab": {
     "base_uri": "https://localhost:8080/"
    },
    "executionInfo": {
     "elapsed": 3,
     "status": "ok",
     "timestamp": 1682410886465,
     "user": {
      "displayName": "주주",
      "userId": "14652178887215818703"
     },
     "user_tz": -540
    },
    "id": "jYB96lERgLy6",
    "outputId": "8d603e72-d8c7-4bbb-8386-a5e3aa97e671"
   },
   "outputs": [
    {
     "name": "stdout",
     "output_type": "stream",
     "text": [
      "False\n"
     ]
    }
   ],
   "source": [
    "print(3 >= 4)"
   ]
  },
  {
   "cell_type": "markdown",
   "id": "7d265a61",
   "metadata": {
    "id": "7d265a61"
   },
   "source": [
    "#### 107. 아래 코드의 출력 결과를 예상하라\n",
    "\n",
    "- if 4 < 3:\n",
    "-     print(\"Hello World\")\n",
    "\n"
   ]
  },
  {
   "cell_type": "markdown",
   "id": "c9d7a23b-1203-4092-82f1-bb95a9f5ae96",
   "metadata": {
    "id": "d546942a"
   },
   "source": [
    "아무것도 출력되지 않음"
   ]
  },
  {
   "cell_type": "markdown",
   "id": "c9e94387",
   "metadata": {
    "id": "c9e94387"
   },
   "source": [
    "#### 108. 아래 코드의 출력 결과를 예상하라\n",
    "\n",
    "- if 4 < 3:\n",
    ">    print(\"Hello World.\")\n",
    "- else:\n",
    ">    print(\"Hi, there.\")"
   ]
  },
  {
   "cell_type": "code",
   "execution_count": 8,
   "id": "efa091f8",
   "metadata": {
    "colab": {
     "base_uri": "https://localhost:8080/"
    },
    "executionInfo": {
     "elapsed": 3,
     "status": "ok",
     "timestamp": 1682410914299,
     "user": {
      "displayName": "주주",
      "userId": "14652178887215818703"
     },
     "user_tz": -540
    },
    "id": "efa091f8",
    "outputId": "21beeb07-11ab-41be-ceee-0439983cac12"
   },
   "outputs": [
    {
     "name": "stdout",
     "output_type": "stream",
     "text": [
      "Hi, there.\n"
     ]
    }
   ],
   "source": [
    "if 4 < 3:\n",
    "    print(\"Hello World.\")\n",
    "\n",
    "else:\n",
    "    print(\"Hi, there.\")"
   ]
  },
  {
   "cell_type": "markdown",
   "id": "8cabe197",
   "metadata": {
    "id": "8cabe197"
   },
   "source": [
    "#### 109. 아래 코드의 출력 결과를 예상하라\n",
    "\n",
    "- if True :\n",
    ">    print (\"1\"),\n",
    ">    print (\"2\")\n",
    "- else :\n",
    ">    print(\"3\")\n",
    "- print(\"4\")"
   ]
  },
  {
   "cell_type": "code",
   "execution_count": 9,
   "id": "cd65cf20",
   "metadata": {
    "colab": {
     "base_uri": "https://localhost:8080/"
    },
    "executionInfo": {
     "elapsed": 6,
     "status": "ok",
     "timestamp": 1682410955019,
     "user": {
      "displayName": "주주",
      "userId": "14652178887215818703"
     },
     "user_tz": -540
    },
    "id": "cd65cf20",
    "outputId": "bd50e8b4-8670-4203-dee3-1e324b259a6b"
   },
   "outputs": [
    {
     "name": "stdout",
     "output_type": "stream",
     "text": [
      "1\n",
      "2\n",
      "4\n"
     ]
    }
   ],
   "source": [
    "if True :\n",
    "    print (\"1\"), print (\"2\")\n",
    "\n",
    "else :\n",
    "    print(\"3\")\n",
    "\n",
    "print(\"4\")"
   ]
  },
  {
   "cell_type": "markdown",
   "id": "5fd7c3bb",
   "metadata": {
    "id": "5fd7c3bb"
   },
   "source": [
    "#### 110. 아래 코드의 출력 결과를 예상하라\n",
    "\n",
    "- if True :\n",
    ">    if False:\n",
    "        print(\"1\")\n",
    "        print(\"2\")\n",
    ">    else:\n",
    "        print(\"3\")\n",
    "- else :\n",
    "    print(\"4\")\n",
    "- print(\"5\")\n"
   ]
  },
  {
   "cell_type": "code",
   "execution_count": 10,
   "id": "5e5b2a69",
   "metadata": {
    "colab": {
     "base_uri": "https://localhost:8080/"
    },
    "executionInfo": {
     "elapsed": 319,
     "status": "ok",
     "timestamp": 1682410980922,
     "user": {
      "displayName": "주주",
      "userId": "14652178887215818703"
     },
     "user_tz": -540
    },
    "id": "5e5b2a69",
    "outputId": "be3ee2e9-4de2-49b0-810b-87594ec2fa73"
   },
   "outputs": [
    {
     "name": "stdout",
     "output_type": "stream",
     "text": [
      "3\n",
      "5\n"
     ]
    }
   ],
   "source": [
    "if True :\n",
    "    if False:\n",
    "\n",
    "        print(\"1\")\n",
    "        print(\"2\")\n",
    "    else:\n",
    "\n",
    "        print(\"3\")\n",
    "else : print(\"4\")\n",
    "print(\"5\")"
   ]
  },
  {
   "cell_type": "markdown",
   "id": "28cd8342",
   "metadata": {
    "id": "28cd8342"
   },
   "source": [
    "#### 111. 사용자로부터 입력받은 문자열을 두 번 출력하라. 아래는 사용자가 \"안녕하세요\"를 입력한 경우의 출력 결과이다.\n",
    "\n",
    "- 안녕하세요\n",
    "- 안녕하세요안녕하세요"
   ]
  },
  {
   "cell_type": "code",
   "execution_count": 11,
   "id": "924553ff",
   "metadata": {
    "colab": {
     "base_uri": "https://localhost:8080/"
    },
    "executionInfo": {
     "elapsed": 3482,
     "status": "ok",
     "timestamp": 1682411048324,
     "user": {
      "displayName": "주주",
      "userId": "14652178887215818703"
     },
     "user_tz": -540
    },
    "id": "924553ff",
    "outputId": "6838158b-6579-41d1-a164-924e3f3d97ee"
   },
   "outputs": [
    {
     "name": "stdin",
     "output_type": "stream",
     "text": [
      " 안녀엉\n"
     ]
    },
    {
     "name": "stdout",
     "output_type": "stream",
     "text": [
      "안녀엉안녀엉\n"
     ]
    }
   ],
   "source": [
    "hi = input()\n",
    "\n",
    "print(hi*2)"
   ]
  },
  {
   "cell_type": "markdown",
   "id": "de312537",
   "metadata": {
    "id": "de312537"
   },
   "source": [
    "#### 112. 사용자로부터 하나의 숫자를 입력받고, 입력 받은 숫자에 10을 더해 출력하라.\n",
    "\n",
    "- 숫자를 입력하세요: 30\n",
    "> 출력값 : 40"
   ]
  },
  {
   "cell_type": "code",
   "execution_count": 13,
   "id": "b8dc6834",
   "metadata": {
    "colab": {
     "base_uri": "https://localhost:8080/"
    },
    "executionInfo": {
     "elapsed": 3066,
     "status": "ok",
     "timestamp": 1682411298155,
     "user": {
      "displayName": "주주",
      "userId": "14652178887215818703"
     },
     "user_tz": -540
    },
    "id": "b8dc6834",
    "outputId": "335e7fbf-122d-4160-cffd-f9b871d583dd"
   },
   "outputs": [
    {
     "name": "stdin",
     "output_type": "stream",
     "text": [
      "숫자를 입력하세요: 20\n"
     ]
    },
    {
     "name": "stdout",
     "output_type": "stream",
     "text": [
      "출력값: 30\n"
     ]
    }
   ],
   "source": [
    "val = int(input('숫자를 입력하세요:'))\n",
    "print('출력값:', val+10)"
   ]
  },
  {
   "cell_type": "markdown",
   "id": "c411bb39",
   "metadata": {
    "id": "c411bb39"
   },
   "source": [
    "#### 113. 사용자로부터 하나의 숫자를 입력 받고 짝수/홀수를 판별하라.\n",
    "\n",
    "- 30\n",
    "> 출력값 : 짝수"
   ]
  },
  {
   "cell_type": "code",
   "execution_count": 14,
   "id": "732c96fa",
   "metadata": {
    "colab": {
     "base_uri": "https://localhost:8080/"
    },
    "executionInfo": {
     "elapsed": 4194,
     "status": "ok",
     "timestamp": 1682411391068,
     "user": {
      "displayName": "주주",
      "userId": "14652178887215818703"
     },
     "user_tz": -540
    },
    "id": "732c96fa",
    "outputId": "a8694d6b-d77e-401e-8a4a-68b62637f56b"
   },
   "outputs": [
    {
     "name": "stdin",
     "output_type": "stream",
     "text": [
      " 15\n"
     ]
    },
    {
     "name": "stdout",
     "output_type": "stream",
     "text": [
      "출력값: 홀수\n"
     ]
    }
   ],
   "source": [
    "num = int(input())\n",
    "\n",
    "if num % 2 == 0:\n",
    "    print('출력값: 짝수')\n",
    "\n",
    "else:\n",
    "    print('출력값: 홀수')\n"
   ]
  },
  {
   "cell_type": "markdown",
   "id": "f50e0c17",
   "metadata": {
    "id": "f50e0c17"
   },
   "source": [
    "#### 114. 사용자로부터 값을 입력받은 후 해당 값에 20을 더한 값을 출력하라. 단 사용자가 입력한 값과 20을 더한 계산 값이 255를 초과하는 경우 255를 출력해야 한다.\n",
    "\n",
    "- 입력값: 200\n",
    "> 출력값: 220\n",
    "- 입력값: 240\n",
    "> 출력값: 255"
   ]
  },
  {
   "cell_type": "code",
   "execution_count": 15,
   "id": "aea5035d",
   "metadata": {
    "colab": {
     "base_uri": "https://localhost:8080/"
    },
    "executionInfo": {
     "elapsed": 4261,
     "status": "ok",
     "timestamp": 1682411545839,
     "user": {
      "displayName": "주주",
      "userId": "14652178887215818703"
     },
     "user_tz": -540
    },
    "id": "aea5035d",
    "outputId": "a5b9251e-53b7-4553-cb17-d2ef401a17a5"
   },
   "outputs": [
    {
     "name": "stdin",
     "output_type": "stream",
     "text": [
      "입력값: 240\n"
     ]
    },
    {
     "name": "stdout",
     "output_type": "stream",
     "text": [
      "출력값: 255\n"
     ]
    }
   ],
   "source": [
    "input_num = int(input('입력값:'))\n",
    "\n",
    "if (input_num + 20) <= 255:\n",
    "    print('출력값:',input_num + 20)\n",
    "\n",
    "else:\n",
    "    print('출력값: 255')\n"
   ]
  },
  {
   "cell_type": "markdown",
   "id": "6e4066d2",
   "metadata": {
    "id": "6e4066d2"
   },
   "source": [
    "#### 115. 사용자로부터 하나의 값을 입력받은 후 해당 값에 20을 뺀 값을 출력하라. 단 출력 값의 범위는 0~255이다. 예를 들어 결괏값이 0보다 작은 값이되는 경우 0을 출력하고 255보다 큰 값이 되는 경우 255를 출력해야 한다.\n",
    "\n",
    "- 입력값: 200\n",
    "> 출력값: 180\n",
    "- 입력값: 15\n",
    ">출력값: 0"
   ]
  },
  {
   "cell_type": "code",
   "execution_count": 16,
   "id": "87b8f1a9",
   "metadata": {
    "colab": {
     "base_uri": "https://localhost:8080/"
    },
    "executionInfo": {
     "elapsed": 2639,
     "status": "ok",
     "timestamp": 1682411710306,
     "user": {
      "displayName": "주주",
      "userId": "14652178887215818703"
     },
     "user_tz": -540
    },
    "id": "87b8f1a9",
    "outputId": "c3c2b043-29b3-469f-e25d-7f2b3bb707e6"
   },
   "outputs": [
    {
     "name": "stdin",
     "output_type": "stream",
     "text": [
      "입력값: 100\n"
     ]
    },
    {
     "name": "stdout",
     "output_type": "stream",
     "text": [
      "출력값: 80\n"
     ]
    }
   ],
   "source": [
    "input_num = int(input('입력값:'))\n",
    "\n",
    "if (input_num - 20) < 0:\n",
    "    print('출력값: 0')\n",
    "\n",
    "elif (input_num - 20) > 255:\n",
    "    print('출력값: 255')\n",
    "\n",
    "else:\n",
    "    print('출력값:', input_num - 20)\n"
   ]
  },
  {
   "cell_type": "markdown",
   "id": "3cf842fc",
   "metadata": {
    "id": "3cf842fc"
   },
   "source": [
    "#### 116. 사용자로부터 입력 받은 시간이 정각인지 판별하라.\n",
    "\n",
    "- 현재시간:02:00\n",
    ">정각 입니다.\n",
    "- 현재시간:03:10\n",
    ">정각이 아닙니다\n",
    "\n",
    "\n",
    " \n",
    "\n"
   ]
  },
  {
   "cell_type": "code",
   "execution_count": 17,
   "id": "dc96999b",
   "metadata": {
    "id": "dc96999b"
   },
   "outputs": [
    {
     "name": "stdin",
     "output_type": "stream",
     "text": [
      "현재시간:  12:00\n"
     ]
    },
    {
     "name": "stdout",
     "output_type": "stream",
     "text": [
      "정각 입니다.\n"
     ]
    }
   ],
   "source": [
    "time = input(\"현재시간: \")\n",
    "\n",
    "if time[-2:] == '00':\n",
    "    print(\"정각 입니다.\")\n",
    "else:\n",
    "    print(\"정각이 아닙니다.\")"
   ]
  },
  {
   "cell_type": "markdown",
   "id": "224672b1",
   "metadata": {
    "id": "224672b1"
   },
   "source": [
    "#### 117. 사용자로 입력받은 단어가 아래 fruit 리스트에 포함되어 있는지를 확인하라. 포함되었다면 \"정답입니다\"를 아닐 경우 \"오답입니다\" 출력하라.\n",
    "\n",
    "- fruit = [\"사과\", \"포도\", \"홍시\"]\n",
    "> 좋아하는 과일은? 사과\n",
    ">> 정답입니다."
   ]
  },
  {
   "cell_type": "code",
   "execution_count": 18,
   "id": "18021e55",
   "metadata": {
    "colab": {
     "base_uri": "https://localhost:8080/"
    },
    "executionInfo": {
     "elapsed": 6400,
     "status": "ok",
     "timestamp": 1682411819929,
     "user": {
      "displayName": "주주",
      "userId": "14652178887215818703"
     },
     "user_tz": -540
    },
    "id": "18021e55",
    "outputId": "4b4db78d-744f-401c-a5c5-5d604cc757ba"
   },
   "outputs": [
    {
     "name": "stdin",
     "output_type": "stream",
     "text": [
      "좋아하는 과일은? 포도\n"
     ]
    },
    {
     "name": "stdout",
     "output_type": "stream",
     "text": [
      "정답입니다.\n"
     ]
    }
   ],
   "source": [
    "fruit = [\"사과\", \"포도\", \"홍시\"]\n",
    "like = input('좋아하는 과일은?')\n",
    "\n",
    "if like in fruit:\n",
    "    print('정답입니다.')"
   ]
  },
  {
   "cell_type": "markdown",
   "id": "1749a819",
   "metadata": {
    "id": "1749a819"
   },
   "source": [
    "#### 118. 투자 경고 종목 리스트가 있을 때 사용자로부터 종목명을 입력 받은 후 해당 종목이 투자 경고 종목이라면 '투자 경고 종목입니다'를 아니면 \"투자 경고 종목이 아닙니다.\"를 출력하는 프로그램을 작성하라.\n",
    "\n",
    "- warn_investment_list = [\"Microsoft\", \"Google\", \"Naver\", \"Kakao\", \"SAMSUNG\", \"LG\"]"
   ]
  },
  {
   "cell_type": "code",
   "execution_count": 19,
   "id": "162c8cac",
   "metadata": {
    "colab": {
     "base_uri": "https://localhost:8080/"
    },
    "executionInfo": {
     "elapsed": 3298,
     "status": "ok",
     "timestamp": 1682411938790,
     "user": {
      "displayName": "주주",
      "userId": "14652178887215818703"
     },
     "user_tz": -540
    },
    "id": "162c8cac",
    "outputId": "03425e42-d040-405e-9323-dde5fc2b2041"
   },
   "outputs": [
    {
     "name": "stdin",
     "output_type": "stream",
     "text": [
      "종목명: LG\n"
     ]
    },
    {
     "name": "stdout",
     "output_type": "stream",
     "text": [
      "투자 경고 종목입니다.\n"
     ]
    }
   ],
   "source": [
    "warn_investment_list = [\"Microsoft\", \"Google\", \"Naver\", \"Kakao\", \"SAMSUNG\", \"LG\"]\n",
    "invest = input('종목명:')\n",
    "\n",
    "if invest in warn_investment_list:\n",
    "    print('투자 경고 종목입니다.')\n",
    "\n",
    "else:\n",
    "    print('투자 경고 종목이 아닙니다.')"
   ]
  },
  {
   "cell_type": "markdown",
   "id": "871bece9",
   "metadata": {
    "id": "871bece9"
   },
   "source": [
    "#### 119. 아래와 같이 fruit 딕셔너리가 정의되어 있다. 사용자가 입력한 값이 딕셔너리 키 (key) 값에 포함되었다면 \"정답입니다\"를 아닐 경우 \"오답입니다\" 출력하라.\n",
    "\n",
    "- fruit = {\"봄\" : \"딸기\", \"여름\" : \"토마토\", \"가을\" : \"사과\"}\n",
    "> 제가좋아하는계절은: 봄\n",
    ">>정답입니다."
   ]
  },
  {
   "cell_type": "code",
   "execution_count": 20,
   "id": "37f676b7",
   "metadata": {
    "colab": {
     "base_uri": "https://localhost:8080/"
    },
    "executionInfo": {
     "elapsed": 4490,
     "status": "ok",
     "timestamp": 1682412065182,
     "user": {
      "displayName": "주주",
      "userId": "14652178887215818703"
     },
     "user_tz": -540
    },
    "id": "37f676b7",
    "outputId": "9150b508-de6c-4310-ae6c-7c96816eb27e"
   },
   "outputs": [
    {
     "name": "stdin",
     "output_type": "stream",
     "text": [
      "제가 좋아하는 계절은: 여름\n"
     ]
    },
    {
     "name": "stdout",
     "output_type": "stream",
     "text": [
      "정답입니다.\n"
     ]
    }
   ],
   "source": [
    "fruit = {\"봄\" : \"딸기\", \"여름\" : \"토마토\", \"가을\" : \"사과\"}\n",
    "season = input('제가 좋아하는 계절은:')\n",
    "\n",
    "if season in fruit.keys():\n",
    "    print('정답입니다.')\n",
    "\n",
    "else:\n",
    "    print('오답입니다.')"
   ]
  },
  {
   "cell_type": "markdown",
   "id": "afa2521d",
   "metadata": {
    "id": "afa2521d"
   },
   "source": [
    "#### 120. 아래와 같이 fruit 딕셔너리가 정의되어 있다. 사용자가 입력한 값이 딕셔너리 값 (value)에 포함되었다면 \"정답입니다\"를 아닐 경우 \"오답입니다\" 출력하라.\n",
    "\n",
    "- fruit = {\"봄\" : \"딸기\", \"여름\" : \"토마토\", \"가을\" : \"사과\"}\n",
    "> 좋아하는과일은? 한라봉\n",
    ">>오답입니다."
   ]
  },
  {
   "cell_type": "code",
   "execution_count": 21,
   "id": "74350868",
   "metadata": {
    "colab": {
     "base_uri": "https://localhost:8080/"
    },
    "executionInfo": {
     "elapsed": 5771,
     "status": "ok",
     "timestamp": 1682412253429,
     "user": {
      "displayName": "주주",
      "userId": "14652178887215818703"
     },
     "user_tz": -540
    },
    "id": "74350868",
    "outputId": "f64e0c1c-0a42-46fd-ef1e-90cfd7ed6d18"
   },
   "outputs": [
    {
     "name": "stdin",
     "output_type": "stream",
     "text": [
      "좋아하는 과일은? 복숭아\n"
     ]
    },
    {
     "name": "stdout",
     "output_type": "stream",
     "text": [
      "오답입니다.\n"
     ]
    }
   ],
   "source": [
    "fruit = {\"봄\" : \"딸기\", \"여름\" : \"토마토\", \"가을\" : \"사과\"}\n",
    "season = input('좋아하는 과일은?')\n",
    "\n",
    "if season in fruit.values():\n",
    "    print('정답입니다.')\n",
    "\n",
    "else:\n",
    "    print('오답입니다.')"
   ]
  },
  {
   "cell_type": "markdown",
   "id": "63ffd306",
   "metadata": {
    "id": "63ffd306"
   },
   "source": [
    "#### 121. 사용자로부터 문자 한 개를 입력 받고, 소문자일 경우 대문자로, 대문자 일 경우, 소문자로 변경해서 출력하라.\n",
    "\n",
    "- a\n",
    "- A\n",
    "- 힌트-1 : islower() 함수는 문자의 소문자 여부를 판별합니다. 만약 소문자일 경우 True, 대문자일 경우 False를 반환합니다. 힌트-2 : upper() 함수는 대문자로, lower() 함수는 소문자로 변경합니다."
   ]
  },
  {
   "cell_type": "code",
   "execution_count": 24,
   "id": "101e73f3",
   "metadata": {
    "colab": {
     "base_uri": "https://localhost:8080/"
    },
    "executionInfo": {
     "elapsed": 2712,
     "status": "ok",
     "timestamp": 1682412393463,
     "user": {
      "displayName": "주주",
      "userId": "14652178887215818703"
     },
     "user_tz": -540
    },
    "id": "101e73f3",
    "outputId": "31116e02-6495-4717-9203-5321ccc157d3"
   },
   "outputs": [
    {
     "name": "stdin",
     "output_type": "stream",
     "text": [
      " a\n"
     ]
    },
    {
     "name": "stdout",
     "output_type": "stream",
     "text": [
      "A\n"
     ]
    }
   ],
   "source": [
    "alpha = input()\n",
    "\n",
    "if alpha.islower() == True:\n",
    "    print(alpha.upper())\n",
    "\n",
    "else:\n",
    "    print(alpha.lower())"
   ]
  },
  {
   "cell_type": "markdown",
   "id": "62ec49bc",
   "metadata": {
    "id": "62ec49bc"
   },
   "source": [
    "#### 122. 점수 구간에 해당하는 학점이 아래와 같이 정의되어 있다. 사용자로부터 score를 입력받아 학점을 출력하라.\n",
    "\n",
    "점수\t| 학점\n",
    "------|------\n",
    "81~100 |\tA\n",
    "61~80\t|B\n",
    "41~60\t|C\n",
    "21~40\t|D\n",
    "0~20\t| E\n",
    "\n",
    "- score: 83\n",
    "- grade is A"
   ]
  },
  {
   "cell_type": "code",
   "execution_count": 25,
   "id": "68abd9cf",
   "metadata": {
    "colab": {
     "base_uri": "https://localhost:8080/"
    },
    "executionInfo": {
     "elapsed": 5372,
     "status": "ok",
     "timestamp": 1682413044551,
     "user": {
      "displayName": "주주",
      "userId": "14652178887215818703"
     },
     "user_tz": -540
    },
    "id": "68abd9cf",
    "outputId": "0fc96994-0ddc-44ee-9782-9743bfa20062"
   },
   "outputs": [
    {
     "name": "stdin",
     "output_type": "stream",
     "text": [
      "score: 55\n"
     ]
    },
    {
     "name": "stdout",
     "output_type": "stream",
     "text": [
      "grade is C\n"
     ]
    }
   ],
   "source": [
    "score = int(input('score:'))\n",
    "\n",
    "if score > 80:\n",
    "    grade = 'A'\n",
    "\n",
    "elif score > 60:\n",
    "    grade = 'B'\n",
    "\n",
    "elif score > 40:\n",
    "    grade = 'C'\n",
    "\n",
    "elif score > 20:\n",
    "    grade = 'D'\n",
    "\n",
    "else:\n",
    "    grade = 'E'\n",
    "\n",
    "print('grade is',grade)"
   ]
  },
  {
   "cell_type": "markdown",
   "id": "8d104bb8",
   "metadata": {
    "id": "8d104bb8"
   },
   "source": [
    "#### 123. 사용자로부터 달러, 엔, 유로, 또는 위안 금액을 입력받은 후 이를 원으로 변환하는 프로그램을 작성하라. 각 통화별 환율은 다음과 같다. 사용자는 100 달러, 1000 엔, 13 유로, 100 위안과 같이 금액과 통화명 사이에 공백을 넣어 입력한다고 가정한다.\n",
    "\n",
    "통화명\t| 환율\n",
    "-------|-------\n",
    "달러\t |  1167\n",
    "엔\t  | 1.096\n",
    "유로\t |  1268\n",
    "위안\t |   171\n",
    "\n",
    "- 입력: 100 달러\n",
    "- 116700.00 원"
   ]
  },
  {
   "cell_type": "code",
   "execution_count": 7,
   "id": "2244ffb6",
   "metadata": {
    "colab": {
     "base_uri": "https://localhost:8080/"
    },
    "executionInfo": {
     "elapsed": 4209,
     "status": "ok",
     "timestamp": 1682468467789,
     "user": {
      "displayName": "주주",
      "userId": "14652178887215818703"
     },
     "user_tz": -540
    },
    "id": "2244ffb6",
    "outputId": "38bf6b62-7208-406f-c51f-7d80c0565501"
   },
   "outputs": [
    {
     "name": "stdout",
     "output_type": "stream",
     "text": [
      "입력:10 위안\n",
      "1710 원\n"
     ]
    }
   ],
   "source": [
    "money = input('입력: ')\n",
    "\n",
    "sp = money.split(' ')\n",
    "mon = int(sp[0])\n",
    "\n",
    "if sp[1] == '달러':\n",
    "    mon *= 1167\n",
    "\n",
    "elif sp[1] == '엔':\n",
    "    mon *= 1.096\n",
    "\n",
    "elif sp[1] == '유로':\n",
    "    mon *= 1268\n",
    "\n",
    "elif sp[1] == '위안':\n",
    "    mon *= 171\n",
    "\n",
    "print(mon,'원')"
   ]
  },
  {
   "cell_type": "markdown",
   "id": "4293fafa",
   "metadata": {
    "id": "4293fafa"
   },
   "source": [
    "#### 124. 사용자로부터 세 개의 숫자를 입력 받은 후 가장 큰 숫자를 출력하라.\n",
    "\n",
    "- input number1: 10\n",
    "- input number2: 9\n",
    "- input number3: 20\n",
    "> 20"
   ]
  },
  {
   "cell_type": "code",
   "execution_count": 11,
   "id": "969a34f9",
   "metadata": {
    "colab": {
     "base_uri": "https://localhost:8080/"
    },
    "executionInfo": {
     "elapsed": 5391,
     "status": "ok",
     "timestamp": 1682468834377,
     "user": {
      "displayName": "주주",
      "userId": "14652178887215818703"
     },
     "user_tz": -540
    },
    "id": "969a34f9",
    "outputId": "296b2822-a86f-413d-ecc7-98f7e91998d8"
   },
   "outputs": [
    {
     "name": "stdout",
     "output_type": "stream",
     "text": [
      "input number1: 5\n",
      "input number2: 3\n",
      "input number3: 2\n",
      "5\n"
     ]
    }
   ],
   "source": [
    "num1 = int(input('input number1: '))\n",
    "num2 = int(input('input number2: '))\n",
    "num3 = int(input('input number3: '))\n",
    "\n",
    "if num1 > num2:\n",
    "    if num1 > num3:\n",
    "        print(num1)\n",
    "\n",
    "    else:\n",
    "        print(num3)\n",
    "\n",
    "elif num2 > num1:\n",
    "    if num2 > num3:\n",
    "        print(num2)\n",
    "\n",
    "    else:\n",
    "        print(num3)\n",
    "\n",
    "elif num2 > num3:\n",
    "    if num2 > num1:\n",
    "        print(num2)\n",
    "\n",
    "    else:\n",
    "        print(num1)"
   ]
  },
  {
   "cell_type": "markdown",
   "id": "1a1414c0",
   "metadata": {
    "id": "1a1414c0"
   },
   "source": [
    "#### 125. 휴대폰 번호 앞자리에 따라 통신사는 아래와 같이 구분된다. 사용자로부터 휴대전화 번호를 입력 받고, 통신사를 출력하는 프로그램을 작성하라.\n",
    "\n",
    "번호\t| 통신사\n",
    "------|-------\n",
    "011\t| SKT\n",
    "016\t| KT\n",
    "019\t| LGU\n",
    "010\t| 알수없음\n",
    "\n",
    "- 휴대전화 번호 입력: 011-345-1922\n",
    "- 당신은 SKT 사용자입니다."
   ]
  },
  {
   "cell_type": "code",
   "execution_count": 13,
   "id": "a3b0925e",
   "metadata": {
    "colab": {
     "base_uri": "https://localhost:8080/"
    },
    "executionInfo": {
     "elapsed": 9544,
     "status": "ok",
     "timestamp": 1682469103574,
     "user": {
      "displayName": "주주",
      "userId": "14652178887215818703"
     },
     "user_tz": -540
    },
    "id": "a3b0925e",
    "outputId": "464eae36-d20e-4e5c-874e-8473bd5bf100"
   },
   "outputs": [
    {
     "name": "stdout",
     "output_type": "stream",
     "text": [
      "휴대전화 번호 입력: 016-1234-5678\n",
      "당신은 KT 사용자입니다.\n"
     ]
    }
   ],
   "source": [
    "Pnum = input('휴대전화 번호 입력: ')\n",
    "com = Pnum[:3]\n",
    "\n",
    "if com == '011':\n",
    "    com = 'SKT'\n",
    "\n",
    "elif com == '016':\n",
    "    com = 'KT'\n",
    "\n",
    "elif com == '019':\n",
    "    com = 'LGU'\n",
    "\n",
    "else:\n",
    "    com = '알수없음'\n",
    "\n",
    "print('당신은', com,'사용자입니다.')"
   ]
  },
  {
   "cell_type": "markdown",
   "id": "fa5ae329",
   "metadata": {
    "id": "fa5ae329"
   },
   "source": [
    "#### 126. 우편번호는 5자리로 구성되는데, 앞의 세자리는 구를 나타낸다. 예를들어, 강북구의 경우 010, 011, 012 세 자리로 시작한다.\n",
    "\n",
    " '-' | 0\t   | 1\t  | 2\t | 3\t    | 4\t   | 5\t  | 6\t | 7\t    | 8\t   | 9\n",
    "-------------------- | --------------------\n",
    "01 | 강북구 | 강북구 | 강북구 | 도봉구 | 도봉구 | 도봉구 | 노원구 | 노원구 | 노원구 | 노원구\n",
    "\n",
    "- 사용자로 부터 5자리 우편번호를 입력받고 구를 판별하라\n",
    "- 우편번호: 01400\n",
    "- 도봉구\n",
    "\n",
    "\n",
    "\n",
    " \n",
    "\n"
   ]
  },
  {
   "cell_type": "code",
   "execution_count": 26,
   "id": "02237bf3",
   "metadata": {
    "id": "02237bf3"
   },
   "outputs": [
    {
     "name": "stdin",
     "output_type": "stream",
     "text": [
      "우편번호:  011\n"
     ]
    },
    {
     "name": "stdout",
     "output_type": "stream",
     "text": [
      "강북구\n"
     ]
    }
   ],
   "source": [
    "우편번호 = input('우편번호: ')\n",
    "우편번호 = 우편번호[:3]\n",
    "\n",
    "if 우편번호 in ['010', '011', '012']:\n",
    "    print('강북구')\n",
    "elif 우편번호 in ['014', '015', '016']:\n",
    "    print('도봉구')\n",
    "else:\n",
    "    print('노원구')"
   ]
  },
  {
   "cell_type": "markdown",
   "id": "34a93639",
   "metadata": {
    "id": "34a93639"
   },
   "source": [
    "#### 127. 주민등록번호 뒷 자리 7자리 중 첫째 자리는 성별을 나타내는데, 1, 3은 남자 2, 4는 여자를 의미한다. 사용자로부터 13자리의 주민등록번호를 입력 받은 후 성별 (남자, 여자)를 출력하는 프로그램을 작성하라.\n",
    "\n",
    "- 주민등록번호: 821010-1635210\n",
    "- 남자\n"
   ]
  },
  {
   "cell_type": "code",
   "execution_count": 17,
   "id": "d1a470e8",
   "metadata": {
    "colab": {
     "base_uri": "https://localhost:8080/"
    },
    "executionInfo": {
     "elapsed": 4661,
     "status": "ok",
     "timestamp": 1682469436673,
     "user": {
      "displayName": "주주",
      "userId": "14652178887215818703"
     },
     "user_tz": -540
    },
    "id": "d1a470e8",
    "outputId": "8e784d55-e77b-4820-f75c-4684f8bc44a5"
   },
   "outputs": [
    {
     "name": "stdout",
     "output_type": "stream",
     "text": [
      "주민등록번호: 000000-3000\n",
      "남자\n"
     ]
    }
   ],
   "source": [
    "num = input('주민등록번호: ')\n",
    "\n",
    "if num[7] == '1'or num[7] == '3':\n",
    "    print('남자')\n",
    "\n",
    "elif num[7] == '2'or num[7] =='4':\n",
    "    print('여자')"
   ]
  },
  {
   "cell_type": "markdown",
   "id": "64c86f6f",
   "metadata": {
    "id": "64c86f6f"
   },
   "source": [
    "#### 128. 주민등록번호의 뒷 자리 7자리 중 두번째와 세번째는 지역코드를 의미한다. 주민 등록 번호를 입력 받은 후 출생지가 서울인지 아닌지 판단하는 코드를 작성하라\n",
    "\n",
    "지역코드\t| 출생지\n",
    "--------|--------\n",
    "00 ~ 08\t|서울\n",
    "09 ~ 12\t|부산\n",
    "\n",
    "- 주민등록번호: 821010-1635210\n",
    "> 서울이 아닙니다.\n",
    "- 주민등록번호: 861010-1015210\n",
    "> 서울 입니다."
   ]
  },
  {
   "cell_type": "code",
   "execution_count": 22,
   "id": "f083653d",
   "metadata": {
    "colab": {
     "base_uri": "https://localhost:8080/"
    },
    "executionInfo": {
     "elapsed": 14410,
     "status": "ok",
     "timestamp": 1682469705470,
     "user": {
      "displayName": "주주",
      "userId": "14652178887215818703"
     },
     "user_tz": -540
    },
    "id": "f083653d",
    "outputId": "d88d63a4-ffe3-4ffc-ea9b-85f7d335466a"
   },
   "outputs": [
    {
     "name": "stdout",
     "output_type": "stream",
     "text": [
      "주민등록번호: 000000-1635210\n",
      "서울이 아닙니다.\n"
     ]
    }
   ],
   "source": [
    "num = input('주민등록번호: ')\n",
    "home = int(num[8:10])\n",
    "\n",
    "if home <= 8:\n",
    "    print('서울 입니다.')\n",
    "\n",
    "#elif home <= 12 or home >= 9:\n",
    " #   print('부산 입니다.')\n",
    "\n",
    "else:\n",
    "    print('서울이 아닙니다.')"
   ]
  },
  {
   "cell_type": "markdown",
   "id": "a59db0ca",
   "metadata": {
    "id": "a59db0ca"
   },
   "source": [
    "#### 129. 주민등록번호는 13자리로 구성되는데 마지막 자리수는 주민등록번호의 유효성을 체크하는데 사용된다. 먼저 앞에서부터 12자리의 숫자에 2, 3, 4, 5, 6, 7, 8, 9, 2, 3, 4, 5를 차례로 곱한 뒤 그 값을 전부 더한다. 연산 결과 값을 11로 나누면 나머지가 나오는데 11에서 나머지를 뺀 값이 주민등록번호의 마지막 번호가 된다.\n",
    "\n",
    "- 8 2 1 0 1 0 - 1 6 3 5 2 1 0\n",
    "- x 2 3 4 5 6 7   8 9 2 3 4 5 \n",
    "- -----------------------------\n",
    "- 1차 계산: (8*2 + 2*3 + 1*4 + 0*5 + 1*6 + 0*7 + 1*8 + 6*9 + 3*2 + 5*3 + 2*4 + 1*5) = (128 % 11) = 7\n",
    "- 2차 계산: 11 -7 = 4\n",
    "- 위와 같이 821010-1635210에 대해서 계산을 해보면 마지막 자리는 4가 되어야 함을 알 수 있다. 즉, 821010-1635210은 유효하지 않은 주민등록번호임을 알 수 있다.\n",
    "\n",
    "- 다음과 같이 사용자로부터 주민등록번호를 입력받은 후 주민등록번호가 유효한지를 출력하는 프로그램을 작성하라.\n",
    "\n",
    "- 주민등록번호: 821010-1635210\n",
    "- 유효하지 않은 주민등록번호입니다. "
   ]
  },
  {
   "cell_type": "code",
   "execution_count": 37,
   "id": "a31aea58",
   "metadata": {
    "colab": {
     "base_uri": "https://localhost:8080/"
    },
    "executionInfo": {
     "elapsed": 6160,
     "status": "ok",
     "timestamp": 1682470842071,
     "user": {
      "displayName": "주주",
      "userId": "14652178887215818703"
     },
     "user_tz": -540
    },
    "id": "a31aea58",
    "outputId": "abb262a1-9d5f-439d-8b2c-1011f1574de5"
   },
   "outputs": [
    {
     "name": "stdout",
     "output_type": "stream",
     "text": [
      "주민등록번호: 821010-1635210\n",
      "유효하지 않은 주민등록번호입니다.\n"
     ]
    }
   ],
   "source": [
    "num = input('주민등록번호: ')\n",
    "num = num.replace('-','')\n",
    "list(num)\n",
    "\n",
    "check = int(num[-1])\n",
    "\n",
    "valid = [2,3,4,5,6,7,8,9,2,3,4,5]\n",
    "sum = 0\n",
    "\n",
    "for i in range(12): #0~11\n",
    "    sum += int(num[i]) * valid[i]\n",
    "\n",
    "remain = sum%11\n",
    "\n",
    "if check == (11-remain):\n",
    "    print('유효한 주민등록번호입니다.')\n",
    "\n",
    "else:\n",
    "    print('유효하지 않은 주민등록번호입니다.')\n",
    "\n",
    "    "
   ]
  },
  {
   "cell_type": "markdown",
   "id": "d889c2ec",
   "metadata": {
    "id": "d889c2ec"
   },
   "source": [
    "#### 130. 아래 코드는 비트코인의 가격 정보를 딕셔너리로 가져오는 코드이다.\n",
    "\n",
    "- import requests\n",
    "- btc = requests.get(\"https://api.bithumb.com/public/ticker/\").json()['data']\n",
    "- btc 딕셔너리 안에는 시가, 종가, 최고가, 최저가 등이 저장되어 있다. 최고가와 최저가의 차이를 변동폭으로 정의할 때 (시가 + 변동폭)이 최고가 보다 높을 경우 \"상승장\", 그렇지 않은 경우 \"하락장\" 문자열을 출력하라.\n",
    "\n",
    "- Key Name\tDescription\n",
    "\n",
    "> opening_price : 최근 24시간 내 시작 거래금액\n",
    "\n",
    "> closing_price : 최근 24시간 내 마지막 거래금액\n",
    "\n",
    "> min_price\t : 최근 24시간 내 최저 거래금액\n",
    "\n",
    "> max_price\t : 최근 24시간 내 최고 거래금액"
   ]
  },
  {
   "cell_type": "code",
   "execution_count": 43,
   "id": "fae8f4f9",
   "metadata": {
    "colab": {
     "base_uri": "https://localhost:8080/"
    },
    "executionInfo": {
     "elapsed": 802,
     "status": "ok",
     "timestamp": 1682473862682,
     "user": {
      "displayName": "주주",
      "userId": "14652178887215818703"
     },
     "user_tz": -540
    },
    "id": "fae8f4f9",
    "outputId": "07eee72d-d132-4570-b203-53272700c072"
   },
   "outputs": [
    {
     "name": "stdout",
     "output_type": "stream",
     "text": [
      "상승장\n"
     ]
    }
   ],
   "source": [
    "import requests\n",
    "\n",
    "btc = requests.get(\"https://api.bithumb.com/public/ticker/\").json()['data']\n",
    "\n",
    "diff = int(btc['max_price']) - int(btc['min_price'])\n",
    "\n",
    "if int(btc['max_price']) < int(btc['opening_price']) + diff:\n",
    "    print('상승장')\n",
    "\n",
    "else:\n",
    "    print('하락장')"
   ]
  }
 ],
 "metadata": {
  "colab": {
   "provenance": []
  },
  "kernelspec": {
   "display_name": "Python 3 (ipykernel)",
   "language": "python",
   "name": "python3"
  },
  "language_info": {
   "codemirror_mode": {
    "name": "ipython",
    "version": 3
   },
   "file_extension": ".py",
   "mimetype": "text/x-python",
   "name": "python",
   "nbconvert_exporter": "python",
   "pygments_lexer": "ipython3",
   "version": "3.10.11"
  }
 },
 "nbformat": 4,
 "nbformat_minor": 5
}
