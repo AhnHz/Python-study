{
 "cells": [
  {
   "cell_type": "markdown",
   "id": "b481d8d2",
   "metadata": {},
   "source": [
    "\n",
    "### 함수란 자주 사용하는 코드에 대한 이름표입니다. 변수가 어떤 값을 바인딩하는 것처럼 함수는 어떤 코드를 바인딩합니다."
   ]
  },
  {
   "cell_type": "markdown",
   "id": "cc799c25",
   "metadata": {},
   "source": [
    "#### 201. \"비트코인\" 문자열을 화면에 출력하는 print_coin() 함수를 정의하라."
   ]
  },
  {
   "cell_type": "code",
   "execution_count": 1,
   "id": "5fafc030",
   "metadata": {},
   "outputs": [],
   "source": [
    "def print_coin():\n",
    "    print('비트코인')"
   ]
  },
  {
   "cell_type": "markdown",
   "id": "00d410e8",
   "metadata": {},
   "source": [
    "#### 202. 201번에서 정의한 함수를 호출하라."
   ]
  },
  {
   "cell_type": "code",
   "execution_count": 2,
   "id": "45a15894",
   "metadata": {},
   "outputs": [
    {
     "name": "stdout",
     "output_type": "stream",
     "text": [
      "비트코인\n"
     ]
    }
   ],
   "source": [
    "print_coin()"
   ]
  },
  {
   "cell_type": "markdown",
   "id": "35d02fdc",
   "metadata": {},
   "source": [
    "#### 203. 201번에서 정의한 print_coin 함수를 100번호출하라."
   ]
  },
  {
   "cell_type": "code",
   "execution_count": 3,
   "id": "f154ebb6",
   "metadata": {},
   "outputs": [
    {
     "name": "stdout",
     "output_type": "stream",
     "text": [
      "비트코인\n",
      "비트코인\n",
      "비트코인\n",
      "비트코인\n",
      "비트코인\n",
      "비트코인\n",
      "비트코인\n",
      "비트코인\n",
      "비트코인\n",
      "비트코인\n",
      "비트코인\n",
      "비트코인\n",
      "비트코인\n",
      "비트코인\n",
      "비트코인\n",
      "비트코인\n",
      "비트코인\n",
      "비트코인\n",
      "비트코인\n",
      "비트코인\n",
      "비트코인\n",
      "비트코인\n",
      "비트코인\n",
      "비트코인\n",
      "비트코인\n",
      "비트코인\n",
      "비트코인\n",
      "비트코인\n",
      "비트코인\n",
      "비트코인\n",
      "비트코인\n",
      "비트코인\n",
      "비트코인\n",
      "비트코인\n",
      "비트코인\n",
      "비트코인\n",
      "비트코인\n",
      "비트코인\n",
      "비트코인\n",
      "비트코인\n",
      "비트코인\n",
      "비트코인\n",
      "비트코인\n",
      "비트코인\n",
      "비트코인\n",
      "비트코인\n",
      "비트코인\n",
      "비트코인\n",
      "비트코인\n",
      "비트코인\n",
      "비트코인\n",
      "비트코인\n",
      "비트코인\n",
      "비트코인\n",
      "비트코인\n",
      "비트코인\n",
      "비트코인\n",
      "비트코인\n",
      "비트코인\n",
      "비트코인\n",
      "비트코인\n",
      "비트코인\n",
      "비트코인\n",
      "비트코인\n",
      "비트코인\n",
      "비트코인\n",
      "비트코인\n",
      "비트코인\n",
      "비트코인\n",
      "비트코인\n",
      "비트코인\n",
      "비트코인\n",
      "비트코인\n",
      "비트코인\n",
      "비트코인\n",
      "비트코인\n",
      "비트코인\n",
      "비트코인\n",
      "비트코인\n",
      "비트코인\n",
      "비트코인\n",
      "비트코인\n",
      "비트코인\n",
      "비트코인\n",
      "비트코인\n",
      "비트코인\n",
      "비트코인\n",
      "비트코인\n",
      "비트코인\n",
      "비트코인\n",
      "비트코인\n",
      "비트코인\n",
      "비트코인\n",
      "비트코인\n",
      "비트코인\n",
      "비트코인\n",
      "비트코인\n",
      "비트코인\n",
      "비트코인\n",
      "비트코인\n"
     ]
    }
   ],
   "source": [
    "for i in range(100):\n",
    "    print_coin()"
   ]
  },
  {
   "cell_type": "markdown",
   "id": "72327e11",
   "metadata": {},
   "source": [
    "#### 204. \"비트코인\" 문자열을 100번 화면에 출력하는 print_coins() 함수를 정의하라."
   ]
  },
  {
   "cell_type": "code",
   "execution_count": 5,
   "id": "d4dd8fb8",
   "metadata": {},
   "outputs": [],
   "source": [
    "def print_coins():\n",
    "    for i in range(100):\n",
    "        print_coin()"
   ]
  },
  {
   "cell_type": "markdown",
   "id": "18a38676",
   "metadata": {},
   "source": [
    "#### 205. 아래의 에러가 발생하는 이유에 대해 설명하라.\n",
    "\n",
    "> hello()\n",
    "\n",
    "> def hello():\n",
    "\n",
    ">     print(\"Hi\")\n",
    "    \n",
    "- 실행 예\n",
    "\n",
    "NameError: name 'hello' is not defined"
   ]
  },
  {
   "cell_type": "code",
   "execution_count": null,
   "id": "b0c4dbeb",
   "metadata": {},
   "outputs": [],
   "source": [
    "함수가 정의되기 전에 함수 호출이 되어서"
   ]
  },
  {
   "cell_type": "markdown",
   "id": "f5fd9152",
   "metadata": {},
   "source": [
    "#### 206. 아래 코드의 실행 결과를 예측하라.\n",
    "\n",
    "def message() :\n",
    "    print(\"A\")\n",
    "    print(\"B\")\n",
    "\n",
    "message()\n",
    "print(\"C\")\n",
    "message()"
   ]
  },
  {
   "cell_type": "code",
   "execution_count": 7,
   "id": "bdca6b37",
   "metadata": {},
   "outputs": [
    {
     "name": "stdout",
     "output_type": "stream",
     "text": [
      "A\n",
      "B\n",
      "C\n",
      "A\n",
      "B\n"
     ]
    }
   ],
   "source": [
    "def message() : \n",
    "    print(\"A\") \n",
    "    print(\"B\")\n",
    "\n",
    "message() \n",
    "print(\"C\") \n",
    "message()"
   ]
  },
  {
   "cell_type": "markdown",
   "id": "7d265a61",
   "metadata": {},
   "source": [
    "#### 207. 아래 코드의 실행 결과를 예측하라. (읽기 어려운 코드의 예입니다.)\n",
    "\n",
    "print(\"A\")\n",
    "\n",
    "def message() :\n",
    ">    print(\"B\")\n",
    "\n",
    "print(\"C\")\n",
    "message()"
   ]
  },
  {
   "cell_type": "code",
   "execution_count": null,
   "id": "d546942a",
   "metadata": {},
   "outputs": [
    {
     "name": "stdout",
     "output_type": "stream",
     "text": [
      "A\n",
      "C\n",
      "B\n"
     ]
    }
   ],
   "source": [
    "print(\"A\")\n",
    "\n",
    "def message() :\n",
    "    print(\"B\")\n",
    "\n",
    "print(\"C\") message()"
   ]
  },
  {
   "cell_type": "markdown",
   "id": "c9e94387",
   "metadata": {},
   "source": [
    "#### 208. 아래 코드의 실행 결과를 예측하라. (읽기 어려운 코드의 예입니다.)\n",
    "\n",
    "> print(\"A\")\n",
    "\n",
    "> def message1() :\n",
    ">>    print(\"B\")\n",
    "\n",
    "> print(\"C\")\n",
    "\n",
    "> def message2() :\n",
    ">>    print(\"D\")\n",
    "\n",
    "> message1()\n",
    "\n",
    "> print(\"E\")\n",
    "\n",
    "> message2()"
   ]
  },
  {
   "cell_type": "code",
   "execution_count": 9,
   "id": "efa091f8",
   "metadata": {},
   "outputs": [
    {
     "name": "stdout",
     "output_type": "stream",
     "text": [
      "A\n",
      "C\n",
      "B\n",
      "E\n",
      "D\n"
     ]
    }
   ],
   "source": [
    "print(\"A\")\n",
    "\n",
    "def message1() :\n",
    "    print(\"B\")\n",
    "\n",
    "    \n",
    "print(\"C\")\n",
    "\n",
    "def message2() :\n",
    "    print(\"D\")\n",
    "\n",
    "    \n",
    "message1()\n",
    "\n",
    "print(\"E\")\n",
    "\n",
    "message2()"
   ]
  },
  {
   "cell_type": "markdown",
   "id": "8cabe197",
   "metadata": {},
   "source": [
    "#### 209. 아래 코드의 실행 결과를 예측하라.\n",
    "\n",
    "> def message1():\n",
    ">>     print(\"A\")\n",
    "\n",
    "> def message2():\n",
    ">>     print(\"B\")\n",
    ">>     message1()\n",
    "\n",
    "> message2()"
   ]
  },
  {
   "cell_type": "code",
   "execution_count": 10,
   "id": "cd65cf20",
   "metadata": {},
   "outputs": [
    {
     "name": "stdout",
     "output_type": "stream",
     "text": [
      "B\n",
      "A\n"
     ]
    }
   ],
   "source": [
    "def message1():\n",
    "    print(\"A\")\n",
    "    \n",
    "def message2():\n",
    "    print(\"B\")\n",
    "    message1()\n",
    "    \n",
    "message2()"
   ]
  },
  {
   "cell_type": "markdown",
   "id": "5fd7c3bb",
   "metadata": {},
   "source": [
    "#### 210. 아래 코드의 실행 결과를 예측하라.\n",
    "\n",
    "> def message1():\n",
    ">>     print(\"A\")\n",
    "\n",
    "> def message2():\n",
    ">>     print(\"B\")\n",
    "\n",
    "> def message3():\n",
    ">>     for i in range (3) :\n",
    ">>>         message2()\n",
    ">>>         print(\"C\")\n",
    ">>     message1()\n",
    "\n",
    "> message3()"
   ]
  },
  {
   "cell_type": "code",
   "execution_count": 11,
   "id": "5e5b2a69",
   "metadata": {},
   "outputs": [
    {
     "name": "stdout",
     "output_type": "stream",
     "text": [
      "B\n",
      "C\n",
      "B\n",
      "C\n",
      "B\n",
      "C\n",
      "A\n"
     ]
    }
   ],
   "source": [
    "def message1():\n",
    "    print(\"A\")\n",
    "    \n",
    "def message2():\n",
    "    print(\"B\")\n",
    "    \n",
    "def message3():\n",
    "    for i in range (3) :\n",
    "        message2()\n",
    "        print(\"C\")\n",
    "    message1()\n",
    "    \n",
    "message3()"
   ]
  },
  {
   "cell_type": "markdown",
   "id": "28cd8342",
   "metadata": {},
   "source": [
    "#### 211. 함수의 호출 결과를 예측하라.\n",
    "\n",
    "> def 함수(문자열) :\n",
    ">>     print(문자열)\n",
    "\n",
    "> 함수(\"안녕\")\n",
    "\n",
    "> 함수(\"Hi\")"
   ]
  },
  {
   "cell_type": "code",
   "execution_count": 12,
   "id": "924553ff",
   "metadata": {},
   "outputs": [
    {
     "name": "stdout",
     "output_type": "stream",
     "text": [
      "안녕\n",
      "Hi\n"
     ]
    }
   ],
   "source": [
    "def 함수(문자열) :\n",
    "    print(문자열)\n",
    "    \n",
    "함수(\"안녕\")\n",
    "함수(\"Hi\")"
   ]
  },
  {
   "cell_type": "markdown",
   "id": "de312537",
   "metadata": {},
   "source": [
    "#### 212. 함수의 호출 결과를 예측하라.\n",
    "\n",
    "> def 함수(a, b) :\n",
    ">>     print(a + b)\n",
    "\n",
    "> 함수(3, 4)\n",
    "\n",
    "> 함수(7, 8)"
   ]
  },
  {
   "cell_type": "code",
   "execution_count": 13,
   "id": "b8dc6834",
   "metadata": {},
   "outputs": [
    {
     "name": "stdout",
     "output_type": "stream",
     "text": [
      "7\n",
      "15\n"
     ]
    }
   ],
   "source": [
    "def 함수(a, b) :\n",
    "    print(a + b)\n",
    "    \n",
    "함수(3, 4)\n",
    "함수(7, 8)"
   ]
  },
  {
   "cell_type": "markdown",
   "id": "c411bb39",
   "metadata": {},
   "source": [
    "#### 213. 아래와 같은 에러가 발생하는 원인을 설명하라.\n",
    "\n",
    "> def 함수(문자열) :\n",
    ">>     print(문자열)\n",
    "\n",
    "> 함수()\n",
    "\n",
    "> TypeError: 함수() missing 1 required positional argument: '문자열'"
   ]
  },
  {
   "cell_type": "code",
   "execution_count": null,
   "id": "732c96fa",
   "metadata": {},
   "outputs": [],
   "source": [
    "인자 없이 함수를 호출해서"
   ]
  },
  {
   "cell_type": "markdown",
   "id": "f50e0c17",
   "metadata": {},
   "source": [
    "#### 214. 아래와 같은 에러가 발생하는 원인을 설명하라.\n",
    "\n",
    "> def 함수(a, b) :\n",
    ">>     print(a + b)\n",
    "\n",
    "> 함수(\"안녕\", 3)\n",
    "\n",
    "> TypeError: must be str, not int"
   ]
  },
  {
   "cell_type": "code",
   "execution_count": null,
   "id": "aea5035d",
   "metadata": {},
   "outputs": [],
   "source": [
    "정수가 아닌 문자형의 인자를 입력했기 때문"
   ]
  },
  {
   "cell_type": "markdown",
   "id": "6e4066d2",
   "metadata": {},
   "source": [
    "#### 215. 하나의 문자를 입력받아 문자열 끝에 \":D\" 스마일 문자열을 이어 붙여 출력하는 print_with_smile 함수를 정의하라."
   ]
  },
  {
   "cell_type": "code",
   "execution_count": 1,
   "id": "87b8f1a9",
   "metadata": {},
   "outputs": [],
   "source": [
    "def print_with_smile(string):\n",
    "    print(string + ':D')"
   ]
  },
  {
   "cell_type": "markdown",
   "id": "3cf842fc",
   "metadata": {},
   "source": [
    "#### 216. 215에서 정의한 함수를 호출하라. 파라미터는 \"안녕하세요\"로 입력하라.\n",
    "\n",
    " \n",
    "\n"
   ]
  },
  {
   "cell_type": "code",
   "execution_count": 4,
   "id": "0991d4c6-e0bf-4fb4-bb06-a2158562afcc",
   "metadata": {},
   "outputs": [
    {
     "name": "stdout",
     "output_type": "stream",
     "text": [
      "안녕하세요:D\n"
     ]
    }
   ],
   "source": [
    "print_with_smile('안녕하세요')"
   ]
  },
  {
   "cell_type": "markdown",
   "id": "224672b1",
   "metadata": {},
   "source": [
    "#### 217. 현재 가격을 입력 받아 상한가 (30%)를 출력하는 print_upper_price 함수를 정의하라."
   ]
  },
  {
   "cell_type": "code",
   "execution_count": 6,
   "id": "18021e55",
   "metadata": {},
   "outputs": [],
   "source": [
    "def print_upper_price(price):\n",
    "    print(price * 1.3)"
   ]
  },
  {
   "cell_type": "markdown",
   "id": "1749a819",
   "metadata": {},
   "source": [
    "#### 218. 두 개의 숫자를 입력받아 두 수의 합을 출력하는 print_sum 함수를 정의하라."
   ]
  },
  {
   "cell_type": "code",
   "execution_count": 7,
   "id": "162c8cac",
   "metadata": {},
   "outputs": [],
   "source": [
    "def print_sum(a, b):\n",
    "    print(a+b)"
   ]
  },
  {
   "cell_type": "markdown",
   "id": "871bece9",
   "metadata": {},
   "source": [
    "#### 219. 두 개의 숫자를 입력받아 합/차/곱/나눗셈을 출력하는 print_arithmetic_operation 함수를 작성하라."
   ]
  },
  {
   "cell_type": "code",
   "execution_count": 15,
   "id": "37f676b7",
   "metadata": {},
   "outputs": [],
   "source": [
    "def print_arithmetic_operation(a, b):\n",
    "    print('{} + {} = {}'.format(a, b, a+b))\n",
    "    print('{} - {} = {}'.format(a, b,a-b))\n",
    "    print('{} * {} = {}'.format(a, b,a*b))\n",
    "    print('{} / {} = {}'.format(a, b,a/b))"
   ]
  },
  {
   "cell_type": "code",
   "execution_count": 16,
   "id": "9ec8ad07-36c1-41ac-bcd2-df609f9dfc4b",
   "metadata": {},
   "outputs": [
    {
     "name": "stdout",
     "output_type": "stream",
     "text": [
      "2 + 3 = 5\n",
      "2 - 3 = -1\n",
      "2 * 3 = 6\n",
      "2 / 3 = 0.6666666666666666\n"
     ]
    }
   ],
   "source": [
    "print_arithmetic_operation(2, 3)"
   ]
  },
  {
   "cell_type": "markdown",
   "id": "afa2521d",
   "metadata": {},
   "source": [
    "#### 220. 세 개의 숫자를 입력받아 가장 큰수를 출력하는 print_max 함수를 정의하라. 단 if 문을 사용해서 수를 비교하라."
   ]
  },
  {
   "cell_type": "code",
   "execution_count": 9,
   "id": "a31aea58",
   "metadata": {},
   "outputs": [],
   "source": [
    "def print_max(a, b, c):\n",
    "    if a > b:\n",
    "        if a > c:\n",
    "            print('max:', a)\n",
    "        else:\n",
    "            print('max:', c)\n",
    "            \n",
    "    elif b > a:\n",
    "        if b > c:\n",
    "            print('max:', b)\n",
    "        else: \n",
    "            print('max:', c)\n",
    "            \n",
    "    elif a > c:\n",
    "        if a > b:\n",
    "            print('max:', a)\n",
    "        else:\n",
    "            print('max:', b)"
   ]
  },
  {
   "cell_type": "code",
   "execution_count": 14,
   "id": "63f36495-96e1-4c0b-ab45-cc58731a3e41",
   "metadata": {},
   "outputs": [
    {
     "name": "stdout",
     "output_type": "stream",
     "text": [
      "max: 3\n"
     ]
    }
   ],
   "source": [
    "print_max(1, 3, 2)"
   ]
  },
  {
   "cell_type": "markdown",
   "id": "d4684c0f",
   "metadata": {},
   "source": [
    "#### 221. 입력된 문자열을 역순으로 출력하는 print_reverse 함수를 정의하라.\n",
    "\n",
    "> print_reverse(\"python\")\n",
    "\n",
    "> nohtyp"
   ]
  },
  {
   "cell_type": "code",
   "execution_count": 17,
   "id": "1ad398f8-dab1-4e0c-a25c-933456a8c6e0",
   "metadata": {},
   "outputs": [],
   "source": [
    "def print_reverse(re_str):\n",
    "    print(re_str[::-1])"
   ]
  },
  {
   "cell_type": "markdown",
   "id": "84f267b5",
   "metadata": {},
   "source": [
    "#### 222. 성적 리스트를 입력 받아 평균을 출력하는 print_score 함수를 정의하라.\n",
    "\n",
    "> print_score ([1, 2, 3])\n",
    "\n",
    "> 2.0"
   ]
  },
  {
   "cell_type": "code",
   "execution_count": 26,
   "id": "967a1353",
   "metadata": {},
   "outputs": [],
   "source": [
    "def print_score(score):\n",
    "    print(sum(score)/len(score))"
   ]
  },
  {
   "cell_type": "code",
   "execution_count": 27,
   "id": "c4847bad-9b28-453c-8ab4-165dc9ede140",
   "metadata": {},
   "outputs": [
    {
     "name": "stdout",
     "output_type": "stream",
     "text": [
      "2.0\n"
     ]
    }
   ],
   "source": [
    "print_score([1,2,3])"
   ]
  },
  {
   "cell_type": "markdown",
   "id": "84fec643",
   "metadata": {},
   "source": [
    "#### 223. 하나의 리스트를 입력받아 짝수만 화면에 출력하는 print_even 함수를 정의하라.\n",
    "\n",
    "> print_even ([1, 3, 2, 10, 12, 11, 15])\n",
    "\n",
    "> 2\n",
    "\n",
    "> 10\n",
    "\n",
    "> 12"
   ]
  },
  {
   "cell_type": "code",
   "execution_count": 28,
   "id": "b4e0bfe2",
   "metadata": {},
   "outputs": [],
   "source": [
    "def print_even(num):\n",
    "    even = []\n",
    "    for i in range(len(num)):\n",
    "        if num[i] % 2 == 0:\n",
    "            print(num[i])"
   ]
  },
  {
   "cell_type": "code",
   "execution_count": 29,
   "id": "bde5bcc0-faae-44ec-8864-d891dc923a37",
   "metadata": {},
   "outputs": [
    {
     "name": "stdout",
     "output_type": "stream",
     "text": [
      "2\n",
      "10\n",
      "12\n"
     ]
    }
   ],
   "source": [
    "print_even ([1, 3, 2, 10, 12, 11, 15])"
   ]
  },
  {
   "cell_type": "markdown",
   "id": "3b08d467",
   "metadata": {},
   "source": [
    "#### 224. 하나의 딕셔너리를 입력받아 딕셔너리의 key 값을 화면에 출력하는 print_keys 함수를 정의하라.\n",
    "\n",
    "> print_keys ({\"이름\":\"김말똥\", \"나이\":30, \"성별\":0})\n",
    "\n",
    "> 이름\n",
    "\n",
    "> 나이\n",
    "\n",
    "> 성별"
   ]
  },
  {
   "cell_type": "code",
   "execution_count": 36,
   "id": "b8377a37",
   "metadata": {},
   "outputs": [],
   "source": [
    "def print_keys(info):\n",
    "    for i in info.keys():\n",
    "        print(i)"
   ]
  },
  {
   "cell_type": "code",
   "execution_count": 37,
   "id": "a8d528a2-e0ca-4272-8474-451c1e31e47a",
   "metadata": {},
   "outputs": [
    {
     "name": "stdout",
     "output_type": "stream",
     "text": [
      "이름\n",
      "나이\n",
      "성별\n"
     ]
    }
   ],
   "source": [
    "print_keys ({\"이름\":\"김말똥\", \"나이\":30, \"성별\":0})"
   ]
  },
  {
   "cell_type": "markdown",
   "id": "530f981b",
   "metadata": {},
   "source": [
    "#### 225. my_dict에는 날짜를 키값으로 OHLC가 리스트로 저장돼 있다.\n",
    "\n",
    "> my_dict = {\"10/26\" : [100, 130, 100, 100], \"10/27\" : [10, 12, 10, 11]}\n",
    "\n",
    "#### my_dict와 날짜 키값을 입력받아 OHLC 리스트를 출력하는 print_value_by_key 함수를 정의하라.\n",
    "\n",
    "> print_value_by_key  (my_dict, \"10/26\")\n",
    "\n",
    "> [100, 130, 100, 100]"
   ]
  },
  {
   "cell_type": "code",
   "execution_count": 38,
   "id": "a19b6d7f",
   "metadata": {},
   "outputs": [],
   "source": [
    "my_dict = {\"10/26\" : [100, 130, 100, 100], \"10/27\" : [10, 12, 10, 11]}\n",
    "\n",
    "def print_value_by_key(name, k):\n",
    "    print(name[k])"
   ]
  },
  {
   "cell_type": "code",
   "execution_count": 39,
   "id": "4706150b-2b94-42ce-bf54-15e13ff38253",
   "metadata": {},
   "outputs": [
    {
     "name": "stdout",
     "output_type": "stream",
     "text": [
      "[100, 130, 100, 100]\n"
     ]
    }
   ],
   "source": [
    "print_value_by_key (my_dict, \"10/26\")"
   ]
  },
  {
   "cell_type": "markdown",
   "id": "31a913c6",
   "metadata": {},
   "source": [
    "#### 226. 입력 문자열을 한 줄에 다섯글자씩 출력하는 print_5xn(string) 함수를 작성하라.\n",
    "\n",
    "> print_5xn(\"아이엠어보이유알어걸\")\n",
    "\n",
    "> 아이엠어보\n",
    "\n",
    "> 이유알어걸"
   ]
  },
  {
   "cell_type": "code",
   "execution_count": 45,
   "id": "aa5e2b9c",
   "metadata": {},
   "outputs": [],
   "source": [
    "def print_5xn(string):\n",
    "    print(string[:5])\n",
    "    print(string[5:])"
   ]
  },
  {
   "cell_type": "code",
   "execution_count": 46,
   "id": "48cda248-53f4-4aed-aa92-98f97710c452",
   "metadata": {},
   "outputs": [
    {
     "name": "stdout",
     "output_type": "stream",
     "text": [
      "아이엠어보\n",
      "이유알어걸\n"
     ]
    }
   ],
   "source": [
    "print_5xn(\"아이엠어보이유알어걸\")"
   ]
  },
  {
   "cell_type": "markdown",
   "id": "efae0457",
   "metadata": {},
   "source": [
    "#### 227. 문자열과 한줄에 출력될 글자 수를 입력을 받아 한 줄에 입력된 글자 수만큼 출력하는 print_mxn(string) 함수를 작성하라.\n",
    "\n",
    "> printmxn(\"아이엠어보이유알어걸\", 3)\n",
    "\n",
    "> 아이엠\n",
    "\n",
    "> 어보이\n",
    "\n",
    "> 유알어\n",
    "\n",
    "> 걸"
   ]
  },
  {
   "cell_type": "code",
   "execution_count": 55,
   "id": "e308e03d",
   "metadata": {},
   "outputs": [],
   "source": [
    "def print_mxn(string, num):\n",
    "    strnum = int(len(string)/num)\n",
    "    for i in range(strnum + 1):\n",
    "        print(string[i*3:i*3+3])"
   ]
  },
  {
   "cell_type": "code",
   "execution_count": 56,
   "id": "f779d50d-8c59-40a7-a901-c08f61f2b518",
   "metadata": {},
   "outputs": [
    {
     "name": "stdout",
     "output_type": "stream",
     "text": [
      "아이엠\n",
      "어보이\n",
      "유알어\n",
      "걸\n"
     ]
    }
   ],
   "source": [
    "print_mxn(\"아이엠어보이유알어걸\", 3)"
   ]
  },
  {
   "cell_type": "markdown",
   "id": "e456b3e0",
   "metadata": {},
   "source": [
    "#### 228. 연봉을 입력받아 월급을 계산하는 calc_monthly_salary(annual_salary) 함수를 정의하라. 회사는 연봉을 12개월로 나누어 분할 지급하며, 이 때 1원 미만은 버림한다.\n",
    "\n",
    "> calc_monthly_salary(12000000)\n",
    "\n",
    "> 1000000"
   ]
  },
  {
   "cell_type": "code",
   "execution_count": 57,
   "id": "aafe5ba3",
   "metadata": {},
   "outputs": [],
   "source": [
    "def calc_monthly_salary(annual_salary):\n",
    "    print(int(annual_salary/12))"
   ]
  },
  {
   "cell_type": "code",
   "execution_count": 58,
   "id": "200d8bad-3d7c-4a50-b82e-ebfc77c6f238",
   "metadata": {},
   "outputs": [
    {
     "name": "stdout",
     "output_type": "stream",
     "text": [
      "1000000\n"
     ]
    }
   ],
   "source": [
    "calc_monthly_salary(12000000)"
   ]
  },
  {
   "cell_type": "markdown",
   "id": "63e3e838",
   "metadata": {},
   "source": [
    "#### 229. 아래 코드의 실행 결과를 예측하라.\n",
    "\n",
    "> def my_print (a, b) :\n",
    ">>     print(\"왼쪽:\", a)\n",
    ">>     print(\"오른쪽:\", b)\n",
    "\n",
    "> my_print(a=100, b=200)"
   ]
  },
  {
   "cell_type": "code",
   "execution_count": 59,
   "id": "1e95005f",
   "metadata": {},
   "outputs": [
    {
     "name": "stdout",
     "output_type": "stream",
     "text": [
      "왼쪽: 100\n",
      "오른쪽: 200\n"
     ]
    }
   ],
   "source": [
    "def my_print (a, b) :\n",
    "    print(\"왼쪽:\", a)\n",
    "    print(\"오른쪽:\", b)\n",
    "    \n",
    "my_print(a=100, b=200)"
   ]
  },
  {
   "cell_type": "markdown",
   "id": "c2f9c27f",
   "metadata": {},
   "source": [
    "#### 230. 아래 코드의 실행 결과를 예측하라.\n",
    "\n",
    "> def my_print (a, b) :\n",
    ">>     print(\"왼쪽:\", a)\n",
    ">>     print(\"오른쪽:\", b)\n",
    "\n",
    "> my_print(b=100, a=200)"
   ]
  },
  {
   "cell_type": "code",
   "execution_count": 60,
   "id": "1d5f657e",
   "metadata": {},
   "outputs": [
    {
     "name": "stdout",
     "output_type": "stream",
     "text": [
      "왼쪽: 200\n",
      "오른쪽: 100\n"
     ]
    }
   ],
   "source": [
    "def my_print (a, b) :\n",
    "    print(\"왼쪽:\", a)\n",
    "    print(\"오른쪽:\", b)\n",
    "    \n",
    "my_print(b=100, a=200)"
   ]
  },
  {
   "cell_type": "markdown",
   "id": "6216cf8d",
   "metadata": {},
   "source": [
    "#### 231. 아래 코드를 실행한 결과를 예상하라.\n",
    "\n",
    "> def n_plus_1 (n) :\n",
    ">>     result = n + 1\n",
    "\n",
    "> n_plus_1(3)\n",
    "\n",
    "> print (result)"
   ]
  },
  {
   "cell_type": "code",
   "execution_count": 64,
   "id": "15b1b7fe",
   "metadata": {},
   "outputs": [
    {
     "ename": "NameError",
     "evalue": "name 'result' is not defined",
     "output_type": "error",
     "traceback": [
      "\u001b[0;31m---------------------------------------------------------------------------\u001b[0m",
      "\u001b[0;31mNameError\u001b[0m                                 Traceback (most recent call last)",
      "Cell \u001b[0;32mIn[64], line 6\u001b[0m\n\u001b[1;32m      2\u001b[0m     result \u001b[38;5;241m=\u001b[39m n \u001b[38;5;241m+\u001b[39m \u001b[38;5;241m1\u001b[39m\n\u001b[1;32m      4\u001b[0m n_plus_1(\u001b[38;5;241m3\u001b[39m)\n\u001b[0;32m----> 6\u001b[0m \u001b[38;5;28mprint\u001b[39m(\u001b[43mresult\u001b[49m)\n",
      "\u001b[0;31mNameError\u001b[0m: name 'result' is not defined"
     ]
    }
   ],
   "source": [
    "def n_plus_1(n):\n",
    "    result = n + 1\n",
    "\n",
    "n_plus_1(3)\n",
    "\n",
    "print(result)"
   ]
  },
  {
   "cell_type": "code",
   "execution_count": null,
   "id": "5e83a93f-cd40-4da8-99f8-6bed6be04805",
   "metadata": {},
   "outputs": [],
   "source": [
    "출력하려는 변수가 함수 내부 변수이다"
   ]
  },
  {
   "cell_type": "markdown",
   "id": "b7ccdd6f",
   "metadata": {},
   "source": [
    "#### 232. 문자열 하나를 입력받아 인터넷 주소를 반환하는 make_url 함수를 정의하라.\n",
    "\n",
    "> make_url(\"naver\")\n",
    "\n",
    "> www.naver.com"
   ]
  },
  {
   "cell_type": "code",
   "execution_count": 65,
   "id": "4e08cc6f",
   "metadata": {},
   "outputs": [],
   "source": [
    "def make_url(name):\n",
    "    print('www.{}.com'.format(name))"
   ]
  },
  {
   "cell_type": "code",
   "execution_count": 66,
   "id": "6a550af9-55f6-4fc1-8f58-c5ca1cdde73e",
   "metadata": {},
   "outputs": [
    {
     "name": "stdout",
     "output_type": "stream",
     "text": [
      "www.naver.com\n"
     ]
    }
   ],
   "source": [
    "make_url(\"naver\")"
   ]
  },
  {
   "cell_type": "markdown",
   "id": "771ea185",
   "metadata": {},
   "source": [
    "#### 233. 문자열을 입력받아 각 문자들로 구성된 리스트로 반환하는 make_list 함수를 정의하라.\n",
    "\n",
    "> make_list(\"abcd\")\n",
    "\n",
    "> ['a', 'b', 'c', 'd']"
   ]
  },
  {
   "cell_type": "code",
   "execution_count": 73,
   "id": "b35bc0aa",
   "metadata": {},
   "outputs": [],
   "source": [
    "def make_list(string):\n",
    "    strlist = []\n",
    "    for i in string:\n",
    "        strlist.append(i)\n",
    "        \n",
    "    return strlist"
   ]
  },
  {
   "cell_type": "code",
   "execution_count": 74,
   "id": "0ca10fba-4fa2-489a-9754-0888752f9e1e",
   "metadata": {},
   "outputs": [
    {
     "data": {
      "text/plain": [
       "['a', 'b', 'c', 'd']"
      ]
     },
     "execution_count": 74,
     "metadata": {},
     "output_type": "execute_result"
    }
   ],
   "source": [
    "make_list(\"abcd\")"
   ]
  },
  {
   "cell_type": "markdown",
   "id": "f56054ed",
   "metadata": {},
   "source": [
    "#### 234. 숫자로 구성된 하나의 리스트를 입력받아, 짝수들을 추출하여 리스트로 반환하는 pickup_even 함수를 구현하라.\n",
    "\n",
    "> pickup_even([3, 4, 5, 6, 7, 8])\n",
    "\n",
    "> [4, 6, 8]"
   ]
  },
  {
   "cell_type": "code",
   "execution_count": 77,
   "id": "c66b716b",
   "metadata": {},
   "outputs": [],
   "source": [
    "def pickup_even(even):\n",
    "    elist = []\n",
    "    \n",
    "    for i in even:\n",
    "        if i % 2 ==0:\n",
    "            elist.append(i)\n",
    "            \n",
    "    return elist"
   ]
  },
  {
   "cell_type": "code",
   "execution_count": 78,
   "id": "8cec4a35-6389-4f71-8e60-98a54dde905b",
   "metadata": {},
   "outputs": [
    {
     "data": {
      "text/plain": [
       "[4, 6, 8]"
      ]
     },
     "execution_count": 78,
     "metadata": {},
     "output_type": "execute_result"
    }
   ],
   "source": [
    "pickup_even([3, 4, 5, 6, 7, 8])"
   ]
  },
  {
   "cell_type": "markdown",
   "id": "ff15684c",
   "metadata": {},
   "source": [
    "#### 235. 콤마가 포함된 문자열 숫자를 입력받아 정수로 변환하는 convert_int 함수를 정의하라.\n",
    "\n",
    "> convert_int(\"1,234,567\")\n",
    "\n",
    "> 1234567"
   ]
  },
  {
   "cell_type": "code",
   "execution_count": 81,
   "id": "a77d8fdc",
   "metadata": {},
   "outputs": [],
   "source": [
    "def convert_int(string):\n",
    "    string = string.replace(',', '')\n",
    "    num = int(string)\n",
    "    return num"
   ]
  },
  {
   "cell_type": "code",
   "execution_count": 82,
   "id": "b78e61dd-c5a0-4082-b64d-919278b078b2",
   "metadata": {},
   "outputs": [
    {
     "data": {
      "text/plain": [
       "1234567"
      ]
     },
     "execution_count": 82,
     "metadata": {},
     "output_type": "execute_result"
    }
   ],
   "source": [
    "convert_int(\"1,234,567\")"
   ]
  },
  {
   "cell_type": "markdown",
   "id": "320ca0da",
   "metadata": {},
   "source": [
    "#### 236. 아래 코드의 실행 결과를 예측하라.\n",
    "\n",
    "> def 함수(num) :\n",
    ">>     return num + 4\n",
    "\n",
    "> a = 함수(10)\n",
    "\n",
    "> b = 함수(a)\n",
    "\n",
    "> c = 함수(b)\n",
    "\n",
    "> print(c)"
   ]
  },
  {
   "cell_type": "code",
   "execution_count": 47,
   "id": "7644ca77",
   "metadata": {},
   "outputs": [
    {
     "name": "stdout",
     "output_type": "stream",
     "text": [
      "22\n"
     ]
    }
   ],
   "source": [
    "def 함수(num) :\n",
    "    return num + 4\n",
    "\n",
    "a = 함수(10)\n",
    "b = 함수(a)\n",
    "c = 함수(b)\n",
    "\n",
    "print(c)"
   ]
  },
  {
   "cell_type": "markdown",
   "id": "1196b5e2",
   "metadata": {},
   "source": [
    "#### 237. 아래 코드의 실행 결과를 예측하라.\n",
    "\n",
    "> def 함수(num) :\n",
    ">>     return num + 4\n",
    "\n",
    "> c = 함수(함수(함수(10)))\n",
    "\n",
    "> print(c)"
   ]
  },
  {
   "cell_type": "code",
   "execution_count": 48,
   "id": "1928d332",
   "metadata": {},
   "outputs": [
    {
     "name": "stdout",
     "output_type": "stream",
     "text": [
      "22\n"
     ]
    }
   ],
   "source": [
    "def 함수(num) :\n",
    "    return num + 4\n",
    "\n",
    "c = 함수(함수(함수(10)))\n",
    "\n",
    "print(c)"
   ]
  },
  {
   "cell_type": "markdown",
   "id": "189e5c3a",
   "metadata": {},
   "source": [
    "#### 238. 아래 코드의 실행 결과를 예측하라.\n",
    "\n",
    "> def 함수1(num) :\n",
    ">>     return num + 4\n",
    "\n",
    "> def 함수2(num) :\n",
    ">>     return num * 10\n",
    "\n",
    "> a = 함수1(10)\n",
    "\n",
    "> c = 함수2(a)\n",
    "\n",
    "> print(c)"
   ]
  },
  {
   "cell_type": "code",
   "execution_count": 49,
   "id": "959d8966-f7d1-4ef2-9a78-5cfc11a8c495",
   "metadata": {},
   "outputs": [
    {
     "name": "stdout",
     "output_type": "stream",
     "text": [
      "140\n"
     ]
    }
   ],
   "source": [
    "def 함수1(num) :\n",
    "    return num + 4\n",
    "\n",
    "def 함수2(num) :\n",
    "    return num * 10\n",
    "\n",
    "a = 함수1(10)\n",
    "c = 함수2(a)\n",
    "\n",
    "print(c)"
   ]
  },
  {
   "cell_type": "markdown",
   "id": "1d5eea3a",
   "metadata": {},
   "source": [
    "#### 239. 아래 코드의 실행 결과를 예측하라.\n",
    "\n",
    "> def 함수1(num) :\n",
    ">>     return num + 4\n",
    "\n",
    "> def 함수2(num) :\n",
    ">>     num = num + 2\n",
    ">>     return 함수1(num)\n",
    "\n",
    "> c = 함수2(10)\n",
    "\n",
    "> print(c)"
   ]
  },
  {
   "cell_type": "code",
   "execution_count": 50,
   "id": "dcbea886",
   "metadata": {},
   "outputs": [
    {
     "name": "stdout",
     "output_type": "stream",
     "text": [
      "16\n"
     ]
    }
   ],
   "source": [
    "def 함수1(num) :\n",
    "    return num + 4\n",
    "\n",
    "def 함수2(num) :\n",
    "    num = num + 2\n",
    "    return 함수1(num)\n",
    "\n",
    "c = 함수2(10)\n",
    "\n",
    "print(c)"
   ]
  },
  {
   "cell_type": "markdown",
   "id": "dea2a767",
   "metadata": {},
   "source": [
    "#### 240. 아래 코드의 실행 결과를 예측하라.\n",
    "\n",
    "> def 함수0(num) :\n",
    ">>     return num * 2\n",
    "\n",
    "> def 함수1(num) :\n",
    ">>     return 함수0(num + 2)\n",
    "\n",
    "> def 함수2(num) :\n",
    ">>     num = num + 10\n",
    ">>     return 함수1(num)\n",
    "\n",
    "> c = 함수2(2)\n",
    "\n",
    "> print(c)"
   ]
  },
  {
   "cell_type": "code",
   "execution_count": 51,
   "id": "56ebeefe",
   "metadata": {},
   "outputs": [
    {
     "name": "stdout",
     "output_type": "stream",
     "text": [
      "28\n"
     ]
    }
   ],
   "source": [
    "def 함수0(num) :\n",
    "    return num * 2\n",
    "\n",
    "def 함수1(num) :\n",
    "    return 함수0(num + 2)\n",
    "\n",
    "def 함수2(num) :\n",
    "    num = num + 10\n",
    "    return 함수1(num)\n",
    "\n",
    "c = 함수2(2)\n",
    "\n",
    "print(c)"
   ]
  }
 ],
 "metadata": {
  "kernelspec": {
   "display_name": "Python 3 (ipykernel)",
   "language": "python",
   "name": "python3"
  },
  "language_info": {
   "codemirror_mode": {
    "name": "ipython",
    "version": 3
   },
   "file_extension": ".py",
   "mimetype": "text/x-python",
   "name": "python",
   "nbconvert_exporter": "python",
   "pygments_lexer": "ipython3",
   "version": "3.10.11"
  }
 },
 "nbformat": 4,
 "nbformat_minor": 5
}
