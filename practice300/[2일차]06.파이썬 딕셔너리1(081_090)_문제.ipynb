{
 "cells": [
  {
   "cell_type": "markdown",
   "id": "971c6a3a",
   "metadata": {
    "id": "971c6a3a"
   },
   "source": [
    "\n",
    "## 06. 파이썬 딕셔너리\n",
    "### 파이썬 딕셔너리는 순서는 없지만 key와 value 형태로 데이터를 저장합니다. 특히 key는 데이터의 레이블(label)을 지정하는 용도로 자주 사용됩니다."
   ]
  },
  {
   "cell_type": "markdown",
   "id": "be35decc",
   "metadata": {
    "id": "be35decc"
   },
   "source": [
    "#### 081. 별 표현식\n",
    "기본적으로 데이터 언패킹은 좌변의 변수와 우변 데이터 개수가 같아야 합니다. <br/>\n",
    "하지만 star expression을 사용하면 변수의 개수가 달라도 데이터 언패킹을 할 수 있습니다.  <br/>\n",
    "튜플에 저장된 데이터 중에서 앞에 있는 두 개의 데이터만 필요할 경우 나머지 데이터의 언패킹 코드를 작성할 필요가 없습니다. <br/>\n",
    " <br/>\n",
    "a, b, *c = (0, 1, 2, 3, 4, 5) <br/>\n",
    "print(a) <br/>\n",
    "print(b) <br/>\n",
    "print(c) <br/>\n"
   ]
  },
  {
   "cell_type": "code",
   "execution_count": 1,
   "id": "slQivMWJW3_V",
   "metadata": {
    "colab": {
     "base_uri": "https://localhost:8080/"
    },
    "executionInfo": {
     "elapsed": 409,
     "status": "ok",
     "timestamp": 1682400791967,
     "user": {
      "displayName": "주주",
      "userId": "14652178887215818703"
     },
     "user_tz": -540
    },
    "id": "slQivMWJW3_V",
    "outputId": "682506b8-bc8c-4c21-93e2-d5149a91b649"
   },
   "outputs": [
    {
     "name": "stdout",
     "output_type": "stream",
     "text": [
      "0\n",
      "1\n",
      "[2, 3, 4, 5]\n"
     ]
    }
   ],
   "source": [
    "a, b, *c = (0, 1, 2, 3, 4, 5)\n",
    "print(a)\n",
    "print(b)\n",
    "print(c)"
   ]
  },
  {
   "cell_type": "markdown",
   "id": "iKmz2PbKXH4x",
   "metadata": {
    "id": "iKmz2PbKXH4x"
   },
   "source": [
    "#### 다음과 같이 10개의 값이 저장된 scores 리스트가 있을 때, start expression을 사용하여 좌측 8개의 값을 valid_score 변수에 바인딩하여라. <br/>\n",
    "scores = [8.8, 8.9, 8.7, 9.2, 9.3, 9.7, 9.9, 9.5, 7.8, 9.4]\n",
    "\n"
   ]
  },
  {
   "cell_type": "code",
   "execution_count": 10,
   "id": "dc10438f",
   "metadata": {
    "colab": {
     "base_uri": "https://localhost:8080/"
    },
    "executionInfo": {
     "elapsed": 333,
     "status": "ok",
     "timestamp": 1682401170849,
     "user": {
      "displayName": "주주",
      "userId": "14652178887215818703"
     },
     "user_tz": -540
    },
    "id": "dc10438f",
    "outputId": "5a67a23a-eac9-4372-fd3e-a28ee3fb6423"
   },
   "outputs": [
    {
     "data": {
      "text/plain": [
       "[8.8, 8.9, 8.7, 9.2, 9.3, 9.7, 9.9, 9.5]"
      ]
     },
     "execution_count": 10,
     "metadata": {},
     "output_type": "execute_result"
    }
   ],
   "source": [
    "scores = [8.8, 8.9, 8.7, 9.2, 9.3, 9.7, 9.9, 9.5, 7.8, 9.4]\n",
    "\n",
    "*valid_score, a, b = scores\n",
    "valid_score"
   ]
  },
  {
   "cell_type": "markdown",
   "id": "f7ecd1b1",
   "metadata": {
    "id": "f7ecd1b1"
   },
   "source": [
    "#### 082.다음과 같이 10개의 값이 저장된 scores 리스트가 있을 때, start expression을 사용하여 우측 8개의 값을 valid_score 변수에 바인딩하여라.\n",
    "\n",
    "- scores = [8.8, 8.9, 8.7, 9.2, 9.3, 9.7, 9.9, 9.5, 7.8, 9.4]\n",
    "\n"
   ]
  },
  {
   "cell_type": "code",
   "execution_count": 12,
   "id": "03f827cb",
   "metadata": {
    "colab": {
     "base_uri": "https://localhost:8080/"
    },
    "executionInfo": {
     "elapsed": 7,
     "status": "ok",
     "timestamp": 1682401212485,
     "user": {
      "displayName": "주주",
      "userId": "14652178887215818703"
     },
     "user_tz": -540
    },
    "id": "03f827cb",
    "outputId": "0a58ee92-ee0f-4091-868b-d8eb8951efdf"
   },
   "outputs": [
    {
     "data": {
      "text/plain": [
       "[8.7, 9.2, 9.3, 9.7, 9.9, 9.5, 7.8, 9.4]"
      ]
     },
     "execution_count": 12,
     "metadata": {},
     "output_type": "execute_result"
    }
   ],
   "source": [
    "a, b, *valid_score = scores\n",
    "valid_score"
   ]
  },
  {
   "cell_type": "markdown",
   "id": "388278da",
   "metadata": {
    "id": "388278da"
   },
   "source": [
    "#### 083. 다음과 같이 10개의 값이 저장된 scores 리스트가 있을 때, start expression을 사용하여 가운데 있는 8개의 값을 valid_score 변수에 바인딩하여라.\n",
    "\n",
    "- scores = [8.8, 8.9, 8.7, 9.2, 9.3, 9.7, 9.9, 9.5, 7.8, 9.4]\n",
    "\n"
   ]
  },
  {
   "cell_type": "code",
   "execution_count": 13,
   "id": "05f8148f",
   "metadata": {
    "colab": {
     "base_uri": "https://localhost:8080/"
    },
    "executionInfo": {
     "elapsed": 5,
     "status": "ok",
     "timestamp": 1682401253057,
     "user": {
      "displayName": "주주",
      "userId": "14652178887215818703"
     },
     "user_tz": -540
    },
    "id": "05f8148f",
    "outputId": "6c7969fe-9925-4806-e2ba-9a0979aaa073"
   },
   "outputs": [
    {
     "data": {
      "text/plain": [
       "[8.9, 8.7, 9.2, 9.3, 9.7, 9.9, 9.5, 7.8]"
      ]
     },
     "execution_count": 13,
     "metadata": {},
     "output_type": "execute_result"
    }
   ],
   "source": [
    "a, *valid_score, b = scores\n",
    "valid_score"
   ]
  },
  {
   "cell_type": "markdown",
   "id": "cdabfd63",
   "metadata": {
    "id": "cdabfd63"
   },
   "source": [
    "#### 084. 비어있는 딕셔너리 temp 이름의 비어있는 딕셔너리를 만들라.\n",
    "\n",
    "\n"
   ]
  },
  {
   "cell_type": "code",
   "execution_count": 7,
   "id": "f22bd850",
   "metadata": {
    "colab": {
     "base_uri": "https://localhost:8080/"
    },
    "executionInfo": {
     "elapsed": 3,
     "status": "ok",
     "timestamp": 1682400980797,
     "user": {
      "displayName": "주주",
      "userId": "14652178887215818703"
     },
     "user_tz": -540
    },
    "id": "f22bd850",
    "outputId": "0968db57-46d1-4c06-aa65-ed007547aa31"
   },
   "outputs": [
    {
     "data": {
      "text/plain": [
       "{}"
      ]
     },
     "execution_count": 7,
     "metadata": {},
     "output_type": "execute_result"
    }
   ],
   "source": [
    "temp = {}\n",
    "temp"
   ]
  },
  {
   "cell_type": "markdown",
   "id": "82307f1c",
   "metadata": {
    "id": "82307f1c"
   },
   "source": [
    "####085. 다음 아이스크림 이름과 희망 가격을 딕셔너리로 구성하라.\n",
    "\n",
    "- 이름\t희망가격\n",
    "- 메로나\t1000\n",
    "- 폴라포\t1200\n",
    "- 빵빠레\t1800\n",
    "\n",
    "\n",
    "\n",
    " \n",
    "\n"
   ]
  },
  {
   "cell_type": "code",
   "execution_count": 9,
   "id": "e0082580",
   "metadata": {
    "colab": {
     "base_uri": "https://localhost:8080/"
    },
    "executionInfo": {
     "elapsed": 314,
     "status": "ok",
     "timestamp": 1682401117216,
     "user": {
      "displayName": "주주",
      "userId": "14652178887215818703"
     },
     "user_tz": -540
    },
    "id": "e0082580",
    "outputId": "2c4e5aad-a175-4f5c-8ce2-e6e9bf13a5fe"
   },
   "outputs": [
    {
     "data": {
      "text/plain": [
       "{'메로나': 1000, '폴라포': 1200, '빵빠레': 1800}"
      ]
     },
     "execution_count": 9,
     "metadata": {},
     "output_type": "execute_result"
    }
   ],
   "source": [
    "ice = {'메로나': 1000, '폴라포': 1200, '빵빠레': 1800}\n",
    "ice"
   ]
  },
  {
   "cell_type": "markdown",
   "id": "233e1ec7",
   "metadata": {
    "id": "233e1ec7"
   },
   "source": [
    "#### 086. 085 번의 딕셔너리에 아래 아이스크림 가격정보를 추가하라.\n",
    "\n",
    "- 이름\t희망 가격\n",
    "- 죠스바\t1200\n",
    "- 월드콘\t1500"
   ]
  },
  {
   "cell_type": "code",
   "execution_count": 14,
   "id": "a71e1c7b",
   "metadata": {
    "colab": {
     "base_uri": "https://localhost:8080/"
    },
    "executionInfo": {
     "elapsed": 3,
     "status": "ok",
     "timestamp": 1682401400114,
     "user": {
      "displayName": "주주",
      "userId": "14652178887215818703"
     },
     "user_tz": -540
    },
    "id": "a71e1c7b",
    "outputId": "a2c67533-35ed-4caf-d8da-5cf9850a2ff8"
   },
   "outputs": [
    {
     "data": {
      "text/plain": [
       "{'메로나': 1000, '폴라포': 1200, '빵빠레': 1800, '죠스바': 1200, '월드콘': 1500}"
      ]
     },
     "execution_count": 14,
     "metadata": {},
     "output_type": "execute_result"
    }
   ],
   "source": [
    "ice['죠스바'] = 1200\n",
    "ice['월드콘'] = 1500\n",
    "\n",
    "ice"
   ]
  },
  {
   "cell_type": "markdown",
   "id": "99d7223f",
   "metadata": {
    "id": "99d7223f"
   },
   "source": [
    "#### 087. 다음 딕셔너리를 사용하여 메로나 가격을 출력하라.\n",
    "\n",
    "ice = {'메로나': 1000,\n",
    "       '폴로포': 1200,\n",
    "       '빵빠레': 1800,\n",
    "       '죠스바': 1200,\n",
    "       '월드콘': 1500}\n",
    "- 실행 예: 메로나 가격: 1000\n",
    "\n",
    "\n",
    "\n"
   ]
  },
  {
   "cell_type": "code",
   "execution_count": 16,
   "id": "8a188289",
   "metadata": {
    "colab": {
     "base_uri": "https://localhost:8080/"
    },
    "executionInfo": {
     "elapsed": 6,
     "status": "ok",
     "timestamp": 1682401445399,
     "user": {
      "displayName": "주주",
      "userId": "14652178887215818703"
     },
     "user_tz": -540
    },
    "id": "8a188289",
    "outputId": "f2cb36dc-3446-4f94-b329-96cd1fc92b35"
   },
   "outputs": [
    {
     "name": "stdout",
     "output_type": "stream",
     "text": [
      "메로나 가격: 1000\n"
     ]
    }
   ],
   "source": [
    "print('메로나 가격:', ice['메로나'])"
   ]
  },
  {
   "cell_type": "markdown",
   "id": "c0a003a5",
   "metadata": {
    "id": "c0a003a5"
   },
   "source": [
    "#### 088. 다음 딕셔너리에서 메로나의 가격을 1300으로 수정하라. <br/>\n",
    "<br/>\n",
    "ice = {'메로나': 1000,<br/>\n",
    "       '폴로포': 1200,<br/>\n",
    "       '빵빠레': 1800,<br/>\n",
    "       '죠스바': 1200,<br/>\n",
    "       '월드콘': 1500}<br/>\n",
    "\n"
   ]
  },
  {
   "cell_type": "code",
   "execution_count": 17,
   "id": "ad6b43de",
   "metadata": {
    "colab": {
     "base_uri": "https://localhost:8080/"
    },
    "executionInfo": {
     "elapsed": 5,
     "status": "ok",
     "timestamp": 1682401469614,
     "user": {
      "displayName": "주주",
      "userId": "14652178887215818703"
     },
     "user_tz": -540
    },
    "id": "ad6b43de",
    "outputId": "b37483f3-d9f5-46dc-f48d-71006ab8c827"
   },
   "outputs": [
    {
     "data": {
      "text/plain": [
       "{'메로나': 1300, '폴라포': 1200, '빵빠레': 1800, '죠스바': 1200, '월드콘': 1500}"
      ]
     },
     "execution_count": 17,
     "metadata": {},
     "output_type": "execute_result"
    }
   ],
   "source": [
    "ice['메로나'] = 1300\n",
    "ice"
   ]
  },
  {
   "cell_type": "markdown",
   "id": "4e59489c",
   "metadata": {
    "id": "4e59489c"
   },
   "source": [
    "#### 089. 다음 딕셔너리에서 메로나를 삭제하라.\n",
    "\n",
    "ice = {'메로나': 1000,\n",
    "       '폴로포': 1200,\n",
    "       '빵빠레': 1800,\n",
    "       '죠스바': 1200,\n",
    "       '월드콘': 1500}"
   ]
  },
  {
   "cell_type": "code",
   "execution_count": 18,
   "id": "6b7e66cf",
   "metadata": {
    "colab": {
     "base_uri": "https://localhost:8080/"
    },
    "executionInfo": {
     "elapsed": 418,
     "status": "ok",
     "timestamp": 1682401514419,
     "user": {
      "displayName": "주주",
      "userId": "14652178887215818703"
     },
     "user_tz": -540
    },
    "id": "6b7e66cf",
    "outputId": "57d5118e-740e-4f8a-ad00-6185c186b23a"
   },
   "outputs": [
    {
     "data": {
      "text/plain": [
       "{'폴로포': 1200, '빵빠레': 1800, '죠스바': 1200, '월드콘': 1500}"
      ]
     },
     "execution_count": 18,
     "metadata": {},
     "output_type": "execute_result"
    }
   ],
   "source": [
    "ice = {'메로나': 1000, '폴로포': 1200, '빵빠레': 1800, '죠스바': 1200, '월드콘': 1500}\n",
    "\n",
    "del ice['메로나']\n",
    "ice"
   ]
  },
  {
   "cell_type": "markdown",
   "id": "2b808a24",
   "metadata": {
    "id": "2b808a24"
   },
   "source": [
    "#### 090.다음 코드에서 에러가 발생한 원인을 설명하라.\n",
    "\n",
    "- icecream = {'폴라포': 1200, '빵빠레': 1800, '월드콘': 1500, '메로나': 1000}\n",
    "- icecream['누가바']\n",
    "-- Traceback (most recent call last):\n",
    "  File \"<pyshell#69>\", line 1, in <module>\n",
    "    icecream['누가바']\n",
    "KeyError: '누가바'\n"
   ]
  },
  {
   "cell_type": "code",
   "execution_count": 19,
   "id": "b7fb0fe6",
   "metadata": {
    "colab": {
     "base_uri": "https://localhost:8080/",
     "height": 241
    },
    "executionInfo": {
     "elapsed": 5,
     "status": "error",
     "timestamp": 1682401530732,
     "user": {
      "displayName": "주주",
      "userId": "14652178887215818703"
     },
     "user_tz": -540
    },
    "id": "b7fb0fe6",
    "outputId": "d0bd714e-c646-4d71-cdec-57cbb1b68480"
   },
   "outputs": [
    {
     "ename": "KeyError",
     "evalue": "ignored",
     "output_type": "error",
     "traceback": [
      "\u001b[0;31m---------------------------------------------------------------------------\u001b[0m",
      "\u001b[0;31mKeyError\u001b[0m                                  Traceback (most recent call last)",
      "\u001b[0;32m<ipython-input-19-5c33fd8d2ed2>\u001b[0m in \u001b[0;36m<cell line: 2>\u001b[0;34m()\u001b[0m\n\u001b[1;32m      1\u001b[0m \u001b[0micecream\u001b[0m \u001b[0;34m=\u001b[0m \u001b[0;34m{\u001b[0m\u001b[0;34m'폴라포'\u001b[0m\u001b[0;34m:\u001b[0m \u001b[0;36m1200\u001b[0m\u001b[0;34m,\u001b[0m \u001b[0;34m'빵빠레'\u001b[0m\u001b[0;34m:\u001b[0m \u001b[0;36m1800\u001b[0m\u001b[0;34m,\u001b[0m \u001b[0;34m'월드콘'\u001b[0m\u001b[0;34m:\u001b[0m \u001b[0;36m1500\u001b[0m\u001b[0;34m,\u001b[0m \u001b[0;34m'메로나'\u001b[0m\u001b[0;34m:\u001b[0m \u001b[0;36m1000\u001b[0m\u001b[0;34m}\u001b[0m\u001b[0;34m\u001b[0m\u001b[0;34m\u001b[0m\u001b[0m\n\u001b[0;32m----> 2\u001b[0;31m \u001b[0micecream\u001b[0m\u001b[0;34m[\u001b[0m\u001b[0;34m'누가바'\u001b[0m\u001b[0;34m]\u001b[0m\u001b[0;34m\u001b[0m\u001b[0;34m\u001b[0m\u001b[0m\n\u001b[0m\u001b[1;32m      3\u001b[0m \u001b[0;34m\u001b[0m\u001b[0m\n\u001b[1;32m      4\u001b[0m \u001b[0;34m\u001b[0m\u001b[0m\n\u001b[1;32m      5\u001b[0m \u001b[0;34m\u001b[0m\u001b[0m\n",
      "\u001b[0;31mKeyError\u001b[0m: '누가바'"
     ]
    }
   ],
   "source": [
    "icecream = {'폴라포': 1200, '빵빠레': 1800, '월드콘': 1500, '메로나': 1000}\n",
    "icecream['누가바']\n"
   ]
  },
  {
   "cell_type": "markdown",
   "id": "owaUCidX8keg",
   "metadata": {
    "id": "owaUCidX8keg"
   },
   "source": [
    "딕셔너리에 없는 키 값을 호출해서"
   ]
  }
 ],
 "metadata": {
  "colab": {
   "provenance": []
  },
  "kernelspec": {
   "display_name": "Python 3 (ipykernel)",
   "language": "python",
   "name": "python3"
  },
  "language_info": {
   "codemirror_mode": {
    "name": "ipython",
    "version": 3
   },
   "file_extension": ".py",
   "mimetype": "text/x-python",
   "name": "python",
   "nbconvert_exporter": "python",
   "pygments_lexer": "ipython3",
   "version": "3.10.11"
  }
 },
 "nbformat": 4,
 "nbformat_minor": 5
}
