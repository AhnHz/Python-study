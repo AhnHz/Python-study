{
 "cells": [
  {
   "cell_type": "markdown",
   "id": "b481d8d2",
   "metadata": {
    "id": "b481d8d2"
   },
   "source": [
    "\n",
    "### 파이썬 for 문은 횟수가 정해져 있거나 상대적으로 횟수가 적은 경우에 대한 반복에 주로 사용됩니다. 파이썬 while문은 횟수가 상대적으로 크거나 무한 루프 형태의 반복문에 사용됩니다."
   ]
  },
  {
   "cell_type": "markdown",
   "id": "cc799c25",
   "metadata": {
    "id": "cc799c25"
   },
   "source": [
    "#### 131. for문의 실행결과를 예측하라.\n",
    "\n",
    "> 과일 = [\"사과\", \"귤\", \"수박\"]\n",
    "\n",
    "> for 변수 in 과일:\n",
    "    print(변수)"
   ]
  },
  {
   "cell_type": "code",
   "execution_count": 2,
   "id": "39e94ecd",
   "metadata": {
    "colab": {
     "base_uri": "https://localhost:8080/"
    },
    "executionInfo": {
     "elapsed": 4,
     "status": "ok",
     "timestamp": 1682474000614,
     "user": {
      "displayName": "주주",
      "userId": "14652178887215818703"
     },
     "user_tz": -540
    },
    "id": "39e94ecd",
    "outputId": "f83df5e1-daf7-435c-9ab3-26059b4c506f"
   },
   "outputs": [
    {
     "name": "stdout",
     "output_type": "stream",
     "text": [
      "사과\n",
      "귤\n",
      "수박\n"
     ]
    }
   ],
   "source": [
    "과일 = [\"사과\", \"귤\", \"수박\"]\n",
    "\n",
    "for i in 과일:\n",
    "    print(i)\n"
   ]
  },
  {
   "cell_type": "markdown",
   "id": "00d410e8",
   "metadata": {
    "id": "00d410e8"
   },
   "source": [
    "#### 132. for문의 실행결과를 예측하라.\n",
    "\n",
    "> 과일 = [\"사과\", \"귤\", \"수박\"]\n",
    "\n",
    "> for 변수 in 과일:\n",
    ">>  print(\"#####\")"
   ]
  },
  {
   "cell_type": "code",
   "execution_count": 3,
   "id": "45a15894",
   "metadata": {
    "colab": {
     "base_uri": "https://localhost:8080/"
    },
    "executionInfo": {
     "elapsed": 327,
     "status": "ok",
     "timestamp": 1682474022003,
     "user": {
      "displayName": "주주",
      "userId": "14652178887215818703"
     },
     "user_tz": -540
    },
    "id": "45a15894",
    "outputId": "1b3d4744-9936-4d0e-d597-b7d958125335"
   },
   "outputs": [
    {
     "name": "stdout",
     "output_type": "stream",
     "text": [
      "#####\n",
      "#####\n",
      "#####\n"
     ]
    }
   ],
   "source": [
    "과일 = [\"사과\", \"귤\", \"수박\"]\n",
    "\n",
    "for 변수 in 과일:\n",
    "\n",
    "    print(\"#####\")"
   ]
  },
  {
   "cell_type": "markdown",
   "id": "35d02fdc",
   "metadata": {
    "id": "35d02fdc"
   },
   "source": [
    "#### 133.다음 for 문과 동일한 기능을 수행하는 코드를 작성하세요.\n",
    "\n",
    "> for 변수 in [\"A\", \"B\", \"C\"]:\n",
    ">>  print(변수)"
   ]
  },
  {
   "cell_type": "code",
   "execution_count": 4,
   "id": "f154ebb6",
   "metadata": {
    "colab": {
     "base_uri": "https://localhost:8080/"
    },
    "executionInfo": {
     "elapsed": 297,
     "status": "ok",
     "timestamp": 1682474181062,
     "user": {
      "displayName": "주주",
      "userId": "14652178887215818703"
     },
     "user_tz": -540
    },
    "id": "f154ebb6",
    "outputId": "12887797-a279-41de-8b07-16e3ab5cc25b"
   },
   "outputs": [
    {
     "name": "stdout",
     "output_type": "stream",
     "text": [
      "A\n",
      "B\n",
      "C\n"
     ]
    }
   ],
   "source": [
    "변수 = \"A\"\n",
    "print(변수)\n",
    "변수 = \"B\"\n",
    "print(변수)\n",
    "변수 = \"C\"\n",
    "print(변수)"
   ]
  },
  {
   "cell_type": "markdown",
   "id": "72327e11",
   "metadata": {
    "id": "72327e11"
   },
   "source": [
    "#### 134. for문을 풀어서 동일한 동작을하는 코드를 작성하라.\n",
    "\n",
    "> for 변수 in [\"A\", \"B\", \"C\"]:\n",
    ">>  print(\"출력:\", 변수)"
   ]
  },
  {
   "cell_type": "code",
   "execution_count": 7,
   "id": "d4dd8fb8",
   "metadata": {
    "executionInfo": {
     "elapsed": 3,
     "status": "ok",
     "timestamp": 1682474500645,
     "user": {
      "displayName": "주주",
      "userId": "14652178887215818703"
     },
     "user_tz": -540
    },
    "id": "d4dd8fb8"
   },
   "outputs": [],
   "source": [
    "변수1 = \"A\"\n",
    "변수2 = \"B\"\n",
    "변수3 = \"C\""
   ]
  },
  {
   "cell_type": "code",
   "execution_count": 8,
   "id": "bdb44c9f",
   "metadata": {
    "colab": {
     "base_uri": "https://localhost:8080/"
    },
    "executionInfo": {
     "elapsed": 5,
     "status": "ok",
     "timestamp": 1682474503384,
     "user": {
      "displayName": "주주",
      "userId": "14652178887215818703"
     },
     "user_tz": -540
    },
    "id": "bdb44c9f",
    "outputId": "250128d9-86b1-48b1-b423-135da5534db7"
   },
   "outputs": [
    {
     "name": "stdout",
     "output_type": "stream",
     "text": [
      "출력: A\n",
      "출력: B\n",
      "출력: C\n"
     ]
    }
   ],
   "source": [
    "print(\"출력:\", 변수1)\n",
    "print(\"출력:\", 변수2)\n",
    "print(\"출력:\", 변수3)"
   ]
  },
  {
   "cell_type": "markdown",
   "id": "18a38676",
   "metadata": {
    "id": "18a38676"
   },
   "source": [
    "#### 135. for문을 풀어서 동일한 동작을 하는 코드를 작성하라.\n",
    "\n",
    "> for 변수 in [\"A\", \"B\", \"C\"]:\n",
    ">>  b = 변수.lower()\n",
    "\n",
    ">>  print(\"변환:\", b)"
   ]
  },
  {
   "cell_type": "code",
   "execution_count": 11,
   "id": "bdca6b37",
   "metadata": {
    "executionInfo": {
     "elapsed": 454,
     "status": "ok",
     "timestamp": 1682474663561,
     "user": {
      "displayName": "주주",
      "userId": "14652178887215818703"
     },
     "user_tz": -540
    },
    "id": "bdca6b37"
   },
   "outputs": [],
   "source": [
    "변수1 = \"A\"\n",
    "변수2 = \"B\"\n",
    "변수3 = \"C\""
   ]
  },
  {
   "cell_type": "code",
   "execution_count": 12,
   "id": "0a7bff4b",
   "metadata": {
    "executionInfo": {
     "elapsed": 2,
     "status": "ok",
     "timestamp": 1682474663561,
     "user": {
      "displayName": "주주",
      "userId": "14652178887215818703"
     },
     "user_tz": -540
    },
    "id": "0a7bff4b"
   },
   "outputs": [],
   "source": [
    "L1 = 변수1.lower()\n",
    "L2 = 변수2.lower()\n",
    "L3 = 변수3.lower()"
   ]
  },
  {
   "cell_type": "code",
   "execution_count": 13,
   "id": "f80db1ce",
   "metadata": {
    "colab": {
     "base_uri": "https://localhost:8080/"
    },
    "executionInfo": {
     "elapsed": 4,
     "status": "ok",
     "timestamp": 1682474663905,
     "user": {
      "displayName": "주주",
      "userId": "14652178887215818703"
     },
     "user_tz": -540
    },
    "id": "f80db1ce",
    "outputId": "81475907-80f6-411f-cf51-3c19b434348f"
   },
   "outputs": [
    {
     "name": "stdout",
     "output_type": "stream",
     "text": [
      "변환: a\n",
      "변환: b\n",
      "변환: c\n"
     ]
    }
   ],
   "source": [
    "print(\"변환:\", L1)\n",
    "print(\"변환:\", L2)\n",
    "print(\"변환:\", L3)"
   ]
  },
  {
   "cell_type": "markdown",
   "id": "4ad56e16",
   "metadata": {
    "id": "4ad56e16"
   },
   "source": [
    "#### 136. 다음 코드를 for문으로 작성하라.\n",
    "\n",
    "> 변수 = 10\n",
    "\n",
    "> print(변수)\n",
    "\n",
    "> 변수 = 20\n",
    "\n",
    "> print(변수)\n",
    "\n",
    "> 변수 = 30\n",
    "\n",
    "> print(변수)\n",
    "\n",
    "\n",
    " \n",
    "\n"
   ]
  },
  {
   "cell_type": "code",
   "execution_count": 5,
   "id": "d768bd61",
   "metadata": {
    "id": "d768bd61"
   },
   "outputs": [
    {
     "name": "stdout",
     "output_type": "stream",
     "text": [
      "10\n",
      "20\n",
      "30\n"
     ]
    }
   ],
   "source": [
    "for a in [10,20,30]:\n",
    "    \n",
    "    print(a)"
   ]
  },
  {
   "cell_type": "markdown",
   "id": "7d265a61",
   "metadata": {
    "id": "7d265a61"
   },
   "source": [
    "#### 137. 다음 코드를 for문으로 작성하라.\n",
    "\n",
    "> print(10)\n",
    "\n",
    "> print(20)\n",
    "\n",
    "> print(30)\n",
    "\n"
   ]
  },
  {
   "cell_type": "code",
   "execution_count": 4,
   "id": "d546942a",
   "metadata": {
    "id": "d546942a"
   },
   "outputs": [
    {
     "name": "stdout",
     "output_type": "stream",
     "text": [
      "10\n",
      "20\n",
      "30\n"
     ]
    }
   ],
   "source": [
    "a = 10\n",
    "\n",
    "for i in range(3):\n",
    "    print(a)\n",
    "    a += 10"
   ]
  },
  {
   "cell_type": "markdown",
   "id": "c9e94387",
   "metadata": {
    "id": "c9e94387"
   },
   "source": [
    "#### 138. 다음 코드를 for문으로 작성하라.\n",
    "\n",
    "> print(10)\n",
    "\n",
    "> print(\"-------\")\n",
    "\n",
    "> print(20)\n",
    "\n",
    "> print(\"-------\")\n",
    "\n",
    "> print(30)\n",
    "\n",
    "> print(\"-------\")"
   ]
  },
  {
   "cell_type": "code",
   "execution_count": 7,
   "id": "f46d5bfb-b707-43a1-9962-2672cf8f1a4f",
   "metadata": {},
   "outputs": [
    {
     "name": "stdout",
     "output_type": "stream",
     "text": [
      "10\n",
      "-------\n",
      "20\n",
      "-------\n",
      "30\n",
      "-------\n"
     ]
    }
   ],
   "source": [
    "for i in [10,20,30]:\n",
    "    print(i)\n",
    "    print(\"-------\")"
   ]
  },
  {
   "cell_type": "markdown",
   "id": "8cabe197",
   "metadata": {
    "id": "8cabe197"
   },
   "source": [
    "#### 139. 다음 코드를 for문으로 작성하라.\n",
    "\n",
    "- print(\"++++\")\n",
    "- print(10)\n",
    "- print(20)\n",
    "- print(30)"
   ]
  },
  {
   "cell_type": "code",
   "execution_count": 8,
   "id": "cd65cf20",
   "metadata": {
    "id": "cd65cf20"
   },
   "outputs": [
    {
     "name": "stdout",
     "output_type": "stream",
     "text": [
      "++++\n",
      "10\n",
      "20\n",
      "30\n"
     ]
    }
   ],
   "source": [
    "print(\"++++\")\n",
    "\n",
    "for i in [10,20,30]:\n",
    "    print(i)"
   ]
  },
  {
   "cell_type": "markdown",
   "id": "5fd7c3bb",
   "metadata": {
    "id": "5fd7c3bb"
   },
   "source": [
    "#### 140. 다음 코드를 for문으로 작성하라.\n",
    "\n",
    "> print(\"-------\")\n",
    "\n",
    "> print(\"-------\")\n",
    "\n",
    "> print(\"-------\")\n",
    "\n",
    "> print(\"-------\")"
   ]
  },
  {
   "cell_type": "code",
   "execution_count": 11,
   "id": "5e5b2a69",
   "metadata": {
    "id": "5e5b2a69"
   },
   "outputs": [
    {
     "name": "stdout",
     "output_type": "stream",
     "text": [
      "-------\n",
      "-------\n",
      "-------\n",
      "-------\n"
     ]
    }
   ],
   "source": [
    "for i in range(4):\n",
    "    print(\"-------\")"
   ]
  },
  {
   "cell_type": "markdown",
   "id": "28cd8342",
   "metadata": {
    "id": "28cd8342"
   },
   "source": [
    "#### 141. 다음과 같이 판매가가 저장된 리스트가 있을 때 부가세가 포함된 가격을 for 문을 사용해서 화면에 출력하라. 단 부가세는 10원으로 가정한다.\n",
    "\n",
    "> 리스트 = [100, 200, 300]\n",
    "\n",
    "> 110\n",
    "\n",
    "> 210\n",
    "\n",
    "> 310"
   ]
  },
  {
   "cell_type": "code",
   "execution_count": 12,
   "id": "924553ff",
   "metadata": {
    "id": "924553ff"
   },
   "outputs": [
    {
     "name": "stdout",
     "output_type": "stream",
     "text": [
      "110\n",
      "210\n",
      "310\n"
     ]
    }
   ],
   "source": [
    "price = [100, 200, 300]\n",
    "\n",
    "for i in price:\n",
    "    print(i+10)"
   ]
  },
  {
   "cell_type": "markdown",
   "id": "de312537",
   "metadata": {
    "id": "de312537"
   },
   "source": [
    "#### 142. for 문을 사용해서 리스트에 저장된 값을 다음과 같이 출력하라.\n",
    "\n",
    "> 리스트 = [\"김밥\", \"라면\", \"튀김\"]\n",
    "\n",
    "> 오늘의 메뉴: 김밥\n",
    "\n",
    "> 오늘의 메뉴: 라면\n",
    "\n",
    "> 오늘의 메뉴: 튀김"
   ]
  },
  {
   "cell_type": "code",
   "execution_count": 13,
   "id": "b8dc6834",
   "metadata": {
    "id": "b8dc6834"
   },
   "outputs": [
    {
     "name": "stdout",
     "output_type": "stream",
     "text": [
      "오늘의 메뉴: 김밥\n",
      "오늘의 메뉴: 라면\n",
      "오늘의 메뉴: 튀김\n"
     ]
    }
   ],
   "source": [
    "menu = [\"김밥\", \"라면\", \"튀김\"]\n",
    "\n",
    "for i in menu:\n",
    "    print('오늘의 메뉴:', i)"
   ]
  },
  {
   "cell_type": "markdown",
   "id": "c411bb39",
   "metadata": {
    "id": "c411bb39"
   },
   "source": [
    "#### 143. 리스트에 주식 종목이름이 저장돼 있다.\n",
    "\n",
    "- 리스트 = [\"SK하이닉스\", \"삼성전자\", \"LG전자\"]\n",
    "- 저장된 문자열의 길이를 다음과 같이 출력하라.\n",
    "\n",
    "> 6\n",
    "\n",
    "> 4\n",
    "\n",
    "> 4"
   ]
  },
  {
   "cell_type": "code",
   "execution_count": 14,
   "id": "732c96fa",
   "metadata": {
    "id": "732c96fa"
   },
   "outputs": [
    {
     "name": "stdout",
     "output_type": "stream",
     "text": [
      "6\n",
      "4\n",
      "4\n"
     ]
    }
   ],
   "source": [
    "stock = [\"SK하이닉스\", \"삼성전자\", \"LG전자\"]\n",
    "\n",
    "for i in stock:\n",
    "    print(len(i))"
   ]
  },
  {
   "cell_type": "markdown",
   "id": "f50e0c17",
   "metadata": {
    "id": "f50e0c17"
   },
   "source": [
    "#### 144. 리스트에는 동물이름이 문자열로 저장돼 있다.\n",
    "\n",
    "- 리스트 = ['dog', 'cat', 'parrot']\n",
    "- 동물 이름과 글자수를 다음과 같이 출력하라.\n",
    "\n",
    "> dog 3\n",
    "\n",
    "> cat 3\n",
    "\n",
    "> parrot 6"
   ]
  },
  {
   "cell_type": "code",
   "execution_count": 15,
   "id": "aea5035d",
   "metadata": {
    "id": "aea5035d"
   },
   "outputs": [
    {
     "name": "stdout",
     "output_type": "stream",
     "text": [
      "dog 3\n",
      "cat 3\n",
      "parrot 6\n"
     ]
    }
   ],
   "source": [
    "ani = ['dog', 'cat', 'parrot']\n",
    "\n",
    "for i in ani:\n",
    "    print(i, len(i))"
   ]
  },
  {
   "cell_type": "markdown",
   "id": "6e4066d2",
   "metadata": {
    "id": "6e4066d2"
   },
   "source": [
    "#### 145. 리스트에 동물 이름 저장돼 있다.\n",
    "\n",
    "- 리스트 = ['dog', 'cat', 'parrot']\n",
    "- for문을 사용해서 동물 이름의 첫 글자만 출력하라.\n",
    "\n",
    "> d\n",
    "\n",
    "> c\n",
    "\n",
    "> p"
   ]
  },
  {
   "cell_type": "code",
   "execution_count": 16,
   "id": "87b8f1a9",
   "metadata": {
    "id": "87b8f1a9"
   },
   "outputs": [
    {
     "name": "stdout",
     "output_type": "stream",
     "text": [
      "d\n",
      "c\n",
      "p\n"
     ]
    }
   ],
   "source": [
    "ani = ['dog', 'cat', 'parrot']\n",
    "\n",
    "for i in ani:\n",
    "    print(i[0])"
   ]
  },
  {
   "cell_type": "markdown",
   "id": "3cf842fc",
   "metadata": {
    "id": "3cf842fc"
   },
   "source": [
    "#### 146\n",
    "- 리스트에는 세 개의 숫자가 바인딩돼 있다.\n",
    "\n",
    "- 리스트 = [1, 2, 3]\n",
    "- for문을 사용해서 다음과 같이 출력하라.\n",
    "\n",
    "> 3 x 1\n",
    "\n",
    "> 3 x 2\n",
    "\n",
    "> 3 x 3"
   ]
  },
  {
   "cell_type": "code",
   "execution_count": 18,
   "id": "dc96999b",
   "metadata": {
    "id": "dc96999b"
   },
   "outputs": [
    {
     "name": "stdout",
     "output_type": "stream",
     "text": [
      "3 x 1\n",
      "3 x 2\n",
      "3 x 3\n"
     ]
    }
   ],
   "source": [
    "num = [1, 2, 3]\n",
    "\n",
    "for i in num:\n",
    "    print('3 x', i)"
   ]
  },
  {
   "cell_type": "markdown",
   "id": "4101e8ad",
   "metadata": {
    "id": "4101e8ad"
   },
   "source": [
    "#### 147\n",
    "- 리스트에는 세 개의 숫자가 바인딩돼 있다.\n",
    "\n",
    "- 리스트 = [1, 2, 3]\n",
    "- for문을 사용해서 다음과 같이 출력하라.\n",
    "\n",
    "- 3 x 1 = 3\n",
    "- 3 x 2 = 6\n",
    "- 3 x 3 = 9"
   ]
  },
  {
   "cell_type": "code",
   "execution_count": 20,
   "id": "f88a8a1a",
   "metadata": {
    "id": "f88a8a1a"
   },
   "outputs": [
    {
     "name": "stdout",
     "output_type": "stream",
     "text": [
      "3 x 1 = 3\n",
      "3 x 2 = 6\n",
      "3 x 3 = 9\n"
     ]
    }
   ],
   "source": [
    "num = [1, 2, 3]\n",
    "\n",
    "for i in num:\n",
    "    print('3 x {} = {}'.format(i, 3*i))"
   ]
  },
  {
   "cell_type": "markdown",
   "id": "32520706",
   "metadata": {
    "id": "32520706"
   },
   "source": [
    "#### 148. 리스트에는 네 개의 문자열이 바인딩돼 있다.\n",
    "\n",
    "- 리스트 = [\"가\", \"나\", \"다\", \"라\"]\n",
    "- for문을 사용해서 다음과 같이 출력하라.\n",
    "\n",
    "- 나\n",
    "- 다\n",
    "- 라"
   ]
  },
  {
   "cell_type": "code",
   "execution_count": 22,
   "id": "cb10aeb3",
   "metadata": {
    "id": "cb10aeb3"
   },
   "outputs": [
    {
     "name": "stdout",
     "output_type": "stream",
     "text": [
      "나\n",
      "다\n",
      "라\n"
     ]
    }
   ],
   "source": [
    "string = [\"가\", \"나\", \"다\", \"라\"]\n",
    "\n",
    "for i in range(len(string)-1):\n",
    "    print(string[1+i])"
   ]
  },
  {
   "cell_type": "markdown",
   "id": "17bff52f",
   "metadata": {
    "id": "17bff52f"
   },
   "source": [
    "#### 149. 리스트에는 네 개의 문자열이 바인딩돼 있다.\n",
    "\n",
    "- 리스트 = [\"가\", \"나\", \"다\", \"라\"]\n",
    "for문을 사용해서 다음과 같이 출력하라.\n",
    "\n",
    "- 가\n",
    "- 다"
   ]
  },
  {
   "cell_type": "code",
   "execution_count": 23,
   "id": "a534f177",
   "metadata": {
    "id": "a534f177"
   },
   "outputs": [
    {
     "name": "stdout",
     "output_type": "stream",
     "text": [
      "가\n",
      "나\n"
     ]
    }
   ],
   "source": [
    "string = [\"가\", \"나\", \"다\", \"라\"]\n",
    "\n",
    "for i in range(2):\n",
    "    print(string[i])"
   ]
  },
  {
   "cell_type": "markdown",
   "id": "41fc73a9",
   "metadata": {
    "id": "41fc73a9"
   },
   "source": [
    "#### 150. 리스트에는 네 개의 문자열이 바인딩돼 있다.\n",
    "\n",
    "- 리스트 = [\"가\", \"나\", \"다\", \"라\"]\n",
    "- for문을 사용해서 다음과 같이 출력하라.\n",
    "\n",
    "- 라\n",
    "- 다\n",
    "- 나\n",
    "- 가"
   ]
  },
  {
   "cell_type": "code",
   "execution_count": 26,
   "id": "d72651b9",
   "metadata": {
    "id": "d72651b9"
   },
   "outputs": [
    {
     "name": "stdout",
     "output_type": "stream",
     "text": [
      "라\n",
      "다\n",
      "나\n",
      "가\n"
     ]
    }
   ],
   "source": [
    "string = [\"가\", \"나\", \"다\", \"라\"]\n",
    "\n",
    "for i in string[::-1]:\n",
    "    print(i)"
   ]
  },
  {
   "cell_type": "markdown",
   "id": "3466b2d2",
   "metadata": {
    "id": "3466b2d2"
   },
   "source": [
    "#### 151. 리스트에는 네 개의 정수가 저장돼 있다.\n",
    "\n",
    "- 리스트 = [3, -20, -3, 44]\n",
    "- for문을 사용해서 리스트의 음수를 출력하라.\n",
    "\n",
    "> 20\n",
    "\n",
    "> 3"
   ]
  },
  {
   "cell_type": "code",
   "execution_count": 29,
   "id": "649e86de",
   "metadata": {
    "id": "649e86de"
   },
   "outputs": [
    {
     "name": "stdout",
     "output_type": "stream",
     "text": [
      "-20\n",
      "-3\n"
     ]
    }
   ],
   "source": [
    "string = [3, -20, -3, 44]\n",
    "\n",
    "for i in string:\n",
    "    if i < 0:\n",
    "        print(i)\n"
   ]
  },
  {
   "cell_type": "markdown",
   "id": "d997974a",
   "metadata": {
    "id": "d997974a"
   },
   "source": [
    "#### 152. for문을 사용해서 3의 배수만을 출력하라.\n",
    "\n",
    "- 리스트 = [3, 100, 23, 44]\n",
    "> 3"
   ]
  },
  {
   "cell_type": "code",
   "execution_count": 30,
   "id": "1f46485a",
   "metadata": {
    "id": "1f46485a"
   },
   "outputs": [
    {
     "name": "stdout",
     "output_type": "stream",
     "text": [
      "3\n"
     ]
    }
   ],
   "source": [
    "string = [3, 100, 23, 44]\n",
    "\n",
    "for i in string:\n",
    "    if i%3 == 0:\n",
    "        print(i)"
   ]
  },
  {
   "cell_type": "markdown",
   "id": "3128923d",
   "metadata": {
    "id": "3128923d"
   },
   "source": [
    "#### 153. 리스트에서 20 보다 작은 3의 배수를 출력하라\n",
    "\n",
    "- 리스트 = [13, 21, 12, 14, 30, 18]\n",
    "\n",
    "> 12\n",
    "\n",
    "> 18"
   ]
  },
  {
   "cell_type": "code",
   "execution_count": 31,
   "id": "b89489e8",
   "metadata": {
    "id": "b89489e8"
   },
   "outputs": [
    {
     "name": "stdout",
     "output_type": "stream",
     "text": [
      "12\n",
      "18\n"
     ]
    }
   ],
   "source": [
    "string = [13, 21, 12, 14, 30, 18]\n",
    "\n",
    "for i in string:\n",
    "    if (i%3 == 0) and (i < 20):\n",
    "        print(i)"
   ]
  },
  {
   "cell_type": "markdown",
   "id": "89ecd942",
   "metadata": {
    "id": "89ecd942"
   },
   "source": [
    "#### 154. 리스트에서 세 글자 이상의 문자를 화면에 출력하라\n",
    "\n",
    "- 리스트 = [\"I\", \"study\", \"python\", \"language\", \"!\"]\n",
    "- study\n",
    "- python\n",
    "- language"
   ]
  },
  {
   "cell_type": "code",
   "execution_count": 32,
   "id": "f6963680",
   "metadata": {
    "id": "f6963680"
   },
   "outputs": [
    {
     "name": "stdout",
     "output_type": "stream",
     "text": [
      "study\n",
      "python\n",
      "language\n"
     ]
    }
   ],
   "source": [
    "string = [\"I\", \"study\", \"python\", \"language\", \"!\"]\n",
    "\n",
    "for i in string:\n",
    "    if len(i) >= 3:\n",
    "        print(i)"
   ]
  },
  {
   "cell_type": "markdown",
   "id": "0ac1fcff",
   "metadata": {
    "id": "0ac1fcff"
   },
   "source": [
    "#### 155. 리스트에서 대문자만 화면에 출력하라.\n",
    "\n",
    "- 리스트 = [\"A\", \"b\", \"c\", \"D\"]\n",
    "- A\n",
    "- D\n",
    "- (참고) isupper() 메서드는 대문자 여부를 판별합니다.\n",
    "\n",
    "> 변수 = \"A\"\n",
    "\n",
    "> 변수.isupper()\n",
    "\n",
    "> True\n",
    "\n",
    "> 변수 = \"a\"\n",
    "\n",
    "> 변수.isupper()\n",
    "\n",
    "> False"
   ]
  },
  {
   "cell_type": "code",
   "execution_count": 33,
   "id": "b5492d82",
   "metadata": {
    "id": "b5492d82"
   },
   "outputs": [
    {
     "name": "stdout",
     "output_type": "stream",
     "text": [
      "A\n",
      "D\n"
     ]
    }
   ],
   "source": [
    "string = [\"A\", \"b\", \"c\", \"D\"]\n",
    "\n",
    "for i in string:\n",
    "    if i.isupper() == 1:\n",
    "        print(i)"
   ]
  },
  {
   "cell_type": "markdown",
   "id": "55e9cd50",
   "metadata": {
    "id": "55e9cd50"
   },
   "source": [
    "#### 156. 리스트에서 소문자만 화면에 출력하라.\n",
    "\n",
    "- 리스트 = [\"A\", \"b\", \"c\", \"D\"]\n",
    "- b\n",
    "- c"
   ]
  },
  {
   "cell_type": "code",
   "execution_count": 34,
   "id": "b96e50ed",
   "metadata": {
    "id": "b96e50ed"
   },
   "outputs": [
    {
     "name": "stdout",
     "output_type": "stream",
     "text": [
      "b\n",
      "c\n"
     ]
    }
   ],
   "source": [
    "string = [\"A\", \"b\", \"c\", \"D\"]\n",
    "\n",
    "for i in string:\n",
    "    if i.islower() == 1:\n",
    "        print(i)"
   ]
  },
  {
   "cell_type": "markdown",
   "id": "0a7a6d6b",
   "metadata": {
    "id": "0a7a6d6b"
   },
   "source": [
    "#### 157. 이름의 첫 글자를 대문자로 변경해서 출력하라.\n",
    "\n",
    "- 리스트 = ['dog', 'cat', 'parrot']\n",
    "- Dog\n",
    "- Cat\n",
    "- Parrot\n",
    "- (참고) upper() 메서드는 문자열을 대문자로 변경합니다.\n",
    "\n",
    "> 변수 = \"a\"\n",
    "\n",
    "> a.upper()\n",
    "\n",
    "> A\n",
    "\n",
    "> 변수 = \"abc\"\n",
    "\n",
    "> 변수.upper()\n",
    "\n",
    "> ABC"
   ]
  },
  {
   "cell_type": "code",
   "execution_count": 38,
   "id": "82029fca",
   "metadata": {
    "id": "82029fca"
   },
   "outputs": [
    {
     "name": "stdout",
     "output_type": "stream",
     "text": [
      "Dog\n",
      "Cat\n",
      "Parrot\n"
     ]
    }
   ],
   "source": [
    "ani = ['dog', 'cat', 'parrot']\n",
    "\n",
    "for i in ani:\n",
    "    first = i[0]\n",
    "    print(first.upper() + i[1:])"
   ]
  },
  {
   "cell_type": "code",
   "execution_count": 36,
   "id": "98030a99",
   "metadata": {
    "id": "98030a99"
   },
   "outputs": [
    {
     "name": "stdout",
     "output_type": "stream",
     "text": [
      "Dog\n",
      "Cat\n",
      "Parrot\n"
     ]
    }
   ],
   "source": [
    "ani = ['dog', 'cat', 'parrot']\n",
    "\n",
    "for i in ani:\n",
    "    print(i.capitalize())"
   ]
  },
  {
   "cell_type": "markdown",
   "id": "9bff28dd",
   "metadata": {
    "id": "9bff28dd"
   },
   "source": [
    "#### 158. 파일 이름이 저장된 리스트에서 확장자를 제거하고 파일 이름만 화면에 출력하라. (힌트: split() 메서드)\n",
    "\n",
    "- 리스트 = ['hello.py', 'ex01.py', 'intro.hwp']\n",
    "- hello\n",
    "- ex01\n",
    "- intro"
   ]
  },
  {
   "cell_type": "code",
   "execution_count": 44,
   "id": "19125588",
   "metadata": {
    "id": "19125588"
   },
   "outputs": [
    {
     "name": "stdout",
     "output_type": "stream",
     "text": [
      "hello\n",
      "ex01\n",
      "intro\n"
     ]
    }
   ],
   "source": [
    "file = ['hello.py', 'ex01.py', 'intro.hwp']\n",
    "\n",
    "for i in file:\n",
    "    name = i.split('.')\n",
    "    print(name[0])"
   ]
  },
  {
   "cell_type": "markdown",
   "id": "5612862e",
   "metadata": {
    "id": "5612862e"
   },
   "source": [
    "#### 159. 파일 이름이 저장된 리스트에서 확장자가 .h인 파일 이름을 출력하라.\n",
    "\n",
    "- 리스트 = ['intra.h', 'intra.c', 'define.h', 'run.py']\n",
    "- intra.h\n",
    "- define.h"
   ]
  },
  {
   "cell_type": "code",
   "execution_count": 47,
   "id": "e3b41fd6",
   "metadata": {
    "id": "e3b41fd6"
   },
   "outputs": [
    {
     "name": "stdout",
     "output_type": "stream",
     "text": [
      "intra.h\n",
      "define.h\n"
     ]
    }
   ],
   "source": [
    "file = ['intra.h', 'intra.c', 'define.h', 'run.py']\n",
    "\n",
    "for i in file:\n",
    "    if i.split('.')[1] == 'h':\n",
    "        print(i)"
   ]
  },
  {
   "cell_type": "markdown",
   "id": "bf25da9c",
   "metadata": {
    "id": "bf25da9c"
   },
   "source": [
    "#### 160. 파일 이름이 저장된 리스트에서 확장자가 .h나 .c인 파일을 화면에 출력하라.\n",
    "\n",
    "- 리스트 = ['intra.h', 'intra.c', 'define.h', 'run.py']\n",
    "- intra.h\n",
    "- intra.c\n",
    "- define.h"
   ]
  },
  {
   "cell_type": "code",
   "execution_count": 48,
   "id": "7f7ef42f",
   "metadata": {
    "id": "7f7ef42f"
   },
   "outputs": [
    {
     "name": "stdout",
     "output_type": "stream",
     "text": [
      "intra.h\n",
      "intra.c\n",
      "define.h\n"
     ]
    }
   ],
   "source": [
    "file = ['intra.h', 'intra.c', 'define.h', 'run.py']\n",
    "\n",
    "for i in file:\n",
    "    if i.split('.')[1] == 'h' or i.split('.')[1] == 'c':\n",
    "        print(i)"
   ]
  },
  {
   "cell_type": "markdown",
   "id": "1aa31940",
   "metadata": {
    "id": "1aa31940"
   },
   "source": [
    "#### 161. for문과 range 구문을 사용해서 0~99까지 한 라인에 하나씩 순차적으로 출력하는 프로그램을 작성하라."
   ]
  },
  {
   "cell_type": "code",
   "execution_count": 49,
   "id": "c847950a",
   "metadata": {
    "id": "c847950a"
   },
   "outputs": [
    {
     "name": "stdout",
     "output_type": "stream",
     "text": [
      "0\n",
      "1\n",
      "2\n",
      "3\n",
      "4\n",
      "5\n",
      "6\n",
      "7\n",
      "8\n",
      "9\n",
      "10\n",
      "11\n",
      "12\n",
      "13\n",
      "14\n",
      "15\n",
      "16\n",
      "17\n",
      "18\n",
      "19\n",
      "20\n",
      "21\n",
      "22\n",
      "23\n",
      "24\n",
      "25\n",
      "26\n",
      "27\n",
      "28\n",
      "29\n",
      "30\n",
      "31\n",
      "32\n",
      "33\n",
      "34\n",
      "35\n",
      "36\n",
      "37\n",
      "38\n",
      "39\n",
      "40\n",
      "41\n",
      "42\n",
      "43\n",
      "44\n",
      "45\n",
      "46\n",
      "47\n",
      "48\n",
      "49\n",
      "50\n",
      "51\n",
      "52\n",
      "53\n",
      "54\n",
      "55\n",
      "56\n",
      "57\n",
      "58\n",
      "59\n",
      "60\n",
      "61\n",
      "62\n",
      "63\n",
      "64\n",
      "65\n",
      "66\n",
      "67\n",
      "68\n",
      "69\n",
      "70\n",
      "71\n",
      "72\n",
      "73\n",
      "74\n",
      "75\n",
      "76\n",
      "77\n",
      "78\n",
      "79\n",
      "80\n",
      "81\n",
      "82\n",
      "83\n",
      "84\n",
      "85\n",
      "86\n",
      "87\n",
      "88\n",
      "89\n",
      "90\n",
      "91\n",
      "92\n",
      "93\n",
      "94\n",
      "95\n",
      "96\n",
      "97\n",
      "98\n",
      "99\n"
     ]
    }
   ],
   "source": [
    "for i in range(100):\n",
    "    print(i)"
   ]
  },
  {
   "cell_type": "markdown",
   "id": "cebd33a9",
   "metadata": {
    "id": "cebd33a9"
   },
   "source": [
    "#### 162. 월드컵은 4년에 한 번 개최된다. range()를 사용하여 2002~2050년까지 중 월드컵이 개최되는 연도를 출력하라.\n",
    "\n",
    "- 2002\n",
    "- 2006\n",
    "- 2010\n",
    "- ...\n",
    "- 2042\n",
    "- 2046\n",
    "- 2050\n",
    "- 참고) range의 세번 째 파라미터는 증감폭을 결정합니다.\n",
    "\n",
    "> print(list(range(0, 10, 2)))\n",
    "\n",
    "> [0, 2, 4, 6, 8]"
   ]
  },
  {
   "cell_type": "code",
   "execution_count": 51,
   "id": "c0b232db",
   "metadata": {
    "id": "c0b232db"
   },
   "outputs": [
    {
     "name": "stdout",
     "output_type": "stream",
     "text": [
      "2002\n",
      "2006\n",
      "2010\n",
      "2014\n",
      "2018\n",
      "2022\n",
      "2026\n",
      "2030\n",
      "2034\n",
      "2038\n",
      "2042\n",
      "2046\n",
      "2050\n"
     ]
    }
   ],
   "source": [
    "worldcup = list(range(2002, 2051, 4))\n",
    "\n",
    "for i in worldcup:\n",
    "    print(i)"
   ]
  },
  {
   "cell_type": "markdown",
   "id": "748d0002",
   "metadata": {
    "id": "748d0002"
   },
   "source": [
    "#### 163. 1부터 30까지의 숫자 중 3의 배수를 출력하라.\n",
    "\n",
    "- 3 \n",
    "- 6 \n",
    "- 9 \n",
    "- 12 \n",
    "- 15 \n",
    "- 18 \n",
    "- 21 \n",
    "- 24 \n",
    "- 27 \n",
    "- 30"
   ]
  },
  {
   "cell_type": "code",
   "execution_count": 53,
   "id": "64696ec6",
   "metadata": {
    "id": "64696ec6"
   },
   "outputs": [
    {
     "name": "stdout",
     "output_type": "stream",
     "text": [
      "3\n",
      "6\n",
      "9\n",
      "12\n",
      "15\n",
      "18\n",
      "21\n",
      "24\n",
      "27\n",
      "30\n"
     ]
    }
   ],
   "source": [
    "for i in range(1,31):\n",
    "    if i%3 == 0:\n",
    "        print(i)"
   ]
  },
  {
   "cell_type": "markdown",
   "id": "e667b49d",
   "metadata": {
    "id": "e667b49d"
   },
   "source": [
    "#### 164. 99부터 0까지 1씩 감소하는 숫자들을, 한 라인에 하나씩 출력하라."
   ]
  },
  {
   "cell_type": "code",
   "execution_count": 55,
   "id": "f9fffc8e",
   "metadata": {
    "id": "f9fffc8e"
   },
   "outputs": [
    {
     "name": "stdout",
     "output_type": "stream",
     "text": [
      "99\n",
      "98\n",
      "97\n",
      "96\n",
      "95\n",
      "94\n",
      "93\n",
      "92\n",
      "91\n",
      "90\n",
      "89\n",
      "88\n",
      "87\n",
      "86\n",
      "85\n",
      "84\n",
      "83\n",
      "82\n",
      "81\n",
      "80\n",
      "79\n",
      "78\n",
      "77\n",
      "76\n",
      "75\n",
      "74\n",
      "73\n",
      "72\n",
      "71\n",
      "70\n",
      "69\n",
      "68\n",
      "67\n",
      "66\n",
      "65\n",
      "64\n",
      "63\n",
      "62\n",
      "61\n",
      "60\n",
      "59\n",
      "58\n",
      "57\n",
      "56\n",
      "55\n",
      "54\n",
      "53\n",
      "52\n",
      "51\n",
      "50\n",
      "49\n",
      "48\n",
      "47\n",
      "46\n",
      "45\n",
      "44\n",
      "43\n",
      "42\n",
      "41\n",
      "40\n",
      "39\n",
      "38\n",
      "37\n",
      "36\n",
      "35\n",
      "34\n",
      "33\n",
      "32\n",
      "31\n",
      "30\n",
      "29\n",
      "28\n",
      "27\n",
      "26\n",
      "25\n",
      "24\n",
      "23\n",
      "22\n",
      "21\n",
      "20\n",
      "19\n",
      "18\n",
      "17\n",
      "16\n",
      "15\n",
      "14\n",
      "13\n",
      "12\n",
      "11\n",
      "10\n",
      "9\n",
      "8\n",
      "7\n",
      "6\n",
      "5\n",
      "4\n",
      "3\n",
      "2\n",
      "1\n",
      "0\n"
     ]
    }
   ],
   "source": [
    "for i in range(99, -1, -1):\n",
    "    print(i)"
   ]
  },
  {
   "cell_type": "markdown",
   "id": "1b5d6c3d",
   "metadata": {
    "id": "1b5d6c3d"
   },
   "source": [
    "#### 165. for문을 사용해서 아래와 같이 출력하라.\n",
    "\n",
    "- 0.0\n",
    "- 0.1\n",
    "- 0.2\n",
    "- 0.3\n",
    "- 0.4\n",
    "- 0.5\n",
    "- ...\n",
    "- 0.9"
   ]
  },
  {
   "cell_type": "code",
   "execution_count": 58,
   "id": "e98653f0",
   "metadata": {
    "id": "e98653f0"
   },
   "outputs": [
    {
     "name": "stdout",
     "output_type": "stream",
     "text": [
      "0.0\n",
      "0.1\n",
      "0.2\n",
      "0.3\n",
      "0.4\n",
      "0.5\n",
      "0.6\n",
      "0.7\n",
      "0.8\n",
      "0.9\n"
     ]
    }
   ],
   "source": [
    "for i in range(10):\n",
    "    print(i/10)"
   ]
  },
  {
   "cell_type": "markdown",
   "id": "c04f2f1e",
   "metadata": {
    "id": "c04f2f1e"
   },
   "source": [
    "#### 166. 구구단 3단을 출력하라.\n",
    "\n",
    "- 3x1 = 3\n",
    "- 3x2 = 6\n",
    "- 3x3 = 9\n",
    "- 3x4 = 12\n",
    "- 3x5 = 15\n",
    "- 3x6 = 18\n",
    "- 3x7 = 21\n",
    "- 3x8 = 24\n",
    "- 3x9 = 27"
   ]
  },
  {
   "cell_type": "code",
   "execution_count": 60,
   "id": "2d7b8626",
   "metadata": {
    "id": "2d7b8626"
   },
   "outputs": [
    {
     "name": "stdout",
     "output_type": "stream",
     "text": [
      "3x1 = 3\n",
      "3x2 = 6\n",
      "3x3 = 9\n",
      "3x4 = 12\n",
      "3x5 = 15\n",
      "3x6 = 18\n",
      "3x7 = 21\n",
      "3x8 = 24\n",
      "3x9 = 27\n"
     ]
    }
   ],
   "source": [
    "for i in range(1, 10):\n",
    "    print('3x{} = {}'.format(i, i*3))"
   ]
  },
  {
   "cell_type": "markdown",
   "id": "224672b1",
   "metadata": {
    "id": "224672b1"
   },
   "source": [
    "#### 167. 구구단 3단을 출력하라. 단 홀수 번째만 출력한다.\n",
    "\n",
    "- 3x1 = 3\n",
    "- 3x3 = 9\n",
    "- 3x5 = 15\n",
    "- 3x7 = 21\n",
    "- 3x9 = 27"
   ]
  },
  {
   "cell_type": "code",
   "execution_count": 61,
   "id": "18021e55",
   "metadata": {
    "id": "18021e55"
   },
   "outputs": [
    {
     "name": "stdout",
     "output_type": "stream",
     "text": [
      "3x1 = 3\n",
      "3x3 = 9\n",
      "3x5 = 15\n",
      "3x7 = 21\n",
      "3x9 = 27\n"
     ]
    }
   ],
   "source": [
    "for i in range(1, 10):\n",
    "    if i%2 == 1:\n",
    "        print('3x{} = {}'.format(i, i*3))"
   ]
  },
  {
   "cell_type": "markdown",
   "id": "1749a819",
   "metadata": {
    "id": "1749a819"
   },
   "source": [
    "#### 168. 1~10까지의 숫자에 대해 모두 더한 값을 출력하는 프로그램을 for 문을 사용하여 작성하라.\n",
    "\n",
    "- 합 : 55"
   ]
  },
  {
   "cell_type": "code",
   "execution_count": 66,
   "id": "162c8cac",
   "metadata": {
    "id": "162c8cac"
   },
   "outputs": [
    {
     "name": "stdout",
     "output_type": "stream",
     "text": [
      "합: 55\n"
     ]
    }
   ],
   "source": [
    "sum = 0\n",
    "\n",
    "for i in range(1,11):\n",
    "    sum += i\n",
    "print('합: {}'.format(sum))"
   ]
  },
  {
   "cell_type": "markdown",
   "id": "871bece9",
   "metadata": {
    "id": "871bece9"
   },
   "source": [
    "#### 169. 1~10까지의 숫자 중 모든 홀수의 합을 출력하는 프로그램을 for 문을 사용하여 작성하라.\n",
    "\n",
    "- 합: 25"
   ]
  },
  {
   "cell_type": "code",
   "execution_count": 67,
   "id": "37f676b7",
   "metadata": {
    "id": "37f676b7"
   },
   "outputs": [
    {
     "name": "stdout",
     "output_type": "stream",
     "text": [
      "합: 25\n"
     ]
    }
   ],
   "source": [
    "sum = 0\n",
    "\n",
    "for i in range(1,11):\n",
    "    if i%2 == 1:\n",
    "        sum += i\n",
    "print('합: {}'.format(sum))"
   ]
  },
  {
   "cell_type": "markdown",
   "id": "afa2521d",
   "metadata": {
    "id": "afa2521d"
   },
   "source": [
    "#### 170. 1~10까지의 숫자를 모두 곱한 값을 출력하는 프로그램을 for 문을 사용하여 작성하라."
   ]
  },
  {
   "cell_type": "code",
   "execution_count": 69,
   "id": "fae8f4f9",
   "metadata": {
    "id": "fae8f4f9"
   },
   "outputs": [
    {
     "name": "stdout",
     "output_type": "stream",
     "text": [
      "합: 3628800\n"
     ]
    }
   ],
   "source": [
    "mul = 1\n",
    "\n",
    "for i in range(1,11):\n",
    "    mul *= i\n",
    "print('합: {}'.format(mul))"
   ]
  },
  {
   "cell_type": "markdown",
   "id": "e02bd495",
   "metadata": {
    "id": "e02bd495"
   },
   "source": [
    "#### 171. 아래와 같이 리스트의 데이터를 출력하라. 단, for문과 range문을 사용하라.\n",
    "\n",
    "- price_list = [32100, 32150, 32000, 32500]\n",
    "- 32100\n",
    "- 32150\n",
    "- 32000\n",
    "- 32500"
   ]
  },
  {
   "cell_type": "code",
   "execution_count": 70,
   "id": "c90d6bc9",
   "metadata": {
    "id": "c90d6bc9"
   },
   "outputs": [
    {
     "name": "stdout",
     "output_type": "stream",
     "text": [
      "32100\n",
      "32150\n",
      "32000\n",
      "32500\n"
     ]
    }
   ],
   "source": [
    "price_list = [32100, 32150, 32000, 32500]\n",
    "\n",
    "for i in range(4):\n",
    "    print(price_list[i])"
   ]
  },
  {
   "cell_type": "markdown",
   "id": "2197e88f",
   "metadata": {
    "id": "2197e88f"
   },
   "source": [
    "#### 172. 아래와 같이 리스트의 데이터를 출력하라. 단, for문과 range문을 사용하라.\n",
    "\n",
    "- price_list = [32100, 32150, 32000, 32500]\n",
    "- 0 32100\n",
    "- 1 32150\n",
    "- 2 32000\n",
    "- 3 32500"
   ]
  },
  {
   "cell_type": "code",
   "execution_count": 71,
   "id": "b638072d",
   "metadata": {
    "id": "b638072d"
   },
   "outputs": [
    {
     "name": "stdout",
     "output_type": "stream",
     "text": [
      "0 32100\n",
      "1 32150\n",
      "2 32000\n",
      "3 32500\n"
     ]
    }
   ],
   "source": [
    "price_list = [32100, 32150, 32000, 32500]\n",
    "\n",
    "for i in range(4):\n",
    "    print(i, price_list[i])"
   ]
  },
  {
   "cell_type": "markdown",
   "id": "5713c921",
   "metadata": {
    "id": "5713c921"
   },
   "source": [
    "#### 173. 아래와 같이 리스트의 데이터를 출력하라. 단, for문과 range문을 사용하라.\n",
    "\n",
    "- price_list = [32100, 32150, 32000, 32500]\n",
    "- 3 32100\n",
    "- 2 32150\n",
    "- 1 32000\n",
    "- 0 32500"
   ]
  },
  {
   "cell_type": "code",
   "execution_count": 72,
   "id": "d06ab794",
   "metadata": {
    "id": "d06ab794"
   },
   "outputs": [
    {
     "name": "stdout",
     "output_type": "stream",
     "text": [
      "3 32100\n",
      "2 32150\n",
      "1 32000\n",
      "0 32500\n"
     ]
    }
   ],
   "source": [
    "price_list = [32100, 32150, 32000, 32500]\n",
    "\n",
    "for i in range(4):\n",
    "    print(3-i, price_list[i])"
   ]
  },
  {
   "cell_type": "markdown",
   "id": "40721405",
   "metadata": {
    "id": "40721405"
   },
   "source": [
    "#### 174. 아래와 같이 리스트의 데이터를 출력하라. 단, for문과 range문을 사용하라.\n",
    "\n",
    "- price_list = [32100, 32150, 32000, 32500]\n",
    "- 100 32150\n",
    "- 110 32000\n",
    "- 120 32500"
   ]
  },
  {
   "cell_type": "code",
   "execution_count": 74,
   "id": "cc03f4f1",
   "metadata": {
    "id": "cc03f4f1"
   },
   "outputs": [
    {
     "name": "stdout",
     "output_type": "stream",
     "text": [
      "100 32150\n",
      "110 32000\n",
      "120 32500\n"
     ]
    }
   ],
   "source": [
    "price_list = [32100, 32150, 32000, 32500]\n",
    "\n",
    "for i in range(1, 4):\n",
    "    print(90+(i*10), price_list[i])"
   ]
  },
  {
   "cell_type": "markdown",
   "id": "1fc673a2",
   "metadata": {
    "id": "1fc673a2"
   },
   "source": [
    "#### 175. my_list를 아래와 같이 출력하라.\n",
    "\n",
    "- my_list = [\"가\", \"나\", \"다\", \"라\"]\n",
    "- 가 나\n",
    "- 나 다\n",
    "- 다 라"
   ]
  },
  {
   "cell_type": "code",
   "execution_count": 78,
   "id": "ef0bb735",
   "metadata": {
    "id": "ef0bb735"
   },
   "outputs": [
    {
     "name": "stdout",
     "output_type": "stream",
     "text": [
      "가 나\n",
      "나 다\n",
      "다 라\n"
     ]
    }
   ],
   "source": [
    "my_list = [\"가\", \"나\", \"다\", \"라\"]\n",
    "\n",
    "for i in range(len(my_list)-1):\n",
    "    print(my_list[i], my_list[i+1])"
   ]
  },
  {
   "cell_type": "markdown",
   "id": "7f301e43",
   "metadata": {
    "id": "7f301e43"
   },
   "source": [
    "#### 176. 리스트를 아래와 같이 출력하라.\n",
    "\n",
    "- my_list = [\"가\", \"나\", \"다\", \"라\", \"마\"]\n",
    "- 가 나 다\n",
    "- 나 다 라\n",
    "- 다 라 마"
   ]
  },
  {
   "cell_type": "code",
   "execution_count": 81,
   "id": "e6aa9a67",
   "metadata": {
    "id": "e6aa9a67"
   },
   "outputs": [
    {
     "name": "stdout",
     "output_type": "stream",
     "text": [
      "가 나 다\n",
      "나 다 라\n",
      "다 라 마\n"
     ]
    }
   ],
   "source": [
    "my_list = [\"가\", \"나\", \"다\", \"라\", \"마\"]\n",
    "\n",
    "for i in range(len(my_list)-2):\n",
    "    print(my_list[i], my_list[i+1], my_list[i+2])"
   ]
  },
  {
   "cell_type": "markdown",
   "id": "26940800",
   "metadata": {
    "id": "26940800"
   },
   "source": [
    "#### 177. 복문과 range 함수를 사용해서 my_list를 아래와 같이 출력하라.\n",
    "\n",
    "- my_list = [\"가\", \"나\", \"다\", \"라\"]\n",
    "- 라 다\n",
    "- 다 나\n",
    "- 나 가"
   ]
  },
  {
   "cell_type": "code",
   "execution_count": 85,
   "id": "eadc51c6",
   "metadata": {
    "id": "eadc51c6"
   },
   "outputs": [
    {
     "name": "stdout",
     "output_type": "stream",
     "text": [
      "라 다\n",
      "다 나\n",
      "나 가\n"
     ]
    }
   ],
   "source": [
    "my_list = [\"가\", \"나\", \"다\", \"라\"]\n",
    "my_list = my_list[::-1]\n",
    "\n",
    "for i in range(len(my_list)-1):\n",
    "    print(my_list[i], my_list[i+1])"
   ]
  },
  {
   "cell_type": "markdown",
   "id": "81013de2",
   "metadata": {
    "id": "81013de2"
   },
   "source": [
    "#### 178. 리스트에는 네 개의 정수가 저장되어 있다. 각각의 데이터에 대해서 자신과 우측값과의 차분값을 화면에 출력하라.\n",
    "\n",
    "- my_list = [100, 200, 400, 800]\n",
    "- 예를들어 100을 기준으로 우측에 위치한 200과의 차분 값를 화면에 출력하고, 200을 기준으로 우측에 위치한 400과의 차분값을 화면에 출력한다. 이어서 400을 기준으로 우측에 위치한 800과의 차분값을 화면에 출력한다.\n",
    "\n",
    "- 100\n",
    "- 200\n",
    "- 400"
   ]
  },
  {
   "cell_type": "code",
   "execution_count": 88,
   "id": "ccdaa311",
   "metadata": {
    "id": "ccdaa311"
   },
   "outputs": [
    {
     "name": "stdout",
     "output_type": "stream",
     "text": [
      "100\n",
      "200\n",
      "400\n"
     ]
    }
   ],
   "source": [
    "my_list = [100, 200, 400, 800]\n",
    "\n",
    "for i in range(len(my_list)-1): # 0,1,2\n",
    "    print(my_list[i+1] - my_list[i])"
   ]
  },
  {
   "cell_type": "markdown",
   "id": "1cb3d280",
   "metadata": {
    "id": "1cb3d280"
   },
   "source": [
    "#### 179. 리스트에는 6일 간의 종가 데이터가 저장되어 있다. 종가 데이터의 3일 이동 평균을 계산하고 이를 화면에 출력하라.\n",
    "\n",
    "- my_list = [100, 200, 400, 800, 1000, 1300]\n",
    "- 첫 번째 줄에는 100, 200, 400의 평균값이 출력된다. 두 번째 줄에는 200, 400, 800의 평균값이 출력된다. 같은 방식으로 나머지 데이터의 평균을 출력한다.\n",
    "\n",
    "- 233.33333333333334\n",
    "- 466.6666666666667\n",
    "- 733.3333333333334\n",
    "- 1033.3333333333333"
   ]
  },
  {
   "cell_type": "code",
   "execution_count": 92,
   "id": "803a1bdc",
   "metadata": {
    "id": "803a1bdc"
   },
   "outputs": [
    {
     "name": "stdout",
     "output_type": "stream",
     "text": [
      "233.33333333333334\n",
      "466.6666666666667\n",
      "733.3333333333334\n",
      "1033.3333333333333\n"
     ]
    }
   ],
   "source": [
    "my_list = [100, 200, 400, 800, 1000, 1300]\n",
    "\n",
    "for i in range(len(my_list)-2):\n",
    "    print((my_list[i]+my_list[i+1]+my_list[i+2])/3)"
   ]
  },
  {
   "cell_type": "markdown",
   "id": "1f897e74",
   "metadata": {
    "id": "1f897e74"
   },
   "source": [
    "#### 180. 리스트에 5일간의 저가, 고가 정보가 저장돼 있다. 고가와 저가의 차를 변동폭이라고 정의할 때, low, high 두 개의 리스트를 사용해서 5일간의 변동폭을 volatility 리스트에 저장하라.\n",
    "\n",
    "- low_prices  = [100, 200, 400, 800, 1000]\n",
    "- high_prices = [150, 300, 430, 880, 1000]"
   ]
  },
  {
   "cell_type": "code",
   "execution_count": 93,
   "id": "b62fb738",
   "metadata": {
    "id": "b62fb738"
   },
   "outputs": [
    {
     "name": "stdout",
     "output_type": "stream",
     "text": [
      "[50, 100, 30, 80, 0]\n"
     ]
    }
   ],
   "source": [
    "low_prices = [100, 200, 400, 800, 1000]\n",
    "high_prices = [150, 300, 430, 880, 1000]\n",
    "volatility = []\n",
    "\n",
    "for i in range(len(low_prices)):\n",
    "    volatility.append(high_prices[i] - low_prices[i])\n",
    "    \n",
    "print(volatility)"
   ]
  },
  {
   "cell_type": "markdown",
   "id": "169d15f1",
   "metadata": {
    "id": "169d15f1"
   },
   "source": [
    "#### 181. 아래 표에서 하나의 행을 하나의 리스트로, 총 3개의 리스트를 갖는 이차원 리스트 apart를 정의하라.\n",
    "\n",
    "- 101호 |\t102호\n",
    "- 201호 |\t202호\n",
    "- 301호 |\t302호"
   ]
  },
  {
   "cell_type": "code",
   "execution_count": 94,
   "id": "662fb84e",
   "metadata": {
    "id": "662fb84e"
   },
   "outputs": [
    {
     "data": {
      "text/plain": [
       "[['101호', '102호'], ['201호', '202호'], ['301호', '302호']]"
      ]
     },
     "execution_count": 94,
     "metadata": {},
     "output_type": "execute_result"
    }
   ],
   "source": [
    "f1 = ['101호', '102호']\n",
    "f2 = ['201호', '202호']\n",
    "f3 = ['301호', '302호']\n",
    "\n",
    "apart = [f1, f2, f3]\n",
    "apart"
   ]
  },
  {
   "cell_type": "markdown",
   "id": "7f0000bf",
   "metadata": {
    "id": "7f0000bf"
   },
   "source": [
    "#### 182. 아래 표에서 하나의 열을 하나의 리스트로, 총 2개의 리스트를 갖는 이차원 리스트 stock을 정의하라.\n",
    "\n",
    "- 시가\t종가\n",
    "- 100\t80\n",
    "- 200\t210\n",
    "- 300\t330"
   ]
  },
  {
   "cell_type": "code",
   "execution_count": 95,
   "id": "fe0d2a57",
   "metadata": {
    "id": "fe0d2a57"
   },
   "outputs": [
    {
     "data": {
      "text/plain": [
       "[[100, 200, 300], [80, 210, 330]]"
      ]
     },
     "execution_count": 95,
     "metadata": {},
     "output_type": "execute_result"
    }
   ],
   "source": [
    "start = [100, 200, 300]\n",
    "stop = [80, 210, 330]\n",
    "\n",
    "stock = [start, stop]\n",
    "stock"
   ]
  },
  {
   "cell_type": "markdown",
   "id": "f5a295d6",
   "metadata": {
    "id": "f5a295d6"
   },
   "source": [
    "#### 183. 아래 표를 stock 이름의 딕셔너리로 표현하라.시가를 key로 저장하고, 나머지 같은 열의 데이터를 리스트로 저장해서 value로 저장한다. 종가 역시 key로 저장하고 나머지 같은 열의 데이터를 리스트로 저장해서 value로 저장한다.\n",
    "\n",
    "- 시가\t종가\n",
    "- 100\t80\n",
    "- 200\t210\n",
    "- 300\t330"
   ]
  },
  {
   "cell_type": "code",
   "execution_count": 96,
   "id": "411af977",
   "metadata": {
    "id": "411af977"
   },
   "outputs": [
    {
     "data": {
      "text/plain": [
       "{'시가': [100, 200, 300], '종가': [80, 210, 330]}"
      ]
     },
     "execution_count": 96,
     "metadata": {},
     "output_type": "execute_result"
    }
   ],
   "source": [
    "stock = {'시가':[100, 200, 300], '종가':[80, 210, 330]}\n",
    "stock"
   ]
  },
  {
   "cell_type": "markdown",
   "id": "b2161b30",
   "metadata": {
    "id": "b2161b30"
   },
   "source": [
    "#### 184. 아래 표를 stock 이라는 이름의 딕셔너리로 표현하라. 날짜를 key로 저장하고, 나머지 같은 행의 데이터를 리스트로 저장해서 value로 저장한다. 첫 열이 날짜이다.\n",
    "\n",
    "- 10/10\t80\t110\t70\t90\n",
    "- 10/11\t210\t230\t190\t200"
   ]
  },
  {
   "cell_type": "code",
   "execution_count": 97,
   "id": "f7241bed",
   "metadata": {
    "id": "f7241bed"
   },
   "outputs": [
    {
     "data": {
      "text/plain": [
       "{'10/10': [100, 200, 300], '10/11': [80, 210, 330]}"
      ]
     },
     "execution_count": 97,
     "metadata": {},
     "output_type": "execute_result"
    }
   ],
   "source": [
    "stock = {'10/10':[100, 200, 300], '10/11':[80, 210, 330]}\n",
    "stock"
   ]
  },
  {
   "cell_type": "markdown",
   "id": "9a9134f3",
   "metadata": {
    "id": "9a9134f3"
   },
   "source": [
    "#### 185. 리스트에 저장된 데이터를 아래와 같이 출력하라.\n",
    "\n",
    "- apart = [ [101, 102], [201, 202], [301, 302] ]\n",
    "- 101 호\n",
    "- 102 호\n",
    "- 201 호\n",
    "- 202 호\n",
    "- 301 호\n",
    "- 302 호"
   ]
  },
  {
   "cell_type": "code",
   "execution_count": 101,
   "id": "5f20e71f",
   "metadata": {
    "id": "5f20e71f"
   },
   "outputs": [
    {
     "name": "stdout",
     "output_type": "stream",
     "text": [
      "101 호\n",
      "102 호\n",
      "201 호\n",
      "202 호\n",
      "301 호\n",
      "302 호\n"
     ]
    }
   ],
   "source": [
    "apart = [ [101, 102], [201, 202], [301, 302] ]\n",
    "\n",
    "for i in range(len(apart)):\n",
    "    for j in range(len(apart[i])):\n",
    "        print(apart[i][j], '호')"
   ]
  },
  {
   "cell_type": "markdown",
   "id": "5319e3ac",
   "metadata": {
    "id": "5319e3ac"
   },
   "source": [
    "#### 186. 리스트에 저장된 데이터를 아래와 같이 출력하라.\n",
    "\n",
    "- apart = [ [101, 102], [201, 202], [301, 302] ]\n",
    "- 301 호\n",
    "- 302 호\n",
    "- 201 호\n",
    "- 202 호\n",
    "- 101 호\n",
    "- 102 호"
   ]
  },
  {
   "cell_type": "code",
   "execution_count": 102,
   "id": "2e8ba2f4",
   "metadata": {
    "id": "2e8ba2f4"
   },
   "outputs": [
    {
     "name": "stdout",
     "output_type": "stream",
     "text": [
      "301 호\n",
      "302 호\n",
      "201 호\n",
      "202 호\n",
      "101 호\n",
      "102 호\n"
     ]
    }
   ],
   "source": [
    "apart = [ [101, 102], [201, 202], [301, 302] ]\n",
    "\n",
    "for i in range(len(apart)):\n",
    "    for j in range(len(apart[i])):\n",
    "        print(apart[2-i][j], '호')"
   ]
  },
  {
   "cell_type": "markdown",
   "id": "af928ed3",
   "metadata": {
    "id": "af928ed3"
   },
   "source": [
    "#### 187. 리스트에 저장된 데이터를 아래와 같이 출력하라.\n",
    "\n",
    "- apart = [ [101, 102], [201, 202], [301, 302] ]\n",
    "- 302 호\n",
    "- 301 호\n",
    "- 202 호\n",
    "- 201 호\n",
    "- 102 호\n",
    "- 101 호"
   ]
  },
  {
   "cell_type": "code",
   "execution_count": 103,
   "id": "76e2a383",
   "metadata": {
    "id": "76e2a383"
   },
   "outputs": [
    {
     "name": "stdout",
     "output_type": "stream",
     "text": [
      "302 호\n",
      "301 호\n",
      "202 호\n",
      "201 호\n",
      "102 호\n",
      "101 호\n"
     ]
    }
   ],
   "source": [
    "apart = [ [101, 102], [201, 202], [301, 302] ]\n",
    "\n",
    "for i in range(len(apart)):\n",
    "    for j in range(len(apart[i])):\n",
    "        print(apart[2-i][1-j], '호')"
   ]
  },
  {
   "cell_type": "markdown",
   "id": "1a507329",
   "metadata": {
    "id": "1a507329"
   },
   "source": [
    "#### 188. 리스트에 저장된 데이터를 아래와 같이 출력하라.\n",
    "\n",
    "- apart = [ [101, 102], [201, 202], [301, 302] ]\n",
    "- 101 호\n",
    "- -----\n",
    "- 102 호\n",
    "- -----\n",
    "- 201 호\n",
    "- -----\n",
    "- 202 호\n",
    "- -----\n",
    "- 301 호\n",
    "- -----\n",
    "- 302 호\n",
    "- -----"
   ]
  },
  {
   "cell_type": "code",
   "execution_count": 104,
   "id": "58f92f6b",
   "metadata": {
    "id": "58f92f6b"
   },
   "outputs": [
    {
     "name": "stdout",
     "output_type": "stream",
     "text": [
      "101 호\n",
      "----------\n",
      "102 호\n",
      "----------\n",
      "201 호\n",
      "----------\n",
      "202 호\n",
      "----------\n",
      "301 호\n",
      "----------\n",
      "302 호\n",
      "----------\n"
     ]
    }
   ],
   "source": [
    "apart = [ [101, 102], [201, 202], [301, 302] ]\n",
    "\n",
    "for i in apart:\n",
    "    for j in i:\n",
    "        print(j, '호')\n",
    "        print('-'*10)"
   ]
  },
  {
   "cell_type": "markdown",
   "id": "33b97b65",
   "metadata": {
    "id": "33b97b65"
   },
   "source": [
    "#### 189. 리스트에 저장된 데이터를 아래와 같이 출력하라.\n",
    "\n",
    "- apart = [ [101, 102], [201, 202], [301, 302] ]\n",
    "- 101 호\n",
    "- 102 호\n",
    "- -----\n",
    "- 201 호\n",
    "- 202 호\n",
    "- -----\n",
    "- 301 호\n",
    "- 302 호\n",
    "- -----"
   ]
  },
  {
   "cell_type": "code",
   "execution_count": 105,
   "id": "db4128f5",
   "metadata": {
    "id": "db4128f5"
   },
   "outputs": [
    {
     "name": "stdout",
     "output_type": "stream",
     "text": [
      "101 호\n",
      "102 호\n",
      "----------\n",
      "201 호\n",
      "202 호\n",
      "----------\n",
      "301 호\n",
      "302 호\n",
      "----------\n"
     ]
    }
   ],
   "source": [
    "apart = [ [101, 102], [201, 202], [301, 302] ]\n",
    "\n",
    "for i in apart:\n",
    "    for j in i:\n",
    "        print(j, '호')\n",
    "    print('-'*10)"
   ]
  },
  {
   "cell_type": "markdown",
   "id": "792ddcf0",
   "metadata": {
    "id": "792ddcf0"
   },
   "source": [
    "#### 190. 리스트에 저장된 데이터를 아래와 같이 출력하라.\n",
    "\n",
    "- apart = [ [101, 102], [201, 202], [301, 302] ]\n",
    "- 101 호\n",
    "- 102 호\n",
    "- 201 호\n",
    "- 202 호\n",
    "- 301 호\n",
    "- 302 호\n",
    "- -----"
   ]
  },
  {
   "cell_type": "code",
   "execution_count": 106,
   "id": "e9454246",
   "metadata": {
    "id": "e9454246"
   },
   "outputs": [
    {
     "name": "stdout",
     "output_type": "stream",
     "text": [
      "101 호\n",
      "102 호\n",
      "201 호\n",
      "202 호\n",
      "301 호\n",
      "302 호\n",
      "----------\n"
     ]
    }
   ],
   "source": [
    "apart = [ [101, 102], [201, 202], [301, 302] ]\n",
    "\n",
    "for i in apart:\n",
    "    for j in i:\n",
    "        print(j, '호')\n",
    "print('-'*10)"
   ]
  },
  {
   "cell_type": "markdown",
   "id": "d13728e8",
   "metadata": {
    "id": "d13728e8"
   },
   "source": [
    "#### 191. data에는 매수한 종목들의 OHLC (open/high/low/close) 가격 정보가 바인딩 되어있다.\n",
    "\n",
    "data = [\n",
    "    [ 2000,  3050,  2050,  1980],\n",
    "    [ 7500,  2050,  2050,  1980],\n",
    "    [15450, 15050, 15550, 14900]\n",
    "]\n",
    "#### 수수료를 0.014 %로 가정할 때, 각 가격에 수수료를 포함한 가격을 한라인에 하나씩 출력하라.\n",
    "\n",
    "- 2000.28\n",
    "- 3050.427\n",
    "- 2050.2870000000003\n",
    "- ..."
   ]
  },
  {
   "cell_type": "code",
   "execution_count": 110,
   "id": "013ee1e4",
   "metadata": {
    "id": "013ee1e4"
   },
   "outputs": [
    {
     "name": "stdout",
     "output_type": "stream",
     "text": [
      "2000.28\n",
      "3050.427\n",
      "2050.2870000000003\n",
      "1980.2772\n",
      "7501.05\n",
      "2050.2870000000003\n",
      "2050.2870000000003\n",
      "1980.2772\n",
      "15452.163\n",
      "15052.107\n",
      "15552.177\n",
      "14902.086000000001\n"
     ]
    }
   ],
   "source": [
    "data = [ [ 2000, 3050, 2050, 1980], [ 7500, 2050, 2050, 1980], [15450, 15050, 15550, 14900] ]\n",
    "\n",
    "for i in data:\n",
    "    for j in i:\n",
    "        print(j * 1.00014)\n",
    "        "
   ]
  },
  {
   "cell_type": "markdown",
   "id": "dd638bd5",
   "metadata": {
    "id": "dd638bd5"
   },
   "source": [
    "#### 192. 191번의 출력 결과에 행단위로 \"----\" 구분자를 추가하라.\n",
    "\n",
    "- 2000.28\n",
    "- 3050.427\n",
    "- 2050.2870000000003\n",
    "- 1980.2772\n",
    "- ----\n",
    "- 7501.05\n",
    "- 2050.2870000000003\n",
    "- 2050.2870000000003\n",
    "- 1980.2772\n",
    "- ----\n",
    "- 15452.163\n",
    "- 15052.107\n",
    "- 15552.177\n",
    "- 14902.086000000001\n",
    "- ----"
   ]
  },
  {
   "cell_type": "code",
   "execution_count": 112,
   "id": "d998d2c1",
   "metadata": {
    "id": "d998d2c1"
   },
   "outputs": [
    {
     "name": "stdout",
     "output_type": "stream",
     "text": [
      "2000.28\n",
      "3050.427\n",
      "2050.2870000000003\n",
      "1980.2772\n",
      "--------------------\n",
      "7501.05\n",
      "2050.2870000000003\n",
      "2050.2870000000003\n",
      "1980.2772\n",
      "--------------------\n",
      "15452.163\n",
      "15052.107\n",
      "15552.177\n",
      "14902.086000000001\n",
      "--------------------\n"
     ]
    }
   ],
   "source": [
    "data = [ [ 2000, 3050, 2050, 1980], [ 7500, 2050, 2050, 1980], [15450, 15050, 15550, 14900] ]\n",
    "\n",
    "for i in data:\n",
    "    for j in i:\n",
    "        print(j * 1.00014)\n",
    "    print('-'*20)"
   ]
  },
  {
   "cell_type": "markdown",
   "id": "66407b9f",
   "metadata": {
    "id": "66407b9f"
   },
   "source": [
    "#### 193. 192 번 문제의 결과값을 result 이름의 리스트에 1차원 배열로 저장하라.\n",
    "\n",
    "> print(result)\n",
    "\n",
    "> [2000.28, 3050.427, 2050.2870000000003, 1980.2772, 7501.05, 2050.2870000000003, 2050.2870000000003, ...]"
   ]
  },
  {
   "cell_type": "code",
   "execution_count": 113,
   "id": "9d248f95",
   "metadata": {
    "id": "9d248f95"
   },
   "outputs": [
    {
     "data": {
      "text/plain": [
       "[2000.28,\n",
       " 3050.427,\n",
       " 2050.2870000000003,\n",
       " 1980.2772,\n",
       " 7501.05,\n",
       " 2050.2870000000003,\n",
       " 2050.2870000000003,\n",
       " 1980.2772,\n",
       " 15452.163,\n",
       " 15052.107,\n",
       " 15552.177,\n",
       " 14902.086000000001]"
      ]
     },
     "execution_count": 113,
     "metadata": {},
     "output_type": "execute_result"
    }
   ],
   "source": [
    "data = [ [ 2000, 3050, 2050, 1980], [ 7500, 2050, 2050, 1980], [15450, 15050, 15550, 14900] ]\n",
    "result = []\n",
    "\n",
    "for i in data:\n",
    "    for j in i:\n",
    "        #print(j * 1.00014)\n",
    "        result.append(j * 1.00014)\n",
    "        \n",
    "result"
   ]
  },
  {
   "cell_type": "markdown",
   "id": "a939cda0",
   "metadata": {
    "id": "a939cda0"
   },
   "source": [
    "#### 194. 191번 문제의 결괏값을 result 이름의 리스트에 2차원 배열로 저장하라. 저장 포맷은 아래와 같다. 각 행에 대한 데이터끼리 리스트에 저장되어야 한다.\n",
    "\n",
    "> print(result)\n",
    "- [\n",
    " [2000.28, 3050.427, 2050.2870000000003, 1980.2772],\n",
    " [7501.05, 2050.2870000000003, 2050.2870000000003, 1980.2772],\n",
    " [15452.163, 15052.107, 15552.177, 14902.086000000001]\n",
    "]"
   ]
  },
  {
   "cell_type": "code",
   "execution_count": 115,
   "id": "87879703",
   "metadata": {
    "id": "87879703"
   },
   "outputs": [
    {
     "data": {
      "text/plain": [
       "[[2000.28, 3050.427, 2050.2870000000003, 1980.2772],\n",
       " [7501.05, 2050.2870000000003, 2050.2870000000003, 1980.2772],\n",
       " [15452.163, 15052.107, 15552.177, 14902.086000000001]]"
      ]
     },
     "execution_count": 115,
     "metadata": {},
     "output_type": "execute_result"
    }
   ],
   "source": [
    "data = [ [ 2000, 3050, 2050, 1980], [ 7500, 2050, 2050, 1980], [15450, 15050, 15550, 14900] ]\n",
    "result = []\n",
    "\n",
    "for i in data:\n",
    "    row = []\n",
    "    \n",
    "    for j in i:\n",
    "        #print(j * 1.00014)\n",
    "        row.append(j * 1.00014)\n",
    "    result.append(row)\n",
    "result"
   ]
  },
  {
   "cell_type": "markdown",
   "id": "0477f55f",
   "metadata": {
    "id": "0477f55f"
   },
   "source": [
    "#### 195. ohlc 리스트에는 시가(open), 고가 (high), 저가 (low) , 종가(close)가 날짜별로 저장돼 있다. 화면에 종가데이터를 출력하라.\n",
    "\n",
    "- ohlc = [[\"open\", \"high\", \"low\", \"close\"],\n",
    "        [100, 110, 70, 100],\n",
    "        [200, 210, 180, 190],\n",
    "        [300, 310, 300, 310]]\n",
    "- 100\n",
    "- 190\n",
    "- 310"
   ]
  },
  {
   "cell_type": "code",
   "execution_count": 116,
   "id": "d62d0c62",
   "metadata": {
    "id": "d62d0c62"
   },
   "outputs": [
    {
     "name": "stdout",
     "output_type": "stream",
     "text": [
      "100\n",
      "190\n",
      "310\n"
     ]
    }
   ],
   "source": [
    "ohlc = [[\"open\", \"high\", \"low\", \"close\"], [100, 110, 70, 100], [200, 210, 180, 190], [300, 310, 300, 310]]\n",
    "\n",
    "for i in ohlc[1:]:\n",
    "    print(i[3])"
   ]
  },
  {
   "cell_type": "markdown",
   "id": "19d7d7f6",
   "metadata": {
    "id": "19d7d7f6"
   },
   "source": [
    "#### 196. ohlc 리스트에는 시가(open), 고가 (high), 저가 (low) , 종가(close)가 날짜별로 저장돼 있다. 종가가 150원보다 큰경우에만 종가를 출력하라.\n",
    "\n",
    "- ohlc = [[\"open\", \"high\", \"low\", \"close\"],\n",
    "        [100, 110, 70, 100],\n",
    "        [200, 210, 180, 190],\n",
    "        [300, 310, 300, 310]]\n",
    "- 190\n",
    "- 310"
   ]
  },
  {
   "cell_type": "code",
   "execution_count": 117,
   "id": "63acf167",
   "metadata": {
    "id": "63acf167"
   },
   "outputs": [
    {
     "name": "stdout",
     "output_type": "stream",
     "text": [
      "190\n",
      "310\n"
     ]
    }
   ],
   "source": [
    "ohlc = [[\"open\", \"high\", \"low\", \"close\"], [100, 110, 70, 100], [200, 210, 180, 190], [300, 310, 300, 310]]\n",
    "\n",
    "for i in ohlc[1:]:\n",
    "    if i[3] > 150:\n",
    "        print(i[3])"
   ]
  },
  {
   "cell_type": "markdown",
   "id": "4c367697",
   "metadata": {
    "id": "4c367697"
   },
   "source": [
    "#### 197. ohlc 리스트에는 시가(open), 고가 (high), 저가 (low) , 종가(close)가 날짜별로 저장돼 있다. 종가가 시가 보다 크거나 같은 경우에만 종가를 출력하라.\n",
    "\n",
    "- ohlc = [[\"open\", \"high\", \"low\", \"close\"],\n",
    "        [100, 110, 70, 100],\n",
    "        [200, 210, 180, 190],\n",
    "        [300, 310, 300, 310]]\n",
    "- 100\n",
    "- 310"
   ]
  },
  {
   "cell_type": "code",
   "execution_count": 119,
   "id": "94addac7",
   "metadata": {
    "id": "94addac7"
   },
   "outputs": [
    {
     "name": "stdout",
     "output_type": "stream",
     "text": [
      "100\n",
      "310\n"
     ]
    }
   ],
   "source": [
    "ohlc = [[\"open\", \"high\", \"low\", \"close\"], [100, 110, 70, 100], [200, 210, 180, 190], [300, 310, 300, 310]]\n",
    "\n",
    "for i in ohlc[1:]:\n",
    "    if i[3] >= i[0]:\n",
    "        print(i[3])"
   ]
  },
  {
   "cell_type": "markdown",
   "id": "98508056",
   "metadata": {
    "id": "98508056"
   },
   "source": [
    "#### 198. ohlc 리스트에는 시가(open), 고가 (high), 저가 (low) , 종가(close)가 날짜별로 저장돼 있다. 고가와 저가의 차이를 변동폭으로 정의할 때 변동폭을 volatility 이름의 리스트에 저장하라.\n",
    "\n",
    "> ohlc = [[\"open\", \"high\", \"low\", \"close\"],\n",
    "        [100, 110, 70, 100],\n",
    "        [200, 210, 180, 190],\n",
    "        [300, 310, 300, 310]]\n",
    "\n",
    "> print(volatility)\n",
    "\n",
    ">[40, 30, 10]"
   ]
  },
  {
   "cell_type": "code",
   "execution_count": 120,
   "id": "1d5b8bbc",
   "metadata": {
    "id": "1d5b8bbc"
   },
   "outputs": [
    {
     "name": "stdout",
     "output_type": "stream",
     "text": [
      "[40, 30, 10]\n"
     ]
    }
   ],
   "source": [
    "ohlc = [[\"open\", \"high\", \"low\", \"close\"], [100, 110, 70, 100], [200, 210, 180, 190], [300, 310, 300, 310]]\n",
    "volatility = []\n",
    "\n",
    "for i in ohlc[1:]:\n",
    "    volatility.append(i[1]-i[2])\n",
    "    \n",
    "print(volatility)"
   ]
  },
  {
   "cell_type": "markdown",
   "id": "4b51b8f4",
   "metadata": {
    "id": "4b51b8f4"
   },
   "source": [
    "#### 199. 리스트에는 3일 간의 ohlc 데이터가 저장돼 있다. 종가가 시가보다 높은 날의 변동성 (고가 - 저가)을 화면에 출력하라.\n",
    "\n",
    "- ohlc = [[\"open\", \"high\", \"low\", \"close\"],\n",
    "        [100, 110, 70, 100],\n",
    "        [200, 210, 180, 190],\n",
    "        [300, 310, 300, 310]]\n",
    "- 종가가 시가보다 높은 거래일의 OHLC는 [300, 310, 300, 310] 이다. 따라서 이 거래일의 변동성은 10 (310 - 300)이다.\n",
    "\n",
    "- 10"
   ]
  },
  {
   "cell_type": "code",
   "execution_count": 121,
   "id": "2ce59f13",
   "metadata": {
    "id": "2ce59f13"
   },
   "outputs": [
    {
     "name": "stdout",
     "output_type": "stream",
     "text": [
      "10\n"
     ]
    }
   ],
   "source": [
    "ohlc = [[\"open\", \"high\", \"low\", \"close\"], [100, 110, 70, 100], [200, 210, 180, 190], [300, 310, 300, 310]]\n",
    "volatility = []\n",
    "\n",
    "for i in ohlc[1:]:\n",
    "    if i[3] > i[0]:\n",
    "        print(i[1]-i[2])"
   ]
  },
  {
   "cell_type": "markdown",
   "id": "69b858b8",
   "metadata": {
    "id": "69b858b8"
   },
   "source": [
    "#### 200. 리스트에는 3일 간의 ohlc 데이터가 저장돼 있다. 시가에 매수해서 종가에 매도 했을 경우 총 수익금을 계산하라.\n",
    "\n",
    "- ohlc = [[\"open\", \"high\", \"low\", \"close\"],\n",
    "        [100, 110, 70, 100],\n",
    "        [200, 210, 180, 190],\n",
    "        [300, 310, 300, 310]]\n",
    "- 1일차 수익 0원 (100 - 100)\n",
    "- 2일차 수익 -10원 (190 - 200)\n",
    "- 3일차 수익 10원 (310 - 300) 이다.\n",
    "\n",
    "- 0"
   ]
  },
  {
   "cell_type": "code",
   "execution_count": 124,
   "id": "c673d682",
   "metadata": {
    "id": "c673d682"
   },
   "outputs": [
    {
     "data": {
      "text/plain": [
       "0"
      ]
     },
     "execution_count": 124,
     "metadata": {},
     "output_type": "execute_result"
    }
   ],
   "source": [
    "ohlc = [[\"open\", \"high\", \"low\", \"close\"], [100, 110, 70, 100], [200, 210, 180, 190], [300, 310, 300, 310]]\n",
    "profit = 0\n",
    "for i in ohlc[1:]:\n",
    "    profit += i[3]-i[0]\n",
    "\n",
    "profit"
   ]
  }
 ],
 "metadata": {
  "colab": {
   "provenance": []
  },
  "kernelspec": {
   "display_name": "Python 3 (ipykernel)",
   "language": "python",
   "name": "python3"
  },
  "language_info": {
   "codemirror_mode": {
    "name": "ipython",
    "version": 3
   },
   "file_extension": ".py",
   "mimetype": "text/x-python",
   "name": "python",
   "nbconvert_exporter": "python",
   "pygments_lexer": "ipython3",
   "version": "3.10.11"
  }
 },
 "nbformat": 4,
 "nbformat_minor": 5
}
