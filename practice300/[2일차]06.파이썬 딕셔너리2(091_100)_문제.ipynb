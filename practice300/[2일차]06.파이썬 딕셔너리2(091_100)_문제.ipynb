{
 "cells": [
  {
   "cell_type": "markdown",
   "id": "971c6a3a",
   "metadata": {
    "id": "971c6a3a"
   },
   "source": [
    "## 06. 파이썬 딕셔너리\n",
    "### 파이썬 딕셔너리는 순서는 없지만 key와 value 형태로 데이터를 저장합니다. 특히 key는 데이터의 레이블(label)을 지정하는 용도로 자주 사용됩니다."
   ]
  },
  {
   "cell_type": "markdown",
   "id": "be35decc",
   "metadata": {
    "id": "be35decc"
   },
   "source": [
    "#### 091 딕셔너리 생성\n",
    "아래의 표에서, 아이스크림 이름을 키값으로, (가격, 재고) 리스트를 딕셔너리의 값으로 저장하라. <br/>\n",
    "딕셔너리의 이름은 inventory로 한다.\n",
    "\n",
    "| 이름\t  | 가격 | 재고  |\n",
    "| ------  |-----:|------:| \n",
    "| 메로나\t|  300 |    20 |\n",
    "| 비비빅\t|  400 |     3 |\n",
    "| 죠스바\t|  250 |   100 |\n"
   ]
  },
  {
   "cell_type": "code",
   "execution_count": 1,
   "id": "dc10438f",
   "metadata": {
    "colab": {
     "base_uri": "https://localhost:8080/"
    },
    "executionInfo": {
     "elapsed": 3,
     "status": "ok",
     "timestamp": 1682403329807,
     "user": {
      "displayName": "주주",
      "userId": "14652178887215818703"
     },
     "user_tz": -540
    },
    "id": "dc10438f",
    "outputId": "1f811d73-5d40-40e6-a72c-3b187597985b"
   },
   "outputs": [
    {
     "data": {
      "text/plain": [
       "{'메로나': [300, 20], '비비빅': [400, 3], '죠스바': [250, 100]}"
      ]
     },
     "execution_count": 1,
     "metadata": {},
     "output_type": "execute_result"
    }
   ],
   "source": [
    "inventory = {'메로나': [300,20], '비비빅': [400,3], '죠스바': [250,100]}\n",
    "inventory"
   ]
  },
  {
   "cell_type": "markdown",
   "id": "f7ecd1b1",
   "metadata": {
    "id": "f7ecd1b1"
   },
   "source": [
    "#### 92 딕셔너리 인덱싱\n",
    "inventory 딕셔너리에서 메로나의 가격을 화면에 출력하라.\n",
    "\n",
    "inventory = {\"메로나\": [300, 20],\n",
    "              \"비비빅\": [400, 3],\n",
    "              \"죠스바\": [250, 100]} <br/>\n",
    "               <br/>\n",
    "실행 예시:  <br/>\n",
    "300 원\n",
    "\n"
   ]
  },
  {
   "cell_type": "code",
   "execution_count": 3,
   "id": "03f827cb",
   "metadata": {
    "colab": {
     "base_uri": "https://localhost:8080/"
    },
    "executionInfo": {
     "elapsed": 6,
     "status": "ok",
     "timestamp": 1682403372471,
     "user": {
      "displayName": "주주",
      "userId": "14652178887215818703"
     },
     "user_tz": -540
    },
    "id": "03f827cb",
    "outputId": "32aaa2a1-a963-45f5-e4bf-c0fbe4591438"
   },
   "outputs": [
    {
     "name": "stdout",
     "output_type": "stream",
     "text": [
      "300 원\n"
     ]
    }
   ],
   "source": [
    "print(inventory['메로나'][0], '원')"
   ]
  },
  {
   "cell_type": "markdown",
   "id": "388278da",
   "metadata": {
    "id": "388278da"
   },
   "source": [
    "#### 093 딕셔너리 인덱싱\n",
    "inventory 딕셔너리에서 메로나의 재고를 화면에 출력하라.\n",
    "\n",
    "inventory = {\"메로나\": [300, 20],\n",
    "              \"비비빅\": [400, 3],\n",
    "              \"죠스바\": [250, 100]}\n",
    "- 실행 예시: 20 개\n",
    "\n"
   ]
  },
  {
   "cell_type": "code",
   "execution_count": 4,
   "id": "05f8148f",
   "metadata": {
    "colab": {
     "base_uri": "https://localhost:8080/"
    },
    "executionInfo": {
     "elapsed": 281,
     "status": "ok",
     "timestamp": 1682403390145,
     "user": {
      "displayName": "주주",
      "userId": "14652178887215818703"
     },
     "user_tz": -540
    },
    "id": "05f8148f",
    "outputId": "d93b0d28-2771-4fdc-ea36-c2f38a49e7d9"
   },
   "outputs": [
    {
     "name": "stdout",
     "output_type": "stream",
     "text": [
      "20 개\n"
     ]
    }
   ],
   "source": [
    "print(inventory['메로나'][1], '개')"
   ]
  },
  {
   "cell_type": "markdown",
   "id": "cdabfd63",
   "metadata": {
    "id": "cdabfd63"
   },
   "source": [
    "#### 094 딕셔너리 추가\n",
    "inventory 딕셔너리에 아래 데이터를 추가하라.  <br/>\n",
    "inventory = {\"메로나\": [300, 20],\n",
    "              \"비비빅\": [400, 3],\n",
    "              \"죠스바\": [250, 100]}  <br/>\n",
    "\n",
    "| 이름  |  가격 \t| 재고 | \n",
    "|------ |--- ----:|-----:| \n",
    "| 월드콘|   500 \t| 7    | <br/>\n",
    " <br/>\n",
    "\n",
    "실행 예시:  <br/>\n",
    "print(inventory)  <br/>\n",
    "{'메로나': [300, 20], '비비빅': [400, 3], '죠스바': [250, 100], '월드콘': [500, 7]}\n",
    "\n"
   ]
  },
  {
   "cell_type": "code",
   "execution_count": 6,
   "id": "f22bd850",
   "metadata": {
    "colab": {
     "base_uri": "https://localhost:8080/"
    },
    "executionInfo": {
     "elapsed": 6,
     "status": "ok",
     "timestamp": 1682403443850,
     "user": {
      "displayName": "주주",
      "userId": "14652178887215818703"
     },
     "user_tz": -540
    },
    "id": "f22bd850",
    "outputId": "616b2761-0cf2-4324-a2ba-b8c1bb9908e6"
   },
   "outputs": [
    {
     "data": {
      "text/plain": [
       "{'메로나': [300, 20], '비비빅': [400, 3], '죠스바': [250, 100], '월드콘': [500, 7]}"
      ]
     },
     "execution_count": 6,
     "metadata": {},
     "output_type": "execute_result"
    }
   ],
   "source": [
    "inventory['월드콘']= [500,7]\n",
    "inventory"
   ]
  },
  {
   "cell_type": "markdown",
   "id": "82307f1c",
   "metadata": {
    "id": "82307f1c"
   },
   "source": [
    "#### 095 딕셔너리 keys() 메서드\n",
    "다음의 딕셔너리로부터 key 값으로만 구성된 리스트를 생성하라.\n",
    "\n",
    "icecream = {'탱크보이': 1200, '폴라포': 1200, '빵빠레': 1800, '월드콘': 1500, '메로나': 1000}\n",
    "\n",
    " \n",
    "\n"
   ]
  },
  {
   "cell_type": "code",
   "execution_count": 12,
   "id": "e0082580",
   "metadata": {
    "colab": {
     "base_uri": "https://localhost:8080/"
    },
    "executionInfo": {
     "elapsed": 526,
     "status": "ok",
     "timestamp": 1682403611620,
     "user": {
      "displayName": "주주",
      "userId": "14652178887215818703"
     },
     "user_tz": -540
    },
    "id": "e0082580",
    "outputId": "0659165e-b4c7-4e71-d5db-6a3ef98b65fd"
   },
   "outputs": [
    {
     "data": {
      "text/plain": [
       "['탱크보이', '폴라포', '빵빠레', '월드콘', '메로나']"
      ]
     },
     "execution_count": 12,
     "metadata": {},
     "output_type": "execute_result"
    }
   ],
   "source": [
    "icecream = {'탱크보이': 1200, '폴라포': 1200, '빵빠레': 1800, '월드콘': 1500, '메로나': 1000}\n",
    "\n",
    "list_ice = list(icecream.keys())\n",
    "list_ice"
   ]
  },
  {
   "cell_type": "markdown",
   "id": "233e1ec7",
   "metadata": {
    "id": "233e1ec7"
   },
   "source": [
    "####  096 딕셔너리 values() 메서드\n",
    "다음의 딕셔너리에서 values 값으로만 구성된 리스트를 생성하라.\n",
    "\n",
    "icecream = {'탱크보이': 1200, '폴라포': 1200, '빵빠레': 1800, '월드콘': 1500, '메로나': 1000}\n"
   ]
  },
  {
   "cell_type": "code",
   "execution_count": 14,
   "id": "a71e1c7b",
   "metadata": {
    "colab": {
     "base_uri": "https://localhost:8080/"
    },
    "executionInfo": {
     "elapsed": 297,
     "status": "ok",
     "timestamp": 1682403651932,
     "user": {
      "displayName": "주주",
      "userId": "14652178887215818703"
     },
     "user_tz": -540
    },
    "id": "a71e1c7b",
    "outputId": "36c63137-038d-40d5-fd84-65abf466ea8c"
   },
   "outputs": [
    {
     "data": {
      "text/plain": [
       "[1200, 1200, 1800, 1500, 1000]"
      ]
     },
     "execution_count": 14,
     "metadata": {},
     "output_type": "execute_result"
    }
   ],
   "source": [
    "list_ice = list(icecream.values())\n",
    "list_ice"
   ]
  },
  {
   "cell_type": "markdown",
   "id": "99d7223f",
   "metadata": {
    "id": "99d7223f"
   },
   "source": [
    "#### 097 딕셔너리 values() 메서드\n",
    "icecream 딕셔너리에서 아이스크림 판매 금액의 총합을 출력하라.\n",
    "\n",
    "icecream = {'탱크보이': 1200, '폴라포': 1200, '빵빠레': 1800, '월드콘': 1500, '메로나': 1000} <br/>\n",
    " <br/>\n",
    "출력 예시: <br/>\n",
    "6700\n",
    "\n"
   ]
  },
  {
   "cell_type": "code",
   "execution_count": 15,
   "id": "8a188289",
   "metadata": {
    "colab": {
     "base_uri": "https://localhost:8080/"
    },
    "executionInfo": {
     "elapsed": 4,
     "status": "ok",
     "timestamp": 1682403675808,
     "user": {
      "displayName": "주주",
      "userId": "14652178887215818703"
     },
     "user_tz": -540
    },
    "id": "8a188289",
    "outputId": "4f93cd54-6fdd-426f-ada4-8e456b4228de"
   },
   "outputs": [
    {
     "data": {
      "text/plain": [
       "6700"
      ]
     },
     "execution_count": 15,
     "metadata": {},
     "output_type": "execute_result"
    }
   ],
   "source": [
    "sum(list(icecream.values()))"
   ]
  },
  {
   "cell_type": "markdown",
   "id": "c0a003a5",
   "metadata": {
    "id": "c0a003a5"
   },
   "source": [
    "#### 098 딕셔너리 update 메서드\n",
    "아래의 new_product 딕셔너리를 다음 icecream 딕셔너리에 추가하라.\n",
    "\n",
    "icecream = {'탱크보이': 1200, '폴라포': 1200, '빵빠레': 1800, '월드콘': 1500, '메로나': 1000} <br/>\n",
    "new_product = {'팥빙수':2700, '아맛나':1000} <br/>\n",
    " <br/>\n",
    "실행 예시: <br/>\n",
    "print(icecream) <br/>\n",
    "{탱크보이': 1200,  '폴라포': 1200,  '빵빠레': 1800,  '월드콘': 1500,  '메로나': 1000,  '팥빙수':2700, '아맛나':1000}"
   ]
  },
  {
   "cell_type": "code",
   "execution_count": 19,
   "id": "ad6b43de",
   "metadata": {
    "colab": {
     "base_uri": "https://localhost:8080/"
    },
    "executionInfo": {
     "elapsed": 3,
     "status": "ok",
     "timestamp": 1682403986678,
     "user": {
      "displayName": "주주",
      "userId": "14652178887215818703"
     },
     "user_tz": -540
    },
    "id": "ad6b43de",
    "outputId": "ae0c898c-8c40-40ee-c921-bf3e2d83ac33"
   },
   "outputs": [
    {
     "name": "stdout",
     "output_type": "stream",
     "text": [
      "{'탱크보이': 1200, '폴라포': 1200, '빵빠레': 1800, '월드콘': 1500, '메로나': 1000, '팥빙수': 2700, '아맛나': 1000}\n"
     ]
    }
   ],
   "source": [
    "icecream = {'탱크보이': 1200, '폴라포': 1200, '빵빠레': 1800, '월드콘': 1500, '메로나': 1000}\n",
    "new_product = {'팥빙수':2700, '아맛나':1000}\n",
    "\n",
    "icecream.update(new_product)\n",
    "print(icecream)"
   ]
  },
  {
   "cell_type": "markdown",
   "id": "4e59489c",
   "metadata": {
    "id": "4e59489c"
   },
   "source": [
    "#### 099 zip과 dict\n",
    "아래 두 개의 튜플을 하나의 딕셔너리로 변환하라. keys를 키로, vals를 값으로 result 이름의 딕셔너리로 저장한다. <br/>\n",
    " <br/>\n",
    "keys = (\"apple\", \"pear\", \"peach\") <br/>\n",
    "vals = (300, 250, 400) <br/>\n",
    " <br/>\n",
    "실행 예시: <br/>\n",
    "print(result) <br/>\n",
    " {'apple': 300, 'pear': 250, 'peach': 400}"
   ]
  },
  {
   "cell_type": "code",
   "execution_count": 21,
   "id": "6b7e66cf",
   "metadata": {
    "colab": {
     "base_uri": "https://localhost:8080/"
    },
    "executionInfo": {
     "elapsed": 5,
     "status": "ok",
     "timestamp": 1682404125300,
     "user": {
      "displayName": "주주",
      "userId": "14652178887215818703"
     },
     "user_tz": -540
    },
    "id": "6b7e66cf",
    "outputId": "b2885490-defb-4022-cd72-e371f661ab2a"
   },
   "outputs": [
    {
     "name": "stdout",
     "output_type": "stream",
     "text": [
      "{'apple': 300, 'pear': 250, 'peach': 400}\n"
     ]
    }
   ],
   "source": [
    "keys = (\"apple\", \"pear\", \"peach\")\n",
    "vals = (300, 250, 400)\n",
    "\n",
    "result = dict(zip(keys, vals))\n",
    "print(result)"
   ]
  },
  {
   "cell_type": "markdown",
   "id": "2b808a24",
   "metadata": {
    "id": "2b808a24"
   },
   "source": [
    "#### 100 zip과 dict\n",
    "date와 close_price 두 개의 리스트를 close_table 이름의 딕셔너리로 생성하라. <br/>\n",
    "\n",
    "date = ['09/05', '09/06', '09/07', '09/08', '09/09'] <br/>\n",
    "close_price = [10500, 10300, 10100, 10800, 11000] <br/>\n",
    " <br/>\n",
    "실행 예시: <br/>\n",
    " print(close_table) <br/>\n",
    " {'09/05': 10500, '09/06': 10300, '09/07': 10100, '09/08': 10800, '09/09': 11000}"
   ]
  },
  {
   "cell_type": "code",
   "execution_count": 23,
   "id": "b7fb0fe6",
   "metadata": {
    "colab": {
     "base_uri": "https://localhost:8080/"
    },
    "executionInfo": {
     "elapsed": 393,
     "status": "ok",
     "timestamp": 1682404179568,
     "user": {
      "displayName": "주주",
      "userId": "14652178887215818703"
     },
     "user_tz": -540
    },
    "id": "b7fb0fe6",
    "outputId": "0d132076-67c8-4e42-c32c-16f2a1add9c1"
   },
   "outputs": [
    {
     "name": "stdout",
     "output_type": "stream",
     "text": [
      "{'09/05': 10500, '09/06': 10300, '09/07': 10100, '09/08': 10800, '09/09': 11000}\n"
     ]
    }
   ],
   "source": [
    "date = ['09/05', '09/06', '09/07', '09/08', '09/09']\n",
    "close_price = [10500, 10300, 10100, 10800, 11000]\n",
    "\n",
    "close_table = dict(zip(date,close_price))\n",
    "print(close_table)"
   ]
  }
 ],
 "metadata": {
  "colab": {
   "provenance": []
  },
  "kernelspec": {
   "display_name": "Python 3 (ipykernel)",
   "language": "python",
   "name": "python3"
  },
  "language_info": {
   "codemirror_mode": {
    "name": "ipython",
    "version": 3
   },
   "file_extension": ".py",
   "mimetype": "text/x-python",
   "name": "python",
   "nbconvert_exporter": "python",
   "pygments_lexer": "ipython3",
   "version": "3.10.11"
  }
 },
 "nbformat": 4,
 "nbformat_minor": 5
}
