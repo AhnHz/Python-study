{
 "cells": [
  {
   "cell_type": "markdown",
   "id": "b481d8d2",
   "metadata": {
    "id": "b481d8d2"
   },
   "source": [
    "\n",
    "### 파이썬 문자열은 인덱싱, 슬라이싱 기능과 다양한 메서드를 제공합니다."
   ]
  },
  {
   "cell_type": "markdown",
   "id": "cc799c25",
   "metadata": {
    "id": "cc799c25"
   },
   "source": [
    "#### 061. price 변수에는 날짜와 종가 정보가 저장돼 있다. 날짜 정보를 제외하고 가격 정보만을 출력하라. (힌트 : 슬라이싱)\n",
    "\n",
    "price = ['20180728', 100, 130, 140, 150, 160, 170] <br/>\n",
    " <br/>\n",
    "출력 예시: <br/>\n",
    "[100, 130, 140, 150, 160, 170]"
   ]
  },
  {
   "cell_type": "code",
   "execution_count": 1,
   "id": "ed6cba2f",
   "metadata": {
    "colab": {
     "base_uri": "https://localhost:8080/"
    },
    "executionInfo": {
     "elapsed": 8,
     "status": "ok",
     "timestamp": 1682392402931,
     "user": {
      "displayName": "주주",
      "userId": "14652178887215818703"
     },
     "user_tz": -540
    },
    "id": "ed6cba2f",
    "outputId": "b69326a1-27b3-4455-903d-d35811228356"
   },
   "outputs": [
    {
     "data": {
      "text/plain": [
       "[100, 130, 140, 150, 160, 170]"
      ]
     },
     "execution_count": 1,
     "metadata": {},
     "output_type": "execute_result"
    }
   ],
   "source": [
    "price = ['20180728', 100, 130, 140, 150, 160, 170]\n",
    "price[1:]"
   ]
  },
  {
   "cell_type": "markdown",
   "id": "00d410e8",
   "metadata": {
    "id": "00d410e8"
   },
   "source": [
    "#### 062. 슬라이싱을 사용해서 홀수만 출력하라. <br/>\n",
    "nums = [1, 2, 3, 4, 5, 6, 7, 8, 9, 10] <br/>\n",
    " <br/>\n",
    "실행 예:  <br/>\n",
    " [1, 3, 5, 7, 9]"
   ]
  },
  {
   "cell_type": "code",
   "execution_count": 2,
   "id": "45a15894",
   "metadata": {
    "colab": {
     "base_uri": "https://localhost:8080/"
    },
    "executionInfo": {
     "elapsed": 4,
     "status": "ok",
     "timestamp": 1682392418330,
     "user": {
      "displayName": "주주",
      "userId": "14652178887215818703"
     },
     "user_tz": -540
    },
    "id": "45a15894",
    "outputId": "290fa958-a74d-4ac6-c113-ec26285b0c7a"
   },
   "outputs": [
    {
     "data": {
      "text/plain": [
       "[1, 3, 5, 7, 9]"
      ]
     },
     "execution_count": 2,
     "metadata": {},
     "output_type": "execute_result"
    }
   ],
   "source": [
    "nums = [1, 2, 3, 4, 5, 6, 7, 8, 9, 10]\n",
    "nums[::2]"
   ]
  },
  {
   "cell_type": "markdown",
   "id": "555a0e13",
   "metadata": {
    "id": "555a0e13"
   },
   "source": [
    "#### 063. 슬라이싱을 사용해서 짝수만 출력하라. <br/>\n",
    "\n",
    "nums = [1, 2, 3, 4, 5, 6, 7, 8, 9, 10] <br/>\n",
    " <br/>\n",
    "실행 예:  <br/>\n",
    " [2, 4, 6, 8, 10]"
   ]
  },
  {
   "cell_type": "code",
   "execution_count": 3,
   "id": "6a4cf546",
   "metadata": {
    "colab": {
     "base_uri": "https://localhost:8080/"
    },
    "executionInfo": {
     "elapsed": 4,
     "status": "ok",
     "timestamp": 1682392433228,
     "user": {
      "displayName": "주주",
      "userId": "14652178887215818703"
     },
     "user_tz": -540
    },
    "id": "6a4cf546",
    "outputId": "2bde624a-2cc6-467c-e259-8603869d5b35"
   },
   "outputs": [
    {
     "data": {
      "text/plain": [
       "[2, 4, 6, 8, 10]"
      ]
     },
     "execution_count": 3,
     "metadata": {},
     "output_type": "execute_result"
    }
   ],
   "source": [
    "nums = [1, 2, 3, 4, 5, 6, 7, 8, 9, 10]\n",
    "nums[1::2]"
   ]
  },
  {
   "cell_type": "markdown",
   "id": "5075b888",
   "metadata": {
    "id": "5075b888"
   },
   "source": [
    "#### 064. 슬라이싱을 사용해서 리스트의 숫자를 역 방향으로 출력하라. <br/>\n",
    "\n",
    "nums = [1, 2, 3, 4, 5] <br/>\n",
    " <br/>\n",
    "실행 예:  <br/>\n",
    "[5, 4, 3, 2, 1]"
   ]
  },
  {
   "cell_type": "code",
   "execution_count": 4,
   "id": "837133fb",
   "metadata": {
    "colab": {
     "base_uri": "https://localhost:8080/"
    },
    "executionInfo": {
     "elapsed": 5,
     "status": "ok",
     "timestamp": 1682392445020,
     "user": {
      "displayName": "주주",
      "userId": "14652178887215818703"
     },
     "user_tz": -540
    },
    "id": "837133fb",
    "outputId": "fe25c3dc-1751-4f4f-a74d-e4a8fbe27611"
   },
   "outputs": [
    {
     "data": {
      "text/plain": [
       "[5, 4, 3, 2, 1]"
      ]
     },
     "execution_count": 4,
     "metadata": {},
     "output_type": "execute_result"
    }
   ],
   "source": [
    "nums = [1, 2, 3, 4, 5]\n",
    "nums[::-1]"
   ]
  },
  {
   "cell_type": "markdown",
   "id": "18a38676",
   "metadata": {
    "id": "18a38676"
   },
   "source": [
    "#### 065. interest 리스트에는 아래의 데이터가 바인딩되어 있다.\n",
    "\n",
    "- interest = ['삼성전자', 'LG전자', 'Naver']\n",
    "#### interest 리스트를 사용하여 아래와 같이 화면에 출력하라.\n",
    "\n",
    "- 출력 예시:삼성전자 Naver"
   ]
  },
  {
   "cell_type": "code",
   "execution_count": 5,
   "id": "bdca6b37",
   "metadata": {
    "colab": {
     "base_uri": "https://localhost:8080/"
    },
    "executionInfo": {
     "elapsed": 4,
     "status": "ok",
     "timestamp": 1682392488706,
     "user": {
      "displayName": "주주",
      "userId": "14652178887215818703"
     },
     "user_tz": -540
    },
    "id": "bdca6b37",
    "outputId": "35f32267-1255-4f0b-b682-5767c8c5bbe1"
   },
   "outputs": [
    {
     "name": "stdout",
     "output_type": "stream",
     "text": [
      "삼성전자 Naver\n"
     ]
    }
   ],
   "source": [
    "interest = ['삼성전자', 'LG전자', 'Naver']\n",
    "print(interest[0], interest[2])"
   ]
  },
  {
   "cell_type": "markdown",
   "id": "7d265a61",
   "metadata": {
    "id": "7d265a61"
   },
   "source": [
    "#### 066 join 메서드  <br/>\n",
    "interest 리스트에는 아래의 데이터가 바인딩되어 있다.  <br/>\n",
    "interest = ['삼성전자', 'LG전자', 'Naver', 'SK하이닉스', '미래에셋대우']  <br/>\n",
    "  <br/>\n",
    "\n",
    "#### interest 리스트를 사용하여 아래와 같이 화면에 출력하라.  <br/>\n",
    "출력 예시:   <br/>\n",
    "삼성전자 LG전자 Naver SK하이닉스 미래에셋대우"
   ]
  },
  {
   "cell_type": "code",
   "execution_count": 6,
   "id": "cfNr6o0lQTYf",
   "metadata": {
    "colab": {
     "base_uri": "https://localhost:8080/"
    },
    "executionInfo": {
     "elapsed": 5,
     "status": "ok",
     "timestamp": 1682392662046,
     "user": {
      "displayName": "주주",
      "userId": "14652178887215818703"
     },
     "user_tz": -540
    },
    "id": "cfNr6o0lQTYf",
    "outputId": "9c46da6b-c9b2-4b58-ce0b-93390222f218"
   },
   "outputs": [
    {
     "name": "stdout",
     "output_type": "stream",
     "text": [
      "삼성전자 LG전자 Naver SK하이닉스 미래에셋대우\n"
     ]
    }
   ],
   "source": [
    "interest = ['삼성전자', 'LG전자', 'Naver', 'SK하이닉스', '미래에셋대우']\n",
    "\n",
    "interest = ' '.join(interest)\n",
    "print(interest)"
   ]
  },
  {
   "cell_type": "markdown",
   "id": "6DhYBANjQWjy",
   "metadata": {
    "id": "6DhYBANjQWjy"
   },
   "source": [
    "#### 067 join 메서드  <br/>\n",
    "interest 리스트에는 아래의 데이터가 바인딩되어 있다.  <br/>\n",
    "interest = ['삼성전자', 'LG전자', 'Naver', 'SK하이닉스', '미래에셋대우']  <br/>\n",
    "  <br/>\n",
    "interest 리스트를 사용하여 아래와 같이 화면에 출력하라.  <br/>\n",
    "출력 예시:  <br/>\n",
    " 삼성전자/LG전자/Naver/SK하이닉스/미래에셋대우\n"
   ]
  },
  {
   "cell_type": "code",
   "execution_count": 7,
   "id": "XBGQogh8QQ9A",
   "metadata": {
    "colab": {
     "base_uri": "https://localhost:8080/"
    },
    "executionInfo": {
     "elapsed": 271,
     "status": "ok",
     "timestamp": 1682392673675,
     "user": {
      "displayName": "주주",
      "userId": "14652178887215818703"
     },
     "user_tz": -540
    },
    "id": "XBGQogh8QQ9A",
    "outputId": "1594168b-c0e8-4aaa-b575-77987a65f611"
   },
   "outputs": [
    {
     "name": "stdout",
     "output_type": "stream",
     "text": [
      "삼성전자/LG전자/Naver/SK하이닉스/미래에셋대우\n"
     ]
    }
   ],
   "source": [
    "interest = ['삼성전자', 'LG전자', 'Naver', 'SK하이닉스', '미래에셋대우']\n",
    "\n",
    "interest = '/'.join(interest)\n",
    "print(interest)"
   ]
  },
  {
   "cell_type": "markdown",
   "id": "c9e94387",
   "metadata": {
    "id": "c9e94387"
   },
   "source": [
    "#### 068 join 메서드  <br/>\n",
    "interest 리스트에는 아래의 데이터가 바인딩되어 있다.  <br/>\n",
    "  <br/>\n",
    "interest = ['삼성전자', 'LG전자', 'Naver', 'SK하이닉스', '미래에셋대우']  <br/>\n",
    "  <br/>\n",
    "join() 메서드를 사용해서 interest 리스트를 아래와 같이 화면에 출력하라.  <br/>\n",
    "  <br/>\n",
    "- 출력 예시:  <br/>\n",
    "#### 삼성전자  <br/>\n",
    "#### LG전자  <br/>\n",
    "#### Naver  <br/>\n",
    "#### SK하이닉스  <br/>\n",
    "#### 미래에셋대우"
   ]
  },
  {
   "cell_type": "code",
   "execution_count": 8,
   "id": "efa091f8",
   "metadata": {
    "colab": {
     "base_uri": "https://localhost:8080/"
    },
    "executionInfo": {
     "elapsed": 327,
     "status": "ok",
     "timestamp": 1682392690947,
     "user": {
      "displayName": "주주",
      "userId": "14652178887215818703"
     },
     "user_tz": -540
    },
    "id": "efa091f8",
    "outputId": "a8fc6f9e-2911-457d-db4d-894c8f1b0da4"
   },
   "outputs": [
    {
     "name": "stdout",
     "output_type": "stream",
     "text": [
      "삼성전자\n",
      "LG전자\n",
      "Naver\n",
      "SK하이닉스\n",
      "미래에셋대우\n"
     ]
    }
   ],
   "source": [
    "interest = ['삼성전자', 'LG전자', 'Naver', 'SK하이닉스', '미래에셋대우']\n",
    "\n",
    "interest = '\\n'.join(interest)\n",
    "print(interest)"
   ]
  },
  {
   "cell_type": "markdown",
   "id": "8cabe197",
   "metadata": {
    "id": "8cabe197"
   },
   "source": [
    "#### 069 문자열 split 메서드  <br/>\n",
    "회사 이름이 슬래시 ('/')로 구분되어 하나의 문자열로 저장되어 있다.  <br/>\n",
    "  <br/>\n",
    "string = \"삼성전자/LG전자/Naver\"  <br/>\n",
    "  <br/>\n",
    "이를 interest 이름의 리스트로 분리 저장하라.  <br/>\n",
    "  <br/>\n",
    "실행 예시 :  <br/>\n",
    " ['삼성전자', 'LG전자', 'Naver']"
   ]
  },
  {
   "cell_type": "code",
   "execution_count": 9,
   "id": "cd65cf20",
   "metadata": {
    "colab": {
     "base_uri": "https://localhost:8080/"
    },
    "executionInfo": {
     "elapsed": 6,
     "status": "ok",
     "timestamp": 1682392889262,
     "user": {
      "displayName": "주주",
      "userId": "14652178887215818703"
     },
     "user_tz": -540
    },
    "id": "cd65cf20",
    "outputId": "585ab787-a2f0-4a1e-a778-387910a158f0"
   },
   "outputs": [
    {
     "data": {
      "text/plain": [
       "['삼성전자', 'LG전자', 'Naver']"
      ]
     },
     "execution_count": 9,
     "metadata": {},
     "output_type": "execute_result"
    }
   ],
   "source": [
    "string = \"삼성전자/LG전자/Naver\"\n",
    "\n",
    "string.split('/')"
   ]
  },
  {
   "cell_type": "markdown",
   "id": "5fd7c3bb",
   "metadata": {
    "id": "5fd7c3bb"
   },
   "source": [
    "#### 070 리스트 정렬  <br/>\n",
    "리스트에 있는 값을 오름차순으로 정렬하세요.  <br/>\n",
    "  <br/>\n",
    "data = [2, 4, 3, 1, 5, 10, 9]"
   ]
  },
  {
   "cell_type": "code",
   "execution_count": 10,
   "id": "5e5b2a69",
   "metadata": {
    "colab": {
     "base_uri": "https://localhost:8080/"
    },
    "executionInfo": {
     "elapsed": 248,
     "status": "ok",
     "timestamp": 1682392820236,
     "user": {
      "displayName": "주주",
      "userId": "14652178887215818703"
     },
     "user_tz": -540
    },
    "id": "5e5b2a69",
    "outputId": "2fa0df39-113f-481e-b5ba-d314fc4ca2ed"
   },
   "outputs": [
    {
     "data": {
      "text/plain": [
       "[1, 2, 3, 4, 5, 9, 10]"
      ]
     },
     "execution_count": 10,
     "metadata": {},
     "output_type": "execute_result"
    }
   ],
   "source": [
    "data = [2, 4, 3, 1, 5, 10, 9]\n",
    "\n",
    "data.sort()\n",
    "data"
   ]
  }
 ],
 "metadata": {
  "colab": {
   "provenance": []
  },
  "kernelspec": {
   "display_name": "Python 3 (ipykernel)",
   "language": "python",
   "name": "python3"
  },
  "language_info": {
   "codemirror_mode": {
    "name": "ipython",
    "version": 3
   },
   "file_extension": ".py",
   "mimetype": "text/x-python",
   "name": "python",
   "nbconvert_exporter": "python",
   "pygments_lexer": "ipython3",
   "version": "3.10.11"
  }
 },
 "nbformat": 4,
 "nbformat_minor": 5
}
