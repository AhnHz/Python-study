{
 "cells": [
  {
   "cell_type": "markdown",
   "id": "b481d8d2",
   "metadata": {
    "id": "b481d8d2"
   },
   "source": [
    "\n",
    "### 파이썬 모듈은 파이썬 파일을 의미합니다. 파이썬은 다양한 분야별로 모듈을 제공합니다. 프로그램 구현에 필요한 모듈의 기초 사용법을 알아봅시다."
   ]
  },
  {
   "cell_type": "markdown",
   "id": "cc799c25",
   "metadata": {
    "id": "cc799c25"
   },
   "source": [
    "#### 291 파일 쓰기. 바탕화면에 '매수종목1.txt' 파일을 생성한 후 다음과 같이 종목코드를 파일에 써보세요.\n",
    "\n",
    "- 005930\n",
    "- 005380\n",
    "- 035420"
   ]
  },
  {
   "cell_type": "code",
   "execution_count": 1,
   "id": "cpz7aBtmtCaN",
   "metadata": {
    "colab": {
     "base_uri": "https://localhost:8080/"
    },
    "executionInfo": {
     "elapsed": 474,
     "status": "ok",
     "timestamp": 1682498142678,
     "user": {
      "displayName": "주주",
      "userId": "14652178887215818703"
     },
     "user_tz": -540
    },
    "id": "cpz7aBtmtCaN",
    "outputId": "bee7fef1-57d2-48f9-8245-5c10930f646f"
   },
   "outputs": [
    {
     "name": "stdout",
     "output_type": "stream",
     "text": [
      "/Users/Ahn\n"
     ]
    }
   ],
   "source": [
    "%cd"
   ]
  },
  {
   "cell_type": "code",
   "execution_count": 23,
   "id": "60Tids1hgZmi",
   "metadata": {
    "executionInfo": {
     "elapsed": 326,
     "status": "ok",
     "timestamp": 1682497832573,
     "user": {
      "displayName": "주주",
      "userId": "14652178887215818703"
     },
     "user_tz": -540
    },
    "id": "60Tids1hgZmi"
   },
   "outputs": [],
   "source": [
    "f = open('/Users/Ahn/2023/Git/practice300/매수종목1.txt', mode = 'w')\n",
    "f.write('005930\\n')\n",
    "f.write('005980\\n')\n",
    "f.write('005420')\n",
    "\n",
    "f.close()"
   ]
  },
  {
   "cell_type": "code",
   "execution_count": 4,
   "id": "5fafc030",
   "metadata": {
    "executionInfo": {
     "elapsed": 305,
     "status": "ok",
     "timestamp": 1682494405224,
     "user": {
      "displayName": "주주",
      "userId": "14652178887215818703"
     },
     "user_tz": -540
    },
    "id": "5fafc030"
   },
   "outputs": [],
   "source": [
    "import os\n",
    "\n",
    "os.chdir('./..')"
   ]
  },
  {
   "cell_type": "code",
   "execution_count": 5,
   "id": "ayXkIH0WfzZj",
   "metadata": {
    "colab": {
     "base_uri": "https://localhost:8080/",
     "height": 36
    },
    "executionInfo": {
     "elapsed": 421,
     "status": "ok",
     "timestamp": 1682494672841,
     "user": {
      "displayName": "주주",
      "userId": "14652178887215818703"
     },
     "user_tz": -540
    },
    "id": "ayXkIH0WfzZj",
    "outputId": "60fe338e-550f-4bfe-b016-6b61ae0547a6"
   },
   "outputs": [
    {
     "data": {
      "text/plain": [
       "'/Users'"
      ]
     },
     "execution_count": 5,
     "metadata": {},
     "output_type": "execute_result"
    }
   ],
   "source": [
    "os.getcwd()"
   ]
  },
  {
   "cell_type": "code",
   "execution_count": 6,
   "id": "MlrOQzZMevs8",
   "metadata": {
    "colab": {
     "base_uri": "https://localhost:8080/"
    },
    "executionInfo": {
     "elapsed": 482,
     "status": "ok",
     "timestamp": 1682494407414,
     "user": {
      "displayName": "주주",
      "userId": "14652178887215818703"
     },
     "user_tz": -540
    },
    "id": "MlrOQzZMevs8",
    "outputId": "6dc09639-8fcd-4b3c-8df5-74bfcf0fab5e"
   },
   "outputs": [
    {
     "data": {
      "text/plain": [
       "['.localized', 'Shared', 'Ahn']"
      ]
     },
     "execution_count": 6,
     "metadata": {},
     "output_type": "execute_result"
    }
   ],
   "source": [
    "os.listdir()"
   ]
  },
  {
   "cell_type": "markdown",
   "id": "00d410e8",
   "metadata": {
    "id": "00d410e8"
   },
   "source": [
    "#### 292 파일 쓰기. 바탕화면에 '매수종목2.txt' 파일을 생성한 후 다음과 같이 종목코드와 종목명을 파일에 써보세요.\n",
    "\n",
    "- 005930 삼성전자\n",
    "- 005380 현대차\n",
    "- 035420 NAVER"
   ]
  },
  {
   "cell_type": "code",
   "execution_count": 7,
   "id": "45a15894",
   "metadata": {
    "id": "45a15894"
   },
   "outputs": [],
   "source": [
    "f = open('/Users/Ahn/2023/Git/practice300/매수종목2.txt', mode = 'w')\n",
    "f.write('005930 삼성전자')\n",
    "f.write('005380 현대차')\n",
    "f.write('035420 NAVER')\n",
    "\n",
    "f.close()"
   ]
  },
  {
   "cell_type": "markdown",
   "id": "35d02fdc",
   "metadata": {
    "id": "35d02fdc"
   },
   "source": [
    "#### 293. CSV 파일 쓰기\n",
    "바탕화면에 '매수종목.csv' 파일을 생성한 후 다음과 같이 종목코드와 종목명을 파일에 써보세요. 인코딩은 'cp949'를 사용해야합니다."
   ]
  },
  {
   "cell_type": "code",
   "execution_count": 8,
   "id": "f154ebb6",
   "metadata": {
    "id": "f154ebb6"
   },
   "outputs": [],
   "source": [
    "import csv\n",
    "\n",
    "data = [\n",
    "    ['005930', '삼성전자'],\n",
    "    ['005380', '현대차'],\n",
    "    ['035420', 'NAVER']\n",
    "]\n",
    "\n",
    "f = open('/Users/Ahn/2023/Git/practice300/매수종목.csv', mode = 'w')\n",
    "f.write('005930 삼성전자')\n",
    "f.write('005380 현대차')\n",
    "f.write('035420 NAVER')\n",
    "\n",
    "writer = csv.writer(f)\n",
    "\n",
    "for row in data:\n",
    "    writer.writerow(row) ## 여기 주목!\n",
    "\n",
    "f.close()"
   ]
  },
  {
   "cell_type": "markdown",
   "id": "72327e11",
   "metadata": {
    "id": "72327e11"
   },
   "source": [
    "#### 294 파일 읽기\n",
    "바탕화면에 생성한 '매수종목1.txt' 파일을 읽은 후 종목코드를 리스트에 저장해보세요.\n",
    "\n",
    "- 005930\n",
    "- 005380\n",
    "- 035420"
   ]
  },
  {
   "cell_type": "code",
   "execution_count": 24,
   "id": "d4dd8fb8",
   "metadata": {
    "id": "d4dd8fb8"
   },
   "outputs": [
    {
     "name": "stdout",
     "output_type": "stream",
     "text": [
      "['005930', '005980', '005420']\n"
     ]
    }
   ],
   "source": [
    "import csv\n",
    " \n",
    "f = open('/Users/Ahn/2023/Git/practice300/매수종목1.txt','r')\n",
    "rdr = f.readlines()\n",
    "codes = []\n",
    " \n",
    "for line in rdr:\n",
    "    code = line.strip()  #'\\n'\n",
    "    codes.append(code)\n",
    "\n",
    "print(codes)\n",
    " \n",
    "f.close()"
   ]
  },
  {
   "cell_type": "markdown",
   "id": "18a38676",
   "metadata": {
    "id": "18a38676"
   },
   "source": [
    "#### 295 파일 읽기\n",
    "바탕화면에 생성한 '매수종목2.txt' 파일을 읽은 후 종목코드와 종목명을 딕셔너리로 저장해보세요. 종목명을 key로 종목명을 value로 저장합니다.\n",
    "\n",
    "- 005930 삼성전자\n",
    "- 005380 현대차\n",
    "- 035420 NAVER"
   ]
  },
  {
   "cell_type": "code",
   "execution_count": null,
   "id": "bdca6b37",
   "metadata": {
    "id": "bdca6b37"
   },
   "outputs": [],
   "source": []
  },
  {
   "cell_type": "markdown",
   "id": "4ad56e16",
   "metadata": {
    "id": "4ad56e16"
   },
   "source": [
    "#### 296. 예외처리\n",
    "문자열 PER (Price to Earning Ratio) 값을 실수로 변환할 때 에러가 발생합니다. 예외처리를 통해 에러가 발생하는 PER은 0으로 출력하세요.\n",
    "\n",
    "- per = [\"10.31\", \"\", \"8.00\"]\n",
    "\n",
    "> for i in per:\n",
    ">>    print(float(i))\n",
    "\n",
    "\n",
    " \n",
    "\n"
   ]
  },
  {
   "cell_type": "code",
   "execution_count": null,
   "id": "d768bd61",
   "metadata": {
    "id": "d768bd61"
   },
   "outputs": [],
   "source": []
  },
  {
   "cell_type": "markdown",
   "id": "7d265a61",
   "metadata": {
    "id": "7d265a61"
   },
   "source": [
    "#### 297. 예외처리 및 리스트에 저장\n",
    "문자열로 표현된 PER 값을 실수로 변환한 후 이를 새로운 리스트에 저장해보세요.\n",
    "\n",
    "- per = [\"10.31\", \"\", \"8.00\"]\n",
    "\n",
    "> for i in per:\n",
    ">>    print(float(per))"
   ]
  },
  {
   "cell_type": "code",
   "execution_count": null,
   "id": "d546942a",
   "metadata": {
    "id": "d546942a"
   },
   "outputs": [],
   "source": []
  },
  {
   "cell_type": "markdown",
   "id": "c9e94387",
   "metadata": {
    "id": "c9e94387"
   },
   "source": [
    "#### 298 특정 예외만 처리하기\n",
    "어떤 값을 0으로 나누면 ZeroDivisionError 에러가 발생합니다. try ~ except로 모든 에러에 대해 예외처리하지 말고 ZeroDivisionError 에러만 예외처리해보세요."
   ]
  },
  {
   "cell_type": "code",
   "execution_count": null,
   "id": "efa091f8",
   "metadata": {
    "id": "efa091f8"
   },
   "outputs": [],
   "source": []
  },
  {
   "cell_type": "markdown",
   "id": "8cabe197",
   "metadata": {
    "id": "8cabe197"
   },
   "source": [
    "#### 299 예외의 메시지 출력하기\n",
    "다음과 같은 코드 구조를 사용하면 예외 발생 시 에러 메시지를 변수로 바인딩할 수 있습니다."
   ]
  },
  {
   "cell_type": "markdown",
   "id": "ef76839c",
   "metadata": {
    "id": "ef76839c"
   },
   "source": [
    "> try:\n",
    ">>    실행코드\n",
    "\n",
    "> except 예외 as 변수:\n",
    ">>    예외처리코드 "
   ]
  },
  {
   "cell_type": "markdown",
   "id": "4c86e660",
   "metadata": {
    "id": "4c86e660"
   },
   "source": [
    "#### 리스트의 인덱싱에 대해 에러를 출력해보세요.\n",
    "\n",
    "- data = [1, 2, 3]\n",
    "\n",
    "> for i in range(5)\n",
    ">>    print(data[i])"
   ]
  },
  {
   "cell_type": "markdown",
   "id": "5fd7c3bb",
   "metadata": {
    "id": "5fd7c3bb"
   },
   "source": [
    "#### 300 try, except, else, finally 구조 사용해보기\n",
    "파이썬 예외처리는 다음과 같은 구조를 가질 수 있습니다.\n",
    "\n",
    "> try:\n",
    ">>    실행 코드\n",
    "\n",
    "> except:\n",
    ">>    예외가 발생했을 때 수행할 코드\n",
    "\n",
    "> else:\n",
    ">>    예외가 발생하지 않았을 때 수행할 코드\n",
    "\n",
    "> finally:\n",
    ">>    예외 발생 여부와 상관없이 항상 수행할 코드"
   ]
  },
  {
   "cell_type": "markdown",
   "id": "36ca1c56",
   "metadata": {
    "id": "36ca1c56"
   },
   "source": [
    "#### 아래의 코드에 대해서 예외처리를 사용하고 try, except, else, finally에 적당한 코드를 작성해봅시다. else와 finally는 적당한 문구를 print하시면 됩니다.\n",
    "\n",
    "- per = [\"10.31\", \"\", \"8.00\"]\n",
    "\n",
    "> for i in per:\n",
    ">>    print(float(per))"
   ]
  },
  {
   "cell_type": "code",
   "execution_count": null,
   "id": "91b9f00a",
   "metadata": {
    "id": "91b9f00a"
   },
   "outputs": [],
   "source": []
  }
 ],
 "metadata": {
  "colab": {
   "provenance": []
  },
  "kernelspec": {
   "display_name": "Python 3 (ipykernel)",
   "language": "python",
   "name": "python3"
  },
  "language_info": {
   "codemirror_mode": {
    "name": "ipython",
    "version": 3
   },
   "file_extension": ".py",
   "mimetype": "text/x-python",
   "name": "python",
   "nbconvert_exporter": "python",
   "pygments_lexer": "ipython3",
   "version": "3.10.11"
  }
 },
 "nbformat": 4,
 "nbformat_minor": 5
}
