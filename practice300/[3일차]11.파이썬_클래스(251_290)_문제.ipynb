{
 "cells": [
  {
   "cell_type": "markdown",
   "id": "b481d8d2",
   "metadata": {
    "id": "b481d8d2"
   },
   "source": [
    "\n",
    "### 파이썬 클래스는 타입을 만들어내는 도구입니다. int, float, str과 같이 여러분의 새로운 타입을 만들 수 있습니다."
   ]
  },
  {
   "cell_type": "markdown",
   "id": "cc799c25",
   "metadata": {
    "id": "cc799c25"
   },
   "source": [
    "#### 251 클래스, 객체, 인스턴스\n",
    "클래스, 객체, 인스턴스에 대해 설명해봅시다."
   ]
  },
  {
   "cell_type": "markdown",
   "id": "c5aaf682-0013-4603-a3b6-397c58b9538c",
   "metadata": {
    "id": "5fafc030"
   },
   "source": [
    "- 클래스 : 함수들의 모임으로 속성과 메소드로 구성되어 있다. 클래스 내부의 함수를 메소드라고 함\n",
    "- 객체 : 클래스를 틀로 봤을 때, 그 틀로 찍어낸 결과물\n",
    "- 인스턴스 : 클래스에 의해 생성된 객체"
   ]
  },
  {
   "cell_type": "markdown",
   "id": "00d410e8",
   "metadata": {
    "id": "00d410e8"
   },
   "source": [
    "#### 252 클래스 정의\n",
    "비어있는 사람 (Human) 클래스를 \"정의\" 해보세요."
   ]
  },
  {
   "cell_type": "code",
   "execution_count": 1,
   "id": "45a15894",
   "metadata": {
    "id": "45a15894"
   },
   "outputs": [],
   "source": [
    "class Human:\n",
    "    pass"
   ]
  },
  {
   "cell_type": "markdown",
   "id": "35d02fdc",
   "metadata": {
    "id": "35d02fdc"
   },
   "source": [
    "#### 253 인스턴스 생성\n",
    "사람 (Human) 클래스의 인스턴스를 \"생성\" 하고 이를 areum 변수로 바인딩해보세요."
   ]
  },
  {
   "cell_type": "code",
   "execution_count": 2,
   "id": "f154ebb6",
   "metadata": {
    "id": "f154ebb6"
   },
   "outputs": [],
   "source": [
    "class Human:\n",
    "    pass\n",
    "    areum = Human()"
   ]
  },
  {
   "cell_type": "markdown",
   "id": "72327e11",
   "metadata": {
    "id": "72327e11"
   },
   "source": [
    "#### 254 클래스 생성자-1\n",
    "사람 (Human) 클래스에 \"응애응애\"를 출력하는 생성자를 추가하세요."
   ]
  },
  {
   "cell_type": "code",
   "execution_count": 3,
   "id": "d4dd8fb8",
   "metadata": {
    "colab": {
     "base_uri": "https://localhost:8080/"
    },
    "executionInfo": {
     "elapsed": 425,
     "status": "ok",
     "timestamp": 1682568735772,
     "user": {
      "displayName": "주주",
      "userId": "14652178887215818703"
     },
     "user_tz": -540
    },
    "id": "d4dd8fb8",
    "outputId": "9750c6b1-a5ad-4644-d54c-f441ce530206"
   },
   "outputs": [
    {
     "name": "stdout",
     "output_type": "stream",
     "text": [
      "응애응애\n"
     ]
    }
   ],
   "source": [
    "class Human:\n",
    "    def __init__(self):\n",
    "        print('응애응애')\n",
    "\n",
    "areum = Human()"
   ]
  },
  {
   "cell_type": "markdown",
   "id": "18a38676",
   "metadata": {
    "id": "18a38676"
   },
   "source": [
    "#### 255 클래스 생성자-2\n",
    "사람 (Human) 클래스에 (이름, 나이, 성별)을 받는 생성자를 추가하세요."
   ]
  },
  {
   "cell_type": "code",
   "execution_count": 4,
   "id": "b0c4dbeb",
   "metadata": {
    "colab": {
     "base_uri": "https://localhost:8080/"
    },
    "executionInfo": {
     "elapsed": 6,
     "status": "ok",
     "timestamp": 1682568889100,
     "user": {
      "displayName": "주주",
      "userId": "14652178887215818703"
     },
     "user_tz": -540
    },
    "id": "b0c4dbeb",
    "outputId": "58c5113e-ccaf-48bd-c2f2-87ee13c0d05f"
   },
   "outputs": [],
   "source": [
    "class Human:\n",
    "    def __init__(self, name, age, sex):\n",
    "        self.name = name\n",
    "        self.age = age\n",
    "        self.sex = sex\n",
    "\n",
    "areum = Human('김연아', 34, '여자')\n"
   ]
  },
  {
   "cell_type": "markdown",
   "id": "f5fd9152",
   "metadata": {
    "id": "f5fd9152"
   },
   "source": [
    "#### 256 인스턴스 속성에 접근\n",
    "255에서 생성한 인스턴스의 이름, 나이, 성별을 출력하세요. 인스턴스 변수에 접근하여 값을 출력하면 됩니다."
   ]
  },
  {
   "cell_type": "code",
   "execution_count": 5,
   "id": "bdca6b37",
   "metadata": {
    "colab": {
     "base_uri": "https://localhost:8080/"
    },
    "executionInfo": {
     "elapsed": 7,
     "status": "ok",
     "timestamp": 1682569048280,
     "user": {
      "displayName": "주주",
      "userId": "14652178887215818703"
     },
     "user_tz": -540
    },
    "id": "bdca6b37",
    "outputId": "cdc95db0-c6b5-4c2a-d14e-f7c424635304"
   },
   "outputs": [
    {
     "name": "stdout",
     "output_type": "stream",
     "text": [
      "이름:  김연아 ,나이:  34 ,성별:  여자\n"
     ]
    }
   ],
   "source": [
    "print('이름: ', areum.name, ',나이: ', areum.age, ',성별: ', areum.sex)"
   ]
  },
  {
   "cell_type": "markdown",
   "id": "7d265a61",
   "metadata": {
    "id": "7d265a61"
   },
   "source": [
    "#### 257 클래스 메소드 - 1\n",
    "사람 (Human) 클래스에서 이름, 나이, 성별을 출력하는 who() 메소드를 추가하세요.\n",
    "\n",
    "print(\"A\")\n",
    "\n",
    "def message() :\n",
    ">    print(\"B\")\n",
    "\n",
    "print(\"C\")\n",
    "message()"
   ]
  },
  {
   "cell_type": "code",
   "execution_count": 6,
   "id": "d546942a",
   "metadata": {
    "colab": {
     "base_uri": "https://localhost:8080/"
    },
    "executionInfo": {
     "elapsed": 5,
     "status": "ok",
     "timestamp": 1682569247798,
     "user": {
      "displayName": "주주",
      "userId": "14652178887215818703"
     },
     "user_tz": -540
    },
    "id": "d546942a",
    "outputId": "a568ab67-4cca-411b-a990-b43e6068023f"
   },
   "outputs": [
    {
     "name": "stdout",
     "output_type": "stream",
     "text": [
      "이름: 김연아, 나이: 34, 성별: 여자\n"
     ]
    }
   ],
   "source": [
    "class Human:\n",
    "    def __init__(self, name, age, sex):\n",
    "        self.name = name\n",
    "        self.age = age\n",
    "        self.sex = sex\n",
    "\n",
    "    def who(self):\n",
    "        print('이름: {}, 나이: {}, 성별: {}'.format(self.name, self.age, self.sex))\n",
    "\n",
    "areum = Human('김연아', 34, '여자')\n",
    "areum.who()"
   ]
  },
  {
   "cell_type": "markdown",
   "id": "c9e94387",
   "metadata": {
    "id": "c9e94387"
   },
   "source": [
    "#### 258 클래스 메소드 - 2\n",
    "사람 (Human) 클래스에 (이름, 나이, 성별)을 받는 setInfo 메소드를 추가하세요."
   ]
  },
  {
   "cell_type": "code",
   "execution_count": 7,
   "id": "efa091f8",
   "metadata": {
    "colab": {
     "base_uri": "https://localhost:8080/"
    },
    "executionInfo": {
     "elapsed": 5,
     "status": "ok",
     "timestamp": 1682569578763,
     "user": {
      "displayName": "주주",
      "userId": "14652178887215818703"
     },
     "user_tz": -540
    },
    "id": "efa091f8",
    "outputId": "a83d3b17-ad9f-4bdd-e94c-cb2323e3948a"
   },
   "outputs": [
    {
     "name": "stdout",
     "output_type": "stream",
     "text": [
      "이름: 김연아, 나이: 34, 성별: 여자\n",
      "이름: 홍길동, 나이: 24, 성별: 남자\n"
     ]
    }
   ],
   "source": [
    "class Human:\n",
    "    def __init__(self, name, age, sex):\n",
    "        self.name = name\n",
    "        self.age = age\n",
    "        self.sex = sex\n",
    "\n",
    "    def who(self):\n",
    "        print('이름: {}, 나이: {}, 성별: {}'.format(self.name, self.age, self.sex))\n",
    "\n",
    "    def setInfo(self, name, age, sex):\n",
    "        self.name = name\n",
    "        self.age = age\n",
    "        self.sex = sex\n",
    "\n",
    "areum = Human('김연아', 34, '여자')\n",
    "areum.who()\n",
    "        \n",
    "areum.setInfo('홍길동', 24, '남자')\n",
    "areum.who()"
   ]
  },
  {
   "cell_type": "markdown",
   "id": "8cabe197",
   "metadata": {
    "id": "8cabe197"
   },
   "source": [
    "#### 259 클래스 소멸자\n",
    "사람 (human) 클래스에 \"나의 죽음을 알리지 말라\"를 출력하는 소멸자를 추가하세요."
   ]
  },
  {
   "cell_type": "code",
   "execution_count": 8,
   "id": "cd65cf20",
   "metadata": {
    "colab": {
     "base_uri": "https://localhost:8080/"
    },
    "executionInfo": {
     "elapsed": 6,
     "status": "ok",
     "timestamp": 1682569751727,
     "user": {
      "displayName": "주주",
      "userId": "14652178887215818703"
     },
     "user_tz": -540
    },
    "id": "cd65cf20",
    "outputId": "a425c754-4590-4f53-eedf-919f7f77344f"
   },
   "outputs": [
    {
     "name": "stdout",
     "output_type": "stream",
     "text": [
      "나의 죽음을 알리지 말라\n"
     ]
    }
   ],
   "source": [
    "class Human:\n",
    "    def __init__(self, name, age, sex):\n",
    "        self.name = name\n",
    "        self.age = age\n",
    "        self.sex = sex\n",
    "\n",
    "    def __del__(self):\n",
    "        print('나의 죽음을 알리지 말라')\n",
    "\n",
    "areum = Human('김연아', 34, '여자')\n",
    "del(areum)"
   ]
  },
  {
   "cell_type": "markdown",
   "id": "5fd7c3bb",
   "metadata": {
    "id": "5fd7c3bb"
   },
   "source": [
    "#### 260 에러의 원인\n",
    "아래와 같은 에러가 발생한 원인에 대해 설명하세요.\n",
    "\n",
    "> class OMG : \n",
    ">>     def print() :\n",
    ">>         print(\"Oh my god\")\n",
    "\n",
    "> myStock = OMG()\n",
    "> myStock.print()\n",
    "> TypeError Traceback (most recent call last)\n",
    "> <ipython-input-233-c85c04535b22> in <module>()\n",
    ">> ----> myStock.print()\n",
    "\n",
    "> TypeError: print() takes 0 positional arguments but 1 was given"
   ]
  },
  {
   "cell_type": "markdown",
   "id": "8jIZmE2AVMfJ",
   "metadata": {
    "id": "8jIZmE2AVMfJ"
   },
   "source": [
    "파라미터를 0개 갖는 함수인데 1개가 주어졌다는 뜻. print()함수와 같은 이름으로 함수를 정의했기 때문"
   ]
  },
  {
   "cell_type": "code",
   "execution_count": 1,
   "id": "5e5b2a69",
   "metadata": {
    "colab": {
     "base_uri": "https://localhost:8080/"
    },
    "executionInfo": {
     "elapsed": 6,
     "status": "ok",
     "timestamp": 1682580753719,
     "user": {
      "displayName": "주주",
      "userId": "14652178887215818703"
     },
     "user_tz": -540
    },
    "id": "5e5b2a69",
    "outputId": "cd9bb233-37c2-4445-e032-f0385068478d"
   },
   "outputs": [
    {
     "name": "stdout",
     "output_type": "stream",
     "text": [
      "Oh my god\n"
     ]
    }
   ],
   "source": [
    "# 문제가 이상해\n",
    "class OMG:  \n",
    "    def __init__(self):\n",
    "        pass\n",
    "\n",
    "    def print(self):\n",
    "        print(\"Oh my god\")\n",
    "    \n",
    "myStock = OMG()\n",
    "myStock.print()"
   ]
  },
  {
   "cell_type": "code",
   "execution_count": 2,
   "id": "m9BqI_HHoTja",
   "metadata": {
    "colab": {
     "base_uri": "https://localhost:8080/"
    },
    "executionInfo": {
     "elapsed": 6,
     "status": "ok",
     "timestamp": 1682580860027,
     "user": {
      "displayName": "주주",
      "userId": "14652178887215818703"
     },
     "user_tz": -540
    },
    "id": "m9BqI_HHoTja",
    "outputId": "f1e9b1c9-d348-49e1-e198-64caa1c27859"
   },
   "outputs": [
    {
     "name": "stdout",
     "output_type": "stream",
     "text": [
      "Oh my god\n"
     ]
    }
   ],
   "source": [
    "class OMG:\n",
    "    def var_print(self):    # print()랑 다른 이름으로 함수를 정의\n",
    "        print(\"Oh my god\")\n",
    "\n",
    "my = OMG()\n",
    "my.var_print()"
   ]
  },
  {
   "cell_type": "markdown",
   "id": "28cd8342",
   "metadata": {
    "id": "28cd8342"
   },
   "source": [
    "#### 261 Stock 클래스 생성\n",
    "주식 종목에 대한 정보를 저장하는 Stock 클래스를 정의해보세요. 클래스는 속성과 메서드를 갖고 있지 않습니다."
   ]
  },
  {
   "cell_type": "code",
   "execution_count": 3,
   "id": "924553ff",
   "metadata": {
    "id": "924553ff"
   },
   "outputs": [],
   "source": [
    "class Stock:\n",
    "    stock_name = None\n",
    "    stock_num = None\n"
   ]
  },
  {
   "cell_type": "markdown",
   "id": "de312537",
   "metadata": {
    "id": "de312537"
   },
   "source": [
    "#### 262 생성자\n",
    "Stock 클래스의 객체가 생성될 때 종목명과 종목코드를 입력 받을 수 있도록 생성자를 정의해보세요."
   ]
  },
  {
   "cell_type": "code",
   "execution_count": 4,
   "id": "b8dc6834",
   "metadata": {
    "id": "b8dc6834"
   },
   "outputs": [],
   "source": [
    "class Stock:\n",
    "    def __init__(self, sName, sCode):\n",
    "        self.sName = sName\n",
    "        self.sCode = sCode"
   ]
  },
  {
   "cell_type": "markdown",
   "id": "c411bb39",
   "metadata": {
    "id": "c411bb39"
   },
   "source": [
    "\n",
    "#### 263 메서드\n",
    "객체에 종목명을 입력할 수 있는 set_name 메서드를 추가해보세요."
   ]
  },
  {
   "cell_type": "code",
   "execution_count": 5,
   "id": "732c96fa",
   "metadata": {
    "colab": {
     "base_uri": "https://localhost:8080/"
    },
    "executionInfo": {
     "elapsed": 7,
     "status": "ok",
     "timestamp": 1682576301079,
     "user": {
      "displayName": "주주",
      "userId": "14652178887215818703"
     },
     "user_tz": -540
    },
    "id": "732c96fa",
    "outputId": "7d6c0597-1c50-4c4a-ab72-bbc21300ae9d"
   },
   "outputs": [
    {
     "name": "stdout",
     "output_type": "stream",
     "text": [
      "삼성전자\n"
     ]
    }
   ],
   "source": [
    "class Stock:\n",
    "    def __init__(self, sName, sCode):\n",
    "        self.sName = sName\n",
    "        self.sCode = sCode\n",
    "\n",
    "    def set_name(self, sName):\n",
    "        self.sName = sName\n",
    "\n",
    "a = Stock(None, None)\n",
    "a.set_name('삼성전자')\n",
    "print(a.sName)"
   ]
  },
  {
   "cell_type": "markdown",
   "id": "f50e0c17",
   "metadata": {
    "id": "f50e0c17"
   },
   "source": [
    "#### 264 메서드\n",
    "객체에 종목코드를 입력할 수 있는 set_code 메서드를 추가해보세요."
   ]
  },
  {
   "cell_type": "code",
   "execution_count": 6,
   "id": "aea5035d",
   "metadata": {
    "colab": {
     "base_uri": "https://localhost:8080/"
    },
    "executionInfo": {
     "elapsed": 6,
     "status": "ok",
     "timestamp": 1682576406237,
     "user": {
      "displayName": "주주",
      "userId": "14652178887215818703"
     },
     "user_tz": -540
    },
    "id": "aea5035d",
    "outputId": "77c1228c-4b04-4669-ff12-9c9c3985c887"
   },
   "outputs": [
    {
     "name": "stdout",
     "output_type": "stream",
     "text": [
      "삼성전자 12345\n"
     ]
    }
   ],
   "source": [
    "class Stock:\n",
    "    def __init__(self, name, code):\n",
    "        self.name = name\n",
    "        self.code = code\n",
    "\n",
    "    def set_name(self, name):\n",
    "        self.name = name\n",
    "\n",
    "    def set_code(self, code):\n",
    "        self.code = code\n",
    "\n",
    "a = Stock(None, None)\n",
    "a.set_name('삼성전자')\n",
    "a.set_code('12345')\n",
    "\n",
    "print(a.name, a.code)"
   ]
  },
  {
   "cell_type": "markdown",
   "id": "6e4066d2",
   "metadata": {
    "id": "6e4066d2"
   },
   "source": [
    "#### 265 메서드\n",
    "종목명과 종목코드를 리턴하는 get_name, get_code 메서드를 추가하세요. 해당 메서드를 사용하여 종목명과 종목코드를 얻고 이를 출력해보세요.\n",
    "\n",
    "삼성 = Stock(\"삼성전자\", \"005930\")"
   ]
  },
  {
   "cell_type": "code",
   "execution_count": 7,
   "id": "Bc_dgmAiXvmP",
   "metadata": {
    "colab": {
     "base_uri": "https://localhost:8080/"
    },
    "executionInfo": {
     "elapsed": 4,
     "status": "ok",
     "timestamp": 1682577173184,
     "user": {
      "displayName": "주주",
      "userId": "14652178887215818703"
     },
     "user_tz": -540
    },
    "id": "Bc_dgmAiXvmP",
    "outputId": "e7aedd20-df39-4142-b117-a479e7e84411"
   },
   "outputs": [
    {
     "name": "stdout",
     "output_type": "stream",
     "text": [
      "삼성전자\n",
      "005930\n",
      "삼성전자\n",
      "005930\n"
     ]
    }
   ],
   "source": [
    "class Stock:\n",
    "    def __init__(self, name, code):\n",
    "        self.name = name\n",
    "        self.code = code\n",
    "\n",
    "    #def set_name(self, name):\n",
    "     #   self.name = name\n",
    "\n",
    "    #def set_code(self, code):\n",
    "     #   self.code = code\n",
    "\n",
    "    def get_name(self):\n",
    "        return self.name\n",
    "\n",
    "    def get_code(self):\n",
    "        return self.code\n",
    "\n",
    "\n",
    "        \n",
    "\n",
    "삼성 = Stock('삼성전자', '005930')\n",
    "print(삼성.name)\n",
    "print(삼성.code)\n",
    "print(삼성.get_name())\n",
    "print(삼성.get_code())\n"
   ]
  },
  {
   "cell_type": "markdown",
   "id": "3cf842fc",
   "metadata": {
    "id": "3cf842fc"
   },
   "source": [
    "#### 266 객체의 속성값 업데이트\n",
    "생성자에서 종목명, 종목코드, PER, PBR, 배당수익률을 입력 받을 수 있도록 생성자를 수정하세요. PER, PBR, 배당수익률은 float 타입입니다."
   ]
  },
  {
   "cell_type": "code",
   "execution_count": 8,
   "id": "dc96999b",
   "metadata": {
    "colab": {
     "base_uri": "https://localhost:8080/"
    },
    "executionInfo": {
     "elapsed": 5,
     "status": "ok",
     "timestamp": 1682577179975,
     "user": {
      "displayName": "주주",
      "userId": "14652178887215818703"
     },
     "user_tz": -540
    },
    "id": "dc96999b",
    "outputId": "b4ee03b4-a5e6-4f17-c692-3cf88be1dc99"
   },
   "outputs": [
    {
     "name": "stdout",
     "output_type": "stream",
     "text": [
      "삼성전자\n",
      "005930\n"
     ]
    }
   ],
   "source": [
    "class Stock:\n",
    "    name = None\n",
    "    code = None\n",
    "    per = 0.0\n",
    "    pbr = 0.0\n",
    "    dyr = 0.0\n",
    "    \n",
    "    def __init__(self, name, code, per, pbr, dyr):\n",
    "        self.name = name\n",
    "        self.code = code\n",
    "\n",
    "        self.per = per\n",
    "        self.pbr = pbr\n",
    "        self.dyr = dyr\n",
    "\n",
    "    #def set_name(self, name):\n",
    "     #   self.name = name\n",
    "\n",
    "    #def set_code(self, code):\n",
    "     #   self.code = code\n",
    "\n",
    "    def get_name(self):\n",
    "        return self.name\n",
    "\n",
    "    def get_code(self):\n",
    "        return self.code\n",
    "\n",
    "\n",
    "    def set_per(self, per):\n",
    "        self.per = per\n",
    "\n",
    "    def set_pbr(self, pbr):\n",
    "        self.pbr = pbr\n",
    "\n",
    "    def set_dividend(self, dyr):\n",
    "        self.dyr = dyr\n",
    "        \n",
    "\n",
    "\n",
    "        \n",
    "\n",
    "삼성 = Stock('삼성전자', '005930', None, None, None)\n",
    "#print(삼성.name)\n",
    "#print(삼성.code)\n",
    "print(삼성.get_name())\n",
    "print(삼성.get_code())\n"
   ]
  },
  {
   "cell_type": "markdown",
   "id": "224672b1",
   "metadata": {
    "id": "224672b1"
   },
   "source": [
    "#### 267 객체 생성\n",
    "266번에서 정의한 생성자를 통해 다음 정보를 갖는 객체를 생성해보세요.\n",
    "\n",
    "\n",
    "- 항목 |정보\n",
    "- 종목명 | 삼성전자\n",
    "- 종목코드 | 005930\n",
    "- PER\t| 15.79\n",
    "- PBR\t| 1.33\n",
    "- 배당수익률 |\t2.83"
   ]
  },
  {
   "cell_type": "code",
   "execution_count": 9,
   "id": "18021e55",
   "metadata": {
    "colab": {
     "base_uri": "https://localhost:8080/"
    },
    "executionInfo": {
     "elapsed": 1500,
     "status": "ok",
     "timestamp": 1682577216160,
     "user": {
      "displayName": "주주",
      "userId": "14652178887215818703"
     },
     "user_tz": -540
    },
    "id": "18021e55",
    "outputId": "df02e214-9997-4a3f-9192-1226795f66c2"
   },
   "outputs": [
    {
     "name": "stdout",
     "output_type": "stream",
     "text": [
      "삼성전자\n",
      "12345\n"
     ]
    }
   ],
   "source": [
    "class Stock:\n",
    "    def __init__(self, name, code, per, pbr, dyr):\n",
    "        self.name = name\n",
    "        self.code = code\n",
    "\n",
    "        self.per = per\n",
    "        self.pbr = pbr\n",
    "        self.dyr = dyr\n",
    "\n",
    "    #def set_name(self, name):\n",
    "     #   self.name = name\n",
    "\n",
    "    #def set_code(self, code):\n",
    "     #   self.code = code\n",
    "\n",
    "    def get_name(self):\n",
    "        return self.name\n",
    "\n",
    "    def get_code(self):\n",
    "        return self.code\n",
    "\n",
    "\n",
    "        \n",
    "\n",
    "삼성 = Stock('삼성전자', '12345', '15.79', '1.33', '2.83')\n",
    "#print(삼성.name)\n",
    "#print(삼성.code)\n",
    "print(삼성.get_name())\n",
    "print(삼성.get_code())\n"
   ]
  },
  {
   "cell_type": "markdown",
   "id": "1749a819",
   "metadata": {
    "id": "1749a819"
   },
   "source": [
    "#### 268. 객체의 속성 수정\n",
    "PER, PBR, 배당수익률은 변경될 수 있는 값입니다. 이 값을 변경할 때 사용하는 set_per, set_pbr, set_dividend 메서드를 추가하세요."
   ]
  },
  {
   "cell_type": "code",
   "execution_count": 10,
   "id": "162c8cac",
   "metadata": {
    "colab": {
     "base_uri": "https://localhost:8080/"
    },
    "executionInfo": {
     "elapsed": 4,
     "status": "ok",
     "timestamp": 1682577500419,
     "user": {
      "displayName": "주주",
      "userId": "14652178887215818703"
     },
     "user_tz": -540
    },
    "id": "162c8cac",
    "outputId": "7b3477f7-bda9-4482-f964-2c9ee17bb5da"
   },
   "outputs": [
    {
     "name": "stdout",
     "output_type": "stream",
     "text": [
      "종목명: 삼성전자\n",
      "종목코드: 12345\n",
      "PER: 15.79\n",
      "PBR: 1.33\n",
      "배당수익률: 2.83\n"
     ]
    }
   ],
   "source": [
    "class Stock:\n",
    "    def __init__(self, name, code, per, pbr, dyr):\n",
    "        self.name = name\n",
    "        self.code = code\n",
    "\n",
    "        self.per = per\n",
    "        self.pbr = pbr\n",
    "        self.dyr = dyr\n",
    "\n",
    "    def set_name(self, name):\n",
    "        self.name = name\n",
    "\n",
    "    def set_code(self, code):\n",
    "        self.code = code\n",
    "\n",
    "\n",
    "\n",
    "    def set_per(self, per):\n",
    "        self.per = per\n",
    "\n",
    "    def set_pbr(self, pbr):\n",
    "        self.pbr = pbr\n",
    "\n",
    "    def set_dividend(self, dyr):\n",
    "        self.dyr = dyr\n",
    "        \n",
    "        \n",
    "        \n",
    "\n",
    "삼성 = Stock('삼성전자', '12345', '15.79', '1.33', '2.83')\n",
    "print('종목명:', 삼성.name)\n",
    "print('종목코드:', 삼성.code)\n",
    "\n",
    "print('PER:', 삼성.per)\n",
    "print('PBR:', 삼성.pbr)\n",
    "print('배당수익률:', 삼성.dyr)\n",
    "#print(삼성.get_name())\n",
    "#print(삼성.get_code())\n"
   ]
  },
  {
   "cell_type": "markdown",
   "id": "871bece9",
   "metadata": {
    "id": "871bece9"
   },
   "source": [
    "#### 269. 객체의 속성 수정\n",
    "267번에서 생성한 객체에 set_per 메서드를 호출하여 per 값을 12.75로 수정해보세요."
   ]
  },
  {
   "cell_type": "code",
   "execution_count": 11,
   "id": "37f676b7",
   "metadata": {
    "colab": {
     "base_uri": "https://localhost:8080/"
    },
    "executionInfo": {
     "elapsed": 6,
     "status": "ok",
     "timestamp": 1682577678867,
     "user": {
      "displayName": "주주",
      "userId": "14652178887215818703"
     },
     "user_tz": -540
    },
    "id": "37f676b7",
    "outputId": "57c5bee1-deff-47bb-9ea4-2f670cf5d7f9"
   },
   "outputs": [
    {
     "name": "stdout",
     "output_type": "stream",
     "text": [
      "PER: 12.75\n"
     ]
    }
   ],
   "source": [
    "삼성 = Stock('삼성전자', '12345', '15.79', '1.33', '2.83')\n",
    "삼성.set_per('12.75')\n",
    "\n",
    "print('PER:', 삼성.per)"
   ]
  },
  {
   "cell_type": "markdown",
   "id": "afa2521d",
   "metadata": {
    "id": "afa2521d"
   },
   "source": [
    "#### 270. 여러 종목의 객체 생성\n",
    "아래의 표를 참조하여 3종목에 대해 객체를 생성하고 이를 파이썬 리스트에 저장하세요. 파이썬 리스트에 저장된 각 종목에 대해 for 루프를 통해 종목코드와 PER을 출력해보세요.\n",
    "\n",
    "- 종목명\t종목코드\tPER\tPBR\t배당수익률\n",
    "- 삼성전자\t005930\t15.79\t1.33\t2.83\n",
    "- 현대차\t005380\t8.70\t0.35\t4.27\n",
    "- LG전자\t066570\t317.34\t0.69\t1.37"
   ]
  },
  {
   "cell_type": "code",
   "execution_count": 12,
   "id": "a31aea58",
   "metadata": {
    "colab": {
     "base_uri": "https://localhost:8080/"
    },
    "executionInfo": {
     "elapsed": 6,
     "status": "ok",
     "timestamp": 1682578097688,
     "user": {
      "displayName": "주주",
      "userId": "14652178887215818703"
     },
     "user_tz": -540
    },
    "id": "a31aea58",
    "outputId": "9f508d29-23bc-413e-9324-3bc687fb27b6"
   },
   "outputs": [
    {
     "name": "stdout",
     "output_type": "stream",
     "text": [
      "종목코드: 12345 , PER: 15.79\n",
      "종목코드: 005380 , PER: 8.70\n",
      "종목코드: 066570 , PER: 317.34\n"
     ]
    }
   ],
   "source": [
    "삼성 = Stock('삼성전자', '12345', '15.79', '1.33', '2.83')\n",
    "현대 = Stock('현대차', '005380', '8.70', '0.35', '4.27')\n",
    "엘지 = Stock('LG전자', '066570', '317.34', '0.69', '1.37')\n",
    "\n",
    "slist = [삼성, 현대, 엘지]\n",
    "\n",
    "for i in slist:\n",
    "    print('종목코드:', i.code, ', PER:', i.per)\n"
   ]
  },
  {
   "cell_type": "markdown",
   "id": "d4684c0f",
   "metadata": {
    "id": "d4684c0f"
   },
   "source": [
    "#### 271. Account 클래스\n",
    "은행에 가서 계좌를 개설하면 은행이름, 예금주, 계좌번호, 잔액이 설정됩니다. Account 클래스를 생성한 후 생성자를 구현해보세요. 생성자에서는 예금주와 초기 잔액만 입력 받습니다. 은행이름은 SC은행으로 계좌번호는 3자리-2자리-6자리 형태로 랜덤하게 생성됩니다.\n",
    "- 은행이름: SC은행\n",
    "- 계좌번호: 111-11-111111"
   ]
  },
  {
   "cell_type": "code",
   "execution_count": 13,
   "id": "fQ7Y_5L7exDc",
   "metadata": {
    "colab": {
     "base_uri": "https://localhost:8080/"
    },
    "executionInfo": {
     "elapsed": 314,
     "status": "ok",
     "timestamp": 1682579544359,
     "user": {
      "displayName": "주주",
      "userId": "14652178887215818703"
     },
     "user_tz": -540
    },
    "id": "fQ7Y_5L7exDc",
    "outputId": "72329b90-acb1-4dcc-ad7c-3047b628d9b0"
   },
   "outputs": [
    {
     "name": "stdout",
     "output_type": "stream",
     "text": [
      "예금주: 김연아\n",
      "은행이름: SC은행\n",
      "계좌번호: 565-565-000565\n",
      "잔액: 10000\n"
     ]
    }
   ],
   "source": [
    "import random\n",
    "\n",
    "class Account:\n",
    "    def __init__(self, name, start):\n",
    "        self.name = name\n",
    "        self.start = start\n",
    "        self.bank = 'SC은행'\n",
    "\n",
    "        # 랜덤하게 생성\n",
    "        num1 = random.randint(0, 999)  # 0~999\n",
    "        num2 = random.randint(0, 99)  # 0~99\n",
    "        num3 = random.randint(0, 999999)  # 0~999999\n",
    "         \n",
    "        # 자리수 채우기\n",
    "        num1 = str(num1).zfill(3)\n",
    "        num2 = str(num1).zfill(2)\n",
    "        num3 = str(num1).zfill(6)\n",
    "\n",
    "        # 계좌번호 세 파트 합치기\n",
    "        self.num = num1 + '-' + num2 + '-' + num3\n",
    "\n",
    "\n",
    "a = Account('김연아', 10000)\n",
    "print('예금주:', a.name)\n",
    "print('은행이름:', a.bank)\n",
    "print('계좌번호:', a.num)\n",
    "print('잔액:', a.start)"
   ]
  },
  {
   "cell_type": "markdown",
   "id": "84f267b5",
   "metadata": {
    "id": "84f267b5"
   },
   "source": [
    "#### 272. 클래스 변수\n",
    "클래스 변수를 사용해서 Account 클래스로부터 생성된 계좌 객체의 개수를 저장하세요."
   ]
  },
  {
   "cell_type": "code",
   "execution_count": 14,
   "id": "967a1353",
   "metadata": {
    "colab": {
     "base_uri": "https://localhost:8080/"
    },
    "executionInfo": {
     "elapsed": 6,
     "status": "ok",
     "timestamp": 1682579960350,
     "user": {
      "displayName": "주주",
      "userId": "14652178887215818703"
     },
     "user_tz": -540
    },
    "id": "967a1353",
    "outputId": "e0d8618e-968f-433f-90ba-219bf1e2e131"
   },
   "outputs": [
    {
     "name": "stdout",
     "output_type": "stream",
     "text": [
      "예금주: 김연아\n",
      "은행이름: SC은행\n",
      "계좌번호: 063-063-000063\n",
      "잔액: 10000\n",
      "\n",
      "계좌 개수: 1\n",
      "\n",
      "예금주: 홍길동\n",
      "은행이름: SC은행\n",
      "계좌번호: 089-089-000089\n",
      "잔액: 500\n",
      "\n",
      "계좌 개수: 2\n"
     ]
    }
   ],
   "source": [
    "import random\n",
    "\n",
    "class Account:\n",
    "\n",
    "    acc_count = 0\n",
    "\n",
    "    def __init__(self, name, start):\n",
    "        self.name = name\n",
    "        self.start = start\n",
    "        self.bank = 'SC은행'\n",
    "\n",
    "        # 랜덤하게 생성\n",
    "        num1 = random.randint(0, 999)  # 0~999\n",
    "        num2 = random.randint(0, 99)  # 0~99\n",
    "        num3 = random.randint(0, 999999)  # 0~999999\n",
    "         \n",
    "        # 자리수 채우기\n",
    "        num1 = str(num1).zfill(3)\n",
    "        num2 = str(num1).zfill(2)\n",
    "        num3 = str(num1).zfill(6)\n",
    "\n",
    "        # 계좌번호 세 파트 합치기\n",
    "        self.num = num1 + '-' + num2 + '-' + num3\n",
    "\n",
    "        Account.acc_count += 1\n",
    "        \n",
    "a = Account('김연아', 10000)\n",
    "print('예금주:', a.name)\n",
    "print('은행이름:', a.bank)\n",
    "print('계좌번호:', a.num)\n",
    "print('잔액:', a.start)\n",
    "\n",
    "print()\n",
    "print('계좌 개수:', a.acc_count)\n",
    "\n",
    "print()\n",
    "b = Account('홍길동', 500)\n",
    "print('예금주:', b.name)\n",
    "print('은행이름:', b.bank)\n",
    "print('계좌번호:', b.num)\n",
    "print('잔액:', b.start)\n",
    "\n",
    "print()\n",
    "print('계좌 개수:', a.acc_count)"
   ]
  },
  {
   "cell_type": "markdown",
   "id": "84fec643",
   "metadata": {
    "id": "84fec643"
   },
   "source": [
    "#### 273. 클래스 변수 출력\n",
    "Account 클래스로부터 생성된 계좌의 개수를 출력하는 get_account_num() 메서드를 추가하세요."
   ]
  },
  {
   "cell_type": "code",
   "execution_count": 15,
   "id": "b4e0bfe2",
   "metadata": {
    "colab": {
     "base_uri": "https://localhost:8080/"
    },
    "executionInfo": {
     "elapsed": 880,
     "status": "ok",
     "timestamp": 1682582145897,
     "user": {
      "displayName": "주주",
      "userId": "14652178887215818703"
     },
     "user_tz": -540
    },
    "id": "b4e0bfe2",
    "outputId": "263227e8-4a8b-41ec-d2e8-5c33f1b2e289"
   },
   "outputs": [
    {
     "name": "stdout",
     "output_type": "stream",
     "text": [
      "\n",
      "계좌 개수: 1\n",
      "\n",
      "\n",
      "계좌 개수: 2\n"
     ]
    }
   ],
   "source": [
    "import random\n",
    "\n",
    "class Account:\n",
    "\n",
    "    acc_count = 0\n",
    "\n",
    "    def __init__(self, name, start):\n",
    "        self.name = name\n",
    "        self.start = start\n",
    "        self.bank = 'SC은행'\n",
    "\n",
    "        # 랜덤하게 생성\n",
    "        num1 = random.randint(0, 999)  # 0~999\n",
    "        num2 = random.randint(0, 99)  # 0~99\n",
    "        num3 = random.randint(0, 999999)  # 0~999999\n",
    "         \n",
    "        # 자리수 채우기\n",
    "        num1 = str(num1).zfill(3)\n",
    "        num2 = str(num1).zfill(2)\n",
    "        num3 = str(num1).zfill(6)\n",
    "\n",
    "        # 계좌번호 세 파트 합치기\n",
    "        self.num = num1 + '-' + num2 + '-' + num3\n",
    "\n",
    "        Account.acc_count += 1\n",
    "    \n",
    "    @classmethod   \n",
    "    def get_acc_count(cls):\n",
    "        print('계좌 개수:',cls.acc_count)\n",
    "\n",
    "\n",
    "a = Account('김연아', 10000)\n",
    "print()\n",
    "a.get_acc_count()\n",
    "\n",
    "print()\n",
    "\n",
    "b = Account('홍길동', 500)\n",
    "print()\n",
    "a.get_acc_count()\n"
   ]
  },
  {
   "cell_type": "markdown",
   "id": "3b08d467",
   "metadata": {
    "id": "3b08d467"
   },
   "source": [
    "#### 274. 입금 메서드\n",
    "Account 클래스에 입금을 위한 deposit 메서드를 추가하세요. 입금은 최소 1원 이상만 가능합니다."
   ]
  },
  {
   "cell_type": "code",
   "execution_count": 16,
   "id": "b8377a37",
   "metadata": {
    "colab": {
     "base_uri": "https://localhost:8080/"
    },
    "executionInfo": {
     "elapsed": 7,
     "status": "ok",
     "timestamp": 1682583083052,
     "user": {
      "displayName": "주주",
      "userId": "14652178887215818703"
     },
     "user_tz": -540
    },
    "id": "b8377a37",
    "outputId": "90c4db7a-56fb-4a0b-dad4-b09e845af56e"
   },
   "outputs": [
    {
     "name": "stdout",
     "output_type": "stream",
     "text": [
      "예금주: 김연아\n",
      "은행이름: SC은행\n",
      "계좌번호: 465-465-000465\n",
      "잔액: 10000\n",
      "\n",
      "계좌 개수: 1\n",
      "\n",
      "예금주: 홍길동\n",
      "은행이름: SC은행\n",
      "계좌번호: 976-976-000976\n",
      "잔액: 500\n",
      "\n",
      "계좌 개수: 2\n"
     ]
    }
   ],
   "source": [
    "import random\n",
    "\n",
    "class Account:\n",
    "\n",
    "    acc_count = 0\n",
    "\n",
    "    def __init__(self, name, start):\n",
    "        self.name = name\n",
    "        self.start = start\n",
    "        self.bank = 'SC은행'\n",
    "\n",
    "        # 랜덤하게 생성\n",
    "        num1 = random.randint(0, 999)  # 0~999\n",
    "        num2 = random.randint(0, 99)  # 0~99\n",
    "        num3 = random.randint(0, 999999)  # 0~999999\n",
    "         \n",
    "        # 자리수 채우기\n",
    "        num1 = str(num1).zfill(3)\n",
    "        num2 = str(num1).zfill(2)\n",
    "        num3 = str(num1).zfill(6)\n",
    "\n",
    "        # 계좌번호 세 파트 합치기\n",
    "        self.num = num1 + '-' + num2 + '-' + num3\n",
    "\n",
    "        Account.acc_count += 1\n",
    "\n",
    "    @classmethod    \n",
    "    def get_acc_count(cls):\n",
    "        print('계좌 개수:',cls.acc_count)\n",
    "\n",
    "    def deposit(self, amount):\n",
    "        if amount >= 1:\n",
    "            self.start += amount\n",
    "\n",
    "\n",
    "a = Account('김연아', 10000)\n",
    "print('예금주:', a.name)\n",
    "print('은행이름:', a.bank)\n",
    "print('계좌번호:', a.num)\n",
    "print('잔액:', a.start)\n",
    "print()\n",
    "a.get_acc_count()\n",
    "\n",
    "print()\n",
    "\n",
    "b = Account('홍길동', 500)\n",
    "print('예금주:', b.name)\n",
    "print('은행이름:', b.bank)\n",
    "print('계좌번호:', b.num)\n",
    "print('잔액:', b.start)\n",
    "print()\n",
    "a.get_acc_count()\n"
   ]
  },
  {
   "cell_type": "markdown",
   "id": "530f981b",
   "metadata": {
    "id": "530f981b"
   },
   "source": [
    "#### 275. 출금 메서드\n",
    "Account 클래스에 출금을 위한 withdraw 메서드를 추가하세요. 출금은 계좌의 잔고 이상으로 출금할 수는 없습니다."
   ]
  },
  {
   "cell_type": "code",
   "execution_count": 17,
   "id": "a19b6d7f",
   "metadata": {
    "id": "a19b6d7f"
   },
   "outputs": [
    {
     "name": "stdout",
     "output_type": "stream",
     "text": [
      "예금주: 김연아\n",
      "은행이름: SC은행\n",
      "계좌번호: 755-755-000755\n",
      "잔액: 10000\n",
      "\n",
      "계좌 개수: 1\n",
      "\n",
      "예금주: 홍길동\n",
      "은행이름: SC은행\n",
      "계좌번호: 567-567-000567\n",
      "잔액: 500\n",
      "\n",
      "계좌 개수: 2\n"
     ]
    }
   ],
   "source": [
    "import random\n",
    "\n",
    "class Account:\n",
    "\n",
    "    acc_count = 0\n",
    "\n",
    "    def __init__(self, name, start):\n",
    "        self.name = name\n",
    "        self.start = start\n",
    "        self.bank = 'SC은행'\n",
    "\n",
    "        # 랜덤하게 생성\n",
    "        num1 = random.randint(0, 999)  # 0~999\n",
    "        num2 = random.randint(0, 99)  # 0~99\n",
    "        num3 = random.randint(0, 999999)  # 0~999999\n",
    "         \n",
    "        # 자리수 채우기\n",
    "        num1 = str(num1).zfill(3)\n",
    "        num2 = str(num1).zfill(2)\n",
    "        num3 = str(num1).zfill(6)\n",
    "\n",
    "        # 계좌번호 세 파트 합치기\n",
    "        self.num = num1 + '-' + num2 + '-' + num3\n",
    "\n",
    "        Account.acc_count += 1\n",
    "    \n",
    "    @classmethod    \n",
    "    def get_acc_count(cls):\n",
    "        print('계좌 개수:',cls.acc_count)\n",
    "\n",
    "    def deposit(self, amount):\n",
    "        if amount >= 1:\n",
    "            self.start += amount\n",
    "\n",
    "    def withdraw(self, amount):\n",
    "        if amount < self.start:\n",
    "            self.start -= amount\n",
    "\n",
    "\n",
    "a = Account('김연아', 10000)\n",
    "print('예금주:', a.name)\n",
    "print('은행이름:', a.bank)\n",
    "print('계좌번호:', a.num)\n",
    "print('잔액:', a.start)\n",
    "print()\n",
    "a.get_acc_count()\n",
    "\n",
    "print()\n",
    "\n",
    "b = Account('홍길동', 500)\n",
    "print('예금주:', b.name)\n",
    "print('은행이름:', b.bank)\n",
    "print('계좌번호:', b.num)\n",
    "print('잔액:', b.start)\n",
    "print()\n",
    "a.get_acc_count()\n"
   ]
  },
  {
   "cell_type": "markdown",
   "id": "31a913c6",
   "metadata": {
    "id": "31a913c6"
   },
   "source": [
    "#### 276. 정보 출력 메서드\n",
    "Account 인스턴스에 저장된 정보를 출력하는 display_info() 메서드를 추가하세요. 잔고는 세자리마다 쉼표를 출력하세요.\n",
    "\n",
    "- 은행이름: SC은행\n",
    "- 예금주: 파이썬\n",
    "- 계좌번호: 111-11-111111\n",
    "- 잔고: 10,000원"
   ]
  },
  {
   "cell_type": "code",
   "execution_count": 19,
   "id": "aa5e2b9c",
   "metadata": {
    "colab": {
     "base_uri": "https://localhost:8080/"
    },
    "executionInfo": {
     "elapsed": 920,
     "status": "ok",
     "timestamp": 1682583829558,
     "user": {
      "displayName": "주주",
      "userId": "14652178887215818703"
     },
     "user_tz": -540
    },
    "id": "aa5e2b9c",
    "outputId": "0c951ecc-e1d7-4a4f-8131-7f9547882a71"
   },
   "outputs": [
    {
     "name": "stdout",
     "output_type": "stream",
     "text": [
      "은행이름: SC은행\n",
      "예금주: 김연아\n",
      "계좌번호: 416-416-000416\n",
      "잔고: 10,000원\n",
      "계좌 개수: 1\n",
      "\n",
      "은행이름: SC은행\n",
      "예금주: 홍길동\n",
      "계좌번호: 792-792-000792\n",
      "잔고: 500원\n",
      "계좌 개수: 2\n"
     ]
    }
   ],
   "source": [
    "import random\n",
    "\n",
    "class Account:\n",
    "\n",
    "    acc_count = 0\n",
    "\n",
    "    def __init__(self, name, start):\n",
    "        self.name = name\n",
    "        self.start = start\n",
    "        self.bank = 'SC은행'\n",
    "\n",
    "        # 랜덤하게 생성\n",
    "        num1 = random.randint(0, 999)  # 0~999\n",
    "        num2 = random.randint(0, 99)  # 0~99\n",
    "        num3 = random.randint(0, 999999)  # 0~999999\n",
    "         \n",
    "        # 자리수 채우기\n",
    "        num1 = str(num1).zfill(3)\n",
    "        num2 = str(num1).zfill(2)\n",
    "        num3 = str(num1).zfill(6)\n",
    "\n",
    "        # 계좌번호 세 파트 합치기\n",
    "        self.num = num1 + '-' + num2 + '-' + num3\n",
    "\n",
    "        Account.acc_count += 1\n",
    "\n",
    "    @classmethod    \n",
    "    def get_acc_count(cls):\n",
    "        print('계좌 개수:',cls.acc_count)\n",
    "\n",
    "    def deposit(self, amount):\n",
    "        if amount >= 1:\n",
    "            self.start += amount\n",
    "\n",
    "    def withdraw(self, amount):\n",
    "        if amount < self.start:\n",
    "            self.start -= amount\n",
    "\n",
    "    def display_info(self):\n",
    "        print('은행이름:', self.bank)\n",
    "        print('예금주:', self.name)\n",
    "        print('계좌번호:', self.num)\n",
    "        print('잔고: {0:,}원'.format(self.start))\n",
    "\n",
    "a = Account('김연아', 10000)\n",
    "a.display_info()\n",
    "a.get_acc_count()\n",
    "\n",
    "print()\n",
    "\n",
    "b = Account('홍길동', 500)\n",
    "b.display_info()\n",
    "b.get_acc_count()\n"
   ]
  },
  {
   "cell_type": "markdown",
   "id": "efae0457",
   "metadata": {
    "id": "efae0457"
   },
   "source": [
    "#### 277. 이자 지급하기\n",
    "입금 횟수가 5회가 될 때 잔고를 기준으로 1%의 이자가 잔고에 추가되도록 코드를 변경해보세요."
   ]
  },
  {
   "cell_type": "code",
   "execution_count": 20,
   "id": "e308e03d",
   "metadata": {
    "colab": {
     "base_uri": "https://localhost:8080/"
    },
    "executionInfo": {
     "elapsed": 1245,
     "status": "ok",
     "timestamp": 1682586422464,
     "user": {
      "displayName": "주주",
      "userId": "14652178887215818703"
     },
     "user_tz": -540
    },
    "id": "e308e03d",
    "outputId": "63c160cf-fff1-4bd9-b42b-ad31682f5a4c"
   },
   "outputs": [
    {
     "name": "stdout",
     "output_type": "stream",
     "text": [
      "은행이름: SC은행\n",
      "예금주: 김연아\n",
      "계좌번호: 222-222-000222\n",
      "잔고: 10,000원\n",
      "계좌 개수: 1\n",
      "\n",
      "은행이름: SC은행\n",
      "예금주: 홍길동\n",
      "계좌번호: 515-515-000515\n",
      "잔고: 500원\n",
      "계좌 개수: 2\n"
     ]
    }
   ],
   "source": [
    "import random\n",
    "\n",
    "class Account:\n",
    "\n",
    "    acc_count = 0\n",
    "    dep_count = 0\n",
    "\n",
    "    def __init__(self, name, start):\n",
    "        self.name = name\n",
    "        self.start = start\n",
    "        self.bank = 'SC은행'\n",
    "\n",
    "        # 랜덤하게 생성\n",
    "        num1 = random.randint(0, 999)  # 0~999\n",
    "        num2 = random.randint(0, 99)  # 0~99\n",
    "        num3 = random.randint(0, 999999)  # 0~999999\n",
    "         \n",
    "        # 자리수 채우기\n",
    "        num1 = str(num1).zfill(3)\n",
    "        num2 = str(num1).zfill(2)\n",
    "        num3 = str(num1).zfill(6)\n",
    "\n",
    "        # 계좌번호 세 파트 합치기\n",
    "        self.num = num1 + '-' + num2 + '-' + num3\n",
    "\n",
    "        Account.acc_count += 1\n",
    "\n",
    "    @classmethod    \n",
    "    def get_acc_count(cls):\n",
    "        print('계좌 개수:',cls.acc_count)\n",
    "\n",
    "    def deposit(self, amount):\n",
    "        if amount >= 1:\n",
    "            self.start += amount\n",
    "\n",
    "            dep_count += 1\n",
    "        if dep_count == 5:\n",
    "            self.start += self.start * 0.01\n",
    "            dep_count = 0\n",
    "\n",
    "    def withdraw(self, amount):\n",
    "        if amount < self.start:\n",
    "            self.start -= amount\n",
    "\n",
    "    \n",
    "    def display_info(self):\n",
    "        print('은행이름:', self.bank)\n",
    "        print('예금주:', self.name)\n",
    "        print('계좌번호:', self.num)\n",
    "        print('잔고: {0:,}원'.format(self.start))\n",
    "\n",
    "a = Account('김연아', 10000)\n",
    "a.display_info()\n",
    "a.get_acc_count()\n",
    "\n",
    "print()\n",
    "\n",
    "b = Account('홍길동', 500)\n",
    "b.display_info()\n",
    "b.get_acc_count()\n"
   ]
  },
  {
   "cell_type": "markdown",
   "id": "e456b3e0",
   "metadata": {
    "id": "e456b3e0"
   },
   "source": [
    "#### 278. 여러 객체 생성\n",
    "Account 클래스로부터 3개 이상 인스턴스를 생성하고 생성된 인스턴스를 리스트에 저장해보세요."
   ]
  },
  {
   "cell_type": "code",
   "execution_count": 24,
   "id": "aafe5ba3",
   "metadata": {
    "colab": {
     "base_uri": "https://localhost:8080/"
    },
    "executionInfo": {
     "elapsed": 267,
     "status": "ok",
     "timestamp": 1682585192080,
     "user": {
      "displayName": "주주",
      "userId": "14652178887215818703"
     },
     "user_tz": -540
    },
    "id": "aafe5ba3",
    "outputId": "51c82151-8b89-4a33-c174-0997673bbbfe"
   },
   "outputs": [
    {
     "name": "stdout",
     "output_type": "stream",
     "text": [
      "[<__main__.Account object at 0x7fc30802e830>, <__main__.Account object at 0x7fc30802e620>, <__main__.Account object at 0x7fc30802dcf0>]\n"
     ]
    }
   ],
   "source": [
    "import random\n",
    "\n",
    "class Account:\n",
    "\n",
    "    acc_count = 0\n",
    "    dep_count = 0\n",
    "\n",
    "    def __init__(self, name, start):\n",
    "        self.name = name\n",
    "        self.start = start\n",
    "        self.bank = 'SC은행'\n",
    "\n",
    "        # 랜덤하게 생성\n",
    "        num1 = random.randint(0, 999)  # 0~999\n",
    "        num2 = random.randint(0, 99)  # 0~99\n",
    "        num3 = random.randint(0, 999999)  # 0~999999\n",
    "         \n",
    "        # 자리수 채우기\n",
    "        num1 = str(num1).zfill(3)\n",
    "        num2 = str(num1).zfill(2)\n",
    "        num3 = str(num1).zfill(6)\n",
    "\n",
    "        # 계좌번호 세 파트 합치기\n",
    "        self.num = num1 + '-' + num2 + '-' + num3\n",
    "\n",
    "        Account.acc_count += 1\n",
    "\n",
    "    @classmethod    \n",
    "    def get_acc_count(cls):\n",
    "        print('계좌 개수:',cls.acc_count)\n",
    "\n",
    "    def deposit(self, amount):\n",
    "        if amount >= 1:\n",
    "            self.start += amount\n",
    "\n",
    "            dep_count += 1\n",
    "        if dep_count == 5:\n",
    "            self.start += self.start * 0.01\n",
    "            dep_count = 0\n",
    "\n",
    "    def withdraw(self, amount):\n",
    "        if amount < self.start:\n",
    "            self.start -= amount\n",
    "\n",
    "    def display_info(self):\n",
    "        print('은행이름:', self.bank)\n",
    "        print('예금주:', self.name)\n",
    "        print('계좌번호:', self.num)\n",
    "        print('잔고: {0:,}원'.format(self.start))\n",
    "\n",
    "    \n",
    "data = []\n",
    "\n",
    "a = Account('김연아', 1000000)\n",
    "b = Account('홍길동', 50000)\n",
    "c = Account('안현동', 600000)\n",
    "\n",
    "data.append(a)\n",
    "data.append(b)\n",
    "data.append(c)\n",
    "\n",
    "print(data)\n",
    "\n"
   ]
  },
  {
   "cell_type": "markdown",
   "id": "63e3e838",
   "metadata": {
    "id": "63e3e838"
   },
   "source": [
    "#### 279. 객체 순회\n",
    "반복문을 통해 리스트에 있는 객체를 순회하면서 잔고가 100만원 이상인 고객의 정보만 출력하세요."
   ]
  },
  {
   "cell_type": "code",
   "execution_count": 27,
   "id": "1e95005f",
   "metadata": {
    "colab": {
     "base_uri": "https://localhost:8080/"
    },
    "executionInfo": {
     "elapsed": 1305,
     "status": "ok",
     "timestamp": 1682585425928,
     "user": {
      "displayName": "주주",
      "userId": "14652178887215818703"
     },
     "user_tz": -540
    },
    "id": "1e95005f",
    "outputId": "4484b163-96d4-4f81-a341-b3401a3472b5"
   },
   "outputs": [
    {
     "name": "stdout",
     "output_type": "stream",
     "text": [
      "은행이름: SC은행\n",
      "예금주: 김연아\n",
      "계좌번호: 590-590-000590\n",
      "잔고: 1,000,000원\n"
     ]
    }
   ],
   "source": [
    "import random\n",
    "\n",
    "class Account:\n",
    "\n",
    "    acc_count = 0\n",
    "    dep_count = 0\n",
    "\n",
    "    def __init__(self, name, start):\n",
    "        self.name = name\n",
    "        self.start = start\n",
    "        self.bank = 'SC은행'\n",
    "\n",
    "        # 랜덤하게 생성\n",
    "        num1 = random.randint(0, 999)  # 0~999\n",
    "        num2 = random.randint(0, 99)  # 0~99\n",
    "        num3 = random.randint(0, 999999)  # 0~999999\n",
    "         \n",
    "        # 자리수 채우기\n",
    "        num1 = str(num1).zfill(3)\n",
    "        num2 = str(num1).zfill(2)\n",
    "        num3 = str(num1).zfill(6)\n",
    "\n",
    "        # 계좌번호 세 파트 합치기\n",
    "        self.num = num1 + '-' + num2 + '-' + num3\n",
    "\n",
    "        Account.acc_count += 1\n",
    "    \n",
    "    @classmethod   \n",
    "    def get_acc_count(cls):\n",
    "        print('계좌 개수:',cls.acc_count)\n",
    "\n",
    "    def deposit(self, amount):\n",
    "        if amount >= 1:\n",
    "            self.start += amount\n",
    "\n",
    "            dep_count += 1\n",
    "        if dep_count == 5:\n",
    "            self.start += self.start * 0.01\n",
    "            dep_count = 0\n",
    "\n",
    "    def withdraw(self, amount):\n",
    "        if amount < self.start:\n",
    "            self.start -= amount\n",
    "\n",
    "    def display_info(self):\n",
    "        print('은행이름:', self.bank)\n",
    "        print('예금주:', self.name)\n",
    "        print('계좌번호:', self.num)\n",
    "        print('잔고: {0:,}원'.format(self.start))\n",
    "\n",
    "a = Account('김연아', 1000000)\n",
    "b = Account('홍길동', 50000)\n",
    "c = Account('안현동', 600000)\n",
    "\n",
    "data = [a,b,c]\n",
    "\n",
    "for i in data:\n",
    "    if i.start >= 1000000:\n",
    "        i.display_info()\n",
    "\n"
   ]
  },
  {
   "cell_type": "markdown",
   "id": "c2f9c27f",
   "metadata": {
    "id": "c2f9c27f"
   },
   "source": [
    "#### 280. 입출금 내역\n",
    "입금과 출금 내역이 기록되도록 코드를 업데이트 하세요. 입금 내역과 출금 내역을 출력하는 deposit_history와 withdraw_history 메서드를 추가하세요."
   ]
  },
  {
   "cell_type": "code",
   "execution_count": 28,
   "id": "1d5f657e",
   "metadata": {
    "colab": {
     "base_uri": "https://localhost:8080/"
    },
    "executionInfo": {
     "elapsed": 316,
     "status": "ok",
     "timestamp": 1682587206213,
     "user": {
      "displayName": "주주",
      "userId": "14652178887215818703"
     },
     "user_tz": -540
    },
    "id": "1d5f657e",
    "outputId": "19c10c05-c0d9-4fc8-b6a3-d39e61588273"
   },
   "outputs": [
    {
     "name": "stdout",
     "output_type": "stream",
     "text": [
      "+ 100000\n",
      "+ 200000\n",
      "은행이름: SC은행\n",
      "예금주: 김연아\n",
      "계좌번호: 219-219-000219\n",
      "잔고: 1,300,000원\n",
      "\n",
      "- 500000\n",
      "- 300000\n",
      "은행이름: SC은행\n",
      "예금주: 김연아\n",
      "계좌번호: 219-219-000219\n",
      "잔고: 500,000원\n"
     ]
    }
   ],
   "source": [
    "import random\n",
    "\n",
    "class Account:\n",
    "\n",
    "    acc_count = 0\n",
    "    dep_count = 0\n",
    "\n",
    "    def __init__(self, name, start):\n",
    "        self.name = name\n",
    "        self.start = start\n",
    "        self.bank = 'SC은행'\n",
    "\n",
    "        self.dep_log = []\n",
    "        self.with_log = []\n",
    "\n",
    "        # 랜덤하게 생성\n",
    "        num1 = random.randint(0, 999)  # 0~999\n",
    "        num2 = random.randint(0, 99)  # 0~99\n",
    "        num3 = random.randint(0, 999999)  # 0~999999\n",
    "         \n",
    "        # 자리수 채우기\n",
    "        num1 = str(num1).zfill(3)\n",
    "        num2 = str(num1).zfill(2)\n",
    "        num3 = str(num1).zfill(6)\n",
    "\n",
    "        # 계좌번호 세 파트 합치기\n",
    "        self.num = num1 + '-' + num2 + '-' + num3\n",
    "\n",
    "        Account.acc_count += 1\n",
    "    \n",
    "    @classmethod    \n",
    "    def get_acc_count(cls):\n",
    "        print('계좌 개수:',cls.acc_count)\n",
    "\n",
    "\n",
    "    def deposit(self, amount):\n",
    "        if amount >= 1:\n",
    "            self.start += amount\n",
    "\n",
    "            self.dep_count += 1\n",
    "            self.dep_log.append(amount)\n",
    "\n",
    "        if self.dep_count == 5:\n",
    "            self.start += self.start * 0.01\n",
    "            self.dep_count = 0\n",
    "\n",
    "    def withdraw(self, amount):\n",
    "        if amount < self.start:\n",
    "            self.start -= amount\n",
    "\n",
    "            self.with_log.append(amount)\n",
    "\n",
    "    def display_info(self):\n",
    "        print('은행이름:', self.bank)\n",
    "        print('예금주:', self.name)\n",
    "        print('계좌번호:', self.num)\n",
    "        print('잔고: {0:,}원'.format(self.start))\n",
    "\n",
    "\n",
    "    def deposit_history(self):\n",
    "        for amount in self.dep_log:\n",
    "            print('+',amount)\n",
    "        \n",
    "    def withdraw_history(self):\n",
    "        for amount in self.with_log:\n",
    "            print('-',amount)\n",
    "\n",
    "a = Account('김연아', 1000000)\n",
    "\n",
    "a.deposit(100000)\n",
    "a.deposit(200000)\n",
    "a.deposit_history()\n",
    "a.display_info()\n",
    "\n",
    "print()\n",
    "a.withdraw(500000)\n",
    "a.withdraw(300000)\n",
    "a.withdraw_history()\n",
    "a.display_info()\n"
   ]
  },
  {
   "cell_type": "markdown",
   "id": "6216cf8d",
   "metadata": {
    "id": "6216cf8d"
   },
   "source": [
    "#### 281. 클래스 정의\n",
    "다음 코드가 동작하도록 차 클래스를 정의하세요.\n",
    "\n",
    ">> car = 차(2, 1000)\n",
    ">> car.바퀴\n",
    "2\n",
    ">> car.가격\n",
    "1000"
   ]
  },
  {
   "cell_type": "code",
   "execution_count": 29,
   "id": "15b1b7fe",
   "metadata": {
    "colab": {
     "base_uri": "https://localhost:8080/"
    },
    "executionInfo": {
     "elapsed": 6,
     "status": "ok",
     "timestamp": 1682653270714,
     "user": {
      "displayName": "주주",
      "userId": "14652178887215818703"
     },
     "user_tz": -540
    },
    "id": "15b1b7fe",
    "outputId": "8db5460a-7451-4756-f0a6-0bcd6ad98044"
   },
   "outputs": [
    {
     "name": "stdout",
     "output_type": "stream",
     "text": [
      "2\n",
      "1000\n"
     ]
    }
   ],
   "source": [
    "class 차:\n",
    "    def __init__(self, 바퀴, 가격):\n",
    "        self.바퀴 = 바퀴\n",
    "        self.가격 = 가격\n",
    "\n",
    "car = 차(2, 1000)\n",
    "print(car.바퀴)\n",
    "print(car.가격)"
   ]
  },
  {
   "cell_type": "markdown",
   "id": "b7ccdd6f",
   "metadata": {
    "id": "b7ccdd6f"
   },
   "source": [
    "#### 282. 클래스 상속\n",
    "차 클래스를 상속받은 자전차 클래스를 정의하세요."
   ]
  },
  {
   "cell_type": "code",
   "execution_count": 30,
   "id": "4e08cc6f",
   "metadata": {
    "executionInfo": {
     "elapsed": 3,
     "status": "ok",
     "timestamp": 1682653307509,
     "user": {
      "displayName": "주주",
      "userId": "14652178887215818703"
     },
     "user_tz": -540
    },
    "id": "4e08cc6f"
   },
   "outputs": [],
   "source": [
    "class 자전차(차):\n",
    "    pass"
   ]
  },
  {
   "cell_type": "markdown",
   "id": "771ea185",
   "metadata": {
    "id": "771ea185"
   },
   "source": [
    "#### 283. 클래스 상속\n",
    "다음 코드가 동작하도록 자전차 클래스를 정의하세요. 단 자전차 클래스는 차 클래스를 상속받습니다.\n",
    "\n",
    ">> bicycle = 자전차(2, 100)\n",
    ">> bicycle.가격\n",
    "100"
   ]
  },
  {
   "cell_type": "code",
   "execution_count": 31,
   "id": "b35bc0aa",
   "metadata": {
    "colab": {
     "base_uri": "https://localhost:8080/"
    },
    "executionInfo": {
     "elapsed": 354,
     "status": "ok",
     "timestamp": 1682653482528,
     "user": {
      "displayName": "주주",
      "userId": "14652178887215818703"
     },
     "user_tz": -540
    },
    "id": "b35bc0aa",
    "outputId": "c158578c-a8f0-428e-d02f-b2fd0baf9d35"
   },
   "outputs": [
    {
     "name": "stdout",
     "output_type": "stream",
     "text": [
      "2\n",
      "1000\n",
      "100\n"
     ]
    }
   ],
   "source": [
    "class 차:\n",
    "    def __init__(self, 바퀴, 가격):\n",
    "        self.바퀴 = 바퀴\n",
    "        self.가격 = 가격\n",
    "\n",
    "car = 차(2, 1000)\n",
    "print(car.바퀴)\n",
    "print(car.가격)\n",
    "\n",
    "\n",
    "class 자전차(차):\n",
    "    def __init__(self, 바퀴, 가격):\n",
    "        self.바퀴 = 바퀴\n",
    "        self.가격 = 가격\n",
    "        \n",
    "bicycle = 자전차(2,100)\n",
    "print(bicycle.가격)"
   ]
  },
  {
   "cell_type": "markdown",
   "id": "f56054ed",
   "metadata": {
    "id": "f56054ed"
   },
   "source": [
    "#### 284. 클래스 상속\n",
    "다음 코드가 동작하도록 자전차 클래스를 정의하세요. 단 자전차 클래스는 차 클래스를 상속받습니다.\n",
    "\n",
    "- bicycle = 자전차(2, 100, \"시마노\")\n",
    "- bicycle.구동계\n",
    "- 시마노"
   ]
  },
  {
   "cell_type": "code",
   "execution_count": 32,
   "id": "c66b716b",
   "metadata": {
    "colab": {
     "base_uri": "https://localhost:8080/"
    },
    "executionInfo": {
     "elapsed": 415,
     "status": "ok",
     "timestamp": 1682658547142,
     "user": {
      "displayName": "주주",
      "userId": "14652178887215818703"
     },
     "user_tz": -540
    },
    "id": "c66b716b",
    "outputId": "b0c8da3e-e194-487d-95b5-e0079e119130"
   },
   "outputs": [
    {
     "name": "stdout",
     "output_type": "stream",
     "text": [
      "2\n",
      "1000\n",
      "시마노\n"
     ]
    }
   ],
   "source": [
    "class 차:\n",
    "    def __init__(self, 바퀴, 가격):\n",
    "        self.바퀴 = 바퀴\n",
    "        self.가격 = 가격\n",
    "\n",
    "car = 차(2, 1000)\n",
    "print(car.바퀴)\n",
    "print(car.가격)\n",
    "\n",
    "\n",
    "class 자전차(차):\n",
    "    def __init__(self, 바퀴, 가격, 구동계):\n",
    "        super().__init__(바퀴, 가격)\n",
    "        self.구동계 = 구동계\n",
    "        \n",
    "bicycle = 자전차(2,100,'시마노')\n",
    "print(bicycle.구동계)"
   ]
  },
  {
   "cell_type": "markdown",
   "id": "ff15684c",
   "metadata": {
    "id": "ff15684c"
   },
   "source": [
    "#### 285. 클래스 상속\n",
    "다음 코드가 동작하도록 차 클래스를 상속받는 자동차 클래스를 정의하세요.\n",
    "\n",
    "- car = 자동차(4, 1000)\n",
    "- car.정보()\n",
    "- 바퀴수 4\n",
    "- 가격 1000"
   ]
  },
  {
   "cell_type": "code",
   "execution_count": 33,
   "id": "a77d8fdc",
   "metadata": {
    "colab": {
     "base_uri": "https://localhost:8080/"
    },
    "executionInfo": {
     "elapsed": 405,
     "status": "ok",
     "timestamp": 1682658634543,
     "user": {
      "displayName": "주주",
      "userId": "14652178887215818703"
     },
     "user_tz": -540
    },
    "id": "a77d8fdc",
    "outputId": "e73913c7-8118-4876-84a2-6b7af5621257"
   },
   "outputs": [
    {
     "name": "stdout",
     "output_type": "stream",
     "text": [
      "바퀴수 4\n",
      "가격 1000\n"
     ]
    }
   ],
   "source": [
    "class 차:\n",
    "    def __init__(self, 바퀴, 가격):\n",
    "        self.바퀴 = 바퀴\n",
    "        self.가격 = 가격\n",
    "\n",
    "class 자전차(차):\n",
    "    def __init__(self, 바퀴, 가격, 구동계):\n",
    "        super().__init__(바퀴, 가격)\n",
    "        self.구동계 = 구동계\n",
    "        \n",
    "class 자동차(차):\n",
    "    def __init__(self, 바퀴, 가격):\n",
    "        super().__init__(바퀴, 가격)\n",
    "\n",
    "    def 정보(self):\n",
    "        print('바퀴수', self.바퀴)\n",
    "        print('가격', self.가격)\n",
    "\n",
    "\n",
    "\n",
    "car = 자동차(4,1000)\n",
    "car.정보()"
   ]
  },
  {
   "cell_type": "markdown",
   "id": "320ca0da",
   "metadata": {
    "id": "320ca0da"
   },
   "source": [
    "#### 286. 부모 클래스 생성자 호출\n",
    "다음 코드가 동작하도록 자전차 클래스를 수정하세요.\n",
    "\n",
    "- bicycle = 자전차(2, 100, \"시마노\")\n",
    "- bicycle.정보()\n",
    "- 바퀴수 2\n",
    "- 가격 100"
   ]
  },
  {
   "cell_type": "code",
   "execution_count": 34,
   "id": "7644ca77",
   "metadata": {
    "colab": {
     "base_uri": "https://localhost:8080/"
    },
    "executionInfo": {
     "elapsed": 380,
     "status": "ok",
     "timestamp": 1682659737449,
     "user": {
      "displayName": "주주",
      "userId": "14652178887215818703"
     },
     "user_tz": -540
    },
    "id": "7644ca77",
    "outputId": "3f0a2551-d188-497a-ab1f-50e47add38a1"
   },
   "outputs": [
    {
     "name": "stdout",
     "output_type": "stream",
     "text": [
      "바퀴수 2\n",
      "가격 100\n",
      "바퀴수 4\n",
      "가격 1000\n"
     ]
    }
   ],
   "source": [
    "class 차:\n",
    "    def __init__(self, 바퀴, 가격):\n",
    "        self.바퀴 = 바퀴\n",
    "        self.가격 = 가격\n",
    "\n",
    "class 자전차(차):\n",
    "    def __init__(self, 바퀴, 가격, 구동계):\n",
    "        super().__init__(바퀴, 가격)\n",
    "        self.구동계 = 구동계\n",
    "\n",
    "    def 정보(self):\n",
    "        print('바퀴수', self.바퀴)\n",
    "        print('가격', self.가격)\n",
    "        \n",
    "\n",
    "class 자동차(차):\n",
    "    def __init__(self, 바퀴, 가격):\n",
    "        super().__init__(바퀴, 가격)\n",
    "\n",
    "    def 정보(self):\n",
    "        print('바퀴수', self.바퀴)\n",
    "        print('가격', self.가격)\n",
    "\n",
    "\n",
    "bicycle = 자전차(2, 100, \"시마노\")\n",
    "bicycle.정보()\n",
    "\n",
    "car = 자동차(4,1000)\n",
    "car.정보()\n"
   ]
  },
  {
   "cell_type": "markdown",
   "id": "1196b5e2",
   "metadata": {
    "id": "1196b5e2"
   },
   "source": [
    "#### 287. 부모 클래스 메서드 호출\n",
    "자전차의 정보() 메서드로 구동계 정보까지 출력하도록 수정해보세요.\n",
    "\n",
    "- bicycle = 자전차(2, 100, \"시마노\")\n",
    "- bicycle.정보()\n",
    "- 바퀴수 2\n",
    "- 가격 100\n",
    "- 구동계 시마노"
   ]
  },
  {
   "cell_type": "code",
   "execution_count": 35,
   "id": "1928d332",
   "metadata": {
    "colab": {
     "base_uri": "https://localhost:8080/"
    },
    "executionInfo": {
     "elapsed": 494,
     "status": "ok",
     "timestamp": 1682659826845,
     "user": {
      "displayName": "주주",
      "userId": "14652178887215818703"
     },
     "user_tz": -540
    },
    "id": "1928d332",
    "outputId": "699d9534-2ed0-472d-f20a-a48ae343dc88"
   },
   "outputs": [
    {
     "name": "stdout",
     "output_type": "stream",
     "text": [
      "바퀴수 2\n",
      "가격 100\n",
      "구동계 시마노\n",
      "\n",
      "바퀴수 4\n",
      "가격 1000\n"
     ]
    }
   ],
   "source": [
    "class 차:\n",
    "    def __init__(self, 바퀴, 가격):\n",
    "        self.바퀴 = 바퀴\n",
    "        self.가격 = 가격\n",
    "\n",
    "class 자전차(차):\n",
    "    def __init__(self, 바퀴, 가격, 구동계):\n",
    "        super().__init__(바퀴, 가격)\n",
    "        self.구동계 = 구동계\n",
    "\n",
    "    def 정보(self):\n",
    "        print('바퀴수', self.바퀴)\n",
    "        print('가격', self.가격)\n",
    "        print('구동계', self.구동계)\n",
    "        \n",
    "\n",
    "class 자동차(차):\n",
    "    def __init__(self, 바퀴, 가격):\n",
    "        super().__init__(바퀴, 가격)\n",
    "\n",
    "    def 정보(self):\n",
    "        print('바퀴수', self.바퀴)\n",
    "        print('가격', self.가격)\n",
    "\n",
    "\n",
    "bicycle = 자전차(2, 100, \"시마노\")\n",
    "bicycle.정보()\n",
    "\n",
    "print()\n",
    "car = 자동차(4,1000)\n",
    "car.정보()\n"
   ]
  },
  {
   "cell_type": "markdown",
   "id": "189e5c3a",
   "metadata": {
    "id": "189e5c3a"
   },
   "source": [
    "#### 288. 메서드 오버라이딩\n",
    "다음 코드의 실행 결과를 예상해보세요.\n",
    "\n",
    "> class 부모:\n",
    ">>   def 호출(self):\n",
    ">>>     print(\"부모호출\")\n",
    "\n",
    "> class 자식(부모):\n",
    ">>   def 호출(self):\n",
    ">>>     print(\"자식호출\")\n",
    "- 나 = 자식()\n",
    "- 나.호출()"
   ]
  },
  {
   "cell_type": "code",
   "execution_count": 36,
   "id": "sxp-aWw1ai8N",
   "metadata": {
    "colab": {
     "base_uri": "https://localhost:8080/"
    },
    "executionInfo": {
     "elapsed": 460,
     "status": "ok",
     "timestamp": 1682661134276,
     "user": {
      "displayName": "주주",
      "userId": "14652178887215818703"
     },
     "user_tz": -540
    },
    "id": "sxp-aWw1ai8N",
    "outputId": "86338935-69a2-4988-dc88-5f8de3ed7c01"
   },
   "outputs": [
    {
     "name": "stdout",
     "output_type": "stream",
     "text": [
      "자식호출\n"
     ]
    }
   ],
   "source": [
    "class 부모:\n",
    "    def 호출(self):\n",
    "        print(\"부모호출\")\n",
    "\n",
    "class 자식(부모):\n",
    "    def 호출(self):\n",
    "        print(\"자식호출\")\n",
    "\n",
    "\n",
    "나 = 자식()\n",
    "나.호출()"
   ]
  },
  {
   "cell_type": "markdown",
   "id": "1d5eea3a",
   "metadata": {
    "id": "1d5eea3a"
   },
   "source": [
    "#### 289 생성자\n",
    "다음 코드의 실행 결과를 예상해보세요.\n",
    "\n",
    "> class 부모:\n",
    ">>   def __init__(self):\n",
    ">>>     print(\"부모생성\")\n",
    "\n",
    "> class 자식(부모):\n",
    ">>   def __init__(self):\n",
    ">>>     print(\"자식생성\")\n",
    "- 나 = 자식()"
   ]
  },
  {
   "cell_type": "code",
   "execution_count": 37,
   "id": "dcbea886",
   "metadata": {
    "colab": {
     "base_uri": "https://localhost:8080/"
    },
    "executionInfo": {
     "elapsed": 367,
     "status": "ok",
     "timestamp": 1682661118994,
     "user": {
      "displayName": "주주",
      "userId": "14652178887215818703"
     },
     "user_tz": -540
    },
    "id": "dcbea886",
    "outputId": "65f91593-9c7c-48ab-bbff-d5837f74d8b0"
   },
   "outputs": [
    {
     "name": "stdout",
     "output_type": "stream",
     "text": [
      "자식생성\n"
     ]
    }
   ],
   "source": [
    "class 부모:\n",
    "    def __init__(self):\n",
    "        print(\"부모생성\")\n",
    "\n",
    "class 자식(부모):\n",
    "    def __init__(self):\n",
    "        print(\"자식생성\")\n",
    "\n",
    "나 = 자식()"
   ]
  },
  {
   "cell_type": "markdown",
   "id": "dea2a767",
   "metadata": {
    "id": "dea2a767"
   },
   "source": [
    "#### 290. 부모클래스 생성자 호출\n",
    "다음 코드의 실행 결과를 예상해보세요.\n",
    "\n",
    "> class 부모:\n",
    ">>   def __init__(self):\n",
    ">>>     print(\"부모생성\")\n",
    "\n",
    "> class 자식(부모):\n",
    ">>   def __init__(self):\n",
    ">>>     print(\"자식생성\")\n",
    ">>>     super().__init__()\n",
    "\n",
    "- 나 = 자식()"
   ]
  },
  {
   "cell_type": "code",
   "execution_count": 38,
   "id": "56ebeefe",
   "metadata": {
    "colab": {
     "base_uri": "https://localhost:8080/"
    },
    "executionInfo": {
     "elapsed": 6,
     "status": "ok",
     "timestamp": 1682661230184,
     "user": {
      "displayName": "주주",
      "userId": "14652178887215818703"
     },
     "user_tz": -540
    },
    "id": "56ebeefe",
    "outputId": "d2b95e3d-3fdf-4560-cc1c-c7094171402e"
   },
   "outputs": [
    {
     "name": "stdout",
     "output_type": "stream",
     "text": [
      "자식생성\n",
      "부모생성\n"
     ]
    }
   ],
   "source": [
    "class 부모:\n",
    "    def __init__(self):\n",
    "        print('부모생성')\n",
    "\n",
    "class 자식(부모):\n",
    "    def __init__(self):\n",
    "        print('자식생성')\n",
    "        super().__init__()\n",
    "\n",
    "나 = 자식()"
   ]
  }
 ],
 "metadata": {
  "colab": {
   "provenance": []
  },
  "kernelspec": {
   "display_name": "Python 3 (ipykernel)",
   "language": "python",
   "name": "python3"
  },
  "language_info": {
   "codemirror_mode": {
    "name": "ipython",
    "version": 3
   },
   "file_extension": ".py",
   "mimetype": "text/x-python",
   "name": "python",
   "nbconvert_exporter": "python",
   "pygments_lexer": "ipython3",
   "version": "3.10.11"
  }
 },
 "nbformat": 4,
 "nbformat_minor": 5
}
