{
 "cells": [
  {
   "cell_type": "markdown",
   "id": "f75c4c72-06a8-4a6b-8c66-353076d9dacc",
   "metadata": {},
   "source": [
    "# 함수 (Function)\n",
    "\n",
    "- x : 입력값, 입력변수, 파라메타, 인자(argument)\n",
    "- y : 리턴값"
   ]
  },
  {
   "cell_type": "markdown",
   "id": "a22cab88-c539-44b4-8ce1-50dd2904d9c1",
   "metadata": {},
   "source": [
    "- 변수 \n",
    "\n",
    "전역변수 (global variable)<br>\n",
    "지역변수 (local variable)"
   ]
  },
  {
   "cell_type": "markdown",
   "id": "66e42c03-5af5-4aaa-b775-585af2fc7cfc",
   "metadata": {},
   "source": [
    "## < 함수의 종류 >\n",
    "\n",
    "- 리턴값이 있는 경우\n",
    "- 리턴값이 없는 경우\n",
    "- 내장함수\n",
    "- 사용자 정의 함수\n",
    "- 중첩함수 (함수 안에 함수가 있는 경우)\n",
    "- 재귀함수 (함수 안에 같은 함수가 있는 경우)"
   ]
  },
  {
   "cell_type": "markdown",
   "id": "5d6e9b16-66a9-4e2d-b12f-491e911095b2",
   "metadata": {},
   "source": [
    "## 1. 함수 정의와 호출"
   ]
  },
  {
   "cell_type": "code",
   "execution_count": 1,
   "id": "23713155-c640-4591-9914-286bfb431283",
   "metadata": {},
   "outputs": [
    {
     "name": "stdout",
     "output_type": "stream",
     "text": [
      "Python\n",
      "This is a function\n"
     ]
    }
   ],
   "source": [
    "def my_func():  # 함수 정의\n",
    "    print('Python')\n",
    "    print('This is a function')\n",
    "    \n",
    "my_func()  # 함수 호출"
   ]
  },
  {
   "cell_type": "markdown",
   "id": "0d1db8ca-9aa3-4635-93ab-a385c9f0d908",
   "metadata": {},
   "source": [
    "### 인자가 있는 함수"
   ]
  },
  {
   "cell_type": "code",
   "execution_count": 2,
   "id": "a28bf507-159e-451a-a570-89f96bc66b9b",
   "metadata": {},
   "outputs": [
    {
     "name": "stdout",
     "output_type": "stream",
     "text": [
      "철수는 나의 친구입니다\n",
      "영미는 나의 친구입니다\n"
     ]
    }
   ],
   "source": [
    "def my_friend(name):\n",
    "    print('{}는 나의 친구입니다'.format(name))\n",
    "    \n",
    "my_friend('철수')\n",
    "my_friend('영미')"
   ]
  },
  {
   "cell_type": "markdown",
   "id": "e20fce36-a4fd-4242-8af4-33092bd6652b",
   "metadata": {},
   "source": [
    "### 인자와 반환값이 있는 함수"
   ]
  },
  {
   "cell_type": "code",
   "execution_count": 5,
   "id": "ee6ef5aa-ae4e-4a7e-8032-db866d7e56df",
   "metadata": {},
   "outputs": [
    {
     "data": {
      "text/plain": [
       "20"
      ]
     },
     "execution_count": 5,
     "metadata": {},
     "output_type": "execute_result"
    }
   ],
   "source": [
    "def my_cal(x,y):  # 인자 x,y를 읽어들여\n",
    "    z = x*y\n",
    "    return z  # z 반환하기\n",
    "my_cal(4,5)"
   ]
  },
  {
   "cell_type": "markdown",
   "id": "f771f8db-fa3b-45c4-bae0-e0dcac6b161a",
   "metadata": {},
   "source": [
    "## 2. 전역 변수 (global)와 지역 변수 (local)"
   ]
  },
  {
   "cell_type": "code",
   "execution_count": 6,
   "id": "5b661084-081d-4c97-be0e-a39840698670",
   "metadata": {},
   "outputs": [
    {
     "name": "stdout",
     "output_type": "stream",
     "text": [
      "[func1] 지역 변수 a = 1\n",
      "[func2] 전역 변수 a = 5\n",
      "[func3] 전역 변수 a = 4\n"
     ]
    }
   ],
   "source": [
    "a = 5 # 전역 변수\n",
    "\n",
    "def func1():\n",
    "    a = 1 # 지역 변수. func1()에서만 사용\n",
    "    print(\"[func1] 지역 변수 a =\", a) \n",
    "    \n",
    "def func2():\n",
    "    print(\"[func2] 전역 변수 a =\", a)   \n",
    "    \n",
    "def func3():\n",
    "    global a  # 함수 내에서 전역 변수 변경 위해 선언\n",
    "    a = 4      # 전역 변수의 값 변경\n",
    "    print(\"[func3] 전역 변수 a =\",a)\n",
    "    \n",
    "    \n",
    "func1()\n",
    "func2()\n",
    "func3()"
   ]
  },
  {
   "cell_type": "markdown",
   "id": "27c1592b-367a-4cbb-ac99-3d7fe4735bae",
   "metadata": {},
   "source": [
    "## 3. 람다 (lambda) 함수"
   ]
  },
  {
   "cell_type": "markdown",
   "id": "3c4ac375-e4ce-44f6-9965-6651cb66ddfe",
   "metadata": {},
   "source": [
    "람다 함수는 한줄로 함수를 표현한다."
   ]
  },
  {
   "cell_type": "code",
   "execution_count": 7,
   "id": "9b3a78d6-2842-4460-8c1a-31fe71e3cf2f",
   "metadata": {},
   "outputs": [
    {
     "data": {
      "text/plain": [
       "9"
      ]
     },
     "execution_count": 7,
     "metadata": {},
     "output_type": "execute_result"
    }
   ],
   "source": [
    "mySquare = lambda x : x**2  # x를 제곱\n",
    "\n",
    "mySquare(3)"
   ]
  },
  {
   "cell_type": "markdown",
   "id": "5a27ef59-c124-4438-a5ed-addca9c8f09b",
   "metadata": {},
   "source": [
    "## 4. 내장 함수"
   ]
  },
  {
   "cell_type": "code",
   "execution_count": null,
   "id": "dd490e44-be52-447f-93e1-4d6a3b9a2bf4",
   "metadata": {},
   "outputs": [],
   "source": [
    "int(3.5)  # 정수형으로 형변환 >> 3\n",
    "float(0)  # 실수형으로 형변환 >> 0.0\n",
    "str(123)  # 문자형으로 형변환 >> '123'\n",
    "\n",
    "list(), tuple(), set()  # 괄호안의 인자를 각 자료구조형으로 바꿔준다"
   ]
  },
  {
   "cell_type": "code",
   "execution_count": null,
   "id": "430d021a-f6f0-4645-9634-a99d38f02f19",
   "metadata": {},
   "outputs": [],
   "source": [
    "min()  #최소값\n",
    "max()  #최대값\n",
    "sum()  # 합계\n",
    "\n",
    "abs()  # 절대값"
   ]
  },
  {
   "cell_type": "markdown",
   "id": "1dc50cf9-6c9e-4fba-8327-27f072b4d577",
   "metadata": {},
   "source": [
    "### bool() : 입력값이 있으면 True"
   ]
  },
  {
   "cell_type": "code",
   "execution_count": null,
   "id": "c97a6bd9-4de7-490c-bc0c-a22600b13337",
   "metadata": {},
   "outputs": [],
   "source": [
    "bool(0)  # False\n",
    "bool(1)  # True \n",
    "bool(-7)  # True\n",
    "\n",
    "bool('a')  # True\n",
    "bool('')  # 문자열 없음 >> False"
   ]
  },
  {
   "cell_type": "markdown",
   "id": "8052c9d0-36e8-4dcf-8f28-4fbf8f71d9eb",
   "metadata": {},
   "source": [
    "### len() : 항목의 개수를 구하는 함수"
   ]
  },
  {
   "cell_type": "code",
   "execution_count": 9,
   "id": "9a9e9ecd-b7e5-436c-9cac-9d063530fefd",
   "metadata": {},
   "outputs": [
    {
     "name": "stdout",
     "output_type": "stream",
     "text": [
      "6\n"
     ]
    },
    {
     "data": {
      "text/plain": [
       "5"
      ]
     },
     "execution_count": 9,
     "metadata": {},
     "output_type": "execute_result"
    }
   ],
   "source": [
    "print(len('Python'))  # 문자열의 문자 개수 구하기\n",
    "\n",
    "num = [1,2,3,4,5]  # 리스트 생성\n",
    "len(num)  # 리스트 항목 개수 구하기"
   ]
  }
 ],
 "metadata": {
  "kernelspec": {
   "display_name": "Python 3 (ipykernel)",
   "language": "python",
   "name": "python3"
  },
  "language_info": {
   "codemirror_mode": {
    "name": "ipython",
    "version": 3
   },
   "file_extension": ".py",
   "mimetype": "text/x-python",
   "name": "python",
   "nbconvert_exporter": "python",
   "pygments_lexer": "ipython3",
   "version": "3.10.11"
  }
 },
 "nbformat": 4,
 "nbformat_minor": 5
}
