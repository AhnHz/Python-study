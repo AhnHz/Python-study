{
 "cells": [
  {
   "cell_type": "markdown",
   "id": "76c49bd8-a1f4-4a9e-971c-a5f0d51aa75d",
   "metadata": {},
   "source": [
    "# 변수 (Variable)\n",
    "\n",
    "* 문자형\n",
    "* 숫자형 - 정수(int), 실수(float)\n",
    "* 논리형(bool) - True, False"
   ]
  },
  {
   "cell_type": "markdown",
   "id": "b80f4be8-7c0f-4d19-8349-fe1e8d849423",
   "metadata": {},
   "source": [
    "## 1. 리스트 (List)"
   ]
  },
  {
   "cell_type": "code",
   "execution_count": 1,
   "id": "6cced962-beb1-43ee-8bf5-a50c4be038c5",
   "metadata": {},
   "outputs": [
    {
     "data": {
      "text/plain": [
       "[90, 95, 80, 85]"
      ]
     },
     "execution_count": 1,
     "metadata": {},
     "output_type": "execute_result"
    }
   ],
   "source": [
    "student = [90, 95, 80, 85]\n",
    "student"
   ]
  },
  {
   "cell_type": "code",
   "execution_count": 3,
   "id": "c3463339-53da-4da0-a146-dbda822a7fdb",
   "metadata": {},
   "outputs": [
    {
     "data": {
      "text/plain": [
       "list"
      ]
     },
     "execution_count": 3,
     "metadata": {},
     "output_type": "execute_result"
    }
   ],
   "source": [
    "type(student)"
   ]
  },
  {
   "cell_type": "code",
   "execution_count": 4,
   "id": "3c31dddc-559d-4f35-aed2-f01e743c4166",
   "metadata": {},
   "outputs": [
    {
     "data": {
      "text/plain": [
       "90"
      ]
     },
     "execution_count": 4,
     "metadata": {},
     "output_type": "execute_result"
    }
   ],
   "source": [
    "student[0]"
   ]
  },
  {
   "cell_type": "code",
   "execution_count": 5,
   "id": "d85ce43f-bcc7-4e8c-ae36-4e293ef0da19",
   "metadata": {},
   "outputs": [
    {
     "data": {
      "text/plain": [
       "95"
      ]
     },
     "execution_count": 5,
     "metadata": {},
     "output_type": "execute_result"
    }
   ],
   "source": [
    "student[1]"
   ]
  },
  {
   "cell_type": "code",
   "execution_count": 6,
   "id": "5f94f933-1e7c-4deb-a4f1-3416f07c7c2a",
   "metadata": {},
   "outputs": [
    {
     "data": {
      "text/plain": [
       "[90, 100, 80, 85]"
      ]
     },
     "execution_count": 6,
     "metadata": {},
     "output_type": "execute_result"
    }
   ],
   "source": [
    "student[1] = 100\t# 1번 항목에 새로운 데이터 할당\n",
    "student"
   ]
  },
  {
   "cell_type": "code",
   "execution_count": 7,
   "id": "2daa32b7-e301-4795-9443-5222b9821ac8",
   "metadata": {},
   "outputs": [
    {
     "name": "stdout",
     "output_type": "stream",
     "text": [
      "[1, 2, 3, 4, 2, 3, 4, 5]\n"
     ]
    }
   ],
   "source": [
    "list1 = [1,2,3,4]\n",
    "list2 = [2,3,4,5]\n",
    "\n",
    "print(list1 + list2)\t# 리스트 연결"
   ]
  },
  {
   "cell_type": "code",
   "execution_count": 8,
   "id": "d9ef4518-e20e-42e0-9e25-8faa5dd849d8",
   "metadata": {},
   "outputs": [
    {
     "name": "stdout",
     "output_type": "stream",
     "text": [
      "[1, 2, 3, 4, 1, 2, 3, 4, 1, 2, 3, 4]\n"
     ]
    }
   ],
   "source": [
    "print(list1 * 3)\t# 리스트 반복"
   ]
  },
  {
   "cell_type": "code",
   "execution_count": 10,
   "id": "ad2b5645-3840-442b-97a3-da5e975060f6",
   "metadata": {},
   "outputs": [
    {
     "name": "stdout",
     "output_type": "stream",
     "text": [
      "[0, 1, 2, 3, 4, 5]\n",
      "[3, 4]\n",
      "[0, 1, 2, 3]\n",
      "[0, 2, 4]\n"
     ]
    }
   ],
   "source": [
    "list_data = [0,1,2,3,4,5]\n",
    "\n",
    "print(list_data)\n",
    "print(list_data[3:5])\n",
    "print(list_data[:4])\n",
    "print(list_data[::2])"
   ]
  },
  {
   "cell_type": "code",
   "execution_count": 13,
   "id": "e400466b-fa7e-49d7-8e6e-b68a84351f5f",
   "metadata": {},
   "outputs": [
    {
     "name": "stdout",
     "output_type": "stream",
     "text": [
      "[0, 1, 3, 4, 5]\n",
      "[0, 1, 4, 5]\n"
     ]
    }
   ],
   "source": [
    "print(list_data)\n",
    "\n",
    "del list_data[2]  # 2번 항목 삭제\n",
    "print(list_data)"
   ]
  },
  {
   "cell_type": "code",
   "execution_count": 50,
   "id": "d6cd0538-0d95-4bd4-86eb-70ab55177776",
   "metadata": {},
   "outputs": [
    {
     "name": "stdout",
     "output_type": "stream",
     "text": [
      "True\n",
      "False\n"
     ]
    }
   ],
   "source": [
    "list_date = [0,1,2,3,4,5]\n",
    "\n",
    "print(5 in list_data)  # 존재 여부 확인\n",
    "print(6 in list_data)"
   ]
  },
  {
   "cell_type": "code",
   "execution_count": 51,
   "id": "a4553314-c180-4853-8de1-fbc41bc690da",
   "metadata": {},
   "outputs": [
    {
     "data": {
      "text/plain": [
       "[0, 1, 2, 3, 4, 5, 6]"
      ]
     },
     "execution_count": 51,
     "metadata": {},
     "output_type": "execute_result"
    }
   ],
   "source": [
    "list_date.append(6)  # 항목 추가\n",
    "list_date"
   ]
  },
  {
   "cell_type": "code",
   "execution_count": 52,
   "id": "4a566db6-cd22-4352-906f-6f605b45cc00",
   "metadata": {},
   "outputs": [
    {
     "data": {
      "text/plain": [
       "[0, 1, 0, 2, 3, 4, 5, 6]"
      ]
     },
     "execution_count": 52,
     "metadata": {},
     "output_type": "execute_result"
    }
   ],
   "source": [
    "list_date.insert(2,0)  # 항목 삽입\n",
    "list_date"
   ]
  },
  {
   "cell_type": "code",
   "execution_count": 54,
   "id": "e353092e-8571-4d7f-9626-166bfcf18825",
   "metadata": {},
   "outputs": [
    {
     "data": {
      "text/plain": [
       "[0, 1, 0, 2, 3, 4, 5, 6, 7, 8]"
      ]
     },
     "execution_count": 54,
     "metadata": {},
     "output_type": "execute_result"
    }
   ],
   "source": [
    "list_date.extend([7,8])  # 항목 확장\n",
    "list_date"
   ]
  },
  {
   "cell_type": "markdown",
   "id": "bf423cb9-26c2-4a9f-a6de-69a9ac3bc705",
   "metadata": {},
   "source": [
    "## 2. 튜플 (Tuple)"
   ]
  },
  {
   "cell_type": "code",
   "execution_count": 14,
   "id": "61c5e2a1-9fb8-4e9b-bfce-6baf3cd9aee2",
   "metadata": {},
   "outputs": [
    {
     "data": {
      "text/plain": [
       "(1, 2, 3, 4)"
      ]
     },
     "execution_count": 14,
     "metadata": {},
     "output_type": "execute_result"
    }
   ],
   "source": [
    "tuple1 = (1,2,3,4)\n",
    "tuple1"
   ]
  },
  {
   "cell_type": "code",
   "execution_count": 15,
   "id": "26a54434-3fb7-4dbf-8947-4b87f186279e",
   "metadata": {},
   "outputs": [
    {
     "data": {
      "text/plain": [
       "tuple"
      ]
     },
     "execution_count": 15,
     "metadata": {},
     "output_type": "execute_result"
    }
   ],
   "source": [
    "type(tuple1)"
   ]
  },
  {
   "cell_type": "code",
   "execution_count": 28,
   "id": "908e156a-3395-46ec-8633-45aff52922e7",
   "metadata": {},
   "outputs": [
    {
     "name": "stdout",
     "output_type": "stream",
     "text": [
      "(9,)\n",
      "(10,)\n"
     ]
    }
   ],
   "source": [
    "tuple3 = (9,)  # 반드시 쉼표(',') 필요\n",
    "tuple4 = 10,  # 반드시 쉼표(',') 필요\n",
    "print(tuple3)\n",
    "print(tuple4)"
   ]
  },
  {
   "cell_type": "markdown",
   "id": "9e16b83c-3590-489d-9e8b-f2aa2c848de0",
   "metadata": {},
   "source": [
    "한번 생성된 튜플의 요소는 바뀌지 않는다. (요소 삭제도 안됨)"
   ]
  },
  {
   "cell_type": "code",
   "execution_count": 17,
   "id": "4e590bb0-db7f-4187-8cc3-ae21f0a31e19",
   "metadata": {},
   "outputs": [
    {
     "ename": "TypeError",
     "evalue": "'tuple' object does not support item assignment",
     "output_type": "error",
     "traceback": [
      "\u001b[0;31m---------------------------------------------------------------------------\u001b[0m",
      "\u001b[0;31mTypeError\u001b[0m                                 Traceback (most recent call last)",
      "Cell \u001b[0;32mIn[17], line 2\u001b[0m\n\u001b[1;32m      1\u001b[0m tuple2 \u001b[38;5;241m=\u001b[39m (\u001b[38;5;241m1\u001b[39m,\u001b[38;5;241m2\u001b[39m,\u001b[38;5;241m3\u001b[39m,\u001b[38;5;241m4\u001b[39m)\n\u001b[0;32m----> 2\u001b[0m tuple2[\u001b[38;5;241m1\u001b[39m] \u001b[38;5;241m=\u001b[39m \u001b[38;5;241m5\u001b[39m\n",
      "\u001b[0;31mTypeError\u001b[0m: 'tuple' object does not support item assignment"
     ]
    }
   ],
   "source": [
    "tuple2 = (1,2,3,4)\n",
    "tuple2[1] = 5\n",
    "\n",
    "#del tuple2[1]"
   ]
  },
  {
   "cell_type": "code",
   "execution_count": 18,
   "id": "83c85070-0b29-4789-9d27-217b32cdd6fd",
   "metadata": {},
   "outputs": [
    {
     "data": {
      "text/plain": [
       "5"
      ]
     },
     "execution_count": 18,
     "metadata": {},
     "output_type": "execute_result"
    }
   ],
   "source": [
    "tuple3 = ('a', 'a', 'a', 'b', 'b', 'c', 'd')\n",
    "\n",
    "tuple3.index('c')"
   ]
  },
  {
   "cell_type": "code",
   "execution_count": 19,
   "id": "b5d7933e-b00f-4c1e-b854-8734157e81ae",
   "metadata": {},
   "outputs": [
    {
     "data": {
      "text/plain": [
       "3"
      ]
     },
     "execution_count": 19,
     "metadata": {},
     "output_type": "execute_result"
    }
   ],
   "source": [
    "tuple3.count('a')"
   ]
  },
  {
   "cell_type": "markdown",
   "id": "babfb591-f387-487b-b751-3bb88171c163",
   "metadata": {},
   "source": [
    "## 3. 세트 (Set)"
   ]
  },
  {
   "cell_type": "code",
   "execution_count": 21,
   "id": "aa5abe3c-fe2f-4a51-a16e-a22c0050c2e8",
   "metadata": {},
   "outputs": [
    {
     "name": "stdout",
     "output_type": "stream",
     "text": [
      "{1, 2, 3}\n",
      "{1, 2, 3}\n"
     ]
    }
   ],
   "source": [
    "set1 = {1,2,3}\n",
    "set2 = {1,2,3,3}\t# 중복된 데이터는 하나만 입력됨\n",
    "\n",
    "print(set1)\n",
    "print(set2)"
   ]
  },
  {
   "cell_type": "code",
   "execution_count": 22,
   "id": "cee98a18-0a38-43a9-b7d9-e50aad0cc6ab",
   "metadata": {},
   "outputs": [
    {
     "data": {
      "text/plain": [
       "set"
      ]
     },
     "execution_count": 22,
     "metadata": {},
     "output_type": "execute_result"
    }
   ],
   "source": [
    "type(set1)"
   ]
  },
  {
   "cell_type": "code",
   "execution_count": 31,
   "id": "d373d2af-cf33-48c7-9c27-714241013b5b",
   "metadata": {},
   "outputs": [
    {
     "data": {
      "text/plain": [
       "{4, 5}"
      ]
     },
     "execution_count": 31,
     "metadata": {},
     "output_type": "execute_result"
    }
   ],
   "source": [
    "A = {1, 2, 3, 4, 5}         # Set A\n",
    "B = {4, 5, 6, 7, 8, 9, 10}  # Set B\n",
    "\n",
    "A.intersection(B)  # 집합 A에 대한 집합 B의 교집합(A∩B)\n",
    "# A & B"
   ]
  },
  {
   "cell_type": "code",
   "execution_count": 32,
   "id": "7ab6843c-dc90-42ba-b004-0238238fa0bb",
   "metadata": {},
   "outputs": [
    {
     "data": {
      "text/plain": [
       "{1, 2, 3, 4, 5, 6, 7, 8, 9, 10}"
      ]
     },
     "execution_count": 32,
     "metadata": {},
     "output_type": "execute_result"
    }
   ],
   "source": [
    "A.union(B)  # 집합 A에 대한 집합 B의 합집합(A∪B)\n",
    "# A | B"
   ]
  },
  {
   "cell_type": "code",
   "execution_count": 33,
   "id": "9c0f4388-be71-401c-b4c0-4582826556c1",
   "metadata": {},
   "outputs": [
    {
     "data": {
      "text/plain": [
       "{1, 2, 3}"
      ]
     },
     "execution_count": 33,
     "metadata": {},
     "output_type": "execute_result"
    }
   ],
   "source": [
    "A.difference(B)  # 집합 A에 대한 집합 B의 차집합(A-B)\n",
    "# A - B"
   ]
  },
  {
   "cell_type": "markdown",
   "id": "3f670e22-17d3-442d-9cfe-d4c71dd4d259",
   "metadata": {},
   "source": [
    "### 리스트, 튜플, 세트 간 타입 변환"
   ]
  },
  {
   "cell_type": "code",
   "execution_count": 23,
   "id": "3455cce8-466e-4590-b877-b088fe1d814c",
   "metadata": {},
   "outputs": [
    {
     "data": {
      "text/plain": [
       "list"
      ]
     },
     "execution_count": 23,
     "metadata": {},
     "output_type": "execute_result"
    }
   ],
   "source": [
    "a = [1,2,3]\n",
    "type(a)"
   ]
  },
  {
   "cell_type": "code",
   "execution_count": 24,
   "id": "3a4ae24d-0204-4bba-8dc7-f9139a2c2ac1",
   "metadata": {},
   "outputs": [
    {
     "name": "stdout",
     "output_type": "stream",
     "text": [
      "<class 'tuple'>\n",
      "(1, 2, 3)\n"
     ]
    }
   ],
   "source": [
    "b = tuple(a)\n",
    "\n",
    "print(type(b))\n",
    "print(b)"
   ]
  },
  {
   "cell_type": "code",
   "execution_count": 25,
   "id": "115a5ec8-a592-4889-8328-9b77dc2dba43",
   "metadata": {},
   "outputs": [
    {
     "name": "stdout",
     "output_type": "stream",
     "text": [
      "<class 'set'>\n",
      "{1, 2, 3}\n"
     ]
    }
   ],
   "source": [
    "c = set(a)\n",
    "\n",
    "print(type(c))\n",
    "print(c)"
   ]
  },
  {
   "cell_type": "code",
   "execution_count": 26,
   "id": "a2de27b6-0265-488d-8dcd-69bb3e241217",
   "metadata": {},
   "outputs": [
    {
     "data": {
      "text/plain": [
       "[1, 2, 3]"
      ]
     },
     "execution_count": 26,
     "metadata": {},
     "output_type": "execute_result"
    }
   ],
   "source": [
    "list(b)"
   ]
  },
  {
   "cell_type": "code",
   "execution_count": 27,
   "id": "8b6bf1cd-abbb-453e-8e2a-6fdb2b862043",
   "metadata": {},
   "outputs": [
    {
     "data": {
      "text/plain": [
       "[1, 2, 3]"
      ]
     },
     "execution_count": 27,
     "metadata": {},
     "output_type": "execute_result"
    }
   ],
   "source": [
    "list(c)"
   ]
  },
  {
   "cell_type": "markdown",
   "id": "22e75d22-f44b-454a-a4ea-b845d8980265",
   "metadata": {},
   "source": [
    "## 4. 딕셔너리 (Dict)"
   ]
  },
  {
   "cell_type": "code",
   "execution_count": 42,
   "id": "ec0a0e21-dd19-41cd-8d03-a02c0dd6fa5d",
   "metadata": {},
   "outputs": [
    {
     "data": {
      "text/plain": [
       "{'kor': 90, 'math': 85, 'sci': 100}"
      ]
     },
     "execution_count": 42,
     "metadata": {},
     "output_type": "execute_result"
    }
   ],
   "source": [
    "score = {\"kor\": 90, \"math\": 85, \"sci\": 100}\n",
    "score"
   ]
  },
  {
   "cell_type": "code",
   "execution_count": 43,
   "id": "c55899ac-7352-4c95-989c-0ea61c26dd96",
   "metadata": {},
   "outputs": [
    {
     "data": {
      "text/plain": [
       "dict"
      ]
     },
     "execution_count": 43,
     "metadata": {},
     "output_type": "execute_result"
    }
   ],
   "source": [
    "type(score)"
   ]
  },
  {
   "cell_type": "code",
   "execution_count": 44,
   "id": "35b34858-2da5-4bc2-bb70-879272531e53",
   "metadata": {},
   "outputs": [
    {
     "data": {
      "text/plain": [
       "100"
      ]
     },
     "execution_count": 44,
     "metadata": {},
     "output_type": "execute_result"
    }
   ],
   "source": [
    "score[\"sci\"]"
   ]
  },
  {
   "cell_type": "code",
   "execution_count": 45,
   "id": "4d4a2d9e-1875-4f33-af59-a75e4cb7aebb",
   "metadata": {},
   "outputs": [
    {
     "data": {
      "text/plain": [
       "{'kor': 90, 'math': 85, 'sci': 100, 'eng': 85}"
      ]
     },
     "execution_count": 45,
     "metadata": {},
     "output_type": "execute_result"
    }
   ],
   "source": [
    "score[\"eng\"] = 85  # 요소 추가 (변경)\n",
    "score"
   ]
  },
  {
   "cell_type": "code",
   "execution_count": 46,
   "id": "5dad5581-89e1-40c6-8170-4b6cba453328",
   "metadata": {},
   "outputs": [
    {
     "data": {
      "text/plain": [
       "{'kor': 90, 'sci': 100, 'eng': 85}"
      ]
     },
     "execution_count": 46,
     "metadata": {},
     "output_type": "execute_result"
    }
   ],
   "source": [
    "del score[\"math\"]  # 요소 삭제\n",
    "score"
   ]
  },
  {
   "cell_type": "code",
   "execution_count": 47,
   "id": "bd4f1031-b12d-4e61-a1ff-58c9a922527b",
   "metadata": {},
   "outputs": [
    {
     "data": {
      "text/plain": [
       "dict_keys([1, 2, 3])"
      ]
     },
     "execution_count": 47,
     "metadata": {},
     "output_type": "execute_result"
    }
   ],
   "source": [
    "energy = {1: \"술\", 2: \"담배\", 3: \"커피\"}\n",
    "\n",
    "energy.keys()"
   ]
  },
  {
   "cell_type": "code",
   "execution_count": 48,
   "id": "f3295e18-1168-469e-b23e-9e18a76c5d2e",
   "metadata": {},
   "outputs": [
    {
     "data": {
      "text/plain": [
       "dict_values(['술', '담배', '커피'])"
      ]
     },
     "execution_count": 48,
     "metadata": {},
     "output_type": "execute_result"
    }
   ],
   "source": [
    "energy.values()"
   ]
  },
  {
   "cell_type": "code",
   "execution_count": 49,
   "id": "ea9ad04d-590b-4d60-9454-527eed8db96f",
   "metadata": {},
   "outputs": [
    {
     "data": {
      "text/plain": [
       "dict_items([(1, '술'), (2, '담배'), (3, '커피')])"
      ]
     },
     "execution_count": 49,
     "metadata": {},
     "output_type": "execute_result"
    }
   ],
   "source": [
    "energy.items()"
   ]
  }
 ],
 "metadata": {
  "kernelspec": {
   "display_name": "Python 3 (ipykernel)",
   "language": "python",
   "name": "python3"
  },
  "language_info": {
   "codemirror_mode": {
    "name": "ipython",
    "version": 3
   },
   "file_extension": ".py",
   "mimetype": "text/x-python",
   "name": "python",
   "nbconvert_exporter": "python",
   "pygments_lexer": "ipython3",
   "version": "3.10.11"
  }
 },
 "nbformat": 4,
 "nbformat_minor": 5
}
