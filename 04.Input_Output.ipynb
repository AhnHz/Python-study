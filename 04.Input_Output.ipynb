{
 "cells": [
  {
   "cell_type": "markdown",
   "id": "b7e302f6-68f6-47db-8edc-b7f677dc9611",
   "metadata": {},
   "source": [
    "# 입력과 출력"
   ]
  },
  {
   "cell_type": "markdown",
   "id": "11451080-0d4b-483f-aa65-e08396460774",
   "metadata": {},
   "source": [
    "## 1. 화면 출력"
   ]
  },
  {
   "cell_type": "code",
   "execution_count": 1,
   "id": "536a6d9a-d4f5-4fdb-8901-938a6d9a6fb9",
   "metadata": {},
   "outputs": [
    {
     "name": "stdout",
     "output_type": "stream",
     "text": [
      "Hello Python!!\n"
     ]
    }
   ],
   "source": [
    "print(\"Hello Python!!\")"
   ]
  },
  {
   "cell_type": "code",
   "execution_count": 2,
   "id": "2264862d-a59a-4c40-9872-7084da5138e5",
   "metadata": {},
   "outputs": [
    {
     "name": "stdout",
     "output_type": "stream",
     "text": [
      "I-love-Python\n"
     ]
    }
   ],
   "source": [
    "print('I', 'love', 'Python', sep = '-')  # - 로 문자열 구분"
   ]
  },
  {
   "cell_type": "code",
   "execution_count": 3,
   "id": "f7473070-3b70-49ee-a60d-ed7ed0f36a78",
   "metadata": {},
   "outputs": [
    {
     "name": "stdout",
     "output_type": "stream",
     "text": [
      "James is my friend.\n",
      "He is Korean.\n"
     ]
    }
   ],
   "source": [
    "print(\"James is my friend.\\nHe is Korean.\")  # 개행문자 \\n"
   ]
  },
  {
   "cell_type": "code",
   "execution_count": 5,
   "id": "0f243736-4ae7-420e-8fab-f06841c0a7f3",
   "metadata": {},
   "outputs": [
    {
     "name": "stdout",
     "output_type": "stream",
     "text": [
      "Welcome to python!\n"
     ]
    }
   ],
   "source": [
    "print(\"Welcome to \", end=\"\")  # 이어서 출력\n",
    "print(\"python!\")"
   ]
  },
  {
   "cell_type": "markdown",
   "id": "5f444dc6-edbe-4128-a527-1e6ac64f6705",
   "metadata": {},
   "source": [
    "* 형식 지정 출력"
   ]
  },
  {
   "cell_type": "code",
   "execution_count": 6,
   "id": "206c3af2-e755-4d30-b3e4-4a70c2be8296",
   "metadata": {},
   "outputs": [
    {
     "name": "stdout",
     "output_type": "stream",
     "text": [
      "반지름: 3, 원주율: 3.141593\n"
     ]
    }
   ],
   "source": [
    "oper = '반지름'  # 문자 데이터 할당\n",
    "r = 3  # 정수 데이터 할당\n",
    "PI = 3.14159265358979 # 실수 데이터 할당\n",
    "\n",
    "print(\"%s: %d, 원주율: %f\" % (oper, r, PI))"
   ]
  },
  {
   "cell_type": "code",
   "execution_count": 7,
   "id": "5882421b-357c-4f16-951c-28d44bf2bf95",
   "metadata": {},
   "outputs": [
    {
     "name": "stdout",
     "output_type": "stream",
     "text": [
      "Animal: cat, dog, fox\n",
      "Animal: dog,fox,cat\n"
     ]
    }
   ],
   "source": [
    "animal_0 = \"cat\"\n",
    "animal_1 = \"dog\"\n",
    "animal_2 = \"fox\"\n",
    "\n",
    "print(\"Animal: {}, {}, {}\".format(animal_0, animal_1, animal_2))\n",
    "print(\"Animal: {1},{2},{0}\".format(animal_0, animal_1, animal_2))  # 위치 지정"
   ]
  },
  {
   "cell_type": "code",
   "execution_count": 9,
   "id": "9b509bd9-60a8-4d13-ad0a-df542fa9756a",
   "metadata": {},
   "outputs": [
    {
     "name": "stdout",
     "output_type": "stream",
     "text": [
      "0.12, 0.12346\n"
     ]
    }
   ],
   "source": [
    "a = 0.1234567890123456789\n",
    "print(\"{0:.2f}, {0:.5f}\".format(a))  # 숫자 형식 지정"
   ]
  },
  {
   "cell_type": "markdown",
   "id": "17789303-0bb7-4684-b8e8-ed42d83754bc",
   "metadata": {},
   "source": [
    "## 2. 키보드 입력"
   ]
  },
  {
   "cell_type": "code",
   "execution_count": 10,
   "id": "30a15666-8f3b-42e1-ac17-1111cd9a353d",
   "metadata": {},
   "outputs": [
    {
     "name": "stdin",
     "output_type": "stream",
     "text": [
      "당신의 이름은?  아무개\n"
     ]
    },
    {
     "name": "stdout",
     "output_type": "stream",
     "text": [
      "당신은 아무개이군요.\n"
     ]
    }
   ],
   "source": [
    "yourName = input(\"당신의 이름은? \")\n",
    "print(\"당신은 {}이군요.\".format(yourName))"
   ]
  },
  {
   "cell_type": "code",
   "execution_count": 11,
   "id": "bc3a1150-75aa-4bf7-a8a8-fc1ac67c7667",
   "metadata": {},
   "outputs": [
    {
     "name": "stdin",
     "output_type": "stream",
     "text": [
      "정사각형 한 변의 길이는?:  4\n"
     ]
    },
    {
     "name": "stdout",
     "output_type": "stream",
     "text": [
      "정사각형의 넓이: 16\n"
     ]
    }
   ],
   "source": [
    "a = input(\"정사각형 한 변의 길이는?: \")\n",
    "area = int(a) ** 2\n",
    "\n",
    "print(\"정사각형의 넓이: {}\".format(area))"
   ]
  },
  {
   "cell_type": "markdown",
   "id": "9a53d27b-b95b-4217-a2e9-f34e735199a3",
   "metadata": {},
   "source": [
    "## 3. 파일 읽고 쓰기"
   ]
  },
  {
   "cell_type": "code",
   "execution_count": 12,
   "id": "f41c2288-8f91-410a-b431-d9bb59718c0a",
   "metadata": {},
   "outputs": [
    {
     "data": {
      "text/plain": [
       "'/Users/Ahn/2023/Git'"
      ]
     },
     "execution_count": 12,
     "metadata": {},
     "output_type": "execute_result"
    }
   ],
   "source": [
    "pwd"
   ]
  },
  {
   "cell_type": "code",
   "execution_count": 13,
   "id": "4716d6e9-0e54-495e-8ba0-6fb9ff04e93e",
   "metadata": {},
   "outputs": [
    {
     "name": "stdout",
     "output_type": "stream",
     "text": [
      "/Users/Ahn/2023/Git\n"
     ]
    }
   ],
   "source": [
    "import os\n",
    "\n",
    "#현재 폴더 경로; 작업 폴더 기준\n",
    "print(os.getcwd())"
   ]
  },
  {
   "cell_type": "code",
   "execution_count": 14,
   "id": "8bd54f90-477f-40ea-a9f9-1bbccc4791e0",
   "metadata": {},
   "outputs": [
    {
     "name": "stdout",
     "output_type": "stream",
     "text": [
      "['03.IF_For_While.ipynb', '02.Variable_DataType.ipynb', '.ipynb_checkpoints', '04.Input_Output.ipynb', '01.Calculator.ipynb']\n"
     ]
    }
   ],
   "source": [
    "# 현재 디렉토리의 파일 리스트\n",
    "print(os.listdir(os.getcwd()))"
   ]
  },
  {
   "cell_type": "code",
   "execution_count": 22,
   "id": "70bfa40e-d0f5-4ed9-b046-688d430af376",
   "metadata": {},
   "outputs": [],
   "source": [
    "os.mkdir('test1')  # 디렉토리 생성"
   ]
  },
  {
   "cell_type": "code",
   "execution_count": 23,
   "id": "6676b75a-36fd-4607-9928-c53e3c750252",
   "metadata": {},
   "outputs": [
    {
     "name": "stdout",
     "output_type": "stream",
     "text": [
      "01.Calculator.ipynb         04.Input_Output.ipynb\n",
      "02.Variable_DataType.ipynb  \u001b[1m\u001b[36mtest1\u001b[m\u001b[m/\n",
      "03.IF_For_While.ipynb\n"
     ]
    }
   ],
   "source": [
    "ls"
   ]
  },
  {
   "cell_type": "code",
   "execution_count": 24,
   "id": "3dd9b826-fe96-4480-bdd9-d0a465632b8c",
   "metadata": {},
   "outputs": [],
   "source": [
    "os.rmdir('test1')  # 디렉토리 삭제"
   ]
  },
  {
   "cell_type": "code",
   "execution_count": 25,
   "id": "a54578d8-d7a7-404d-9526-2fe32ba47134",
   "metadata": {},
   "outputs": [],
   "source": [
    "os.makedirs('test2/test3')"
   ]
  },
  {
   "cell_type": "code",
   "execution_count": 26,
   "id": "b670ea02-ac18-4955-819f-4ce5f83b1d59",
   "metadata": {},
   "outputs": [],
   "source": [
    "os.chdir('test2')"
   ]
  },
  {
   "cell_type": "code",
   "execution_count": 27,
   "id": "8b8ed947-8950-45d0-ac9b-0264034423ce",
   "metadata": {},
   "outputs": [
    {
     "data": {
      "text/plain": [
       "'/Users/Ahn/2023/Git/test2'"
      ]
     },
     "execution_count": 27,
     "metadata": {},
     "output_type": "execute_result"
    }
   ],
   "source": [
    "os.getcwd()"
   ]
  },
  {
   "cell_type": "code",
   "execution_count": 28,
   "id": "273ba70b-bcdb-499a-8e98-2da5d8b66e37",
   "metadata": {},
   "outputs": [],
   "source": [
    "os.chdir('./..')"
   ]
  },
  {
   "cell_type": "code",
   "execution_count": 29,
   "id": "e745fdfc-c07c-42a8-954d-aa3dce25e669",
   "metadata": {},
   "outputs": [
    {
     "data": {
      "text/plain": [
       "'/Users/Ahn/2023/Git'"
      ]
     },
     "execution_count": 29,
     "metadata": {},
     "output_type": "execute_result"
    }
   ],
   "source": [
    "os.getcwd()"
   ]
  },
  {
   "cell_type": "code",
   "execution_count": 30,
   "id": "e0139a10-8b14-46ae-8058-84d7149c93d2",
   "metadata": {},
   "outputs": [],
   "source": [
    "os.removedirs('test2/test3')  # 디렉토리 삭제"
   ]
  },
  {
   "cell_type": "code",
   "execution_count": 31,
   "id": "8a9364e0-2ea4-42f2-ae17-caf24b03428a",
   "metadata": {},
   "outputs": [
    {
     "name": "stdout",
     "output_type": "stream",
     "text": [
      "['03.IF_For_While.ipynb', '02.Variable_DataType.ipynb', '.ipynb_checkpoints', '04.Input_Output.ipynb', '01.Calculator.ipynb']\n"
     ]
    }
   ],
   "source": [
    "print(os.listdir(os.getcwd()))"
   ]
  },
  {
   "cell_type": "markdown",
   "id": "8ca7f6f6-f24d-4483-8c28-fa04cd3a0421",
   "metadata": {},
   "source": [
    "### 파일 읽고 쓰기"
   ]
  },
  {
   "cell_type": "code",
   "execution_count": 32,
   "id": "0588b80d-905d-4e17-b98d-2c1af4e41762",
   "metadata": {},
   "outputs": [],
   "source": [
    "f = open('./myFile.txt', 'w')           # (1)'myFile.txt' 파일 쓰기 모드로 열기\n",
    "f.write('This is my first file.')     # (2) 연 파일에 문자열 쓰기\n",
    "f.close()                             "
   ]
  },
  {
   "cell_type": "code",
   "execution_count": 33,
   "id": "99899a36-d3bc-4153-83b5-68f8eea81192",
   "metadata": {},
   "outputs": [
    {
     "name": "stdout",
     "output_type": "stream",
     "text": [
      "This is my first file.\n"
     ]
    }
   ],
   "source": [
    "f = open('myFile.txt', 'r') # (1)'myFile.txt' 파일 읽기 모드로 열기\n",
    "file_text = f.read()        # (2) 파일 내용 읽은 후에 변수에 저장\n",
    "f.close()                   # (3) 파일 닫기\n",
    "\n",
    "print(file_text)   "
   ]
  },
  {
   "cell_type": "markdown",
   "id": "f92d057a-2cd4-45f7-b923-9454f6c8183b",
   "metadata": {},
   "source": [
    "### 반복문으로 파일 읽고 쓰기"
   ]
  },
  {
   "cell_type": "code",
   "execution_count": 34,
   "id": "b8f7d62f-b706-4b01-9880-0b1b09612218",
   "metadata": {},
   "outputs": [],
   "source": [
    "f = open('two_times_table.txt','w') # (1)파일을 쓰기 모드로 열기\n",
    "for num in range(1,6):              # (2) for문: num이 1~5까지 반복\n",
    "    format_string = \"2 x {0} = {1}\\n\".format(num,2*num) # 저장할 문자열 생성\n",
    "    f.write(format_string)          # (3) 파일에 문자열 저장\n",
    "f.close()    "
   ]
  },
  {
   "cell_type": "code",
   "execution_count": 35,
   "id": "20bdaeb0-5540-42d1-9a90-d6dd3b7911ff",
   "metadata": {},
   "outputs": [
    {
     "name": "stdout",
     "output_type": "stream",
     "text": [
      "2 x 1 = 2\n",
      "2 x 2 = 4\n",
      "2 x 3 = 6\n",
      "2 x 4 = 8\n",
      "2 x 5 = 10\n"
     ]
    }
   ],
   "source": [
    "f = open(\"two_times_table.txt\")  # 파일을 읽기 모드로 열기\n",
    "line = f.readline()              # 문자열 한 줄 읽기\n",
    "while line:                     # line이 공백인지 검사해서 반복 여부 결정\n",
    "    print(line, end = \"\")        # 문자열 한 줄 출력(줄 바꿈 안 함)\n",
    "    line = f.readline()          # 문자열 한 줄 읽기\n",
    "f.close() # 파일 닫기"
   ]
  },
  {
   "cell_type": "code",
   "execution_count": 36,
   "id": "8df6df93-710f-4f4c-813e-5c40acd77059",
   "metadata": {},
   "outputs": [
    {
     "name": "stdout",
     "output_type": "stream",
     "text": [
      "2 x 1 = 2\n",
      "2 x 2 = 4\n",
      "2 x 3 = 6\n",
      "2 x 4 = 8\n",
      "2 x 5 = 10\n"
     ]
    }
   ],
   "source": [
    "f = open(\"two_times_table.txt\")  # 파일을 읽기 모드로 열기\n",
    "lines = f.readlines()            # 파일 전체 읽기(리스트로 반환)\n",
    "f.close()                        # 파일 닫기\n",
    "for line in lines:              # 리스트를 <반복 범위>로 지정\n",
    "    print(line, end=\"\")  "
   ]
  },
  {
   "cell_type": "code",
   "execution_count": 37,
   "id": "ef7f3d95-3431-4b3c-ad3e-6c2a80bbd106",
   "metadata": {},
   "outputs": [
    {
     "name": "stdout",
     "output_type": "stream",
     "text": [
      "2 x 1 = 2\n",
      "2 x 2 = 4\n",
      "2 x 3 = 6\n",
      "2 x 4 = 8\n",
      "2 x 5 = 10\n"
     ]
    }
   ],
   "source": [
    "f = open(\"two_times_table.txt\") # 파일을 읽기 모드로 열기\n",
    "for line in f:                 # 파일 전체를 읽고, 리스트 항목을 line에 할당\n",
    "    print(line, end=\"\")         # line의 내용 출력(줄 바꿈 안 함)\n",
    "f.close()  "
   ]
  },
  {
   "cell_type": "markdown",
   "id": "295373f3-0b33-4f2d-9081-187bd3dc49e9",
   "metadata": {},
   "source": [
    "### With문으로 파일 읽고 쓰기"
   ]
  },
  {
   "cell_type": "code",
   "execution_count": 38,
   "id": "158d7286-cd27-4389-96de-a5ad5a3aac8d",
   "metadata": {},
   "outputs": [],
   "source": [
    "f = open('myTextFile.txt', 'w')   # (1) 파일 열기\n",
    "f.write('File write/read test.')  # (2) 파일 쓰기\n",
    "f.close()  "
   ]
  },
  {
   "cell_type": "code",
   "execution_count": 39,
   "id": "0bcd05d6-6f3c-4973-abb1-7f1b0897d426",
   "metadata": {},
   "outputs": [
    {
     "name": "stdout",
     "output_type": "stream",
     "text": [
      "File write/read test.\n"
     ]
    }
   ],
   "source": [
    "f = open('myTextFile.txt', 'r')  # (1) 파일 열기\n",
    "test = f.read()                  # (2) 파일 읽기\n",
    "f.close()                        # (3) 파일 닫기 \n",
    "print(test)"
   ]
  },
  {
   "cell_type": "code",
   "execution_count": 40,
   "id": "37876945-0c2f-4883-bd75-ef1a25045700",
   "metadata": {},
   "outputs": [],
   "source": [
    "with open('./myTextFile2.txt', 'w') as f: # (1) 파일 열기\n",
    "    f.write('File read/write test2: line1\\n')        # (2) 파일 쓰기\n",
    "    f.write('File read/write test2: line2\\n')\n",
    "    f.write('File read/write test2: line3\\n')"
   ]
  },
  {
   "cell_type": "code",
   "execution_count": 41,
   "id": "46e968db-68ef-40c9-9360-1fa90d34e2fd",
   "metadata": {},
   "outputs": [
    {
     "name": "stdout",
     "output_type": "stream",
     "text": [
      "File read/write test2: line1\n",
      "File read/write test2: line2\n",
      "File read/write test2: line3\n",
      "\n"
     ]
    }
   ],
   "source": [
    "with open('./myTextFile2.txt') as f: # (1) 파일 열기\n",
    "    file_string = f.read()                      # (2) 파일 읽기\n",
    "    print(file_string)"
   ]
  },
  {
   "cell_type": "code",
   "execution_count": 42,
   "id": "9be223d4-247d-4d11-be3f-f9e819954ab7",
   "metadata": {},
   "outputs": [],
   "source": [
    "with open('./myTextFile3.txt', 'w') as f: # 파일을 쓰기 모드로 열기\n",
    "    for num in range(1,6):             # for문에서 num이 1~5까지 반복\n",
    "        format_string = \"3 x {0} = {1}\\n\".format(num,3*num) # 문자열 생성\n",
    "        f.write(format_string)         # 파일에 문자열 쓰기"
   ]
  },
  {
   "cell_type": "code",
   "execution_count": 43,
   "id": "9a302464-1581-4b88-b59b-0a7e71840ab6",
   "metadata": {},
   "outputs": [
    {
     "name": "stdout",
     "output_type": "stream",
     "text": [
      "3 x 1 = 3\n",
      "3 x 2 = 6\n",
      "3 x 3 = 9\n",
      "3 x 4 = 12\n",
      "3 x 5 = 15\n"
     ]
    }
   ],
   "source": [
    "with open('./myTextFile3.txt', 'r') as f: # 파일을 읽기 모드로 열기\n",
    "    for line in f:           # 파일 전체를 읽고 리스트 항목을 line에 할당\n",
    "        print(line, end=\"\")  # line에 할당된 문자열 출력(줄 바꿈 안 함)"
   ]
  }
 ],
 "metadata": {
  "kernelspec": {
   "display_name": "Python 3 (ipykernel)",
   "language": "python",
   "name": "python3"
  },
  "language_info": {
   "codemirror_mode": {
    "name": "ipython",
    "version": 3
   },
   "file_extension": ".py",
   "mimetype": "text/x-python",
   "name": "python",
   "nbconvert_exporter": "python",
   "pygments_lexer": "ipython3",
   "version": "3.10.11"
  }
 },
 "nbformat": 4,
 "nbformat_minor": 5
}
