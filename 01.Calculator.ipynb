{
 "cells": [
  {
   "cell_type": "markdown",
   "id": "b844770a-1b18-48a4-bec0-e4ed91617cf6",
   "metadata": {},
   "source": [
    "# 파이썬 연산 (Operation)\n",
    "## 1. 간단한 사칙 연산 ( +, -, *, / )"
   ]
  },
  {
   "cell_type": "code",
   "execution_count": 1,
   "id": "a6c0bca3-16e5-497a-8acb-ccb1bb35b678",
   "metadata": {},
   "outputs": [
    {
     "data": {
      "text/plain": [
       "2"
      ]
     },
     "execution_count": 1,
     "metadata": {},
     "output_type": "execute_result"
    }
   ],
   "source": [
    "1 + 1"
   ]
  },
  {
   "cell_type": "code",
   "execution_count": 2,
   "id": "f4d0e599-2c24-439a-9cff-5a4a7ca18232",
   "metadata": {},
   "outputs": [
    {
     "data": {
      "text/plain": [
       "3"
      ]
     },
     "execution_count": 2,
     "metadata": {},
     "output_type": "execute_result"
    }
   ],
   "source": [
    "5 - 2"
   ]
  },
  {
   "cell_type": "code",
   "execution_count": 3,
   "id": "401188bc-e30a-47d5-8ac7-8e0fc7edd0c2",
   "metadata": {},
   "outputs": [
    {
     "data": {
      "text/plain": [
       "30"
      ]
     },
     "execution_count": 3,
     "metadata": {},
     "output_type": "execute_result"
    }
   ],
   "source": [
    "10 * 3"
   ]
  },
  {
   "cell_type": "code",
   "execution_count": 4,
   "id": "003c660e-769e-4d31-be59-f8a5cd7b7a3a",
   "metadata": {},
   "outputs": [
    {
     "data": {
      "text/plain": [
       "5.0"
      ]
     },
     "execution_count": 4,
     "metadata": {},
     "output_type": "execute_result"
    }
   ],
   "source": [
    "10 / 2"
   ]
  },
  {
   "cell_type": "markdown",
   "id": "302c6f7c-fee5-4952-981e-969619f919c5",
   "metadata": {},
   "source": [
    "## 2. 거듭제곱과 나머지 ( **, %)"
   ]
  },
  {
   "cell_type": "code",
   "execution_count": 5,
   "id": "0ff47b19-981b-4ba2-a694-a39f9d77dcbb",
   "metadata": {},
   "outputs": [
    {
     "data": {
      "text/plain": [
       "16"
      ]
     },
     "execution_count": 5,
     "metadata": {},
     "output_type": "execute_result"
    }
   ],
   "source": [
    "2 * 2 * 2 * 2"
   ]
  },
  {
   "cell_type": "code",
   "execution_count": 6,
   "id": "31eb48e7-20bc-4dc5-af4a-df79552c52d6",
   "metadata": {},
   "outputs": [
    {
     "data": {
      "text/plain": [
       "16"
      ]
     },
     "execution_count": 6,
     "metadata": {},
     "output_type": "execute_result"
    }
   ],
   "source": [
    "2 ** 4"
   ]
  },
  {
   "cell_type": "code",
   "execution_count": 9,
   "id": "bd22c77a-06f5-4d9e-adec-6b9e5ff7ac92",
   "metadata": {},
   "outputs": [
    {
     "data": {
      "text/plain": [
       "3"
      ]
     },
     "execution_count": 9,
     "metadata": {},
     "output_type": "execute_result"
    }
   ],
   "source": [
    "13 % 5  # 나머지"
   ]
  },
  {
   "cell_type": "code",
   "execution_count": 10,
   "id": "207d2e1d-fd3f-4e67-9d17-fc2f5763c6f4",
   "metadata": {},
   "outputs": [
    {
     "data": {
      "text/plain": [
       "2"
      ]
     },
     "execution_count": 10,
     "metadata": {},
     "output_type": "execute_result"
    }
   ],
   "source": [
    "13 // 5  # 몫"
   ]
  },
  {
   "cell_type": "markdown",
   "id": "a036d8a4-b562-45ce-b340-871e27062f99",
   "metadata": {},
   "source": [
    "## 3. 과학적 표기법"
   ]
  },
  {
   "cell_type": "code",
   "execution_count": 11,
   "id": "fa3604af-2101-4d9c-8ab7-83f3da7f5d17",
   "metadata": {},
   "outputs": [
    {
     "data": {
      "text/plain": [
       "200000000"
      ]
     },
     "execution_count": 11,
     "metadata": {},
     "output_type": "execute_result"
    }
   ],
   "source": [
    "2 * 10 ** 8"
   ]
  },
  {
   "cell_type": "code",
   "execution_count": 12,
   "id": "01a60a73-0deb-4ddb-866d-45f4840a9155",
   "metadata": {},
   "outputs": [
    {
     "data": {
      "text/plain": [
       "200000000.0"
      ]
     },
     "execution_count": 12,
     "metadata": {},
     "output_type": "execute_result"
    }
   ],
   "source": [
    "2e8"
   ]
  },
  {
   "cell_type": "code",
   "execution_count": 13,
   "id": "1967ab97-044c-4e44-8dc4-6a93f0cc8eb2",
   "metadata": {},
   "outputs": [
    {
     "data": {
      "text/plain": [
       "1000000000000000.0"
      ]
     },
     "execution_count": 13,
     "metadata": {},
     "output_type": "execute_result"
    }
   ],
   "source": [
    "1e15"
   ]
  },
  {
   "cell_type": "markdown",
   "id": "d47b0269-3d64-4e82-b112-53a398dc4ab9",
   "metadata": {},
   "source": [
    "## 4. 진수 표현과 변환"
   ]
  },
  {
   "cell_type": "code",
   "execution_count": 14,
   "id": "2d5129d6-0ff1-4eb9-90b9-4146825665bb",
   "metadata": {},
   "outputs": [
    {
     "data": {
      "text/plain": [
       "16"
      ]
     },
     "execution_count": 14,
     "metadata": {},
     "output_type": "execute_result"
    }
   ],
   "source": [
    "16  # 10진수"
   ]
  },
  {
   "cell_type": "code",
   "execution_count": 15,
   "id": "b0973f29-3d98-4553-bc7e-38992be1b803",
   "metadata": {},
   "outputs": [
    {
     "data": {
      "text/plain": [
       "16"
      ]
     },
     "execution_count": 15,
     "metadata": {},
     "output_type": "execute_result"
    }
   ],
   "source": [
    "0b10000  # 2진수"
   ]
  },
  {
   "cell_type": "code",
   "execution_count": 16,
   "id": "0f68e5f5-6b6c-40b6-801f-2b4338de7af1",
   "metadata": {},
   "outputs": [
    {
     "data": {
      "text/plain": [
       "16"
      ]
     },
     "execution_count": 16,
     "metadata": {},
     "output_type": "execute_result"
    }
   ],
   "source": [
    "0o20  # 8진수"
   ]
  },
  {
   "cell_type": "code",
   "execution_count": 17,
   "id": "49ffa073-5d74-4b96-9de5-e1c4a8157a3e",
   "metadata": {},
   "outputs": [
    {
     "data": {
      "text/plain": [
       "16"
      ]
     },
     "execution_count": 17,
     "metadata": {},
     "output_type": "execute_result"
    }
   ],
   "source": [
    "0x10  # 16진수"
   ]
  },
  {
   "cell_type": "code",
   "execution_count": 20,
   "id": "cf0e8f11-2903-4178-aeae-35f2d17e132e",
   "metadata": {},
   "outputs": [
    {
     "data": {
      "text/plain": [
       "'0b10000'"
      ]
     },
     "execution_count": 20,
     "metadata": {},
     "output_type": "execute_result"
    }
   ],
   "source": [
    "bin(16)  # 2진수로 변환"
   ]
  },
  {
   "cell_type": "code",
   "execution_count": 21,
   "id": "b967f681-7504-4c5b-8467-bd81f49f75f8",
   "metadata": {},
   "outputs": [
    {
     "data": {
      "text/plain": [
       "'0o20'"
      ]
     },
     "execution_count": 21,
     "metadata": {},
     "output_type": "execute_result"
    }
   ],
   "source": [
    "oct(16)  # 8진수로 변환"
   ]
  },
  {
   "cell_type": "code",
   "execution_count": 22,
   "id": "74708e71-7bf4-4528-81ea-d300bb083c95",
   "metadata": {},
   "outputs": [
    {
     "data": {
      "text/plain": [
       "'0x10'"
      ]
     },
     "execution_count": 22,
     "metadata": {},
     "output_type": "execute_result"
    }
   ],
   "source": [
    "hex(16)  # 16진수로 변환"
   ]
  },
  {
   "cell_type": "markdown",
   "id": "5d92abde-236a-49b9-a480-60d4dc37ec65",
   "metadata": {},
   "source": [
    "## 5. 논리 연산과 비교 연산"
   ]
  },
  {
   "cell_type": "markdown",
   "id": "2861b58d-5c22-4fd1-bd5e-f25f2eeef725",
   "metadata": {},
   "source": [
    "* 논리 연산<br>\n",
    "and ( & ) : 논리곱 (A와 B 모두 참일 때 참, 그렇지 않으면 거짓)<br>\n",
    "or ( | ) : 논리합 (A와 B 중 하나라도 참이면 참, 둘 다 거짓이면 거짓)<br>\n",
    "not : 논리 부정 (A가 참이면 거짓이고, 거짓이면 참)"
   ]
  },
  {
   "cell_type": "markdown",
   "id": "d92e6cd2-56eb-408f-b775-55ee497371c7",
   "metadata": {},
   "source": [
    "* 비교 연산\n",
    "<br>== : 같다 (a = b: a는 b와 같다)\n",
    "<br>!= : 같지 않다 (a!= b: a는 b와 같지 않다)\n",
    "<br>< : 작다(미만) (a < b: a는 b보다 작다)\n",
    "<br>> : 크다(초과) (a > b: a는 b보다 크다)\n",
    "<br><= : 작거나 같다(이하) (a <= b: a는 b보다 작거나 같다)\n",
    "<br>>= : 크거나 같다(이상) (a>= b: a는 b보다 크거나 같다)"
   ]
  },
  {
   "cell_type": "code",
   "execution_count": 24,
   "id": "e8c43616-e570-49ef-b4f4-00a370e00dc5",
   "metadata": {},
   "outputs": [
    {
     "name": "stdout",
     "output_type": "stream",
     "text": [
      "False\n",
      "True\n",
      "False\n"
     ]
    }
   ],
   "source": [
    "print(True and False)\n",
    "print(True or False)\n",
    "print(not True)"
   ]
  },
  {
   "cell_type": "code",
   "execution_count": 25,
   "id": "e67d3a48-98cf-4ad9-adef-3514e7fa1fd4",
   "metadata": {},
   "outputs": [
    {
     "name": "stdout",
     "output_type": "stream",
     "text": [
      "False\n",
      "True\n",
      "False\n",
      "True\n",
      "False\n",
      "True\n"
     ]
    }
   ],
   "source": [
    "print(5 == 3)\n",
    "print(5 != 3)\n",
    "print(5 < 3)\n",
    "print(5 > 3)\n",
    "print(5 <= 3)\n",
    "print(5 >= 3)"
   ]
  }
 ],
 "metadata": {
  "kernelspec": {
   "display_name": "Python 3 (ipykernel)",
   "language": "python",
   "name": "python3"
  },
  "language_info": {
   "codemirror_mode": {
    "name": "ipython",
    "version": 3
   },
   "file_extension": ".py",
   "mimetype": "text/x-python",
   "name": "python",
   "nbconvert_exporter": "python",
   "pygments_lexer": "ipython3",
   "version": "3.10.11"
  }
 },
 "nbformat": 4,
 "nbformat_minor": 5
}
