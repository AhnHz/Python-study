{
 "cells": [
  {
   "cell_type": "markdown",
   "id": "2ac53f50-a700-43a7-8bd9-98dc35c316ac",
   "metadata": {},
   "source": [
    "# 제어문"
   ]
  },
  {
   "cell_type": "markdown",
   "id": "3dcb3926-96df-4d42-a81f-515fb92bcd8b",
   "metadata": {},
   "source": [
    "## 1. 조건문 IF문"
   ]
  },
  {
   "cell_type": "code",
   "execution_count": 1,
   "id": "022a9783-efb0-4e45-b63d-b2736d0d206b",
   "metadata": {},
   "outputs": [
    {
     "name": "stdout",
     "output_type": "stream",
     "text": [
      "A+\n"
     ]
    }
   ],
   "source": [
    "x = 95\n",
    "\n",
    "if x >= 90:\n",
    "    print('A+')"
   ]
  },
  {
   "cell_type": "markdown",
   "id": "e26d2738-188b-490b-8920-f1807c1a6348",
   "metadata": {},
   "source": [
    "* 단일 조건과 그 외의 조건 - if ~ else"
   ]
  },
  {
   "cell_type": "code",
   "execution_count": 13,
   "id": "6dc79218-cddf-46e7-9fb3-9e79a984460a",
   "metadata": {},
   "outputs": [
    {
     "name": "stdout",
     "output_type": "stream",
     "text": [
      "B\n"
     ]
    }
   ],
   "source": [
    "x = 85\n",
    "\n",
    "if x >= 90:\n",
    "    print('A')\n",
    "    \n",
    "else:\n",
    "    print('B')"
   ]
  },
  {
   "cell_type": "markdown",
   "id": "202d61b1-b2e7-4bc0-a5e6-929aaae1ed51",
   "metadata": {},
   "source": [
    "* 여러개의 조건 - if ~ elif ~ else"
   ]
  },
  {
   "cell_type": "code",
   "execution_count": 2,
   "id": "b6077e75-2cb2-4267-a633-e19a946d780b",
   "metadata": {},
   "outputs": [
    {
     "name": "stdout",
     "output_type": "stream",
     "text": [
      "C\n"
     ]
    }
   ],
   "source": [
    "x = 73\n",
    "\n",
    "if x >= 90:\n",
    "    print('A')\n",
    "    \n",
    "elif x >=80 and x < 90:\n",
    "    print('B')\n",
    "    \n",
    "elif x >=70 and x < 80:\n",
    "    print('C')\n",
    "    \n",
    "else:\n",
    "    print('D')"
   ]
  },
  {
   "cell_type": "markdown",
   "id": "05afb1d8-f1e7-4496-be57-0729ca5ad919",
   "metadata": {},
   "source": [
    "## 2. 반복문 for문"
   ]
  },
  {
   "cell_type": "markdown",
   "id": "81ae89f7-dd85-468f-b0eb-3c6545de6af8",
   "metadata": {},
   "source": [
    "- for 변수 in range(stop):\n",
    "- for 변수 in range(start, stop):\n",
    "- for 변수 in range(start, stop, step):"
   ]
  },
  {
   "cell_type": "code",
   "execution_count": 3,
   "id": "7ed252f4-8aa6-48fa-b047-7b20fc4b9a2f",
   "metadata": {},
   "outputs": [
    {
     "name": "stdout",
     "output_type": "stream",
     "text": [
      "0\n",
      "1\n",
      "2\n",
      "3\n",
      "4\n"
     ]
    }
   ],
   "source": [
    "for i in range(5):\t# stop 숫자 5개, 0~4\n",
    "    print(i)"
   ]
  },
  {
   "cell_type": "code",
   "execution_count": 4,
   "id": "e80e83c3-4a5c-417c-96be-0f8e23beb37d",
   "metadata": {},
   "outputs": [
    {
     "name": "stdout",
     "output_type": "stream",
     "text": [
      "0\n",
      "3\n",
      "6\n",
      "9\n"
     ]
    }
   ],
   "source": [
    "for i in range(0,10,3):\n",
    "    print(i)"
   ]
  },
  {
   "cell_type": "code",
   "execution_count": 5,
   "id": "0ac58cce-9520-4fc0-ab32-d511738c5671",
   "metadata": {},
   "outputs": [
    {
     "name": "stdout",
     "output_type": "stream",
     "text": [
      "철수의 점수는 80\n",
      "영희의 점수는 96\n",
      "현동의 점수는 92\n"
     ]
    }
   ],
   "source": [
    "name = ['철수', '영희', '현동']\n",
    "score = [80, 96, 92]\n",
    "\n",
    "for i in range(len(name)):\t# len() 함수는 길이를 반환\n",
    "    print(name[i] + '의 점수는', score[i])"
   ]
  },
  {
   "cell_type": "markdown",
   "id": "306b5b8b-297d-4821-a13d-5c1b067e2620",
   "metadata": {},
   "source": [
    "## 3. 반복문 While"
   ]
  },
  {
   "cell_type": "code",
   "execution_count": 6,
   "id": "b7b6765f-b5c6-45b7-8e39-0313b1050c9d",
   "metadata": {},
   "outputs": [
    {
     "name": "stdout",
     "output_type": "stream",
     "text": [
      "1 1\n",
      "2 3\n",
      "3 6\n",
      "4 10\n"
     ]
    }
   ],
   "source": [
    "i = 1\n",
    "sum = 0\n",
    "\n",
    "while (sum < 10):\n",
    "    sum += i \n",
    "    print(i, sum)\n",
    "    i += 1"
   ]
  },
  {
   "cell_type": "markdown",
   "id": "d90a3749-7d70-4b66-8998-9cd4cc784e35",
   "metadata": {},
   "source": [
    "## 4. break 와 continue"
   ]
  },
  {
   "cell_type": "code",
   "execution_count": 7,
   "id": "a168141b-8dcc-4282-8443-e6153be6b982",
   "metadata": {},
   "outputs": [
    {
     "name": "stdout",
     "output_type": "stream",
     "text": [
      "0\n",
      "1\n",
      "2\n"
     ]
    }
   ],
   "source": [
    "for i in range(10):  \n",
    "    if(i > 2):    \n",
    "        break    # i가 2를 넘으면 break로 for 문을 빠져나옴 \n",
    "        \n",
    "    print(i)"
   ]
  },
  {
   "cell_type": "code",
   "execution_count": 8,
   "id": "25197700-0715-41a5-b56a-013b535bd3ea",
   "metadata": {},
   "outputs": [
    {
     "name": "stdout",
     "output_type": "stream",
     "text": [
      "0\n",
      "1\n",
      "3\n",
      "4\n"
     ]
    }
   ],
   "source": [
    "for i in range(5):\n",
    "    if(i == 2):\t    # i가 2면 다음 반복을 실행\n",
    "        continue\n",
    "        \n",
    "    print(i)"
   ]
  },
  {
   "cell_type": "markdown",
   "id": "c55f1988-6e6e-49ac-9c22-38aaa1294d45",
   "metadata": {},
   "source": [
    "## 5. 간단하게 반복하는 한 줄 for문"
   ]
  },
  {
   "cell_type": "code",
   "execution_count": 9,
   "id": "1fedb73e-f44b-41de-8a6a-b23b96c6d22e",
   "metadata": {},
   "outputs": [
    {
     "name": "stdout",
     "output_type": "stream",
     "text": [
      "[1, 4, 9, 16, 25]\n"
     ]
    }
   ],
   "source": [
    "numbers = [1,2,3,4,5]\n",
    "square = []\n",
    "\n",
    "for i in numbers:\n",
    "    square.append(i**2)\n",
    "    \n",
    "print(square)"
   ]
  },
  {
   "cell_type": "code",
   "execution_count": 10,
   "id": "1c5018d8-5dd9-4d75-80a7-00336b7c0271",
   "metadata": {},
   "outputs": [
    {
     "name": "stdout",
     "output_type": "stream",
     "text": [
      "[1, 4, 9, 16, 25]\n"
     ]
    }
   ],
   "source": [
    "numbers = [1,2,3,4,5]\n",
    "square = [i**2 for i in numbers]\n",
    "\n",
    "print(square)"
   ]
  },
  {
   "cell_type": "code",
   "execution_count": 11,
   "id": "05d5101b-d5fa-480c-9db8-731eda48a9c5",
   "metadata": {},
   "outputs": [
    {
     "name": "stdout",
     "output_type": "stream",
     "text": [
      "[9, 16, 25]\n"
     ]
    }
   ],
   "source": [
    "numbers = [1,2,3,4,5]\n",
    "square = []\n",
    "\n",
    "for i in numbers:\n",
    "    if i >= 3:\n",
    "        square.append(i**2)\n",
    "    \n",
    "print(square)"
   ]
  },
  {
   "cell_type": "code",
   "execution_count": 12,
   "id": "adac915e-f7fc-4f0b-a20d-f519683020c2",
   "metadata": {},
   "outputs": [
    {
     "name": "stdout",
     "output_type": "stream",
     "text": [
      "[9, 16, 25]\n"
     ]
    }
   ],
   "source": [
    "numbers = [1,2,3,4,5]\n",
    "square = [i**2 for i in numbers if i>=3]\n",
    "\n",
    "print(square)"
   ]
  }
 ],
 "metadata": {
  "kernelspec": {
   "display_name": "Python 3 (ipykernel)",
   "language": "python",
   "name": "python3"
  },
  "language_info": {
   "codemirror_mode": {
    "name": "ipython",
    "version": 3
   },
   "file_extension": ".py",
   "mimetype": "text/x-python",
   "name": "python",
   "nbconvert_exporter": "python",
   "pygments_lexer": "ipython3",
   "version": "3.10.11"
  }
 },
 "nbformat": 4,
 "nbformat_minor": 5
}
