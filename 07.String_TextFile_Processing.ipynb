{
 "cells": [
  {
   "cell_type": "markdown",
   "id": "6f9418e6-c703-446a-b1e1-7665a5ac6e88",
   "metadata": {},
   "source": [
    "# 문자열 (string) 다루기"
   ]
  },
  {
   "cell_type": "markdown",
   "id": "646088eb-bbde-4ac4-80f1-9e534fce72f8",
   "metadata": {},
   "source": [
    "## 1. 문자열 분리하기"
   ]
  },
  {
   "cell_type": "markdown",
   "id": "5064fd42-cfe2-4ccb-afd0-8ae9b25d4902",
   "metadata": {},
   "source": [
    "### split()"
   ]
  },
  {
   "cell_type": "code",
   "execution_count": 1,
   "id": "89984a84-3d99-40cb-a075-4b7c1d8bb56f",
   "metadata": {},
   "outputs": [
    {
     "data": {
      "text/plain": [
       "['에스프레소', '아메리카노', '카페라테', '카푸치노']"
      ]
     },
     "execution_count": 1,
     "metadata": {},
     "output_type": "execute_result"
    }
   ],
   "source": [
    "\"에스프레소 아메리카노 카페라테 카푸치노\".split()  # 문자열 자르기"
   ]
  },
  {
   "cell_type": "markdown",
   "id": "bb461a5e-d09c-4264-909e-14538b55be05",
   "metadata": {},
   "source": [
    "#### 분리된 문자열은 <b>`리스트(List)`</b>로 반환된다 → 인덱스로 특정 항목의 문자열을 반환할 수 있다!"
   ]
  },
  {
   "cell_type": "code",
   "execution_count": 2,
   "id": "a631dc5a-22f6-4eee-bbcb-14c6e48f99e3",
   "metadata": {},
   "outputs": [
    {
     "data": {
      "text/plain": [
       "['에스프레소', '아메리카노', '카페라떼', '카푸치노']"
      ]
     },
     "execution_count": 2,
     "metadata": {},
     "output_type": "execute_result"
    }
   ],
   "source": [
    "coffee_menu = '에스프레소,아메리카노,카페라떼,카푸치노'\n",
    "coffee_menu.split(',')  # (,)기준으로 문자열 자르기"
   ]
  },
  {
   "cell_type": "code",
   "execution_count": 4,
   "id": "89ef9380-58db-466a-8d3f-0d4d84ee4f55",
   "metadata": {},
   "outputs": [
    {
     "data": {
      "text/plain": [
       "['에스프레소', '아메리카노', '카페라테 카푸치노']"
      ]
     },
     "execution_count": 4,
     "metadata": {},
     "output_type": "execute_result"
    }
   ],
   "source": [
    "\"에스프레소 아메리카노 카페라테 카푸치노\".split(maxsplit=2)"
   ]
  },
  {
   "cell_type": "code",
   "execution_count": 5,
   "id": "bfc05bbe-dbbb-47dd-8ce9-ab173c3a821c",
   "metadata": {},
   "outputs": [
    {
     "data": {
      "text/plain": [
       "['1234', '5678']"
      ]
     },
     "execution_count": 5,
     "metadata": {},
     "output_type": "execute_result"
    }
   ],
   "source": [
    "phone_num = '1234-5678'\n",
    "phone_num.split('-')  # (-)기준으로 문자열 자르기"
   ]
  },
  {
   "cell_type": "markdown",
   "id": "7fd900c1-ec1e-4127-b9bf-0f208bc23e74",
   "metadata": {},
   "source": [
    "## 2. 문자열 삭제하기"
   ]
  },
  {
   "cell_type": "markdown",
   "id": "39cdfb19-f638-4d93-8672-14a247dbdd33",
   "metadata": {},
   "source": [
    "- strip()\n",
    "- lstrip()\n",
    "- rstrip()"
   ]
  },
  {
   "cell_type": "code",
   "execution_count": 6,
   "id": "c6b38e12-bac3-4b47-974e-47e784a3be2a",
   "metadata": {},
   "outputs": [
    {
     "data": {
      "text/plain": [
       "'Python'"
      ]
     },
     "execution_count": 6,
     "metadata": {},
     "output_type": "execute_result"
    }
   ],
   "source": [
    "'aaaaPythonaaa'.strip('a')  # a 삭제하기"
   ]
  },
  {
   "cell_type": "code",
   "execution_count": 7,
   "id": "20da6b8c-e53d-4c65-b4f9-51d1cc7b423a",
   "metadata": {},
   "outputs": [
    {
     "data": {
      "text/plain": [
       "'Python'"
      ]
     },
     "execution_count": 7,
     "metadata": {},
     "output_type": "execute_result"
    }
   ],
   "source": [
    "'aaaaPythonbbb'.strip('ba') # a와 b 삭제하기. 순서 상관없음"
   ]
  },
  {
   "cell_type": "code",
   "execution_count": 8,
   "id": "e9d6e515-091e-4dc9-88f5-6e2f34f33d97",
   "metadata": {},
   "outputs": [
    {
     "name": "stdout",
     "output_type": "stream",
     "text": [
      "Python is easy to learn.\n",
      "Python is easy to learn.000\n",
      "000Python is easy to learn.\n"
     ]
    }
   ],
   "source": [
    "str_lr = \"000Python is easy to learn.000\"\n",
    "\n",
    "print(str_lr.strip('0'))  # 0 삭제하기\n",
    "print(str_lr.lstrip('0'))  # 왼쪽 0 삭제하기\n",
    "print(str_lr.rstrip('0'))  # 오른쪽 0 삭제하기"
   ]
  },
  {
   "cell_type": "markdown",
   "id": "1c741c65-bf60-4c6c-84df-afa623e0f7f6",
   "metadata": {},
   "source": [
    "## 3. 문자열 연결하기\n",
    "\n",
    "- join()"
   ]
  },
  {
   "cell_type": "code",
   "execution_count": 9,
   "id": "990f3b0d-c049-422e-9ba9-31b1ce48f697",
   "metadata": {},
   "outputs": [
    {
     "name": "stdout",
     "output_type": "stream",
     "text": [
      "철수 안녕!\n",
      "영희 안녕!\n"
     ]
    }
   ],
   "source": [
    "name1 = '철수'\n",
    "name2 = '영희'\n",
    "\n",
    "hello = ' 안녕!'\n",
    "\n",
    "print(name1 + hello)\n",
    "print(name2 + hello)"
   ]
  },
  {
   "cell_type": "code",
   "execution_count": 10,
   "id": "b25b13ee-465c-4cbc-9c77-360f003ab1bc",
   "metadata": {},
   "outputs": [
    {
     "data": {
      "text/plain": [
       "'아이맥 아이패드 아이폰'"
      ]
     },
     "execution_count": 10,
     "metadata": {},
     "output_type": "execute_result"
    }
   ],
   "source": [
    "apple = ['아이맥','아이패드','아이폰']\n",
    "\n",
    "' '.join(apple)  # 공백으로 구분"
   ]
  },
  {
   "cell_type": "markdown",
   "id": "2aa240a6-0a1f-4312-8f79-59deaaed4e40",
   "metadata": {},
   "source": [
    "## 4. 문자열 찾기"
   ]
  },
  {
   "cell_type": "markdown",
   "id": "935b7c74-8271-4abe-9a15-17af469619f7",
   "metadata": {},
   "source": [
    "- find() : 문자열 위치 찾기\n",
    "- count() : 문자열 개수 구하기"
   ]
  },
  {
   "cell_type": "code",
   "execution_count": 11,
   "id": "3aee0f9a-12b9-485e-94b9-d03f6fc69883",
   "metadata": {},
   "outputs": [
    {
     "name": "stdout",
     "output_type": "stream",
     "text": [
      "문자열 위치: 7\n",
      "문자열 위치: 2\n",
      "문자열 위치: 3\n",
      "문자열 위치: -1\n"
     ]
    }
   ],
   "source": [
    "ex = 'I love Python'\n",
    "\n",
    "print('문자열 위치:', ex.find('Python'))\n",
    "print('문자열 위치:', ex.find('love'))\n",
    "print('문자열 위치:', ex.find('o'))\n",
    "print('문자열 위치:', ex.find('Java'))  # 존재하지 않는 문자열"
   ]
  },
  {
   "cell_type": "code",
   "execution_count": 12,
   "id": "c2b437b1-e34f-4a15-a856-ee90a8caf811",
   "metadata": {},
   "outputs": [
    {
     "name": "stdout",
     "output_type": "stream",
     "text": [
      "문자열 위치: 7\n",
      "문자열 위치: -1\n"
     ]
    }
   ],
   "source": [
    "print('문자열 위치:', ex.find('Python', 0, 20))  # 문자열을 찾을 시작 위치, 끝 위치\n",
    "print('문자열 위치:', ex.find('Python', 20))  # 문자열을 찾을 시작 위치"
   ]
  },
  {
   "cell_type": "code",
   "execution_count": 13,
   "id": "9f029d34-eff4-4480-a221-0c96418a8178",
   "metadata": {},
   "outputs": [
    {
     "name": "stdout",
     "output_type": "stream",
     "text": [
      "Python의 개수는?: 1\n",
      "o의 개수는?: 2\n"
     ]
    }
   ],
   "source": [
    "print('Python의 개수는?:', ex.count('Python'))\n",
    "print('o의 개수는?:', ex.count('o'))"
   ]
  },
  {
   "cell_type": "markdown",
   "id": "5841f121-532c-488f-86d7-3708f14cdf75",
   "metadata": {},
   "source": [
    "## 5. 문자열 바꾸기\n",
    "\n",
    "- replace()\n",
    "<br>괄호 안은 (기존 문자열, 바꿀 문자열, 바꿀 개수(생략 가능))"
   ]
  },
  {
   "cell_type": "code",
   "execution_count": 16,
   "id": "7a7a582c-0c79-4302-88c3-457154dfbc49",
   "metadata": {},
   "outputs": [
    {
     "name": "stdout",
     "output_type": "stream",
     "text": [
      "IPython is fast. IPython is friendly. IPython is open.\n",
      "IPython is fast. IPython is friendly. Python is open.\n"
     ]
    }
   ],
   "source": [
    "str_a = 'Python is fast. Python is friendly. Python is open.'\n",
    "print(str_a.replace('Python', 'IPython'))\n",
    "print(str_a.replace('Python', 'IPython', 2))"
   ]
  },
  {
   "cell_type": "code",
   "execution_count": 17,
   "id": "9cd9b45c-ffe3-4b0f-9547-47e45078e5b9",
   "metadata": {},
   "outputs": [
    {
     "name": "stdout",
     "output_type": "stream",
     "text": [
      "[Python] [is] [fast]\n",
      "Python] is] fast]\n",
      "Python is fast\n"
     ]
    }
   ],
   "source": [
    "str_b = '[Python] [is] [fast]'\n",
    "str_b1 = str_b.replace('[', '')  # 문자열에서 '['를 제거\n",
    "str_b2 = str_b1.replace(']', '')  # 결과 문자열에서 다시 ']'를 제거\n",
    "\n",
    "print(str_b)\n",
    "print(str_b1)\n",
    "print(str_b2)"
   ]
  },
  {
   "cell_type": "markdown",
   "id": "0c4d4fef-cb19-42a6-bc49-4194722fce2b",
   "metadata": {},
   "source": [
    "### 문자열 구성 확인하기"
   ]
  },
  {
   "cell_type": "code",
   "execution_count": 19,
   "id": "6aabacb6-9c08-4cde-9f9c-ed5376b24309",
   "metadata": {},
   "outputs": [
    {
     "name": "stdout",
     "output_type": "stream",
     "text": [
      "True\n",
      "False\n"
     ]
    }
   ],
   "source": [
    "print('Python'.isalpha()) # 문자열에 공백, 특수 문자, 숫자가 없음\n",
    "print('Ver. 3.x'.isalpha()) # 공백, 특수 문자, 숫자 중 하나가 있음"
   ]
  },
  {
   "cell_type": "code",
   "execution_count": 20,
   "id": "da00541a-b0e8-418c-b070-2174f823a704",
   "metadata": {},
   "outputs": [
    {
     "name": "stdout",
     "output_type": "stream",
     "text": [
      "True\n",
      "False\n"
     ]
    }
   ],
   "source": [
    "print('12345'.isdigit()) # 문자열이 모두 숫자로 구성됨\n",
    "print('12345abc'.isdigit())# 문자열이 숫자로만 구성되지 않음"
   ]
  },
  {
   "cell_type": "code",
   "execution_count": 21,
   "id": "96e05aeb-ae92-4f2b-9b1c-255b2f8e1640",
   "metadata": {},
   "outputs": [
    {
     "name": "stdout",
     "output_type": "stream",
     "text": [
      "True\n",
      "False\n"
     ]
    }
   ],
   "source": [
    "print('abc1234'.isalnum()) # 특수 문자나 공백이 아닌 문자와 숫자로 구성됨\n",
    "print('   abc1234'.isalnum()) # 문자열에 공백이 있음"
   ]
  },
  {
   "cell_type": "code",
   "execution_count": 22,
   "id": "86611862-81ac-46da-9cfa-2a3f16bb99fa",
   "metadata": {},
   "outputs": [
    {
     "name": "stdout",
     "output_type": "stream",
     "text": [
      "True\n",
      "False\n"
     ]
    }
   ],
   "source": [
    "print('   '.isspace()) # 문자열이 공백으로만 구성됨\n",
    "print(' 1 '.isspace()) # 문자열에 공백 외에 다른 문자가 있음"
   ]
  },
  {
   "cell_type": "code",
   "execution_count": 23,
   "id": "77fc054e-18cd-4e16-912a-c7304dda44d6",
   "metadata": {},
   "outputs": [
    {
     "name": "stdout",
     "output_type": "stream",
     "text": [
      "True\n",
      "False\n",
      "True\n",
      "False\n"
     ]
    }
   ],
   "source": [
    "print('PYTHON'.isupper()) # 문자열이 모두 대문자로 구성됨\n",
    "print('Python'.isupper()) # 문자열에 대문자와 소문자가 있음\n",
    "print('python'.islower()) # 문자열이 모두 소문자로 구성됨\n",
    "print('Python'.islower()) # 문자열에 대문자와 소문자가 있음"
   ]
  },
  {
   "cell_type": "markdown",
   "id": "a8a4bb9f-f4e3-45b9-b7f5-eb97d10c2e53",
   "metadata": {},
   "source": [
    "### 대소문자 변경하기"
   ]
  },
  {
   "cell_type": "code",
   "execution_count": 24,
   "id": "83c4d5f1-913e-48b4-b291-3b1f95e9e0a1",
   "metadata": {},
   "outputs": [
    {
     "data": {
      "text/plain": [
       "False"
      ]
     },
     "execution_count": 24,
     "metadata": {},
     "output_type": "execute_result"
    }
   ],
   "source": [
    "'Python' == 'python'"
   ]
  },
  {
   "cell_type": "code",
   "execution_count": 25,
   "id": "68fe2851-3c07-46a8-84a6-e98ff09d3516",
   "metadata": {},
   "outputs": [
    {
     "name": "stdout",
     "output_type": "stream",
     "text": [
      "python is powerful. python is easy to learn.\n",
      "PYTHON IS POWERFUL. PYTHON IS EASY TO LEARN.\n"
     ]
    }
   ],
   "source": [
    "string1 =  'Python is powerful. PYTHON IS EASY TO LEARN.'\n",
    "\n",
    "print(string1.lower())  # 소문자로 바꾸기\n",
    "print(string1.upper())  # 대문자로 바꾸기"
   ]
  },
  {
   "cell_type": "markdown",
   "id": "b45bf450-f7bf-44af-913c-b7bf773b7a61",
   "metadata": {},
   "source": [
    "# 텍스트 파일 데이터를 읽고 처리하기"
   ]
  },
  {
   "cell_type": "markdown",
   "id": "f0002962-b5e6-44bf-9d71-ed8aa849572d",
   "metadata": {},
   "source": [
    "#### 한글로 쓰인 데이터를 읽어오기 위해 encoding='cp949' 인자를 추가한다."
   ]
  },
  {
   "cell_type": "code",
   "execution_count": 27,
   "id": "ec9e96ca-6ca6-4797-942e-a2d9a5b97ba1",
   "metadata": {},
   "outputs": [
    {
     "name": "stdout",
     "output_type": "stream",
     "text": [
      "날짜    에스프레소  아메리카노  카페라테  카푸치노\n",
      "10.15       10  \t50         45       20   \n",
      "10.16       12\t\t45         41       18\n",
      "10.17       11\t\t53         32       25\n",
      "10.18       15\t\t49         38       22"
     ]
    }
   ],
   "source": [
    "file_name = '/Users/Ahn/2023/Git/coffeeShopSales.txt' \n",
    "\n",
    "f = open(file_name, encoding='cp949')      # 파일 열기\n",
    "for line in f:           # 한 줄씩 읽기\n",
    "    print(line, end='')  # 한 줄씩 출력\n",
    "f.close()                # 파일 닫기"
   ]
  },
  {
   "cell_type": "code",
   "execution_count": 33,
   "id": "a7c21c9e-6fa8-4c55-a32a-c27e715eb5be",
   "metadata": {},
   "outputs": [],
   "source": [
    "f = open('./coffeeShopSales.txt', mode = 'r', encoding='cp949')"
   ]
  },
  {
   "cell_type": "code",
   "execution_count": 30,
   "id": "ae900758-581a-47f7-918a-ea54495dad31",
   "metadata": {},
   "outputs": [
    {
     "name": "stdout",
     "output_type": "stream",
     "text": [
      "날짜    에스프레소  아메리카노  카페라테  카푸치노\n",
      "\n"
     ]
    },
    {
     "data": {
      "text/plain": [
       "['날짜', '에스프레소', '아메리카노', '카페라테', '카푸치노']"
      ]
     },
     "execution_count": 30,
     "metadata": {},
     "output_type": "execute_result"
    }
   ],
   "source": [
    "header = f.readline()\n",
    "print(header)\n",
    "\n",
    "headlist = header.split()\n",
    "headlist"
   ]
  },
  {
   "cell_type": "code",
   "execution_count": 31,
   "id": "54c0902a-ab09-4acd-a0cb-0b28c92bf95d",
   "metadata": {},
   "outputs": [
    {
     "name": "stdout",
     "output_type": "stream",
     "text": [
      "['10.15', '10', '50', '45', '20']\n",
      "['10.16', '12', '45', '41', '18']\n",
      "['10.17', '11', '53', '32', '25']\n",
      "['10.18', '15', '49', '38', '22']\n"
     ]
    }
   ],
   "source": [
    "for line in f:  # 한줄씩 불러오기\n",
    "    data_list = line.split()\n",
    "    print(data_list)\n",
    "\n",
    "f.close()"
   ]
  },
  {
   "cell_type": "code",
   "execution_count": 34,
   "id": "27959596-c44b-491a-abcf-042110ca3a77",
   "metadata": {},
   "outputs": [
    {
     "name": "stdout",
     "output_type": "stream",
     "text": [
      "header: 날짜    에스프레소  아메리카노  카페라테  카푸치노\n",
      "\n",
      "datalist: ['10.15', '10', '50', '45', '20']\n",
      "datalist: ['10.16', '12', '45', '41', '18']\n",
      "datalist: ['10.17', '11', '53', '32', '25']\n",
      "datalist: ['10.18', '15', '49', '38', '22']\n",
      "\n",
      "espresso: [10, 12, 11, 15]\n",
      "americano: [50, 45, 53, 49]\n",
      "cafelatte: [45, 41, 32, 38]\n",
      "cappucino: [20, 18, 25, 22]\n",
      "\n",
      "[48, 197, 156, 85]\n",
      "total espresso: 48\n",
      "total americano: 197\n",
      "total cafelatte: 156\n",
      "total cappucino: 85\n"
     ]
    }
   ],
   "source": [
    "header = f.readline()   # 헤더는 header 객체에 넣고 커서가 헤더 끝으로 감\n",
    "headlist = header.split()\n",
    "print('header:', header)\n",
    "\n",
    "espresso = []\n",
    "americano = []\n",
    "cafelatte = []\n",
    "cappucino = []\n",
    "\n",
    "for line in f:\n",
    "    datalist = line.split() # 헤더 끝부터(데이터 줄부터) 읽기 시작\n",
    "    print('datalist:', datalist)\n",
    "\n",
    "    espresso.append(int(datalist[1]))\n",
    "    #print('espresso:', espresso)\n",
    "    \n",
    "    americano.append(int(datalist[2]))\n",
    "    cafelatte.append(int(datalist[3]))\n",
    "    cappucino.append(int(datalist[4]))\n",
    "\n",
    "f.close()\n",
    "\n",
    "print()\n",
    "print('espresso:', espresso)\n",
    "print('americano:', americano)\n",
    "print('cafelatte:', cafelatte)\n",
    "print('cappucino:', cappucino)\n",
    "\n",
    "print()\n",
    "total_sum = [sum(espresso), sum(americano), sum(cafelatte), sum(cappucino)]\n",
    "print(total_sum)\n",
    "\n",
    "print('total espresso:', sum(espresso))\n",
    "print('total americano:', sum(americano))\n",
    "print('total cafelatte:', sum(cafelatte))\n",
    "print('total cappucino:', sum(cappucino))"
   ]
  }
 ],
 "metadata": {
  "kernelspec": {
   "display_name": "Python 3 (ipykernel)",
   "language": "python",
   "name": "python3"
  },
  "language_info": {
   "codemirror_mode": {
    "name": "ipython",
    "version": 3
   },
   "file_extension": ".py",
   "mimetype": "text/x-python",
   "name": "python",
   "nbconvert_exporter": "python",
   "pygments_lexer": "ipython3",
   "version": "3.10.11"
  }
 },
 "nbformat": 4,
 "nbformat_minor": 5
}
