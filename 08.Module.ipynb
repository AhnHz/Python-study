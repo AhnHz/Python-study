{
 "cells": [
  {
   "cell_type": "markdown",
   "id": "c0ae9ffd-39b6-4490-b547-a904989d083d",
   "metadata": {},
   "source": [
    "# 모듈 (Module)\n",
    "<br>: 코드가 저장된 파일\n",
    "\n",
    "- 모듈을 사용하면 코드 작성과 관리가 편리하다.\n",
    "- 작성된 코드를 재사용할 수 있다."
   ]
  },
  {
   "cell_type": "code",
   "execution_count": 1,
   "id": "716f12bd-76ee-4cfd-85c8-ade3e6021a8e",
   "metadata": {},
   "outputs": [
    {
     "name": "stdout",
     "output_type": "stream",
     "text": [
      "Writing my_area.py\n"
     ]
    }
   ],
   "source": [
    "%%writefile my_area.py\n",
    "\n",
    "PI = 3.14\n",
    "\n",
    "def square_area(a):  # 사각형 넓이를 구하는 함수\n",
    "    return a**2\n",
    "\n",
    "def circle_area(r):  # 원의 넓이를 구하는 함수\n",
    "    return 2*PI* r**2"
   ]
  },
  {
   "cell_type": "code",
   "execution_count": 2,
   "id": "59ce3b5b-176a-40a7-9329-ddaf5e215ae6",
   "metadata": {},
   "outputs": [
    {
     "name": "stdout",
     "output_type": "stream",
     "text": [
      "3.14\n"
     ]
    },
    {
     "data": {
      "text/plain": [
       "25"
      ]
     },
     "execution_count": 2,
     "metadata": {},
     "output_type": "execute_result"
    }
   ],
   "source": [
    "import my_area  # 모듈 불러오기\n",
    "\n",
    "print(my_area.PI)\n",
    "my_area.square_area(5)"
   ]
  },
  {
   "cell_type": "code",
   "execution_count": 3,
   "id": "80000804-2db1-40cb-913b-c42fec3a1e1d",
   "metadata": {},
   "outputs": [
    {
     "name": "stdout",
     "output_type": "stream",
     "text": [
      "pi = 3.14\n",
      "square area = 25\n",
      "circle area = 25.12\n"
     ]
    }
   ],
   "source": [
    "from my_area import *\n",
    "\n",
    "print('pi =', PI) # 모듈의 변수 이용\n",
    "print('square area =', square_area(5)) # 모듈의 함수 이용\n",
    "print('circle area =', circle_area(2))"
   ]
  },
  {
   "cell_type": "markdown",
   "id": "95969af0-411a-42a5-b60a-dd65a3ebb274",
   "metadata": {},
   "source": [
    "### 모듈을 별명으로 선언하기"
   ]
  },
  {
   "cell_type": "code",
   "execution_count": 4,
   "id": "118ba7bd-42f6-4852-9da5-c32397a09024",
   "metadata": {},
   "outputs": [
    {
     "name": "stdout",
     "output_type": "stream",
     "text": [
      "pi = 3.14\n",
      "square area = 25\n",
      "circle area = 25.12\n"
     ]
    }
   ],
   "source": [
    "import my_area as ma  # 모듈명(my_area)에 별명(ma)을 붙임 \n",
    "\n",
    "print('pi =', ma.PI)  # 모듈명 대신 별명 이용\n",
    "print('square area =', ma.square_area(5))     \n",
    "print('circle area =', ma.circle_area(2))"
   ]
  },
  {
   "cell_type": "markdown",
   "id": "db2599eb-d3a1-4c9b-81e2-0b0413e66453",
   "metadata": {},
   "source": [
    "## 내장 모듈\n",
    "### 1) 난수 발생 모듈"
   ]
  },
  {
   "cell_type": "code",
   "execution_count": 5,
   "id": "17454889-b861-4110-8843-a7d2575c4203",
   "metadata": {},
   "outputs": [
    {
     "name": "stdout",
     "output_type": "stream",
     "text": [
      "주사위 두 개의 숫자: 4, 2\n"
     ]
    }
   ],
   "source": [
    "import random\n",
    "\n",
    "dice1 = random.randint(1,6) # 1~6 임의의 정수가 생성됨\n",
    "dice2 = random.randint(1,6) # 1~6 임의의 정수가 생성됨\n",
    "\n",
    "print('주사위 두 개의 숫자: {0}, {1}'.format(dice1, dice2))"
   ]
  },
  {
   "cell_type": "code",
   "execution_count": 6,
   "id": "dccb1427-74af-4c41-a5fb-fca48766d32b",
   "metadata": {},
   "outputs": [
    {
     "name": "stdout",
     "output_type": "stream",
     "text": [
      "num1: 7, num2: 0\n"
     ]
    }
   ],
   "source": [
    "import random\n",
    "\n",
    "num1 = random.randrange(1, 10, 2)  # 1 ~ 9 임의의 홀수 선택\n",
    "num2 = random.randrange(0,100,10)  # 0 ~ 99 임의의10의 단위 숫자 선택\n",
    "\n",
    "print('num1: {0}, num2: {1}'.format(num1,num2))"
   ]
  },
  {
   "cell_type": "markdown",
   "id": "bca0c08e-7d60-4f5f-9889-c41bf688303b",
   "metadata": {},
   "source": [
    "#### choice()"
   ]
  },
  {
   "cell_type": "code",
   "execution_count": 7,
   "id": "09ddc89e-e3b3-41e7-a155-ce4e42eae65a",
   "metadata": {},
   "outputs": [
    {
     "data": {
      "text/plain": [
       "'볶음밥'"
      ]
     },
     "execution_count": 7,
     "metadata": {},
     "output_type": "execute_result"
    }
   ],
   "source": [
    "menu = ['비빔밥', '된장찌개', '볶음밥', '불고기', '스파게티', '피자', '탕수육']\n",
    "random.choice(menu)"
   ]
  },
  {
   "cell_type": "code",
   "execution_count": 8,
   "id": "8fe61ee7-0ffe-481a-9ff5-e971e7f6253a",
   "metadata": {},
   "outputs": [
    {
     "data": {
      "text/plain": [
       "[1, 2]"
      ]
     },
     "execution_count": 8,
     "metadata": {},
     "output_type": "execute_result"
    }
   ],
   "source": [
    "import random\n",
    "\n",
    "random.sample([1, 2, 3, 4, 5], 2)  # 모집단에서 두 개의 인자 선택"
   ]
  },
  {
   "cell_type": "markdown",
   "id": "d09d54bf-1e4e-4207-8920-583894846c7c",
   "metadata": {},
   "source": [
    "### 2) 날짜 및 시간 처리 모듈"
   ]
  },
  {
   "cell_type": "code",
   "execution_count": 9,
   "id": "b545c23b-0d0b-4cdc-a865-d55556073c83",
   "metadata": {},
   "outputs": [
    {
     "name": "stdout",
     "output_type": "stream",
     "text": [
      "2023-05-08\n",
      "2023/5/8\n"
     ]
    }
   ],
   "source": [
    "import datetime\n",
    "\n",
    "setday = datetime.date(2023, 5, 8)\n",
    "\n",
    "print(setday)\n",
    "print('{0}/{1}/{2}'.format(setday.year,setday.month,setday.day ))"
   ]
  },
  {
   "cell_type": "markdown",
   "id": "ae211686-439e-49df-8410-90f4cb3cd924",
   "metadata": {},
   "source": [
    "#### 오늘 날짜 datatime.date.today()"
   ]
  },
  {
   "cell_type": "code",
   "execution_count": 10,
   "id": "42ce8718-87ca-44a6-a5ff-ca199687d850",
   "metadata": {},
   "outputs": [
    {
     "name": "stdout",
     "output_type": "stream",
     "text": [
      "-10 days, 0:00:00\n"
     ]
    }
   ],
   "source": [
    "import datetime\n",
    "\n",
    "today = datetime.date.today()\n",
    "setday = datetime.date(2023, 5, 8)\n",
    "print(setday - today)"
   ]
  },
  {
   "cell_type": "code",
   "execution_count": 12,
   "id": "b3f98e97-ede0-46d3-9496-9278c64f9ea6",
   "metadata": {},
   "outputs": [
    {
     "name": "stdout",
     "output_type": "stream",
     "text": [
      "14:00:30\n",
      "14:0:30\n"
     ]
    }
   ],
   "source": [
    "import datetime\n",
    "\n",
    "settime = datetime.time(14, 00, 30)\n",
    "\n",
    "print(settime)\n",
    "print('{0}:{1}:{2}'.format(settime.hour,settime.minute,settime.second))"
   ]
  },
  {
   "cell_type": "code",
   "execution_count": 13,
   "id": "40930fa8-b893-4833-9a94-6f3c94a2fb71",
   "metadata": {},
   "outputs": [
    {
     "name": "stdout",
     "output_type": "stream",
     "text": [
      "Date: 2023, 05, 18\n",
      "Time: 17/52/03\n"
     ]
    }
   ],
   "source": [
    "import datetime\n",
    "\n",
    "now = datetime.datetime.now()\n",
    "\n",
    "print('Date: {:%Y, %m, %d}'.format(now))\n",
    "print('Time: {:%H/%M/%S}'.format(now))"
   ]
  },
  {
   "cell_type": "markdown",
   "id": "f68a70f9-4a74-4286-be25-f12e4a364960",
   "metadata": {},
   "source": [
    "### 3) 달력 생성 및 처리 모듈"
   ]
  },
  {
   "cell_type": "code",
   "execution_count": 14,
   "id": "f09d650e-8312-4371-9a37-4014f9bbaa91",
   "metadata": {},
   "outputs": [
    {
     "name": "stdout",
     "output_type": "stream",
     "text": [
      "                                               2023\n",
      "\n",
      "      January                   February                   March                     April\n",
      "Mo Tu We Th Fr Sa Su      Mo Tu We Th Fr Sa Su      Mo Tu We Th Fr Sa Su      Mo Tu We Th Fr Sa Su\n",
      "                   1             1  2  3  4  5             1  2  3  4  5                      1  2\n",
      " 2  3  4  5  6  7  8       6  7  8  9 10 11 12       6  7  8  9 10 11 12       3  4  5  6  7  8  9\n",
      " 9 10 11 12 13 14 15      13 14 15 16 17 18 19      13 14 15 16 17 18 19      10 11 12 13 14 15 16\n",
      "16 17 18 19 20 21 22      20 21 22 23 24 25 26      20 21 22 23 24 25 26      17 18 19 20 21 22 23\n",
      "23 24 25 26 27 28 29      27 28                     27 28 29 30 31            24 25 26 27 28 29 30\n",
      "30 31\n",
      "\n",
      "        May                       June                      July                     August\n",
      "Mo Tu We Th Fr Sa Su      Mo Tu We Th Fr Sa Su      Mo Tu We Th Fr Sa Su      Mo Tu We Th Fr Sa Su\n",
      " 1  2  3  4  5  6  7                1  2  3  4                      1  2          1  2  3  4  5  6\n",
      " 8  9 10 11 12 13 14       5  6  7  8  9 10 11       3  4  5  6  7  8  9       7  8  9 10 11 12 13\n",
      "15 16 17 18 19 20 21      12 13 14 15 16 17 18      10 11 12 13 14 15 16      14 15 16 17 18 19 20\n",
      "22 23 24 25 26 27 28      19 20 21 22 23 24 25      17 18 19 20 21 22 23      21 22 23 24 25 26 27\n",
      "29 30 31                  26 27 28 29 30            24 25 26 27 28 29 30      28 29 30 31\n",
      "                                                    31\n",
      "\n",
      "     September                  October                   November                  December\n",
      "Mo Tu We Th Fr Sa Su      Mo Tu We Th Fr Sa Su      Mo Tu We Th Fr Sa Su      Mo Tu We Th Fr Sa Su\n",
      "             1  2  3                         1             1  2  3  4  5                   1  2  3\n",
      " 4  5  6  7  8  9 10       2  3  4  5  6  7  8       6  7  8  9 10 11 12       4  5  6  7  8  9 10\n",
      "11 12 13 14 15 16 17       9 10 11 12 13 14 15      13 14 15 16 17 18 19      11 12 13 14 15 16 17\n",
      "18 19 20 21 22 23 24      16 17 18 19 20 21 22      20 21 22 23 24 25 26      18 19 20 21 22 23 24\n",
      "25 26 27 28 29 30         23 24 25 26 27 28 29      27 28 29 30               25 26 27 28 29 30 31\n",
      "                          30 31\n",
      "\n"
     ]
    }
   ],
   "source": [
    "import calendar\n",
    "\n",
    "print(calendar.calendar(2023, m=4))  # 4열로 출력. 기본값은 3열"
   ]
  },
  {
   "cell_type": "code",
   "execution_count": 15,
   "id": "43c01985-0886-4607-815f-ba6fb1a8ee3f",
   "metadata": {},
   "outputs": [
    {
     "name": "stdout",
     "output_type": "stream",
     "text": [
      "      May 2023\n",
      "Mo Tu We Th Fr Sa Su\n",
      " 1  2  3  4  5  6  7\n",
      " 8  9 10 11 12 13 14\n",
      "15 16 17 18 19 20 21\n",
      "22 23 24 25 26 27 28\n",
      "29 30 31\n",
      "\n"
     ]
    }
   ],
   "source": [
    "print(calendar.month(2023,5))  # 5월만 출력"
   ]
  },
  {
   "cell_type": "code",
   "execution_count": 16,
   "id": "e1a14a97-a619-46f7-a025-526f11c1ca96",
   "metadata": {},
   "outputs": [
    {
     "name": "stdout",
     "output_type": "stream",
     "text": [
      "      May 2023\n",
      "Su Mo Tu We Th Fr Sa\n",
      "    1  2  3  4  5  6\n",
      " 7  8  9 10 11 12 13\n",
      "14 15 16 17 18 19 20\n",
      "21 22 23 24 25 26 27\n",
      "28 29 30 31\n",
      "\n"
     ]
    }
   ],
   "source": [
    "calendar.setfirstweekday(calendar.SUNDAY)   # 일요일부터 시작\n",
    "print(calendar.month(2023, 5))"
   ]
  },
  {
   "cell_type": "markdown",
   "id": "c0d7e8bf-3ee9-4d58-b24a-4bda5bf411db",
   "metadata": {},
   "source": [
    "#### 월 정보 출력"
   ]
  },
  {
   "cell_type": "code",
   "execution_count": 17,
   "id": "2e8da789-210f-4c44-a77e-900d7e17152d",
   "metadata": {},
   "outputs": [
    {
     "name": "stdout",
     "output_type": "stream",
     "text": [
      "(0, 31)\n"
     ]
    }
   ],
   "source": [
    "print(calendar.monthrange(2023,5))  # 시작하는 요일, 총 일수 출력"
   ]
  },
  {
   "cell_type": "markdown",
   "id": "7a447f49-b492-4a2b-8ccd-d9b9a33b2135",
   "metadata": {},
   "source": [
    "#### 요일 정보 출력"
   ]
  },
  {
   "cell_type": "code",
   "execution_count": 18,
   "id": "8d409b6b-602e-4b17-bcfe-5f3d0ab62476",
   "metadata": {},
   "outputs": [
    {
     "name": "stdout",
     "output_type": "stream",
     "text": [
      "3\n"
     ]
    }
   ],
   "source": [
    "print(calendar.weekday(2023, 5, 4))  # 요일 정보 출력 0~6 (월~일)"
   ]
  },
  {
   "cell_type": "markdown",
   "id": "c6179d5d-9c2b-4cd4-8a5a-0a824998fb27",
   "metadata": {},
   "source": [
    "#### 해당 연도가 윤년인지 확인하기"
   ]
  },
  {
   "cell_type": "code",
   "execution_count": 19,
   "id": "774f0fc7-e02e-49c5-83c0-8a05f8e5032f",
   "metadata": {},
   "outputs": [
    {
     "name": "stdout",
     "output_type": "stream",
     "text": [
      "False\n",
      "True\n"
     ]
    }
   ],
   "source": [
    "print(calendar.isleap(2018))\n",
    "print(calendar.isleap(2020))"
   ]
  }
 ],
 "metadata": {
  "kernelspec": {
   "display_name": "Python 3 (ipykernel)",
   "language": "python",
   "name": "python3"
  },
  "language_info": {
   "codemirror_mode": {
    "name": "ipython",
    "version": 3
   },
   "file_extension": ".py",
   "mimetype": "text/x-python",
   "name": "python",
   "nbconvert_exporter": "python",
   "pygments_lexer": "ipython3",
   "version": "3.10.11"
  }
 },
 "nbformat": 4,
 "nbformat_minor": 5
}
